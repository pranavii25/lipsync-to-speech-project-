{
 "cells": [
  {
   "cell_type": "markdown",
   "id": "a3573a47-3689-4668-b62f-5c8451b2b4e9",
   "metadata": {
    "tags": []
   },
   "source": [
    "# 0. Install and Import Dependencies"
   ]
  },
  {
   "cell_type": "code",
   "execution_count": 152,
   "id": "ddfbccbe-41ae-4c23-98b1-a13868e2b499",
   "metadata": {
    "collapsed": true,
    "jupyter": {
     "outputs_hidden": true
    },
    "scrolled": true,
    "tags": []
   },
   "outputs": [
    {
     "name": "stdout",
     "output_type": "stream",
     "text": [
      "Package                      Version\n",
      "---------------------------- --------------\n",
      "absl-py                      2.2.2\n",
      "altair                       4.2.2\n",
      "anyio                        4.9.0\n",
      "argon2-cffi                  23.1.0\n",
      "arrow                        1.3.0\n",
      "asttokens                    3.0.0\n",
      "async-lru                    2.0.5\n",
      "attrs                        25.3.0\n",
      "babel                        2.17.0\n",
      "backcall                     0.2.0\n",
      "beautifulsoup4               4.13.3\n",
      "cachetools                   5.5.2\n",
      "certifi                      2025.1.31\n",
      "charset-normalizer           3.4.1\n",
      "colorama                     0.4.6\n",
      "comm                         0.2.2\n",
      "comtypes                     1.4.10\n",
      "contourpy                    1.3.0\n",
      "cycler                       0.12.1\n",
      "debugpy                      1.8.13\n",
      "decorator                    5.1.1\n",
      "entrypoints                  0.4\n",
      "exceptiongroup               1.2.0\n",
      "executing                    0.8.3\n",
      "fastjsonschema               2.21.1\n",
      "filelock                     3.18.0\n",
      "flatbuffers                  25.2.10\n",
      "fonttools                    4.57.0\n",
      "fqdn                         1.5.1\n",
      "gdown                        5.2.0\n",
      "gitdb                        4.0.12\n",
      "GitPython                    3.1.44\n",
      "google-auth-oauthlib         0.4.6\n",
      "google-pasta                 0.2.0\n",
      "grpcio                       1.71.0\n",
      "gTTS                         2.5.4\n",
      "h5py                         3.13.0\n",
      "httpcore                     1.0.7\n",
      "idna                         3.10\n",
      "imageio                      2.23.0\n",
      "importlib_metadata           8.6.1\n",
      "importlib_resources          6.5.2\n",
      "ipython                      8.15.0\n",
      "isoduration                  20.11.0\n",
      "jedi                         0.19.2\n",
      "jinja2                       3.1.6\n",
      "json5                        0.12.0\n",
      "jsonpointer                  3.0.0\n",
      "jsonschema-specifications    2024.10.1\n",
      "jupyterlab                   4.3.6\n",
      "kiwisolver                   1.4.7\n",
      "libclang                     18.1.1\n",
      "Markdown                     3.7\n",
      "markdown-it-py               3.0.0\n",
      "matplotlib                   3.9.4\n",
      "matplotlib-inline            0.1.6\n",
      "mdurl                        0.1.2\n",
      "mistune                      3.1.3\n",
      "mkl_fft                      1.3.11\n",
      "mkl_random                   1.2.8\n",
      "mkl-service                  2.4.0\n",
      "narwhals                     1.33.0\n",
      "notebook                     7.3.3\n",
      "numpy                        1.26.4\n",
      "opencv-python                4.11.0.86\n",
      "opt_einsum                   3.4.0\n",
      "overrides                    7.7.0\n",
      "packaging                    23.2\n",
      "pandas                       2.2.3\n",
      "pandocfilters                1.5.1\n",
      "parso                        0.8.4\n",
      "pickleshare                  0.7.5\n",
      "pillow                       10.4.0\n",
      "pip                          25.0\n",
      "prompt-toolkit               3.0.43\n",
      "protobuf                     3.19.6\n",
      "psutil                       7.0.0\n",
      "pure-eval                    0.2.2\n",
      "pyarrow                      19.0.1\n",
      "pyasn1                       0.6.1\n",
      "pyasn1_modules               0.4.2\n",
      "pycparser                    2.22\n",
      "pydeck                       0.9.1\n",
      "Pygments                     2.15.1\n",
      "Pympler                      1.1\n",
      "pyparsing                    3.2.3\n",
      "pypiwin32                    223\n",
      "python-json-logger           3.3.0\n",
      "pyttsx3                      2.98\n",
      "pytz                         2025.2\n",
      "pywin32                      310\n",
      "pyzmq                        26.3.0\n",
      "referencing                  0.36.2\n",
      "rich                         13.9.4\n",
      "rpds-py                      0.24.0\n",
      "rsa                          4.9\n",
      "Send2Trash                   1.8.3\n",
      "setuptools                   75.8.0\n",
      "smmap                        5.0.2\n",
      "sniffio                      1.3.1\n",
      "soupsieve                    2.6\n",
      "stack-data                   0.2.0\n",
      "streamlit                    1.22.0\n",
      "tenacity                     8.5.0\n",
      "tensorboard                  2.10.1\n",
      "tensorflow                   2.10.0\n",
      "tensorflow-io-gcs-filesystem 0.31.0\n",
      "termcolor                    3.0.1\n",
      "terminado                    0.18.1\n",
      "toml                         0.10.2\n",
      "tomli                        2.2.1\n",
      "toolz                        1.0.0\n",
      "tqdm                         4.67.1\n",
      "traitlets                    5.14.3\n",
      "types-python-dateutil        2.9.0.20241206\n",
      "typing_extensions            4.12.2\n",
      "tzdata                       2025.2\n",
      "tzlocal                      5.3.1\n",
      "uri-template                 1.3.0\n",
      "validators                   0.34.0\n",
      "watchdog                     6.0.0\n",
      "wcwidth                      0.2.13\n",
      "webcolors                    24.11.1\n",
      "webencodings                 0.5.1\n",
      "wheel                        0.45.1\n",
      "wrapt                        1.17.2\n"
     ]
    },
    {
     "name": "stderr",
     "output_type": "stream",
     "text": [
      "WARNING: Ignoring invalid distribution -treamlit (c:\\users\\chara\\anaconda3\\envs\\lipnet_env\\lib\\site-packages)\n",
      "WARNING: No metadata found in c:\\users\\chara\\anaconda3\\envs\\lipnet_env\\lib\\site-packages\n",
      "WARNING: No metadata found in c:\\users\\chara\\anaconda3\\envs\\lipnet_env\\lib\\site-packages\n",
      "WARNING: No metadata found in c:\\users\\chara\\anaconda3\\envs\\lipnet_env\\lib\\site-packages\n"
     ]
    }
   ],
   "source": [
    "!pip list"
   ]
  },
  {
   "cell_type": "code",
   "execution_count": 14,
   "id": "895a80fc-4ac3-4e52-b4f6-17251245e6ef",
   "metadata": {
    "collapsed": true,
    "jupyter": {
     "outputs_hidden": true
    }
   },
   "outputs": [
    {
     "name": "stdout",
     "output_type": "stream",
     "text": [
      "WARNING:tensorflow:From C:\\Users\\chara\\AppData\\Local\\Programs\\Python\\Python311\\Lib\\site-packages\\keras\\src\\losses.py:2976: The name tf.losses.sparse_softmax_cross_entropy is deprecated. Please use tf.compat.v1.losses.sparse_softmax_cross_entropy instead.\n",
      "\n",
      "NumPy version: 1.26.4\n",
      "TensorFlow version: 2.15.1\n"
     ]
    }
   ],
   "source": [
    "import numpy as np\n",
    "import tensorflow as tf\n",
    "\n",
    "print(\"NumPy version:\", np.__version__)\n",
    "print(\"TensorFlow version:\", tf.__version__)\n"
   ]
  },
  {
   "cell_type": "code",
   "execution_count": 3,
   "id": "02f907ea-f669-46c7-adcf-7f257e663448",
   "metadata": {
    "collapsed": true,
    "jupyter": {
     "outputs_hidden": true
    },
    "tags": []
   },
   "outputs": [
    {
     "name": "stdout",
     "output_type": "stream",
     "text": [
      "Requirement already satisfied: opencv-python in c:\\users\\chara\\anaconda3\\envs\\lipnet_env\\lib\\site-packages (4.11.0.86)\n",
      "Requirement already satisfied: matplotlib in c:\\users\\chara\\anaconda3\\envs\\lipnet_env\\lib\\site-packages (3.9.4)\n",
      "Requirement already satisfied: imageio in c:\\users\\chara\\anaconda3\\envs\\lipnet_env\\lib\\site-packages (2.23.0)\n",
      "Requirement already satisfied: gdown in c:\\users\\chara\\anaconda3\\envs\\lipnet_env\\lib\\site-packages (5.2.0)\n",
      "Requirement already satisfied: tensorflow in c:\\users\\chara\\anaconda3\\envs\\lipnet_env\\lib\\site-packages (2.10.0)\n",
      "Requirement already satisfied: numpy>=1.17.0 in c:\\users\\chara\\anaconda3\\envs\\lipnet_env\\lib\\site-packages (from opencv-python) (1.26.4)\n",
      "Requirement already satisfied: contourpy>=1.0.1 in c:\\users\\chara\\anaconda3\\envs\\lipnet_env\\lib\\site-packages (from matplotlib) (1.3.0)\n",
      "Requirement already satisfied: cycler>=0.10 in c:\\users\\chara\\anaconda3\\envs\\lipnet_env\\lib\\site-packages (from matplotlib) (0.12.1)\n",
      "Requirement already satisfied: fonttools>=4.22.0 in c:\\users\\chara\\anaconda3\\envs\\lipnet_env\\lib\\site-packages (from matplotlib) (4.57.0)\n",
      "Requirement already satisfied: kiwisolver>=1.3.1 in c:\\users\\chara\\anaconda3\\envs\\lipnet_env\\lib\\site-packages (from matplotlib) (1.4.7)\n",
      "Requirement already satisfied: packaging>=20.0 in c:\\users\\chara\\anaconda3\\envs\\lipnet_env\\lib\\site-packages (from matplotlib) (23.2)\n",
      "Requirement already satisfied: pillow>=8 in c:\\users\\chara\\anaconda3\\envs\\lipnet_env\\lib\\site-packages (from matplotlib) (10.4.0)\n",
      "Requirement already satisfied: pyparsing>=2.3.1 in c:\\users\\chara\\anaconda3\\envs\\lipnet_env\\lib\\site-packages (from matplotlib) (3.2.3)\n",
      "Collecting python-dateutil>=2.7 (from matplotlib)\n",
      "  Using cached python_dateutil-2.9.0.post0-py2.py3-none-any.whl.metadata (8.4 kB)\n",
      "Requirement already satisfied: importlib-resources>=3.2.0 in c:\\users\\chara\\anaconda3\\envs\\lipnet_env\\lib\\site-packages (from matplotlib) (6.5.2)\n",
      "Requirement already satisfied: beautifulsoup4 in c:\\users\\chara\\anaconda3\\envs\\lipnet_env\\lib\\site-packages (from gdown) (4.13.3)\n",
      "Requirement already satisfied: filelock in c:\\users\\chara\\anaconda3\\envs\\lipnet_env\\lib\\site-packages (from gdown) (3.18.0)\n",
      "Collecting requests[socks] (from gdown)\n",
      "  Using cached requests-2.32.4-py3-none-any.whl.metadata (4.9 kB)\n",
      "Requirement already satisfied: tqdm in c:\\users\\chara\\anaconda3\\envs\\lipnet_env\\lib\\site-packages (from gdown) (4.67.1)\n"
     ]
    },
    {
     "name": "stderr",
     "output_type": "stream",
     "text": [
      "WARNING: Ignoring invalid distribution -treamlit (c:\\users\\chara\\anaconda3\\envs\\lipnet_env\\lib\\site-packages)\n",
      "ERROR: Could not install packages due to an OSError: [Errno 2] No such file or directory: 'c:\\\\users\\\\chara\\\\anaconda3\\\\envs\\\\lipnet_env\\\\lib\\\\site-packages\\\\tensorflow-2.10.0.dist-info\\\\METADATA'\n",
      "\n"
     ]
    }
   ],
   "source": [
    "!pip install opencv-python matplotlib imageio gdown tensorflow"
   ]
  },
  {
   "cell_type": "code",
   "execution_count": 15,
   "id": "b24af50c-20b8-409d-ad78-30a933fdd669",
   "metadata": {
    "tags": []
   },
   "outputs": [],
   "source": [
    "import os\n",
    "import cv2\n",
    "import tensorflow as tf\n",
    "import numpy as np\n",
    "from typing import List\n",
    "from matplotlib import pyplot as plt\n",
    "import imageio\n",
    "#43686172616e6468656570"
   ]
  },
  {
   "cell_type": "code",
   "execution_count": 16,
   "id": "1e3db0b0-e559-4ad6-91fd-e7414b7d75e6",
   "metadata": {},
   "outputs": [
    {
     "data": {
      "text/plain": [
       "[]"
      ]
     },
     "execution_count": 16,
     "metadata": {},
     "output_type": "execute_result"
    }
   ],
   "source": [
    "tf.config.list_physical_devices('GPU')"
   ]
  },
  {
   "cell_type": "code",
   "execution_count": 17,
   "id": "378d045a-3003-4f93-b7d2-a25a97774a68",
   "metadata": {
    "tags": []
   },
   "outputs": [],
   "source": [
    "physical_devices = tf.config.list_physical_devices('GPU')\n",
    "try:\n",
    "    tf.config.experimental.set_memory_growth(physical_devices[0], True)\n",
    "except:\n",
    "    pass"
   ]
  },
  {
   "cell_type": "markdown",
   "id": "7a19e88e-c7b9-45c1-ae1e-f2109329c71b",
   "metadata": {
    "tags": []
   },
   "source": [
    "# 1. Build Data Loading Functions"
   ]
  },
  {
   "cell_type": "code",
   "execution_count": 157,
   "id": "8fb99c90-e05a-437f-839d-6e772f8c1dd5",
   "metadata": {
    "tags": []
   },
   "outputs": [],
   "source": [
    "import gdown"
   ]
  },
  {
   "cell_type": "code",
   "execution_count": 158,
   "id": "c019e4c6-2af3-4160-99ea-5c8cb009f1a7",
   "metadata": {
    "collapsed": true,
    "jupyter": {
     "outputs_hidden": true
    },
    "tags": []
   },
   "outputs": [
    {
     "name": "stdout",
     "output_type": "stream",
     "text": [
      "Access denied with the following error:\n"
     ]
    },
    {
     "name": "stderr",
     "output_type": "stream",
     "text": [
      "\n",
      " \tCannot retrieve the public link of the file. You may need to change\n",
      "\tthe permission to 'Anyone with the link', or have had many accesses. \n",
      "\n",
      "You may still be able to access the file from the browser:\n",
      "\n",
      "\t https://drive.google.com/uc?id=1YlvpDLix3S-U8fd-gqRwPcWXAXm8JwjL \n",
      "\n"
     ]
    },
    {
     "data": {
      "text/plain": [
       "['data/',\n",
       " 'data/alignments/',\n",
       " 'data/alignments/s1/',\n",
       " 'data/alignments/s1/bbaf2n.align',\n",
       " 'data/alignments/s1/bbaf3s.align',\n",
       " 'data/alignments/s1/bbaf4p.align',\n",
       " 'data/alignments/s1/bbaf5a.align',\n",
       " 'data/alignments/s1/bbal6n.align',\n",
       " 'data/alignments/s1/bbal7s.align',\n",
       " 'data/alignments/s1/bbal8p.align',\n",
       " 'data/alignments/s1/bbal9a.align',\n",
       " 'data/alignments/s1/bbas1s.align',\n",
       " 'data/alignments/s1/bbas2p.align',\n",
       " 'data/alignments/s1/bbas3a.align',\n",
       " 'data/alignments/s1/bbaszn.align',\n",
       " 'data/alignments/s1/bbaz4n.align',\n",
       " 'data/alignments/s1/bbaz5s.align',\n",
       " 'data/alignments/s1/bbaz6p.align',\n",
       " 'data/alignments/s1/bbaz7a.align',\n",
       " 'data/alignments/s1/bbbf6n.align',\n",
       " 'data/alignments/s1/bbbf7s.align',\n",
       " 'data/alignments/s1/bbbf8p.align',\n",
       " 'data/alignments/s1/bbbf9a.align',\n",
       " 'data/alignments/s1/bbbm1s.align',\n",
       " 'data/alignments/s1/bbbm2p.align',\n",
       " 'data/alignments/s1/bbbm3a.align',\n",
       " 'data/alignments/s1/bbbmzn.align',\n",
       " 'data/alignments/s1/bbbs4n.align',\n",
       " 'data/alignments/s1/bbbs5s.align',\n",
       " 'data/alignments/s1/bbbs6p.align',\n",
       " 'data/alignments/s1/bbbs7a.align',\n",
       " 'data/alignments/s1/bbbz8n.align',\n",
       " 'data/alignments/s1/bbbz9s.align',\n",
       " 'data/alignments/s1/bbie8n.align',\n",
       " 'data/alignments/s1/bbie9s.align',\n",
       " 'data/alignments/s1/bbif1a.align',\n",
       " 'data/alignments/s1/bbifzp.align',\n",
       " 'data/alignments/s1/bbil2n.align',\n",
       " 'data/alignments/s1/bbil3s.align',\n",
       " 'data/alignments/s1/bbil4p.align',\n",
       " 'data/alignments/s1/bbil5a.align',\n",
       " 'data/alignments/s1/bbir6n.align',\n",
       " 'data/alignments/s1/bbir7s.align',\n",
       " 'data/alignments/s1/bbir8p.align',\n",
       " 'data/alignments/s1/bbir9a.align',\n",
       " 'data/alignments/s1/bbiz1s.align',\n",
       " 'data/alignments/s1/bbiz2p.align',\n",
       " 'data/alignments/s1/bbiz3a.align',\n",
       " 'data/alignments/s1/bbizzn.align',\n",
       " 'data/alignments/s1/bbwg1s.align',\n",
       " 'data/alignments/s1/bbwg2p.align',\n",
       " 'data/alignments/s1/bbwg3a.align',\n",
       " 'data/alignments/s1/bbwgzn.align',\n",
       " 'data/alignments/s1/bbwm4n.align',\n",
       " 'data/alignments/s1/bbwm5s.align',\n",
       " 'data/alignments/s1/bbwm6p.align',\n",
       " 'data/alignments/s1/bbwm7a.align',\n",
       " 'data/alignments/s1/bbws8n.align',\n",
       " 'data/alignments/s1/bbws9s.align',\n",
       " 'data/alignments/s1/bbwt1a.align',\n",
       " 'data/alignments/s1/bbwtzp.align',\n",
       " 'data/alignments/s1/bgaa6n.align',\n",
       " 'data/alignments/s1/bgaa7s.align',\n",
       " 'data/alignments/s1/bgaa8p.align',\n",
       " 'data/alignments/s1/bgaa9a.align',\n",
       " 'data/alignments/s1/bgah1s.align',\n",
       " 'data/alignments/s1/bgah2p.align',\n",
       " 'data/alignments/s1/bgah3a.align',\n",
       " 'data/alignments/s1/bgahzn.align',\n",
       " 'data/alignments/s1/bgan4n.align',\n",
       " 'data/alignments/s1/bgan5s.align',\n",
       " 'data/alignments/s1/bgan6p.align',\n",
       " 'data/alignments/s1/bgan7a.align',\n",
       " 'data/alignments/s1/bgat8n.align',\n",
       " 'data/alignments/s1/bgat9s.align',\n",
       " 'data/alignments/s1/bgau1a.align',\n",
       " 'data/alignments/s1/bgauzp.align',\n",
       " 'data/alignments/s1/bgbb1s.align',\n",
       " 'data/alignments/s1/bgbb2p.align',\n",
       " 'data/alignments/s1/bgbb3a.align',\n",
       " 'data/alignments/s1/bgbbzn.align',\n",
       " 'data/alignments/s1/bgbh4n.align',\n",
       " 'data/alignments/s1/bgbh5s.align',\n",
       " 'data/alignments/s1/bgbh6p.align',\n",
       " 'data/alignments/s1/bgbh7a.align',\n",
       " 'data/alignments/s1/bgbn8n.align',\n",
       " 'data/alignments/s1/bgbn9s.align',\n",
       " 'data/alignments/s1/bgbo1a.align',\n",
       " 'data/alignments/s1/bgbozp.align',\n",
       " 'data/alignments/s1/bgbu2n.align',\n",
       " 'data/alignments/s1/bgbu3s.align',\n",
       " 'data/alignments/s1/bgbu4p.align',\n",
       " 'data/alignments/s1/bgbu5a.align',\n",
       " 'data/alignments/s1/bgia2n.align',\n",
       " 'data/alignments/s1/bgia3s.align',\n",
       " 'data/alignments/s1/bgia4p.align',\n",
       " 'data/alignments/s1/bgia5a.align',\n",
       " 'data/alignments/s1/bgig6n.align',\n",
       " 'data/alignments/s1/bgig7s.align',\n",
       " 'data/alignments/s1/bgig8p.align',\n",
       " 'data/alignments/s1/bgig9a.align',\n",
       " 'data/alignments/s1/bgin1s.align',\n",
       " 'data/alignments/s1/bgin2p.align',\n",
       " 'data/alignments/s1/bgin3a.align',\n",
       " 'data/alignments/s1/bginzn.align',\n",
       " 'data/alignments/s1/bgit4n.align',\n",
       " 'data/alignments/s1/bgit5s.align',\n",
       " 'data/alignments/s1/bgit6p.align',\n",
       " 'data/alignments/s1/bgit7a.align',\n",
       " 'data/alignments/s1/bgwb4n.align',\n",
       " 'data/alignments/s1/bgwb5s.align',\n",
       " 'data/alignments/s1/bgwb6p.align',\n",
       " 'data/alignments/s1/bgwb7a.align',\n",
       " 'data/alignments/s1/bgwh8n.align',\n",
       " 'data/alignments/s1/bgwh9s.align',\n",
       " 'data/alignments/s1/bgwi1a.align',\n",
       " 'data/alignments/s1/bgwizp.align',\n",
       " 'data/alignments/s1/bgwo2n.align',\n",
       " 'data/alignments/s1/bgwo3s.align',\n",
       " 'data/alignments/s1/bgwo4p.align',\n",
       " 'data/alignments/s1/bgwo5a.align',\n",
       " 'data/alignments/s1/bgwu6n.align',\n",
       " 'data/alignments/s1/bgwu7s.align',\n",
       " 'data/alignments/s1/bgwu8p.align',\n",
       " 'data/alignments/s1/bgwu9a.align',\n",
       " 'data/alignments/s1/braf8n.align',\n",
       " 'data/alignments/s1/braf9s.align',\n",
       " 'data/alignments/s1/brag1a.align',\n",
       " 'data/alignments/s1/bragzp.align',\n",
       " 'data/alignments/s1/bram2n.align',\n",
       " 'data/alignments/s1/bram3s.align',\n",
       " 'data/alignments/s1/bram4p.align',\n",
       " 'data/alignments/s1/bram5a.align',\n",
       " 'data/alignments/s1/bras6n.align',\n",
       " 'data/alignments/s1/bras7s.align',\n",
       " 'data/alignments/s1/bras8p.align',\n",
       " 'data/alignments/s1/bras9a.align',\n",
       " 'data/alignments/s1/brba1a.align',\n",
       " 'data/alignments/s1/brbazp.align',\n",
       " 'data/alignments/s1/brbg2n.align',\n",
       " 'data/alignments/s1/brbg3s.align',\n",
       " 'data/alignments/s1/brbg4p.align',\n",
       " 'data/alignments/s1/brbg5a.align',\n",
       " 'data/alignments/s1/brbm6n.align',\n",
       " 'data/alignments/s1/brbm7s.align',\n",
       " 'data/alignments/s1/brbm8p.align',\n",
       " 'data/alignments/s1/brbm9a.align',\n",
       " 'data/alignments/s1/brbt1s.align',\n",
       " 'data/alignments/s1/brbt2p.align',\n",
       " 'data/alignments/s1/brbt3a.align',\n",
       " 'data/alignments/s1/brbtzn.align',\n",
       " 'data/alignments/s1/brif4n.align',\n",
       " 'data/alignments/s1/brif5s.align',\n",
       " 'data/alignments/s1/brif6p.align',\n",
       " 'data/alignments/s1/brif7a.align',\n",
       " 'data/alignments/s1/bril8n.align',\n",
       " 'data/alignments/s1/bril9s.align',\n",
       " 'data/alignments/s1/brim1a.align',\n",
       " 'data/alignments/s1/brimzp.align',\n",
       " 'data/alignments/s1/bris2n.align',\n",
       " 'data/alignments/s1/bris3s.align',\n",
       " 'data/alignments/s1/bris4p.align',\n",
       " 'data/alignments/s1/bris5a.align',\n",
       " 'data/alignments/s1/briz6n.align',\n",
       " 'data/alignments/s1/briz7s.align',\n",
       " 'data/alignments/s1/briz8p.align',\n",
       " 'data/alignments/s1/briz9a.align',\n",
       " 'data/alignments/s1/brwa2n.align',\n",
       " 'data/alignments/s1/brwa3s.align',\n",
       " 'data/alignments/s1/brwa4p.align',\n",
       " 'data/alignments/s1/brwa5a.align',\n",
       " 'data/alignments/s1/brwg6n.align',\n",
       " 'data/alignments/s1/brwg7s.align',\n",
       " 'data/alignments/s1/brwg8p.align',\n",
       " 'data/alignments/s1/brwg9a.align',\n",
       " 'data/alignments/s1/brwn1s.align',\n",
       " 'data/alignments/s1/brwn2p.align',\n",
       " 'data/alignments/s1/brwn3a.align',\n",
       " 'data/alignments/s1/brwnzn.align',\n",
       " 'data/alignments/s1/brwt4n.align',\n",
       " 'data/alignments/s1/brwt5s.align',\n",
       " 'data/alignments/s1/brwt6p.align',\n",
       " 'data/alignments/s1/brwt7a.align',\n",
       " 'data/alignments/s1/bwaa1s.align',\n",
       " 'data/alignments/s1/bwaa2p.align',\n",
       " 'data/alignments/s1/bwaa3a.align',\n",
       " 'data/alignments/s1/bwaazn.align',\n",
       " 'data/alignments/s1/bwag4n.align',\n",
       " 'data/alignments/s1/bwag5s.align',\n",
       " 'data/alignments/s1/bwag6p.align',\n",
       " 'data/alignments/s1/bwag7a.align',\n",
       " 'data/alignments/s1/bwam8n.align',\n",
       " 'data/alignments/s1/bwam9s.align',\n",
       " 'data/alignments/s1/bwan1a.align',\n",
       " 'data/alignments/s1/bwanzp.align',\n",
       " 'data/alignments/s1/bwat2n.align',\n",
       " 'data/alignments/s1/bwat3s.align',\n",
       " 'data/alignments/s1/bwat4p.align',\n",
       " 'data/alignments/s1/bwat5a.align',\n",
       " 'data/alignments/s1/bwba4n.align',\n",
       " 'data/alignments/s1/bwba5s.align',\n",
       " 'data/alignments/s1/bwba6p.align',\n",
       " 'data/alignments/s1/bwba7a.align',\n",
       " 'data/alignments/s1/bwbg8n.align',\n",
       " 'data/alignments/s1/bwbg9s.align',\n",
       " 'data/alignments/s1/bwbh1a.align',\n",
       " 'data/alignments/s1/bwbhzp.align',\n",
       " 'data/alignments/s1/bwbn2n.align',\n",
       " 'data/alignments/s1/bwbn3s.align',\n",
       " 'data/alignments/s1/bwbn4p.align',\n",
       " 'data/alignments/s1/bwbn5a.align',\n",
       " 'data/alignments/s1/bwbt6n.align',\n",
       " 'data/alignments/s1/bwbt7s.align',\n",
       " 'data/alignments/s1/bwbt8p.align',\n",
       " 'data/alignments/s1/bwbt9a.align',\n",
       " 'data/alignments/s1/bwig1s.align',\n",
       " 'data/alignments/s1/bwig2p.align',\n",
       " 'data/alignments/s1/bwig3a.align',\n",
       " 'data/alignments/s1/bwigzn.align',\n",
       " 'data/alignments/s1/bwim4n.align',\n",
       " 'data/alignments/s1/bwim5s.align',\n",
       " 'data/alignments/s1/bwim6p.align',\n",
       " 'data/alignments/s1/bwim7a.align',\n",
       " 'data/alignments/s1/bwis8n.align',\n",
       " 'data/alignments/s1/bwis9s.align',\n",
       " 'data/alignments/s1/bwit1a.align',\n",
       " 'data/alignments/s1/bwitzp.align',\n",
       " 'data/alignments/s1/bwwa8n.align',\n",
       " 'data/alignments/s1/bwwa9s.align',\n",
       " 'data/alignments/s1/bwwb1a.align',\n",
       " 'data/alignments/s1/bwwbzp.align',\n",
       " 'data/alignments/s1/bwwh2n.align',\n",
       " 'data/alignments/s1/bwwh3s.align',\n",
       " 'data/alignments/s1/bwwh4p.align',\n",
       " 'data/alignments/s1/bwwh5a.align',\n",
       " 'data/alignments/s1/bwwn6n.align',\n",
       " 'data/alignments/s1/bwwn7s.align',\n",
       " 'data/alignments/s1/bwwn8p.align',\n",
       " 'data/alignments/s1/bwwn9a.align',\n",
       " 'data/alignments/s1/bwwu1s.align',\n",
       " 'data/alignments/s1/bwwu2p.align',\n",
       " 'data/alignments/s1/bwwu3a.align',\n",
       " 'data/alignments/s1/bwwuzn.align',\n",
       " 'data/alignments/s1/lbad6n.align',\n",
       " 'data/alignments/s1/lbad7s.align',\n",
       " 'data/alignments/s1/lbad8p.align',\n",
       " 'data/alignments/s1/lbad9a.align',\n",
       " 'data/alignments/s1/lbak1s.align',\n",
       " 'data/alignments/s1/lbak2p.align',\n",
       " 'data/alignments/s1/lbak3a.align',\n",
       " 'data/alignments/s1/lbakzn.align',\n",
       " 'data/alignments/s1/lbaq4n.align',\n",
       " 'data/alignments/s1/lbaq5s.align',\n",
       " 'data/alignments/s1/lbaq6p.align',\n",
       " 'data/alignments/s1/lbaq7a.align',\n",
       " 'data/alignments/s1/lbax8n.align',\n",
       " 'data/alignments/s1/lbax9s.align',\n",
       " 'data/alignments/s1/lbay1a.align',\n",
       " 'data/alignments/s1/lbayzp.align',\n",
       " 'data/alignments/s1/lbbe1s.align',\n",
       " 'data/alignments/s1/lbbe2p.align',\n",
       " 'data/alignments/s1/lbbe3a.align',\n",
       " 'data/alignments/s1/lbbezn.align',\n",
       " 'data/alignments/s1/lbbk4n.align',\n",
       " 'data/alignments/s1/lbbk5s.align',\n",
       " 'data/alignments/s1/lbbk6p.align',\n",
       " 'data/alignments/s1/lbbk7a.align',\n",
       " 'data/alignments/s1/lbbq8n.align',\n",
       " 'data/alignments/s1/lbbq9s.align',\n",
       " 'data/alignments/s1/lbbr1a.align',\n",
       " 'data/alignments/s1/lbbrzp.align',\n",
       " 'data/alignments/s1/lbby2n.align',\n",
       " 'data/alignments/s1/lbby3s.align',\n",
       " 'data/alignments/s1/lbby4p.align',\n",
       " 'data/alignments/s1/lbby5a.align',\n",
       " 'data/alignments/s1/lbid2n.align',\n",
       " 'data/alignments/s1/lbid3s.align',\n",
       " 'data/alignments/s1/lbid4p.align',\n",
       " 'data/alignments/s1/lbid5a.align',\n",
       " 'data/alignments/s1/lbij6n.align',\n",
       " 'data/alignments/s1/lbij7s.align',\n",
       " 'data/alignments/s1/lbij8p.align',\n",
       " 'data/alignments/s1/lbij9a.align',\n",
       " 'data/alignments/s1/lbiq1s.align',\n",
       " 'data/alignments/s1/lbiq2p.align',\n",
       " 'data/alignments/s1/lbiq3a.align',\n",
       " 'data/alignments/s1/lbiqzn.align',\n",
       " 'data/alignments/s1/lbix4n.align',\n",
       " 'data/alignments/s1/lbix5s.align',\n",
       " 'data/alignments/s1/lbix6p.align',\n",
       " 'data/alignments/s1/lbix7a.align',\n",
       " 'data/alignments/s1/lbwe4n.align',\n",
       " 'data/alignments/s1/lbwe5s.align',\n",
       " 'data/alignments/s1/lbwe6p.align',\n",
       " 'data/alignments/s1/lbwe7a.align',\n",
       " 'data/alignments/s1/lbwk8n.align',\n",
       " 'data/alignments/s1/lbwk9s.align',\n",
       " 'data/alignments/s1/lbwl1a.align',\n",
       " 'data/alignments/s1/lbwlzp.align',\n",
       " 'data/alignments/s1/lbwr2n.align',\n",
       " 'data/alignments/s1/lbwr3s.align',\n",
       " 'data/alignments/s1/lbwr4p.align',\n",
       " 'data/alignments/s1/lbwr5a.align',\n",
       " 'data/alignments/s1/lbwy6n.align',\n",
       " 'data/alignments/s1/lbwy7s.align',\n",
       " 'data/alignments/s1/lbwy8p.align',\n",
       " 'data/alignments/s1/lbwy9a.align',\n",
       " 'data/alignments/s1/lgaf4n.align',\n",
       " 'data/alignments/s1/lgaf5s.align',\n",
       " 'data/alignments/s1/lgaf6p.align',\n",
       " 'data/alignments/s1/lgaf7a.align',\n",
       " 'data/alignments/s1/lgal8n.align',\n",
       " 'data/alignments/s1/lgal9s.align',\n",
       " 'data/alignments/s1/lgam1a.align',\n",
       " 'data/alignments/s1/lgamzp.align',\n",
       " 'data/alignments/s1/lgas2n.align',\n",
       " 'data/alignments/s1/lgas3s.align',\n",
       " 'data/alignments/s1/lgas4p.align',\n",
       " 'data/alignments/s1/lgas5a.align',\n",
       " 'data/alignments/s1/lgaz6n.align',\n",
       " 'data/alignments/s1/lgaz7s.align',\n",
       " 'data/alignments/s1/lgaz8p.align',\n",
       " 'data/alignments/s1/lgaz9a.align',\n",
       " 'data/alignments/s1/lgbf8n.align',\n",
       " 'data/alignments/s1/lgbf9s.align',\n",
       " 'data/alignments/s1/lgbg1a.align',\n",
       " 'data/alignments/s1/lgbgzp.align',\n",
       " 'data/alignments/s1/lgbm2n.align',\n",
       " 'data/alignments/s1/lgbm3s.align',\n",
       " 'data/alignments/s1/lgbm4p.align',\n",
       " 'data/alignments/s1/lgbm5a.align',\n",
       " 'data/alignments/s1/lgbs6n.align',\n",
       " 'data/alignments/s1/lgbs7s.align',\n",
       " 'data/alignments/s1/lgbs8p.align',\n",
       " 'data/alignments/s1/lgbs9a.align',\n",
       " 'data/alignments/s1/lgif1s.align',\n",
       " 'data/alignments/s1/lgif2p.align',\n",
       " 'data/alignments/s1/lgif3a.align',\n",
       " 'data/alignments/s1/lgifzn.align',\n",
       " 'data/alignments/s1/lgil4n.align',\n",
       " 'data/alignments/s1/lgil5s.align',\n",
       " 'data/alignments/s1/lgil6p.align',\n",
       " 'data/alignments/s1/lgil7a.align',\n",
       " 'data/alignments/s1/lgir8n.align',\n",
       " 'data/alignments/s1/lgir9s.align',\n",
       " 'data/alignments/s1/lgis1a.align',\n",
       " 'data/alignments/s1/lgiszp.align',\n",
       " 'data/alignments/s1/lgiz2n.align',\n",
       " 'data/alignments/s1/lgiz3s.align',\n",
       " 'data/alignments/s1/lgiz4p.align',\n",
       " 'data/alignments/s1/lgiz5a.align',\n",
       " 'data/alignments/s1/lgwa1a.align',\n",
       " 'data/alignments/s1/lgwazp.align',\n",
       " 'data/alignments/s1/lgwg2n.align',\n",
       " 'data/alignments/s1/lgwg3s.align',\n",
       " 'data/alignments/s1/lgwg4p.align',\n",
       " 'data/alignments/s1/lgwg5a.align',\n",
       " 'data/alignments/s1/lgwm6n.align',\n",
       " 'data/alignments/s1/lgwm7s.align',\n",
       " 'data/alignments/s1/lgwm8p.align',\n",
       " 'data/alignments/s1/lgwm9a.align',\n",
       " 'data/alignments/s1/lgwt1s.align',\n",
       " 'data/alignments/s1/lgwt2p.align',\n",
       " 'data/alignments/s1/lgwt3a.align',\n",
       " 'data/alignments/s1/lgwtzn.align',\n",
       " 'data/alignments/s1/lrae2n.align',\n",
       " 'data/alignments/s1/lrae3s.align',\n",
       " 'data/alignments/s1/lrae4p.align',\n",
       " 'data/alignments/s1/lrae5a.align',\n",
       " 'data/alignments/s1/lrak6n.align',\n",
       " 'data/alignments/s1/lrak7s.align',\n",
       " 'data/alignments/s1/lrak8p.align',\n",
       " 'data/alignments/s1/lrak9a.align',\n",
       " 'data/alignments/s1/lrar1s.align',\n",
       " 'data/alignments/s1/lrar2p.align',\n",
       " 'data/alignments/s1/lrar3a.align',\n",
       " 'data/alignments/s1/lrarzn.align',\n",
       " 'data/alignments/s1/lray4n.align',\n",
       " 'data/alignments/s1/lray5s.align',\n",
       " 'data/alignments/s1/lray6p.align',\n",
       " 'data/alignments/s1/lray7a.align',\n",
       " 'data/alignments/s1/lrbe6n.align',\n",
       " 'data/alignments/s1/lrbe7s.align',\n",
       " 'data/alignments/s1/lrbe8p.align',\n",
       " 'data/alignments/s1/lrbe9a.align',\n",
       " 'data/alignments/s1/lrbl1s.align',\n",
       " 'data/alignments/s1/lrbl2p.align',\n",
       " 'data/alignments/s1/lrbl3a.align',\n",
       " 'data/alignments/s1/lrblzn.align',\n",
       " 'data/alignments/s1/lrbr4n.align',\n",
       " 'data/alignments/s1/lrbr5s.align',\n",
       " 'data/alignments/s1/lrbr6p.align',\n",
       " 'data/alignments/s1/lrbr7a.align',\n",
       " 'data/alignments/s1/lrby8n.align',\n",
       " 'data/alignments/s1/lrby9s.align',\n",
       " 'data/alignments/s1/lrbz1a.align',\n",
       " 'data/alignments/s1/lrbzzp.align',\n",
       " 'data/alignments/s1/lrid8n.align',\n",
       " 'data/alignments/s1/lrid9s.align',\n",
       " 'data/alignments/s1/lrie1a.align',\n",
       " 'data/alignments/s1/lriezp.align',\n",
       " 'data/alignments/s1/lrik2n.align',\n",
       " 'data/alignments/s1/lrik3s.align',\n",
       " 'data/alignments/s1/lrik4p.align',\n",
       " 'data/alignments/s1/lrik5a.align',\n",
       " 'data/alignments/s1/lriq6n.align',\n",
       " 'data/alignments/s1/lriq7s.align',\n",
       " 'data/alignments/s1/lriq8p.align',\n",
       " 'data/alignments/s1/lriq9a.align',\n",
       " 'data/alignments/s1/lriy1s.align',\n",
       " 'data/alignments/s1/lriy2p.align',\n",
       " 'data/alignments/s1/lriy3a.align',\n",
       " 'data/alignments/s1/lriyzn.align',\n",
       " 'data/alignments/s1/lrwf1s.align',\n",
       " 'data/alignments/s1/lrwf2p.align',\n",
       " 'data/alignments/s1/lrwf3a.align',\n",
       " 'data/alignments/s1/lrwfzn.align',\n",
       " 'data/alignments/s1/lrwl4n.align',\n",
       " 'data/alignments/s1/lrwl5s.align',\n",
       " 'data/alignments/s1/lrwl6p.align',\n",
       " 'data/alignments/s1/lrwl7a.align',\n",
       " 'data/alignments/s1/lrwr8n.align',\n",
       " 'data/alignments/s1/lrwr9s.align',\n",
       " 'data/alignments/s1/lrws1a.align',\n",
       " 'data/alignments/s1/lrwszp.align',\n",
       " 'data/alignments/s1/lrwz2n.align',\n",
       " 'data/alignments/s1/lrwz3s.align',\n",
       " 'data/alignments/s1/lrwz4p.align',\n",
       " 'data/alignments/s1/lrwz5a.align',\n",
       " 'data/alignments/s1/lwae8n.align',\n",
       " 'data/alignments/s1/lwae9s.align',\n",
       " 'data/alignments/s1/lwaf1a.align',\n",
       " 'data/alignments/s1/lwafzp.align',\n",
       " 'data/alignments/s1/lwal2n.align',\n",
       " 'data/alignments/s1/lwal3s.align',\n",
       " 'data/alignments/s1/lwal4p.align',\n",
       " 'data/alignments/s1/lwal5a.align',\n",
       " 'data/alignments/s1/lwar6n.align',\n",
       " 'data/alignments/s1/lwar7s.align',\n",
       " 'data/alignments/s1/lwar8p.align',\n",
       " 'data/alignments/s1/lwar9a.align',\n",
       " 'data/alignments/s1/lwaz1s.align',\n",
       " 'data/alignments/s1/lwaz2p.align',\n",
       " 'data/alignments/s1/lwaz3a.align',\n",
       " 'data/alignments/s1/lwazzn.align',\n",
       " 'data/alignments/s1/lwbf2n.align',\n",
       " 'data/alignments/s1/lwbf3s.align',\n",
       " 'data/alignments/s1/lwbf4p.align',\n",
       " 'data/alignments/s1/lwbf5a.align',\n",
       " 'data/alignments/s1/lwbl6n.align',\n",
       " 'data/alignments/s1/lwbl7s.align',\n",
       " 'data/alignments/s1/lwbl8p.align',\n",
       " 'data/alignments/s1/lwbl9a.align',\n",
       " 'data/alignments/s1/lwbs1s.align',\n",
       " 'data/alignments/s1/lwbs2p.align',\n",
       " 'data/alignments/s1/lwbs3a.align',\n",
       " 'data/alignments/s1/lwbszn.align',\n",
       " 'data/alignments/s1/lwbz4n.align',\n",
       " 'data/alignments/s1/lwbz5s.align',\n",
       " 'data/alignments/s1/lwbz6p.align',\n",
       " 'data/alignments/s1/lwbz7a.align',\n",
       " 'data/alignments/s1/lwie4n.align',\n",
       " 'data/alignments/s1/lwie5s.align',\n",
       " 'data/alignments/s1/lwie6p.align',\n",
       " 'data/alignments/s1/lwie7a.align',\n",
       " 'data/alignments/s1/lwik8n.align',\n",
       " 'data/alignments/s1/lwik9s.align',\n",
       " 'data/alignments/s1/lwil1a.align',\n",
       " 'data/alignments/s1/lwilzp.align',\n",
       " 'data/alignments/s1/lwir2n.align',\n",
       " 'data/alignments/s1/lwir3s.align',\n",
       " 'data/alignments/s1/lwir4p.align',\n",
       " 'data/alignments/s1/lwir5a.align',\n",
       " 'data/alignments/s1/lwiy6n.align',\n",
       " 'data/alignments/s1/lwiy7s.align',\n",
       " 'data/alignments/s1/lwiy8p.align',\n",
       " 'data/alignments/s1/lwiy9a.align',\n",
       " 'data/alignments/s1/lwwf6n.align',\n",
       " 'data/alignments/s1/lwwf7s.align',\n",
       " 'data/alignments/s1/lwwf8p.align',\n",
       " 'data/alignments/s1/lwwf9a.align',\n",
       " 'data/alignments/s1/lwwm1s.align',\n",
       " 'data/alignments/s1/lwwm2p.align',\n",
       " 'data/alignments/s1/lwwm3a.align',\n",
       " 'data/alignments/s1/lwwmzn.align',\n",
       " 'data/alignments/s1/lwws4n.align',\n",
       " 'data/alignments/s1/lwws5s.align',\n",
       " 'data/alignments/s1/lwws6p.align',\n",
       " 'data/alignments/s1/lwws7a.align',\n",
       " 'data/alignments/s1/lwwz8n.align',\n",
       " 'data/alignments/s1/lwwz9s.align',\n",
       " 'data/alignments/s1/pbac1s.align',\n",
       " 'data/alignments/s1/pbac2p.align',\n",
       " 'data/alignments/s1/pbac3a.align',\n",
       " 'data/alignments/s1/pbaczn.align',\n",
       " 'data/alignments/s1/pbai4n.align',\n",
       " 'data/alignments/s1/pbai5s.align',\n",
       " 'data/alignments/s1/pbai6p.align',\n",
       " 'data/alignments/s1/pbai7a.align',\n",
       " 'data/alignments/s1/pbao8n.align',\n",
       " 'data/alignments/s1/pbao9s.align',\n",
       " 'data/alignments/s1/pbap1a.align',\n",
       " 'data/alignments/s1/pbapzp.align',\n",
       " 'data/alignments/s1/pbav2n.align',\n",
       " 'data/alignments/s1/pbav3s.align',\n",
       " 'data/alignments/s1/pbav4p.align',\n",
       " 'data/alignments/s1/pbav5a.align',\n",
       " 'data/alignments/s1/pbbc4n.align',\n",
       " 'data/alignments/s1/pbbc5s.align',\n",
       " 'data/alignments/s1/pbbc6p.align',\n",
       " 'data/alignments/s1/pbbc7a.align',\n",
       " 'data/alignments/s1/pbbi8n.align',\n",
       " 'data/alignments/s1/pbbi9s.align',\n",
       " 'data/alignments/s1/pbbj1a.align',\n",
       " 'data/alignments/s1/pbbjzp.align',\n",
       " 'data/alignments/s1/pbbp2n.align',\n",
       " 'data/alignments/s1/pbbp3s.align',\n",
       " 'data/alignments/s1/pbbp4p.align',\n",
       " 'data/alignments/s1/pbbp5a.align',\n",
       " 'data/alignments/s1/pbbv6n.align',\n",
       " 'data/alignments/s1/pbbv7s.align',\n",
       " 'data/alignments/s1/pbbv8p.align',\n",
       " 'data/alignments/s1/pbbv9a.align',\n",
       " 'data/alignments/s1/pbib6n.align',\n",
       " 'data/alignments/s1/pbib7s.align',\n",
       " 'data/alignments/s1/pbib8p.align',\n",
       " 'data/alignments/s1/pbib9a.align',\n",
       " 'data/alignments/s1/pbii1s.align',\n",
       " 'data/alignments/s1/pbii2p.align',\n",
       " 'data/alignments/s1/pbii3a.align',\n",
       " 'data/alignments/s1/pbiizn.align',\n",
       " 'data/alignments/s1/pbio4n.align',\n",
       " 'data/alignments/s1/pbio5s.align',\n",
       " 'data/alignments/s1/pbio6p.align',\n",
       " 'data/alignments/s1/pbio7a.align',\n",
       " 'data/alignments/s1/pbiu8n.align',\n",
       " 'data/alignments/s1/pbiu9s.align',\n",
       " 'data/alignments/s1/pbiv1a.align',\n",
       " 'data/alignments/s1/pbivzp.align',\n",
       " 'data/alignments/s1/pbwc8n.align',\n",
       " 'data/alignments/s1/pbwc9s.align',\n",
       " 'data/alignments/s1/pbwd1a.align',\n",
       " 'data/alignments/s1/pbwdzp.align',\n",
       " 'data/alignments/s1/pbwj2n.align',\n",
       " 'data/alignments/s1/pbwj3s.align',\n",
       " 'data/alignments/s1/pbwj4p.align',\n",
       " 'data/alignments/s1/pbwj5a.align',\n",
       " 'data/alignments/s1/pbwp6n.align',\n",
       " 'data/alignments/s1/pbwp7s.align',\n",
       " 'data/alignments/s1/pbwp8p.align',\n",
       " 'data/alignments/s1/pbwp9a.align',\n",
       " 'data/alignments/s1/pbwx1s.align',\n",
       " 'data/alignments/s1/pbwx2p.align',\n",
       " 'data/alignments/s1/pbwx3a.align',\n",
       " 'data/alignments/s1/pbwxzn.align',\n",
       " 'data/alignments/s1/pgad8n.align',\n",
       " 'data/alignments/s1/pgad9s.align',\n",
       " 'data/alignments/s1/pgae1a.align',\n",
       " 'data/alignments/s1/pgaezp.align',\n",
       " 'data/alignments/s1/pgak2n.align',\n",
       " 'data/alignments/s1/pgak3s.align',\n",
       " 'data/alignments/s1/pgak4p.align',\n",
       " 'data/alignments/s1/pgak5a.align',\n",
       " 'data/alignments/s1/pgaq6n.align',\n",
       " 'data/alignments/s1/pgaq7s.align',\n",
       " 'data/alignments/s1/pgaq8p.align',\n",
       " 'data/alignments/s1/pgaq9a.align',\n",
       " 'data/alignments/s1/pgay1s.align',\n",
       " 'data/alignments/s1/pgay2p.align',\n",
       " 'data/alignments/s1/pgay3a.align',\n",
       " 'data/alignments/s1/pgayzn.align',\n",
       " 'data/alignments/s1/pgbe2n.align',\n",
       " 'data/alignments/s1/pgbe3s.align',\n",
       " 'data/alignments/s1/pgbe4p.align',\n",
       " 'data/alignments/s1/pgbe5a.align',\n",
       " 'data/alignments/s1/pgbk6n.align',\n",
       " 'data/alignments/s1/pgbk7s.align',\n",
       " 'data/alignments/s1/pgbk8p.align',\n",
       " 'data/alignments/s1/pgbk9a.align',\n",
       " 'data/alignments/s1/pgbr1s.align',\n",
       " 'data/alignments/s1/pgbr2p.align',\n",
       " 'data/alignments/s1/pgbr3a.align',\n",
       " 'data/alignments/s1/pgbrzn.align',\n",
       " 'data/alignments/s1/pgby4n.align',\n",
       " 'data/alignments/s1/pgby5s.align',\n",
       " 'data/alignments/s1/pgby6p.align',\n",
       " 'data/alignments/s1/pgby7a.align',\n",
       " 'data/alignments/s1/pgid4n.align',\n",
       " 'data/alignments/s1/pgid5s.align',\n",
       " 'data/alignments/s1/pgid6p.align',\n",
       " 'data/alignments/s1/pgid7a.align',\n",
       " 'data/alignments/s1/pgij8n.align',\n",
       " 'data/alignments/s1/pgij9s.align',\n",
       " 'data/alignments/s1/pgik1a.align',\n",
       " 'data/alignments/s1/pgikzp.align',\n",
       " 'data/alignments/s1/pgiq2n.align',\n",
       " 'data/alignments/s1/pgiq3s.align',\n",
       " 'data/alignments/s1/pgiq4p.align',\n",
       " 'data/alignments/s1/pgiq5a.align',\n",
       " 'data/alignments/s1/pgix6n.align',\n",
       " 'data/alignments/s1/pgix7s.align',\n",
       " 'data/alignments/s1/pgix8p.align',\n",
       " 'data/alignments/s1/pgix9a.align',\n",
       " 'data/alignments/s1/pgwe6n.align',\n",
       " 'data/alignments/s1/pgwe7s.align',\n",
       " 'data/alignments/s1/pgwe8p.align',\n",
       " 'data/alignments/s1/pgwe9a.align',\n",
       " 'data/alignments/s1/pgwl1s.align',\n",
       " 'data/alignments/s1/pgwl2p.align',\n",
       " 'data/alignments/s1/pgwl3a.align',\n",
       " 'data/alignments/s1/pgwlzn.align',\n",
       " 'data/alignments/s1/pgwr4n.align',\n",
       " 'data/alignments/s1/pgwr5s.align',\n",
       " 'data/alignments/s1/pgwr6p.align',\n",
       " 'data/alignments/s1/pgwr7a.align',\n",
       " 'data/alignments/s1/pgwy8n.align',\n",
       " 'data/alignments/s1/pgwy9s.align',\n",
       " 'data/alignments/s1/pgwz1a.align',\n",
       " 'data/alignments/s1/pgwzzp.align',\n",
       " 'data/alignments/s1/prac6n.align',\n",
       " 'data/alignments/s1/prac7s.align',\n",
       " 'data/alignments/s1/prac8p.align',\n",
       " 'data/alignments/s1/prac9a.align',\n",
       " 'data/alignments/s1/praj1s.align',\n",
       " 'data/alignments/s1/praj2p.align',\n",
       " 'data/alignments/s1/praj3a.align',\n",
       " 'data/alignments/s1/prajzn.align',\n",
       " 'data/alignments/s1/prap4n.align',\n",
       " 'data/alignments/s1/prap5s.align',\n",
       " 'data/alignments/s1/prap6p.align',\n",
       " 'data/alignments/s1/prap7a.align',\n",
       " 'data/alignments/s1/prav8n.align',\n",
       " 'data/alignments/s1/prav9s.align',\n",
       " 'data/alignments/s1/prax1a.align',\n",
       " 'data/alignments/s1/praxzp.align',\n",
       " 'data/alignments/s1/prbd1s.align',\n",
       " 'data/alignments/s1/prbd2p.align',\n",
       " 'data/alignments/s1/prbd3a.align',\n",
       " 'data/alignments/s1/prbdzn.align',\n",
       " 'data/alignments/s1/prbj4n.align',\n",
       " 'data/alignments/s1/prbj5s.align',\n",
       " 'data/alignments/s1/prbj6p.align',\n",
       " 'data/alignments/s1/prbj7a.align',\n",
       " 'data/alignments/s1/prbp8n.align',\n",
       " 'data/alignments/s1/prbp9s.align',\n",
       " 'data/alignments/s1/prbq1a.align',\n",
       " 'data/alignments/s1/prbqzp.align',\n",
       " 'data/alignments/s1/prbx2n.align',\n",
       " 'data/alignments/s1/prbx3s.align',\n",
       " 'data/alignments/s1/prbx4p.align',\n",
       " 'data/alignments/s1/prbx5a.align',\n",
       " 'data/alignments/s1/pric2n.align',\n",
       " 'data/alignments/s1/pric3s.align',\n",
       " 'data/alignments/s1/pric4p.align',\n",
       " 'data/alignments/s1/pric5a.align',\n",
       " 'data/alignments/s1/prii6n.align',\n",
       " 'data/alignments/s1/prii7s.align',\n",
       " 'data/alignments/s1/prii8p.align',\n",
       " 'data/alignments/s1/prii9a.align',\n",
       " 'data/alignments/s1/prip1s.align',\n",
       " 'data/alignments/s1/prip2p.align',\n",
       " 'data/alignments/s1/prip3a.align',\n",
       " 'data/alignments/s1/pripzn.align',\n",
       " 'data/alignments/s1/priv4n.align',\n",
       " 'data/alignments/s1/priv5s.align',\n",
       " 'data/alignments/s1/priv6p.align',\n",
       " 'data/alignments/s1/priv7a.align',\n",
       " 'data/alignments/s1/prwd4n.align',\n",
       " 'data/alignments/s1/prwd5s.align',\n",
       " 'data/alignments/s1/prwd6p.align',\n",
       " 'data/alignments/s1/prwd7a.align',\n",
       " 'data/alignments/s1/prwj8n.align',\n",
       " 'data/alignments/s1/prwj9s.align',\n",
       " 'data/alignments/s1/prwk1a.align',\n",
       " 'data/alignments/s1/prwkzp.align',\n",
       " 'data/alignments/s1/prwq2n.align',\n",
       " 'data/alignments/s1/prwq3s.align',\n",
       " 'data/alignments/s1/prwq4p.align',\n",
       " 'data/alignments/s1/prwq5a.align',\n",
       " 'data/alignments/s1/prwx6n.align',\n",
       " 'data/alignments/s1/prwx7s.align',\n",
       " 'data/alignments/s1/prwx8p.align',\n",
       " 'data/alignments/s1/prwx9a.align',\n",
       " 'data/alignments/s1/pwad2n.align',\n",
       " 'data/alignments/s1/pwad3s.align',\n",
       " 'data/alignments/s1/pwad4p.align',\n",
       " 'data/alignments/s1/pwad5a.align',\n",
       " 'data/alignments/s1/pwaj6n.align',\n",
       " 'data/alignments/s1/pwaj7s.align',\n",
       " 'data/alignments/s1/pwaj8p.align',\n",
       " 'data/alignments/s1/pwaj9a.align',\n",
       " 'data/alignments/s1/pwaq1s.align',\n",
       " 'data/alignments/s1/pwaq2p.align',\n",
       " 'data/alignments/s1/pwaq3a.align',\n",
       " 'data/alignments/s1/pwaqzn.align',\n",
       " 'data/alignments/s1/pwax4n.align',\n",
       " 'data/alignments/s1/pwax5s.align',\n",
       " 'data/alignments/s1/pwax6p.align',\n",
       " 'data/alignments/s1/pwax7a.align',\n",
       " 'data/alignments/s1/pwbd6n.align',\n",
       " 'data/alignments/s1/pwbd7s.align',\n",
       " 'data/alignments/s1/pwbd8p.align',\n",
       " 'data/alignments/s1/pwbd9a.align',\n",
       " 'data/alignments/s1/pwbk1s.align',\n",
       " 'data/alignments/s1/pwbk2p.align',\n",
       " 'data/alignments/s1/pwbk3a.align',\n",
       " 'data/alignments/s1/pwbkzn.align',\n",
       " 'data/alignments/s1/pwbq4n.align',\n",
       " 'data/alignments/s1/pwbq5s.align',\n",
       " 'data/alignments/s1/pwbq6p.align',\n",
       " 'data/alignments/s1/pwbq7a.align',\n",
       " 'data/alignments/s1/pwbx8n.align',\n",
       " 'data/alignments/s1/pwbx9s.align',\n",
       " 'data/alignments/s1/pwby1a.align',\n",
       " 'data/alignments/s1/pwbyzp.align',\n",
       " 'data/alignments/s1/pwic8n.align',\n",
       " 'data/alignments/s1/pwic9s.align',\n",
       " 'data/alignments/s1/pwid1a.align',\n",
       " 'data/alignments/s1/pwidzp.align',\n",
       " 'data/alignments/s1/pwij2n.align',\n",
       " 'data/alignments/s1/pwij3s.align',\n",
       " 'data/alignments/s1/pwij4p.align',\n",
       " 'data/alignments/s1/pwij5a.align',\n",
       " 'data/alignments/s1/pwip6n.align',\n",
       " 'data/alignments/s1/pwip7s.align',\n",
       " 'data/alignments/s1/pwip8p.align',\n",
       " 'data/alignments/s1/pwip9a.align',\n",
       " 'data/alignments/s1/pwix1s.align',\n",
       " 'data/alignments/s1/pwix2p.align',\n",
       " 'data/alignments/s1/pwix3a.align',\n",
       " 'data/alignments/s1/pwixzn.align',\n",
       " 'data/alignments/s1/pwwe1s.align',\n",
       " 'data/alignments/s1/pwwe2p.align',\n",
       " 'data/alignments/s1/pwwe3a.align',\n",
       " 'data/alignments/s1/pwwezn.align',\n",
       " 'data/alignments/s1/pwwk4n.align',\n",
       " 'data/alignments/s1/pwwk5s.align',\n",
       " 'data/alignments/s1/pwwk6p.align',\n",
       " 'data/alignments/s1/pwwk7a.align',\n",
       " 'data/alignments/s1/pwwq8n.align',\n",
       " 'data/alignments/s1/pwwq9s.align',\n",
       " 'data/alignments/s1/pwwr1a.align',\n",
       " 'data/alignments/s1/pwwrzp.align',\n",
       " 'data/alignments/s1/pwwy2n.align',\n",
       " 'data/alignments/s1/pwwy3s.align',\n",
       " 'data/alignments/s1/pwwy4p.align',\n",
       " 'data/alignments/s1/pwwy5a.align',\n",
       " 'data/alignments/s1/sbaa4n.align',\n",
       " 'data/alignments/s1/sbaa5s.align',\n",
       " 'data/alignments/s1/sbaa6p.align',\n",
       " 'data/alignments/s1/sbaa7a.align',\n",
       " 'data/alignments/s1/sbag8n.align',\n",
       " 'data/alignments/s1/sbag9s.align',\n",
       " 'data/alignments/s1/sbah1a.align',\n",
       " 'data/alignments/s1/sbahzp.align',\n",
       " 'data/alignments/s1/sban2n.align',\n",
       " 'data/alignments/s1/sban3s.align',\n",
       " 'data/alignments/s1/sban4p.align',\n",
       " 'data/alignments/s1/sban5a.align',\n",
       " 'data/alignments/s1/sbat6n.align',\n",
       " 'data/alignments/s1/sbat7s.align',\n",
       " 'data/alignments/s1/sbat8p.align',\n",
       " 'data/alignments/s1/sbat9a.align',\n",
       " 'data/alignments/s1/sbba8n.align',\n",
       " 'data/alignments/s1/sbba9s.align',\n",
       " 'data/alignments/s1/sbbb1a.align',\n",
       " 'data/alignments/s1/sbbbzp.align',\n",
       " 'data/alignments/s1/sbbh2n.align',\n",
       " 'data/alignments/s1/sbbh3s.align',\n",
       " 'data/alignments/s1/sbbh4p.align',\n",
       " 'data/alignments/s1/sbbh5a.align',\n",
       " 'data/alignments/s1/sbbn6n.align',\n",
       " 'data/alignments/s1/sbbn7s.align',\n",
       " 'data/alignments/s1/sbbn8p.align',\n",
       " 'data/alignments/s1/sbbn9a.align',\n",
       " 'data/alignments/s1/sbbu1s.align',\n",
       " 'data/alignments/s1/sbbu2p.align',\n",
       " 'data/alignments/s1/sbbu3a.align',\n",
       " 'data/alignments/s1/sbbuzn.align',\n",
       " 'data/alignments/s1/sbia1s.align',\n",
       " 'data/alignments/s1/sbia2p.align',\n",
       " 'data/alignments/s1/sbia3a.align',\n",
       " 'data/alignments/s1/sbiazn.align',\n",
       " 'data/alignments/s1/sbig4n.align',\n",
       " 'data/alignments/s1/sbig5s.align',\n",
       " 'data/alignments/s1/sbig6p.align',\n",
       " 'data/alignments/s1/sbig7a.align',\n",
       " 'data/alignments/s1/sbim8n.align',\n",
       " 'data/alignments/s1/sbim9s.align',\n",
       " 'data/alignments/s1/sbin1a.align',\n",
       " 'data/alignments/s1/sbinzp.align',\n",
       " 'data/alignments/s1/sbit2n.align',\n",
       " 'data/alignments/s1/sbit3s.align',\n",
       " 'data/alignments/s1/sbit4p.align',\n",
       " 'data/alignments/s1/sbit5a.align',\n",
       " 'data/alignments/s1/sbwb2n.align',\n",
       " 'data/alignments/s1/sbwb3s.align',\n",
       " 'data/alignments/s1/sbwb4p.align',\n",
       " 'data/alignments/s1/sbwb5a.align',\n",
       " 'data/alignments/s1/sbwh6n.align',\n",
       " 'data/alignments/s1/sbwh7s.align',\n",
       " 'data/alignments/s1/sbwh8p.align',\n",
       " 'data/alignments/s1/sbwh9a.align',\n",
       " 'data/alignments/s1/sbwo1s.align',\n",
       " 'data/alignments/s1/sbwo2p.align',\n",
       " 'data/alignments/s1/sbwo3a.align',\n",
       " 'data/alignments/s1/sbwozn.align',\n",
       " 'data/alignments/s1/sbwu4n.align',\n",
       " 'data/alignments/s1/sbwu5s.align',\n",
       " 'data/alignments/s1/sbwu6p.align',\n",
       " 'data/alignments/s1/sbwu7a.align',\n",
       " 'data/alignments/s1/sgac2n.align',\n",
       " 'data/alignments/s1/sgac3s.align',\n",
       " 'data/alignments/s1/sgac4p.align',\n",
       " 'data/alignments/s1/sgac5a.align',\n",
       " 'data/alignments/s1/sgai6n.align',\n",
       " 'data/alignments/s1/sgai7s.align',\n",
       " 'data/alignments/s1/sgai8p.align',\n",
       " 'data/alignments/s1/sgai9a.align',\n",
       " 'data/alignments/s1/sgap1s.align',\n",
       " 'data/alignments/s1/sgap2p.align',\n",
       " 'data/alignments/s1/sgap3a.align',\n",
       " 'data/alignments/s1/sgapzn.align',\n",
       " 'data/alignments/s1/sgav4n.align',\n",
       " 'data/alignments/s1/sgav5s.align',\n",
       " 'data/alignments/s1/sgav6p.align',\n",
       " 'data/alignments/s1/sgav7a.align',\n",
       " 'data/alignments/s1/sgbc6n.align',\n",
       " 'data/alignments/s1/sgbc7s.align',\n",
       " 'data/alignments/s1/sgbc8p.align',\n",
       " 'data/alignments/s1/sgbc9a.align',\n",
       " 'data/alignments/s1/sgbj1s.align',\n",
       " 'data/alignments/s1/sgbj2p.align',\n",
       " 'data/alignments/s1/sgbj3a.align',\n",
       " 'data/alignments/s1/sgbjzn.align',\n",
       " 'data/alignments/s1/sgbp4n.align',\n",
       " 'data/alignments/s1/sgbp5s.align',\n",
       " 'data/alignments/s1/sgbp6p.align',\n",
       " 'data/alignments/s1/sgbp7a.align',\n",
       " 'data/alignments/s1/sgbv8n.align',\n",
       " 'data/alignments/s1/sgbv9s.align',\n",
       " 'data/alignments/s1/sgbx1a.align',\n",
       " 'data/alignments/s1/sgbxzp.align',\n",
       " 'data/alignments/s1/sgib8n.align',\n",
       " 'data/alignments/s1/sgib9s.align',\n",
       " 'data/alignments/s1/sgic1a.align',\n",
       " 'data/alignments/s1/sgiczp.align',\n",
       " 'data/alignments/s1/sgii2n.align',\n",
       " 'data/alignments/s1/sgii3s.align',\n",
       " 'data/alignments/s1/sgii4p.align',\n",
       " 'data/alignments/s1/sgii5a.align',\n",
       " 'data/alignments/s1/sgio6n.align',\n",
       " 'data/alignments/s1/sgio7s.align',\n",
       " 'data/alignments/s1/sgio8p.align',\n",
       " 'data/alignments/s1/sgio9a.align',\n",
       " 'data/alignments/s1/sgiv1s.align',\n",
       " 'data/alignments/s1/sgiv2p.align',\n",
       " 'data/alignments/s1/sgiv3a.align',\n",
       " 'data/alignments/s1/sgivzn.align',\n",
       " 'data/alignments/s1/sgwd1s.align',\n",
       " 'data/alignments/s1/sgwd2p.align',\n",
       " 'data/alignments/s1/sgwd3a.align',\n",
       " 'data/alignments/s1/sgwdzn.align',\n",
       " 'data/alignments/s1/sgwj4n.align',\n",
       " 'data/alignments/s1/sgwj5s.align',\n",
       " 'data/alignments/s1/sgwj6p.align',\n",
       " 'data/alignments/s1/sgwj7a.align',\n",
       " 'data/alignments/s1/sgwp8n.align',\n",
       " 'data/alignments/s1/sgwp9s.align',\n",
       " 'data/alignments/s1/sgwq1a.align',\n",
       " 'data/alignments/s1/sgwqzp.align',\n",
       " 'data/alignments/s1/sgwx2n.align',\n",
       " 'data/alignments/s1/sgwx3s.align',\n",
       " 'data/alignments/s1/sgwx4p.align',\n",
       " 'data/alignments/s1/sgwx5a.align',\n",
       " 'data/alignments/s1/srab1s.align',\n",
       " 'data/alignments/s1/srab2p.align',\n",
       " 'data/alignments/s1/srab3a.align',\n",
       " 'data/alignments/s1/srabzn.align',\n",
       " 'data/alignments/s1/srah4n.align',\n",
       " 'data/alignments/s1/srah5s.align',\n",
       " 'data/alignments/s1/srah6p.align',\n",
       " 'data/alignments/s1/srah7a.align',\n",
       " 'data/alignments/s1/sran8n.align',\n",
       " 'data/alignments/s1/sran9s.align',\n",
       " 'data/alignments/s1/srao1a.align',\n",
       " 'data/alignments/s1/sraozp.align',\n",
       " 'data/alignments/s1/srau2n.align',\n",
       " 'data/alignments/s1/srau3s.align',\n",
       " 'data/alignments/s1/srau4p.align',\n",
       " 'data/alignments/s1/srau5a.align',\n",
       " 'data/alignments/s1/srbb4n.align',\n",
       " 'data/alignments/s1/srbb5s.align',\n",
       " 'data/alignments/s1/srbb6p.align',\n",
       " 'data/alignments/s1/srbb7a.align',\n",
       " 'data/alignments/s1/srbh8n.align',\n",
       " 'data/alignments/s1/srbh9s.align',\n",
       " 'data/alignments/s1/srbi1a.align',\n",
       " 'data/alignments/s1/srbizp.align',\n",
       " 'data/alignments/s1/srbo2n.align',\n",
       " 'data/alignments/s1/srbo3s.align',\n",
       " 'data/alignments/s1/srbo4p.align',\n",
       " 'data/alignments/s1/srbo5a.align',\n",
       " 'data/alignments/s1/srbu6n.align',\n",
       " 'data/alignments/s1/srbu7s.align',\n",
       " 'data/alignments/s1/srbu8p.align',\n",
       " 'data/alignments/s1/srbu9a.align',\n",
       " 'data/alignments/s1/sria6n.align',\n",
       " 'data/alignments/s1/sria7s.align',\n",
       " 'data/alignments/s1/sria8p.align',\n",
       " 'data/alignments/s1/sria9a.align',\n",
       " 'data/alignments/s1/srih1s.align',\n",
       " 'data/alignments/s1/srih2p.align',\n",
       " 'data/alignments/s1/srih3a.align',\n",
       " 'data/alignments/s1/srihzn.align',\n",
       " 'data/alignments/s1/srin4n.align',\n",
       " 'data/alignments/s1/srin5s.align',\n",
       " 'data/alignments/s1/srin6p.align',\n",
       " 'data/alignments/s1/srin7a.align',\n",
       " 'data/alignments/s1/srit8n.align',\n",
       " 'data/alignments/s1/srit9s.align',\n",
       " 'data/alignments/s1/sriu1a.align',\n",
       " 'data/alignments/s1/sriuzp.align',\n",
       " 'data/alignments/s1/srwb8n.align',\n",
       " 'data/alignments/s1/srwb9s.align',\n",
       " 'data/alignments/s1/srwc1a.align',\n",
       " 'data/alignments/s1/srwczp.align',\n",
       " 'data/alignments/s1/srwi2n.align',\n",
       " 'data/alignments/s1/srwi3s.align',\n",
       " 'data/alignments/s1/srwi4p.align',\n",
       " 'data/alignments/s1/srwi5a.align',\n",
       " 'data/alignments/s1/srwo6n.align',\n",
       " 'data/alignments/s1/srwo7s.align',\n",
       " 'data/alignments/s1/srwo8p.align',\n",
       " 'data/alignments/s1/srwo9a.align',\n",
       " 'data/alignments/s1/srwv1s.align',\n",
       " 'data/alignments/s1/srwv2p.align',\n",
       " 'data/alignments/s1/srwv3a.align',\n",
       " 'data/alignments/s1/srwvzn.align',\n",
       " 'data/alignments/s1/swab6n.align',\n",
       " 'data/alignments/s1/swab7s.align',\n",
       " 'data/alignments/s1/swab8p.align',\n",
       " 'data/alignments/s1/swab9a.align',\n",
       " 'data/alignments/s1/swai1s.align',\n",
       " 'data/alignments/s1/swai2p.align',\n",
       " 'data/alignments/s1/swai3a.align',\n",
       " 'data/alignments/s1/swaizn.align',\n",
       " 'data/alignments/s1/swao4n.align',\n",
       " 'data/alignments/s1/swao5s.align',\n",
       " 'data/alignments/s1/swao6p.align',\n",
       " 'data/alignments/s1/swao7a.align',\n",
       " 'data/alignments/s1/swau8n.align',\n",
       " 'data/alignments/s1/swau9s.align',\n",
       " 'data/alignments/s1/swav1a.align',\n",
       " 'data/alignments/s1/swavzp.align',\n",
       " 'data/alignments/s1/swbc1s.align',\n",
       " 'data/alignments/s1/swbc2p.align',\n",
       " 'data/alignments/s1/swbc3a.align',\n",
       " 'data/alignments/s1/swbczn.align',\n",
       " 'data/alignments/s1/swbi4n.align',\n",
       " 'data/alignments/s1/swbi5s.align',\n",
       " 'data/alignments/s1/swbi6p.align',\n",
       " 'data/alignments/s1/swbi7a.align',\n",
       " 'data/alignments/s1/swbo8n.align',\n",
       " 'data/alignments/s1/swbo9s.align',\n",
       " 'data/alignments/s1/swbp1a.align',\n",
       " 'data/alignments/s1/swbpzp.align',\n",
       " 'data/alignments/s1/swbv2n.align',\n",
       " 'data/alignments/s1/swbv3s.align',\n",
       " 'data/alignments/s1/swbv4p.align',\n",
       " 'data/alignments/s1/swbv5a.align',\n",
       " 'data/alignments/s1/swib2n.align',\n",
       " 'data/alignments/s1/swib3s.align',\n",
       " 'data/alignments/s1/swib4p.align',\n",
       " 'data/alignments/s1/swib5a.align',\n",
       " 'data/alignments/s1/swih6n.align',\n",
       " 'data/alignments/s1/swih7s.align',\n",
       " 'data/alignments/s1/swih8p.align',\n",
       " 'data/alignments/s1/swih9a.align',\n",
       " 'data/alignments/s1/swio1s.align',\n",
       " 'data/alignments/s1/swio2p.align',\n",
       " 'data/alignments/s1/swio3a.align',\n",
       " 'data/alignments/s1/swiozn.align',\n",
       " 'data/alignments/s1/swiu4n.align',\n",
       " 'data/alignments/s1/swiu5s.align',\n",
       " 'data/alignments/s1/swiu6p.align',\n",
       " 'data/alignments/s1/swiu7a.align',\n",
       " 'data/alignments/s1/swwc4n.align',\n",
       " 'data/alignments/s1/swwc5s.align',\n",
       " 'data/alignments/s1/swwc6p.align',\n",
       " 'data/alignments/s1/swwc7a.align',\n",
       " 'data/alignments/s1/swwi8n.align',\n",
       " 'data/alignments/s1/swwi9s.align',\n",
       " 'data/alignments/s1/swwj1a.align',\n",
       " 'data/alignments/s1/swwjzp.align',\n",
       " 'data/alignments/s1/swwp2n.align',\n",
       " 'data/alignments/s1/swwp3s.align',\n",
       " 'data/alignments/s1/swwp4p.align',\n",
       " 'data/alignments/s1/swwp5a.align',\n",
       " 'data/alignments/s1/swwv6n.align',\n",
       " ...]"
      ]
     },
     "execution_count": 158,
     "metadata": {},
     "output_type": "execute_result"
    }
   ],
   "source": [
    "url = 'https://drive.google.com/uc?id=1YlvpDLix3S-U8fd-gqRwPcWXAXm8JwjL'\n",
    "output = 'data.zip'\n",
    "gdown.download(url, output, quiet=False)\n",
    "gdown.extractall('data.zip')"
   ]
  },
  {
   "cell_type": "code",
   "execution_count": 18,
   "id": "8548cc59-6dfc-4acc-abc3-3e65212db02e",
   "metadata": {
    "tags": []
   },
   "outputs": [],
   "source": [
    "def load_video(path:str) -> List[float]: \n",
    "\n",
    "    cap = cv2.VideoCapture(path)\n",
    "    frames = []\n",
    "    for _ in range(int(cap.get(cv2.CAP_PROP_FRAME_COUNT))): \n",
    "        ret, frame = cap.read()\n",
    "        frame = tf.image.rgb_to_grayscale(frame)\n",
    "        frames.append(frame[190:236,80:220,:])\n",
    "    cap.release()\n",
    "    \n",
    "    mean = tf.math.reduce_mean(frames)\n",
    "    std = tf.math.reduce_std(tf.cast(frames, tf.float32))\n",
    "    return tf.cast((frames - mean), tf.float32) / std"
   ]
  },
  {
   "cell_type": "code",
   "execution_count": 19,
   "id": "ec735e0b-ec98-4eb0-8f49-c35527d6670a",
   "metadata": {
    "tags": []
   },
   "outputs": [],
   "source": [
    "vocab = [x for x in \"abcdefghijklmnopqrstuvwxyz'?!123456789 \"]"
   ]
  },
  {
   "cell_type": "code",
   "execution_count": 20,
   "id": "be04e972-d7a5-4a72-82d8-a6bdde1f3ce6",
   "metadata": {
    "collapsed": true,
    "jupyter": {
     "outputs_hidden": true
    },
    "tags": []
   },
   "outputs": [
    {
     "name": "stdout",
     "output_type": "stream",
     "text": [
      "WARNING:tensorflow:From C:\\Users\\chara\\AppData\\Local\\Programs\\Python\\Python311\\Lib\\site-packages\\keras\\src\\backend.py:873: The name tf.get_default_graph is deprecated. Please use tf.compat.v1.get_default_graph instead.\n",
      "\n",
      "The vocabulary is: ['', 'a', 'b', 'c', 'd', 'e', 'f', 'g', 'h', 'i', 'j', 'k', 'l', 'm', 'n', 'o', 'p', 'q', 'r', 's', 't', 'u', 'v', 'w', 'x', 'y', 'z', \"'\", '?', '!', '1', '2', '3', '4', '5', '6', '7', '8', '9', ' '] (size =40)\n"
     ]
    }
   ],
   "source": [
    "char_to_num = tf.keras.layers.StringLookup(vocabulary=vocab, oov_token=\"\")\n",
    "num_to_char = tf.keras.layers.StringLookup(\n",
    "    vocabulary=char_to_num.get_vocabulary(), oov_token=\"\", invert=True\n",
    ")\n",
    "\n",
    "print(\n",
    "    f\"The vocabulary is: {char_to_num.get_vocabulary()} \"\n",
    "    f\"(size ={char_to_num.vocabulary_size()})\"\n",
    ")"
   ]
  },
  {
   "cell_type": "code",
   "execution_count": 21,
   "id": "559f7420-6802-45fa-9ca0-b1ff209b461c",
   "metadata": {
    "collapsed": true,
    "jupyter": {
     "outputs_hidden": true
    },
    "tags": []
   },
   "outputs": [
    {
     "data": {
      "text/plain": [
       "['',\n",
       " 'a',\n",
       " 'b',\n",
       " 'c',\n",
       " 'd',\n",
       " 'e',\n",
       " 'f',\n",
       " 'g',\n",
       " 'h',\n",
       " 'i',\n",
       " 'j',\n",
       " 'k',\n",
       " 'l',\n",
       " 'm',\n",
       " 'n',\n",
       " 'o',\n",
       " 'p',\n",
       " 'q',\n",
       " 'r',\n",
       " 's',\n",
       " 't',\n",
       " 'u',\n",
       " 'v',\n",
       " 'w',\n",
       " 'x',\n",
       " 'y',\n",
       " 'z',\n",
       " \"'\",\n",
       " '?',\n",
       " '!',\n",
       " '1',\n",
       " '2',\n",
       " '3',\n",
       " '4',\n",
       " '5',\n",
       " '6',\n",
       " '7',\n",
       " '8',\n",
       " '9',\n",
       " ' ']"
      ]
     },
     "execution_count": 21,
     "metadata": {},
     "output_type": "execute_result"
    }
   ],
   "source": [
    "char_to_num.get_vocabulary()"
   ]
  },
  {
   "cell_type": "code",
   "execution_count": 22,
   "id": "797ff78b-b48f-4e14-bb62-8cd0ebf9501a",
   "metadata": {
    "collapsed": true,
    "jupyter": {
     "outputs_hidden": true
    },
    "tags": []
   },
   "outputs": [
    {
     "name": "stdout",
     "output_type": "stream",
     "text": [
      "WARNING:tensorflow:From C:\\Users\\chara\\AppData\\Local\\Programs\\Python\\Python311\\Lib\\site-packages\\keras\\src\\utils\\tf_utils.py:492: The name tf.ragged.RaggedTensorValue is deprecated. Please use tf.compat.v1.ragged.RaggedTensorValue instead.\n",
      "\n"
     ]
    },
    {
     "data": {
      "text/plain": [
       "<tf.Tensor: shape=(4,), dtype=int64, numpy=array([14,  9,  3, 11], dtype=int64)>"
      ]
     },
     "execution_count": 22,
     "metadata": {},
     "output_type": "execute_result"
    }
   ],
   "source": [
    "char_to_num(['n','i','c','k'])"
   ]
  },
  {
   "cell_type": "code",
   "execution_count": 23,
   "id": "8cd7f4f4-ae77-4509-a4f4-c723787ebad1",
   "metadata": {},
   "outputs": [
    {
     "data": {
      "text/plain": [
       "<tf.Tensor: shape=(4,), dtype=string, numpy=array([b'n', b'i', b'c', b'k'], dtype=object)>"
      ]
     },
     "execution_count": 23,
     "metadata": {},
     "output_type": "execute_result"
    }
   ],
   "source": [
    "num_to_char([14,  9,  3, 11])"
   ]
  },
  {
   "cell_type": "code",
   "execution_count": 24,
   "id": "9491bab5-6a3c-4f79-879a-8f9fbe73ae2e",
   "metadata": {
    "tags": []
   },
   "outputs": [],
   "source": [
    "def load_alignments(path:str) -> List[str]: \n",
    "    with open(path, 'r') as f: \n",
    "        lines = f.readlines() \n",
    "    tokens = []\n",
    "    for line in lines:\n",
    "        line = line.split()\n",
    "        if line[2] != 'sil': \n",
    "            tokens = [*tokens,' ',line[2]]\n",
    "    return char_to_num(tf.reshape(tf.strings.unicode_split(tokens, input_encoding='UTF-8'), (-1)))[1:]"
   ]
  },
  {
   "cell_type": "code",
   "execution_count": 25,
   "id": "dd01ca9f-77fb-4643-a2aa-47dd82c5d66b",
   "metadata": {
    "tags": []
   },
   "outputs": [],
   "source": [
    "def load_data(path: str): \n",
    "    path = bytes.decode(path.numpy())\n",
    "    #file_name = path.split('/')[-1].split('.')[0]\n",
    "    # File name splitting for windows 43686172616e6468656570\n",
    "    file_name = path.split('\\\\')[-1].split('.')[0]\n",
    "    video_path = os.path.join('data','s1',f'{file_name}.mpg')\n",
    "    alignment_path = os.path.join('data','alignments','s1',f'{file_name}.align')\n",
    "    frames = load_video(video_path) \n",
    "    alignments = load_alignments(alignment_path)\n",
    "    \n",
    "    return frames, alignments"
   ]
  },
  {
   "cell_type": "code",
   "execution_count": 26,
   "id": "8cb7cc58-31ae-4904-a805-1177a82717d2",
   "metadata": {
    "tags": []
   },
   "outputs": [],
   "source": [
    "test_path = '.\\\\data\\\\s1\\\\bbal6n.mpg'"
   ]
  },
  {
   "cell_type": "code",
   "execution_count": 27,
   "id": "76aa964f-0c84-490d-897a-d00e3966e2c9",
   "metadata": {},
   "outputs": [
    {
     "data": {
      "text/plain": [
       "'bbal6n'"
      ]
     },
     "execution_count": 27,
     "metadata": {},
     "output_type": "execute_result"
    }
   ],
   "source": [
    "tf.convert_to_tensor(test_path).numpy().decode('utf-8').split('\\\\')[-1].split('.')[0]"
   ]
  },
  {
   "cell_type": "code",
   "execution_count": 28,
   "id": "eb602c71-8560-4f9e-b26b-08202febb937",
   "metadata": {
    "scrolled": true,
    "tags": []
   },
   "outputs": [],
   "source": [
    "frames, alignments = load_data(tf.convert_to_tensor(test_path))"
   ]
  },
  {
   "cell_type": "code",
   "execution_count": 29,
   "id": "0e3184a1-6b02-4b4f-84a8-a0a65f951ea2",
   "metadata": {},
   "outputs": [
    {
     "data": {
      "text/plain": [
       "<matplotlib.image.AxesImage at 0x29ddad56cd0>"
      ]
     },
     "execution_count": 29,
     "metadata": {},
     "output_type": "execute_result"
    },
    {
     "data": {
      "image/png": "[encoded data removed]",
      "text/plain": [
       "<Figure size 640x480 with 1 Axes>"
      ]
     },
     "metadata": {},
     "output_type": "display_data"
    }
   ],
   "source": [
    "plt.imshow(frames[40])"
   ]
  },
  {
   "cell_type": "code",
   "execution_count": 30,
   "id": "d7ec0833-d54b-4073-84cf-92d011c60ec1",
   "metadata": {},
   "outputs": [
    {
     "data": {
      "text/plain": [
       "<tf.Tensor: shape=(21,), dtype=int64, numpy=\n",
       "array([ 2,  9, 14, 39,  2, 12, 21,  5, 39,  1, 20, 39, 12, 39, 19,  9, 24,\n",
       "       39, 14, 15, 23], dtype=int64)>"
      ]
     },
     "execution_count": 30,
     "metadata": {},
     "output_type": "execute_result"
    }
   ],
   "source": [
    "alignments"
   ]
  },
  {
   "cell_type": "code",
   "execution_count": 31,
   "id": "fe1ad370-b287-4b46-85a2-7c45b0bd9b10",
   "metadata": {},
   "outputs": [
    {
     "data": {
      "text/plain": [
       "<tf.Tensor: shape=(), dtype=string, numpy=b'bin blue at l six now'>"
      ]
     },
     "execution_count": 31,
     "metadata": {},
     "output_type": "execute_result"
    }
   ],
   "source": [
    "tf.strings.reduce_join([bytes.decode(x) for x in num_to_char(alignments.numpy()).numpy()])"
   ]
  },
  {
   "cell_type": "code",
   "execution_count": 32,
   "id": "6871031a-b0ba-4c76-a852-f6329b0f2606",
   "metadata": {
    "tags": []
   },
   "outputs": [],
   "source": [
    "def mappable_function(path:str) ->List[str]:\n",
    "    result = tf.py_function(load_data, [path], (tf.float32, tf.int64))\n",
    "    return result"
   ]
  },
  {
   "cell_type": "markdown",
   "id": "c40a7eb4-0c3e-4eab-9291-5611cb68ce08",
   "metadata": {
    "tags": []
   },
   "source": [
    "# 2. Create Data Pipeline"
   ]
  },
  {
   "cell_type": "code",
   "execution_count": 33,
   "id": "7686355d-45aa-4c85-ad9c-053e6a9b4d81",
   "metadata": {
    "tags": []
   },
   "outputs": [],
   "source": [
    "from matplotlib import pyplot as plt"
   ]
  },
  {
   "cell_type": "code",
   "execution_count": 34,
   "id": "f066fea2-91b1-42ed-a67d-00566a1a53ff",
   "metadata": {
    "tags": []
   },
   "outputs": [],
   "source": [
    "data = tf.data.Dataset.list_files('./data/s1/*.mpg')\n",
    "data = data.shuffle(500, reshuffle_each_iteration=False)\n",
    "data = data.map(mappable_function)\n",
    "data = data.padded_batch(2, padded_shapes=([75,None,None,None],[40]))\n",
    "data = data.prefetch(tf.data.AUTOTUNE)\n",
    "# Added for split 43686172616e6468656570\n",
    "train = data.take(450)\n",
    "test = data.skip(450)"
   ]
  },
  {
   "cell_type": "code",
   "execution_count": 35,
   "id": "6b1365bd-7742-41d1-95d4-247021751c3a",
   "metadata": {},
   "outputs": [
    {
     "data": {
      "text/plain": [
       "50"
      ]
     },
     "execution_count": 35,
     "metadata": {},
     "output_type": "execute_result"
    }
   ],
   "source": [
    "len(test)"
   ]
  },
  {
   "cell_type": "code",
   "execution_count": 36,
   "id": "5281bde8-fdc8-4da1-bd55-5a7929a9e80c",
   "metadata": {},
   "outputs": [],
   "source": [
    "frames, alignments = data.as_numpy_iterator().next()"
   ]
  },
  {
   "cell_type": "code",
   "execution_count": 37,
   "id": "cbebe683-6afd-47fd-bba4-c83b4b13bb32",
   "metadata": {},
   "outputs": [
    {
     "data": {
      "text/plain": [
       "2"
      ]
     },
     "execution_count": 37,
     "metadata": {},
     "output_type": "execute_result"
    }
   ],
   "source": [
    "len(frames)"
   ]
  },
  {
   "cell_type": "code",
   "execution_count": 38,
   "id": "5cf2d676-93a9-434c-b3c7-bdcc2577b2e7",
   "metadata": {
    "tags": []
   },
   "outputs": [],
   "source": [
    "sample = data.as_numpy_iterator()"
   ]
  },
  {
   "cell_type": "code",
   "execution_count": 39,
   "id": "efa6cd46-7079-46c0-b45b-832f339f6cb0",
   "metadata": {
    "scrolled": true,
    "tags": []
   },
   "outputs": [
    {
     "data": {
      "text/plain": [
       "array([[[[[1.452607  ],\n",
       "          [1.452607  ],\n",
       "          [1.4908335 ],\n",
       "          ...,\n",
       "          [9.709531  ],\n",
       "          [0.26758552],\n",
       "          [0.26758552]],\n",
       "\n",
       "         [[1.452607  ],\n",
       "          [1.452607  ],\n",
       "          [1.4908335 ],\n",
       "          ...,\n",
       "          [9.633079  ],\n",
       "          [0.26758552],\n",
       "          [0.458718  ]],\n",
       "\n",
       "         [[1.452607  ],\n",
       "          [1.452607  ],\n",
       "          [1.4908335 ],\n",
       "          ...,\n",
       "          [0.1146795 ],\n",
       "          [0.26758552],\n",
       "          [0.26758552]],\n",
       "\n",
       "         ...,\n",
       "\n",
       "         [[0.9556625 ],\n",
       "          [0.9556625 ],\n",
       "          [0.9556625 ],\n",
       "          ...,\n",
       "          [0.0382265 ],\n",
       "          [0.        ],\n",
       "          [0.        ]],\n",
       "\n",
       "         [[0.9556625 ],\n",
       "          [0.9556625 ],\n",
       "          [0.9556625 ],\n",
       "          ...,\n",
       "          [9.747758  ],\n",
       "          [9.747758  ],\n",
       "          [9.747758  ]],\n",
       "\n",
       "         [[0.9556625 ],\n",
       "          [0.9556625 ],\n",
       "          [0.9556625 ],\n",
       "          ...,\n",
       "          [9.747758  ],\n",
       "          [9.747758  ],\n",
       "          [9.747758  ]]],\n",
       "\n",
       "\n",
       "        [[[1.4908335 ],\n",
       "          [1.4908335 ],\n",
       "          [1.4908335 ],\n",
       "          ...,\n",
       "          [0.        ],\n",
       "          [0.34403852],\n",
       "          [0.34403852]],\n",
       "\n",
       "         [[1.4908335 ],\n",
       "          [1.4908335 ],\n",
       "          [1.4908335 ],\n",
       "          ...,\n",
       "          [9.747758  ],\n",
       "          [0.42049152],\n",
       "          [0.49694452]],\n",
       "\n",
       "         [[1.4143806 ],\n",
       "          [1.4143806 ],\n",
       "          [1.4143806 ],\n",
       "          ...,\n",
       "          [0.1911325 ],\n",
       "          [0.229359  ],\n",
       "          [0.229359  ]],\n",
       "\n",
       "         ...,\n",
       "\n",
       "         [[0.99388903],\n",
       "          [0.99388903],\n",
       "          [0.99388903],\n",
       "          ...,\n",
       "          [0.0382265 ],\n",
       "          [0.        ],\n",
       "          [9.747758  ]],\n",
       "\n",
       "         [[0.99388903],\n",
       "          [0.9556625 ],\n",
       "          [0.9556625 ],\n",
       "          ...,\n",
       "          [0.0382265 ],\n",
       "          [9.747758  ],\n",
       "          [9.747758  ]],\n",
       "\n",
       "         [[0.9556625 ],\n",
       "          [0.9556625 ],\n",
       "          [0.9556625 ],\n",
       "          ...,\n",
       "          [0.0382265 ],\n",
       "          [9.747758  ],\n",
       "          [9.709531  ]]],\n",
       "\n",
       "\n",
       "        [[[1.4143806 ],\n",
       "          [1.4143806 ],\n",
       "          [1.4143806 ],\n",
       "          ...,\n",
       "          [9.747758  ],\n",
       "          [0.26758552],\n",
       "          [0.42049152]],\n",
       "\n",
       "         [[1.4143806 ],\n",
       "          [1.4143806 ],\n",
       "          [1.4143806 ],\n",
       "          ...,\n",
       "          [0.0382265 ],\n",
       "          [0.34403852],\n",
       "          [0.458718  ]],\n",
       "\n",
       "         [[1.3761541 ],\n",
       "          [1.3761541 ],\n",
       "          [1.3761541 ],\n",
       "          ...,\n",
       "          [0.229359  ],\n",
       "          [0.26758552],\n",
       "          [0.26758552]],\n",
       "\n",
       "         ...,\n",
       "\n",
       "         [[0.99388903],\n",
       "          [0.99388903],\n",
       "          [0.99388903],\n",
       "          ...,\n",
       "          [0.076453  ],\n",
       "          [0.0382265 ],\n",
       "          [0.        ]],\n",
       "\n",
       "         [[0.9556625 ],\n",
       "          [0.9556625 ],\n",
       "          [0.9556625 ],\n",
       "          ...,\n",
       "          [0.0382265 ],\n",
       "          [0.        ],\n",
       "          [0.        ]],\n",
       "\n",
       "         [[0.9556625 ],\n",
       "          [0.9556625 ],\n",
       "          [0.9556625 ],\n",
       "          ...,\n",
       "          [0.0382265 ],\n",
       "          [0.        ],\n",
       "          [9.747758  ]]],\n",
       "\n",
       "\n",
       "        ...,\n",
       "\n",
       "\n",
       "        [[[1.52906   ],\n",
       "          [1.52906   ],\n",
       "          [1.452607  ],\n",
       "          ...,\n",
       "          [9.441946  ],\n",
       "          [0.152906  ],\n",
       "          [0.152906  ]],\n",
       "\n",
       "         [[1.52906   ],\n",
       "          [1.52906   ],\n",
       "          [1.452607  ],\n",
       "          ...,\n",
       "          [9.518398  ],\n",
       "          [0.0382265 ],\n",
       "          [0.1146795 ]],\n",
       "\n",
       "         [[1.4908335 ],\n",
       "          [1.4908335 ],\n",
       "          [1.3761541 ],\n",
       "          ...,\n",
       "          [0.076453  ],\n",
       "          [0.229359  ],\n",
       "          [0.229359  ]],\n",
       "\n",
       "         ...,\n",
       "\n",
       "         [[0.99388903],\n",
       "          [0.99388903],\n",
       "          [0.9556625 ],\n",
       "          ...,\n",
       "          [0.0382265 ],\n",
       "          [0.0382265 ],\n",
       "          [0.0382265 ]],\n",
       "\n",
       "         [[0.9556625 ],\n",
       "          [0.9556625 ],\n",
       "          [0.9556625 ],\n",
       "          ...,\n",
       "          [0.        ],\n",
       "          [0.        ],\n",
       "          [0.        ]],\n",
       "\n",
       "         [[0.9556625 ],\n",
       "          [0.9556625 ],\n",
       "          [0.9556625 ],\n",
       "          ...,\n",
       "          [0.        ],\n",
       "          [0.        ],\n",
       "          [9.747758  ]]],\n",
       "\n",
       "\n",
       "        [[[1.4908335 ],\n",
       "          [1.4908335 ],\n",
       "          [1.4908335 ],\n",
       "          ...,\n",
       "          [9.5948515 ],\n",
       "          [0.1911325 ],\n",
       "          [0.1911325 ]],\n",
       "\n",
       "         [[1.4908335 ],\n",
       "          [1.4908335 ],\n",
       "          [1.4908335 ],\n",
       "          ...,\n",
       "          [9.5948515 ],\n",
       "          [0.229359  ],\n",
       "          [0.1146795 ]],\n",
       "\n",
       "         [[1.52906   ],\n",
       "          [1.5672865 ],\n",
       "          [1.4908335 ],\n",
       "          ...,\n",
       "          [0.152906  ],\n",
       "          [0.305812  ],\n",
       "          [0.305812  ]],\n",
       "\n",
       "         ...,\n",
       "\n",
       "         [[0.99388903],\n",
       "          [0.99388903],\n",
       "          [0.9556625 ],\n",
       "          ...,\n",
       "          [0.076453  ],\n",
       "          [0.076453  ],\n",
       "          [0.076453  ]],\n",
       "\n",
       "         [[0.99388903],\n",
       "          [0.9556625 ],\n",
       "          [0.9556625 ],\n",
       "          ...,\n",
       "          [0.0382265 ],\n",
       "          [0.0382265 ],\n",
       "          [0.0382265 ]],\n",
       "\n",
       "         [[0.9556625 ],\n",
       "          [0.9556625 ],\n",
       "          [0.9556625 ],\n",
       "          ...,\n",
       "          [0.0382265 ],\n",
       "          [0.0382265 ],\n",
       "          [0.        ]]],\n",
       "\n",
       "\n",
       "        [[[1.452607  ],\n",
       "          [1.452607  ],\n",
       "          [1.4908335 ],\n",
       "          ...,\n",
       "          [9.633079  ],\n",
       "          [0.1911325 ],\n",
       "          [0.229359  ]],\n",
       "\n",
       "         [[1.452607  ],\n",
       "          [1.452607  ],\n",
       "          [1.4908335 ],\n",
       "          ...,\n",
       "          [9.5948515 ],\n",
       "          [0.229359  ],\n",
       "          [0.1146795 ]],\n",
       "\n",
       "         [[1.52906   ],\n",
       "          [1.52906   ],\n",
       "          [1.52906   ],\n",
       "          ...,\n",
       "          [0.1146795 ],\n",
       "          [0.305812  ],\n",
       "          [0.305812  ]],\n",
       "\n",
       "         ...,\n",
       "\n",
       "         [[0.99388903],\n",
       "          [0.99388903],\n",
       "          [0.99388903],\n",
       "          ...,\n",
       "          [0.076453  ],\n",
       "          [0.0382265 ],\n",
       "          [0.        ]],\n",
       "\n",
       "         [[0.99388903],\n",
       "          [0.9556625 ],\n",
       "          [0.9556625 ],\n",
       "          ...,\n",
       "          [0.0382265 ],\n",
       "          [0.        ],\n",
       "          [0.        ]],\n",
       "\n",
       "         [[0.9556625 ],\n",
       "          [0.9556625 ],\n",
       "          [0.9556625 ],\n",
       "          ...,\n",
       "          [0.        ],\n",
       "          [0.        ],\n",
       "          [9.747758  ]]]],\n",
       "\n",
       "\n",
       "\n",
       "       [[[[1.428863  ],\n",
       "          [1.428863  ],\n",
       "          [1.4637134 ],\n",
       "          ...,\n",
       "          [0.3485032 ],\n",
       "          [0.31365287],\n",
       "          [0.31365287]],\n",
       "\n",
       "         [[1.428863  ],\n",
       "          [1.428863  ],\n",
       "          [1.4637134 ],\n",
       "          ...,\n",
       "          [0.3485032 ],\n",
       "          [0.31365287],\n",
       "          [0.31365287]],\n",
       "\n",
       "         [[1.428863  ],\n",
       "          [1.428863  ],\n",
       "          [1.3591624 ],\n",
       "          ...,\n",
       "          [0.3833535 ],\n",
       "          [0.3833535 ],\n",
       "          [0.3833535 ]],\n",
       "\n",
       "         ...,\n",
       "\n",
       "         [[0.975809  ],\n",
       "          [0.975809  ],\n",
       "          [0.975809  ],\n",
       "          ...,\n",
       "          [8.886831  ],\n",
       "          [8.886831  ],\n",
       "          [8.886831  ]],\n",
       "\n",
       "         [[0.975809  ],\n",
       "          [0.975809  ],\n",
       "          [0.975809  ],\n",
       "          ...,\n",
       "          [0.        ],\n",
       "          [8.886831  ],\n",
       "          [8.886831  ]],\n",
       "\n",
       "         [[0.975809  ],\n",
       "          [0.975809  ],\n",
       "          [0.975809  ],\n",
       "          ...,\n",
       "          [0.        ],\n",
       "          [8.886831  ],\n",
       "          [8.886831  ]]],\n",
       "\n",
       "\n",
       "        [[[1.3591624 ],\n",
       "          [1.3591624 ],\n",
       "          [1.3591624 ],\n",
       "          ...,\n",
       "          [0.31365287],\n",
       "          [0.27880254],\n",
       "          [0.27880254]],\n",
       "\n",
       "         [[1.3591624 ],\n",
       "          [1.3591624 ],\n",
       "          [1.3591624 ],\n",
       "          ...,\n",
       "          [0.31365287],\n",
       "          [0.27880254],\n",
       "          [0.27880254]],\n",
       "\n",
       "         [[1.4637134 ],\n",
       "          [1.4637134 ],\n",
       "          [1.4637134 ],\n",
       "          ...,\n",
       "          [0.3833535 ],\n",
       "          [0.3833535 ],\n",
       "          [0.3833535 ]],\n",
       "\n",
       "         ...,\n",
       "\n",
       "         [[0.975809  ],\n",
       "          [0.975809  ],\n",
       "          [0.975809  ],\n",
       "          ...,\n",
       "          [0.        ],\n",
       "          [0.        ],\n",
       "          [0.        ]],\n",
       "\n",
       "         [[0.975809  ],\n",
       "          [0.975809  ],\n",
       "          [0.975809  ],\n",
       "          ...,\n",
       "          [0.        ],\n",
       "          [8.886831  ],\n",
       "          [8.886831  ]],\n",
       "\n",
       "         [[0.975809  ],\n",
       "          [0.975809  ],\n",
       "          [0.975809  ],\n",
       "          ...,\n",
       "          [0.        ],\n",
       "          [8.886831  ],\n",
       "          [8.886831  ]]],\n",
       "\n",
       "\n",
       "        [[[1.3940128 ],\n",
       "          [1.3940128 ],\n",
       "          [1.428863  ],\n",
       "          ...,\n",
       "          [0.31365287],\n",
       "          [0.27880254],\n",
       "          [0.27880254]],\n",
       "\n",
       "         [[1.3940128 ],\n",
       "          [1.3940128 ],\n",
       "          [1.428863  ],\n",
       "          ...,\n",
       "          [0.31365287],\n",
       "          [0.27880254],\n",
       "          [0.27880254]],\n",
       "\n",
       "         [[1.428863  ],\n",
       "          [1.428863  ],\n",
       "          [1.4637134 ],\n",
       "          ...,\n",
       "          [0.3485032 ],\n",
       "          [0.3485032 ],\n",
       "          [0.3485032 ]],\n",
       "\n",
       "         ...,\n",
       "\n",
       "         [[1.0455096 ],\n",
       "          [1.0455096 ],\n",
       "          [1.0106592 ],\n",
       "          ...,\n",
       "          [0.03485032],\n",
       "          [0.03485032],\n",
       "          [0.03485032]],\n",
       "\n",
       "         [[1.0455096 ],\n",
       "          [1.0455096 ],\n",
       "          [1.0106592 ],\n",
       "          ...,\n",
       "          [0.03485032],\n",
       "          [0.        ],\n",
       "          [0.        ]],\n",
       "\n",
       "         [[1.0455096 ],\n",
       "          [1.0455096 ],\n",
       "          [1.0106592 ],\n",
       "          ...,\n",
       "          [0.03485032],\n",
       "          [0.        ],\n",
       "          [0.        ]]],\n",
       "\n",
       "\n",
       "        ...,\n",
       "\n",
       "\n",
       "        [[[1.3591624 ],\n",
       "          [1.4637134 ],\n",
       "          [1.533414  ],\n",
       "          ...,\n",
       "          [0.3485032 ],\n",
       "          [0.31365287],\n",
       "          [0.31365287]],\n",
       "\n",
       "         [[1.3591624 ],\n",
       "          [1.4637134 ],\n",
       "          [1.533414  ],\n",
       "          ...,\n",
       "          [0.3485032 ],\n",
       "          [0.31365287],\n",
       "          [0.31365287]],\n",
       "\n",
       "         [[1.4637134 ],\n",
       "          [1.4637134 ],\n",
       "          [1.428863  ],\n",
       "          ...,\n",
       "          [0.3485032 ],\n",
       "          [0.31365287],\n",
       "          [0.31365287]],\n",
       "\n",
       "         ...,\n",
       "\n",
       "         [[1.0455096 ],\n",
       "          [1.0455096 ],\n",
       "          [1.0455096 ],\n",
       "          ...,\n",
       "          [0.10455096],\n",
       "          [0.03485032],\n",
       "          [0.03485032]],\n",
       "\n",
       "         [[1.0106592 ],\n",
       "          [1.0106592 ],\n",
       "          [1.0106592 ],\n",
       "          ...,\n",
       "          [0.10455096],\n",
       "          [0.03485032],\n",
       "          [0.03485032]],\n",
       "\n",
       "         [[1.0106592 ],\n",
       "          [1.0106592 ],\n",
       "          [1.0106592 ],\n",
       "          ...,\n",
       "          [0.06970064],\n",
       "          [0.03485032],\n",
       "          [0.        ]]],\n",
       "\n",
       "\n",
       "        [[[1.3591624 ],\n",
       "          [1.4985638 ],\n",
       "          [1.4985638 ],\n",
       "          ...,\n",
       "          [0.3833535 ],\n",
       "          [0.3485032 ],\n",
       "          [0.3485032 ]],\n",
       "\n",
       "         [[1.3591624 ],\n",
       "          [1.4637134 ],\n",
       "          [1.4637134 ],\n",
       "          ...,\n",
       "          [0.3833535 ],\n",
       "          [0.3485032 ],\n",
       "          [0.3485032 ]],\n",
       "\n",
       "         [[1.428863  ],\n",
       "          [1.428863  ],\n",
       "          [1.428863  ],\n",
       "          ...,\n",
       "          [0.3485032 ],\n",
       "          [0.3485032 ],\n",
       "          [0.3485032 ]],\n",
       "\n",
       "         ...,\n",
       "\n",
       "         [[1.0803599 ],\n",
       "          [1.0803599 ],\n",
       "          [1.0803599 ],\n",
       "          ...,\n",
       "          [0.10455096],\n",
       "          [0.06970064],\n",
       "          [0.06970064]],\n",
       "\n",
       "         [[1.0106592 ],\n",
       "          [1.0106592 ],\n",
       "          [1.0106592 ],\n",
       "          ...,\n",
       "          [0.06970064],\n",
       "          [0.03485032],\n",
       "          [0.03485032]],\n",
       "\n",
       "         [[1.0106592 ],\n",
       "          [1.0106592 ],\n",
       "          [1.0106592 ],\n",
       "          ...,\n",
       "          [0.03485032],\n",
       "          [0.03485032],\n",
       "          [0.        ]]],\n",
       "\n",
       "\n",
       "        [[[1.3243121 ],\n",
       "          [1.3940128 ],\n",
       "          [1.4637134 ],\n",
       "          ...,\n",
       "          [0.3485032 ],\n",
       "          [0.31365287],\n",
       "          [0.31365287]],\n",
       "\n",
       "         [[1.2894619 ],\n",
       "          [1.3940128 ],\n",
       "          [1.428863  ],\n",
       "          ...,\n",
       "          [0.3485032 ],\n",
       "          [0.31365287],\n",
       "          [0.31365287]],\n",
       "\n",
       "         [[1.3940128 ],\n",
       "          [1.3940128 ],\n",
       "          [1.3591624 ],\n",
       "          ...,\n",
       "          [0.3833535 ],\n",
       "          [0.3833535 ],\n",
       "          [0.3833535 ]],\n",
       "\n",
       "         ...,\n",
       "\n",
       "         [[1.0455096 ],\n",
       "          [1.0455096 ],\n",
       "          [1.0455096 ],\n",
       "          ...,\n",
       "          [0.06970064],\n",
       "          [0.03485032],\n",
       "          [0.03485032]],\n",
       "\n",
       "         [[0.975809  ],\n",
       "          [0.975809  ],\n",
       "          [0.975809  ],\n",
       "          ...,\n",
       "          [0.10455096],\n",
       "          [0.03485032],\n",
       "          [0.03485032]],\n",
       "\n",
       "         [[0.975809  ],\n",
       "          [0.975809  ],\n",
       "          [0.975809  ],\n",
       "          ...,\n",
       "          [0.06970064],\n",
       "          [0.03485032],\n",
       "          [0.        ]]]]], dtype=float32)"
      ]
     },
     "execution_count": 39,
     "metadata": {},
     "output_type": "execute_result"
    }
   ],
   "source": [
    "val = sample.next(); val[0]"
   ]
  },
  {
   "cell_type": "code",
   "execution_count": 40,
   "id": "acf5eb4f-a0da-4a9a-bf24-af13e9cc2fbe",
   "metadata": {
    "tags": []
   },
   "outputs": [],
   "source": [
    "frames_uint8 = (val[0][0][:, :, :, 0] * 255).astype(np.uint8)\n",
    "imageio.mimsave('./animation.gif', frames_uint8, fps=10)"
   ]
  },
  {
   "cell_type": "code",
   "execution_count": 41,
   "id": "c33a87a2-d5e0-4ec9-b174-73ebf41bf03a",
   "metadata": {
    "tags": []
   },
   "outputs": [
    {
     "data": {
      "text/plain": [
       "<matplotlib.image.AxesImage at 0x29ddba3d950>"
      ]
     },
     "execution_count": 41,
     "metadata": {},
     "output_type": "execute_result"
    },
    {
     "data": {
      "image/png": "[encoded data removed]",
      "text/plain": [
       "<Figure size 640x480 with 1 Axes>"
      ]
     },
     "metadata": {},
     "output_type": "display_data"
    }
   ],
   "source": [
    "# 0:videos, 0: 1st video out of the batch,  0: return the first frame in the video \n",
    "plt.imshow(val[0][0][35])"
   ]
  },
  {
   "cell_type": "code",
   "execution_count": 42,
   "id": "84593332-133c-4205-b7a6-8e235d5e2b3b",
   "metadata": {
    "tags": []
   },
   "outputs": [
    {
     "data": {
      "text/plain": [
       "<tf.Tensor: shape=(), dtype=string, numpy=b'place red by j four now'>"
      ]
     },
     "execution_count": 42,
     "metadata": {},
     "output_type": "execute_result"
    }
   ],
   "source": [
    "tf.strings.reduce_join([num_to_char(word) for word in val[1][0]])"
   ]
  },
  {
   "cell_type": "markdown",
   "id": "0f47733c-83bc-465c-b118-b198b492ad37",
   "metadata": {
    "tags": []
   },
   "source": [
    "# 3. Design the Deep Neural Network"
   ]
  },
  {
   "cell_type": "code",
   "execution_count": 43,
   "id": "d8e9a497-191b-4842-afbd-26f5e13c43ba",
   "metadata": {
    "tags": []
   },
   "outputs": [],
   "source": [
    "from tensorflow.keras.models import Sequential \n",
    "from tensorflow.keras.layers import Conv3D, LSTM, Dense, Dropout, Bidirectional, MaxPool3D, Activation, Reshape, SpatialDropout3D, BatchNormalization, TimeDistributed, Flatten\n",
    "from tensorflow.keras.optimizers.legacy import Adam\n",
    "from tensorflow.keras.callbacks import ModelCheckpoint, LearningRateScheduler"
   ]
  },
  {
   "cell_type": "code",
   "execution_count": 44,
   "id": "3f753ed2-70b9-4236-8c1c-08ca065dc8bf",
   "metadata": {},
   "outputs": [
    {
     "data": {
      "text/plain": [
       "(75, 46, 140, 1)"
      ]
     },
     "execution_count": 44,
     "metadata": {},
     "output_type": "execute_result"
    }
   ],
   "source": [
    "data.as_numpy_iterator().next()[0][0].shape"
   ]
  },
  {
   "cell_type": "code",
   "execution_count": 45,
   "id": "f9171056-a352-491a-9ed9-92b28ced268e",
   "metadata": {
    "tags": []
   },
   "outputs": [],
   "source": [
    "model = Sequential()\n",
    "model.add(Conv3D(128, 3, input_shape=(75,46,140,1), padding='same'))\n",
    "model.add(Activation('relu'))\n",
    "model.add(MaxPool3D((1,2,2)))\n",
    "\n",
    "model.add(Conv3D(256, 3, padding='same'))\n",
    "model.add(Activation('relu'))\n",
    "model.add(MaxPool3D((1,2,2)))\n",
    "\n",
    "model.add(Conv3D(75, 3, padding='same'))\n",
    "model.add(Activation('relu'))\n",
    "model.add(MaxPool3D((1,2,2)))\n",
    "#43686172616e6468656570\n",
    "model.add(TimeDistributed(Flatten()))\n",
    "\n",
    "model.add(Bidirectional(LSTM(128, kernel_initializer='Orthogonal', return_sequences=True)))\n",
    "model.add(Dropout(.5))\n",
    "\n",
    "model.add(Bidirectional(LSTM(128, kernel_initializer='Orthogonal', return_sequences=True)))\n",
    "model.add(Dropout(.5))\n",
    "\n",
    "model.add(Dense(char_to_num.vocabulary_size()+1, kernel_initializer='he_normal', activation='softmax'))"
   ]
  },
  {
   "cell_type": "code",
   "execution_count": 46,
   "id": "78851825-2bcd-42a9-b7f2-28bb5a6bf43a",
   "metadata": {
    "tags": []
   },
   "outputs": [
    {
     "name": "stdout",
     "output_type": "stream",
     "text": [
      "Model: \"sequential\"\n",
      "_________________________________________________________________\n",
      " Layer (type)                Output Shape              Param #   \n",
      "=================================================================\n",
      " conv3d (Conv3D)             (None, 75, 46, 140, 128   3584      \n",
      "                             )                                   \n",
      "                                                                 \n",
      " activation (Activation)     (None, 75, 46, 140, 128   0         \n",
      "                             )                                   \n",
      "                                                                 \n",
      " max_pooling3d (MaxPooling3  (None, 75, 23, 70, 128)   0         \n",
      " D)                                                              \n",
      "                                                                 \n",
      " conv3d_1 (Conv3D)           (None, 75, 23, 70, 256)   884992    \n",
      "                                                                 \n",
      " activation_1 (Activation)   (None, 75, 23, 70, 256)   0         \n",
      "                                                                 \n",
      " max_pooling3d_1 (MaxPoolin  (None, 75, 11, 35, 256)   0         \n",
      " g3D)                                                            \n",
      "                                                                 \n",
      " conv3d_2 (Conv3D)           (None, 75, 11, 35, 75)    518475    \n",
      "                                                                 \n",
      " activation_2 (Activation)   (None, 75, 11, 35, 75)    0         \n",
      "                                                                 \n",
      " max_pooling3d_2 (MaxPoolin  (None, 75, 5, 17, 75)     0         \n",
      " g3D)                                                            \n",
      "                                                                 \n",
      " time_distributed (TimeDist  (None, 75, 6375)          0         \n",
      " ributed)                                                        \n",
      "                                                                 \n",
      " bidirectional (Bidirection  (None, 75, 256)           6660096   \n",
      " al)                                                             \n",
      "                                                                 \n",
      " dropout (Dropout)           (None, 75, 256)           0         \n",
      "                                                                 \n",
      " bidirectional_1 (Bidirecti  (None, 75, 256)           394240    \n",
      " onal)                                                           \n",
      "                                                                 \n",
      " dropout_1 (Dropout)         (None, 75, 256)           0         \n",
      "                                                                 \n",
      " dense (Dense)               (None, 75, 41)            10537     \n",
      "                                                                 \n",
      "=================================================================\n",
      "Total params: 8471924 (32.32 MB)\n",
      "Trainable params: 8471924 (32.32 MB)\n",
      "Non-trainable params: 0 (0.00 Byte)\n",
      "_________________________________________________________________\n"
     ]
    }
   ],
   "source": [
    "model.summary()"
   ]
  },
  {
   "cell_type": "code",
   "execution_count": 47,
   "id": "f4b4798c-a65a-4c47-9e2a-3b09dc98d320",
   "metadata": {},
   "outputs": [
    {
     "data": {
      "text/plain": [
       "6375"
      ]
     },
     "execution_count": 47,
     "metadata": {},
     "output_type": "execute_result"
    }
   ],
   "source": [
    "5*17*75"
   ]
  },
  {
   "cell_type": "code",
   "execution_count": 48,
   "id": "e5c2eae0-c359-41a4-97a0-75c44dccb7d1",
   "metadata": {
    "tags": []
   },
   "outputs": [
    {
     "name": "stdout",
     "output_type": "stream",
     "text": [
      "1/1 [==============================] - 11s 11s/step\n"
     ]
    }
   ],
   "source": [
    "yhat = model.predict(val[0])"
   ]
  },
  {
   "cell_type": "code",
   "execution_count": 49,
   "id": "ffdc7319-0d69-4f7e-a6d4-ce72deb81c0b",
   "metadata": {},
   "outputs": [
    {
     "data": {
      "text/plain": [
       "<tf.Tensor: shape=(), dtype=string, numpy=b'44444444444444444444444444444444444444444444444444444444444444444qqqqqqqqqq'>"
      ]
     },
     "execution_count": 49,
     "metadata": {},
     "output_type": "execute_result"
    }
   ],
   "source": [
    "tf.strings.reduce_join([num_to_char(x) for x in tf.argmax(yhat[0],axis=1)])"
   ]
  },
  {
   "cell_type": "code",
   "execution_count": 50,
   "id": "6ed47531-8317-4255-9a12-b757642258e6",
   "metadata": {
    "tags": []
   },
   "outputs": [
    {
     "data": {
      "text/plain": [
       "<tf.Tensor: shape=(), dtype=string, numpy=b'44444444444444444444444444444444444444444444444444444444444444444qqqqqqqqqq'>"
      ]
     },
     "execution_count": 50,
     "metadata": {},
     "output_type": "execute_result"
    }
   ],
   "source": [
    "tf.strings.reduce_join([num_to_char(tf.argmax(x)) for x in yhat[0]])"
   ]
  },
  {
   "cell_type": "code",
   "execution_count": 51,
   "id": "7c37b9b9-5298-4038-9c33-5031d1b457f0",
   "metadata": {
    "tags": []
   },
   "outputs": [
    {
     "data": {
      "text/plain": [
       "(None, 75, 46, 140, 1)"
      ]
     },
     "execution_count": 51,
     "metadata": {},
     "output_type": "execute_result"
    }
   ],
   "source": [
    "model.input_shape"
   ]
  },
  {
   "cell_type": "code",
   "execution_count": 52,
   "id": "98b316a4-5322-4782-8e36-4b3c1a696d85",
   "metadata": {
    "tags": []
   },
   "outputs": [
    {
     "data": {
      "text/plain": [
       "(None, 75, 41)"
      ]
     },
     "execution_count": 52,
     "metadata": {},
     "output_type": "execute_result"
    }
   ],
   "source": [
    "model.output_shape"
   ]
  },
  {
   "cell_type": "markdown",
   "id": "2ec02176-5c26-46c3-aff7-8352e6563c7d",
   "metadata": {
    "tags": []
   },
   "source": [
    "# 4. Setup Training Options and Train"
   ]
  },
  {
   "cell_type": "code",
   "execution_count": 53,
   "id": "ab015fd0-7fb4-4d5d-9fa2-30a05dbd515a",
   "metadata": {
    "tags": []
   },
   "outputs": [],
   "source": [
    "def scheduler(epoch, lr):\n",
    "    if epoch < 30:\n",
    "        return lr\n",
    "    else:\n",
    "        return lr * tf.math.exp(-0.1)"
   ]
  },
  {
   "cell_type": "code",
   "execution_count": 54,
   "id": "c564d5c9-db54-4e88-b311-9aeab7fb3e69",
   "metadata": {
    "tags": []
   },
   "outputs": [],
   "source": [
    "def CTCLoss(y_true, y_pred):\n",
    "    batch_len = tf.cast(tf.shape(y_true)[0], dtype=\"int64\")\n",
    "    input_length = tf.cast(tf.shape(y_pred)[1], dtype=\"int64\")\n",
    "    label_length = tf.cast(tf.shape(y_true)[1], dtype=\"int64\")\n",
    "\n",
    "    input_length = input_length * tf.ones(shape=(batch_len, 1), dtype=\"int64\")\n",
    "    label_length = label_length * tf.ones(shape=(batch_len, 1), dtype=\"int64\")\n",
    "\n",
    "    loss = tf.keras.backend.ctc_batch_cost(y_true, y_pred, input_length, label_length)\n",
    "    return loss"
   ]
  },
  {
   "cell_type": "code",
   "execution_count": 55,
   "id": "a26dc3fc-a19c-4378-bd8c-e2b597a1d15c",
   "metadata": {
    "tags": []
   },
   "outputs": [],
   "source": [
    "class ProduceExample(tf.keras.callbacks.Callback): \n",
    "    def __init__(self, dataset) -> None: \n",
    "        self.dataset = dataset.as_numpy_iterator()\n",
    "        #43686172616e6468656570\n",
    "    \n",
    "    def on_epoch_end(self, epoch, logs=None) -> None:\n",
    "        data = self.dataset.next()\n",
    "        yhat = self.model.predict(data[0])\n",
    "        decoded = tf.keras.backend.ctc_decode(yhat, [75,75], greedy=False)[0][0].numpy()\n",
    "        for x in range(len(yhat)):           \n",
    "            print('Original:', tf.strings.reduce_join(num_to_char(data[1][x])).numpy().decode('utf-8'))\n",
    "            print('Prediction:', tf.strings.reduce_join(num_to_char(decoded[x])).numpy().decode('utf-8'))\n",
    "            print('~'*100)"
   ]
  },
  {
   "cell_type": "code",
   "execution_count": 56,
   "id": "04be90d8-2482-46f9-b513-d5f4f8001c7e",
   "metadata": {
    "tags": []
   },
   "outputs": [],
   "source": [
    "model.compile(optimizer=Adam(learning_rate=0.0001), loss=CTCLoss)"
   ]
  },
  {
   "cell_type": "code",
   "execution_count": 57,
   "id": "eab49367-3f1e-4464-ae76-dbd07549d97e",
   "metadata": {
    "tags": []
   },
   "outputs": [],
   "source": [
    "checkpoint_callback = ModelCheckpoint(os.path.join('models','checkpoint'), monitor='loss', save_weights_only=True) "
   ]
  },
  {
   "cell_type": "code",
   "execution_count": 58,
   "id": "e085a632-d464-46ef-8777-959cad4adb2c",
   "metadata": {
    "tags": []
   },
   "outputs": [],
   "source": [
    "schedule_callback = LearningRateScheduler(scheduler)"
   ]
  },
  {
   "cell_type": "code",
   "execution_count": 59,
   "id": "48eca991-90ab-4592-8a79-b50e9ca015b6",
   "metadata": {
    "tags": []
   },
   "outputs": [],
   "source": [
    "example_callback = ProduceExample(test)"
   ]
  },
  {
   "cell_type": "code",
   "execution_count": 135,
   "id": "8ffba483-aa61-4bbe-a15f-a73e1ddf097c",
   "metadata": {
    "collapsed": true,
    "jupyter": {
     "outputs_hidden": true
    },
    "tags": []
   },
   "outputs": [
    {
     "name": "stdout",
     "output_type": "stream",
     "text": [
      "Epoch 1/100\n"
     ]
    },
    {
     "ename": "KeyboardInterrupt",
     "evalue": "",
     "output_type": "error",
     "traceback": [
      "\u001b[1;31m---------------------------------------------------------------------------\u001b[0m",
      "\u001b[1;31mKeyboardInterrupt\u001b[0m                         Traceback (most recent call last)",
      "Cell \u001b[1;32mIn[135], line 1\u001b[0m\n\u001b[1;32m----> 1\u001b[0m \u001b[43mmodel\u001b[49m\u001b[38;5;241;43m.\u001b[39;49m\u001b[43mfit\u001b[49m\u001b[43m(\u001b[49m\u001b[43mtrain\u001b[49m\u001b[43m,\u001b[49m\u001b[43m \u001b[49m\u001b[43mvalidation_data\u001b[49m\u001b[38;5;241;43m=\u001b[39;49m\u001b[43mtest\u001b[49m\u001b[43m,\u001b[49m\u001b[43m \u001b[49m\u001b[43mepochs\u001b[49m\u001b[38;5;241;43m=\u001b[39;49m\u001b[38;5;241;43m100\u001b[39;49m\u001b[43m,\u001b[49m\u001b[43m \u001b[49m\u001b[43mcallbacks\u001b[49m\u001b[38;5;241;43m=\u001b[39;49m\u001b[43m[\u001b[49m\u001b[43mcheckpoint_callback\u001b[49m\u001b[43m,\u001b[49m\u001b[43m \u001b[49m\u001b[43mschedule_callback\u001b[49m\u001b[43m,\u001b[49m\u001b[43m \u001b[49m\u001b[43mexample_callback\u001b[49m\u001b[43m]\u001b[49m\u001b[43m)\u001b[49m\n",
      "File \u001b[1;32m~\\AppData\\Local\\Programs\\Python\\Python311\\Lib\\site-packages\\keras\\src\\utils\\traceback_utils.py:65\u001b[0m, in \u001b[0;36mfilter_traceback.<locals>.error_handler\u001b[1;34m(*args, **kwargs)\u001b[0m\n\u001b[0;32m     63\u001b[0m filtered_tb \u001b[38;5;241m=\u001b[39m \u001b[38;5;28;01mNone\u001b[39;00m\n\u001b[0;32m     64\u001b[0m \u001b[38;5;28;01mtry\u001b[39;00m:\n\u001b[1;32m---> 65\u001b[0m     \u001b[38;5;28;01mreturn\u001b[39;00m \u001b[43mfn\u001b[49m\u001b[43m(\u001b[49m\u001b[38;5;241;43m*\u001b[39;49m\u001b[43margs\u001b[49m\u001b[43m,\u001b[49m\u001b[43m \u001b[49m\u001b[38;5;241;43m*\u001b[39;49m\u001b[38;5;241;43m*\u001b[39;49m\u001b[43mkwargs\u001b[49m\u001b[43m)\u001b[49m\n\u001b[0;32m     66\u001b[0m \u001b[38;5;28;01mexcept\u001b[39;00m \u001b[38;5;167;01mException\u001b[39;00m \u001b[38;5;28;01mas\u001b[39;00m e:\n\u001b[0;32m     67\u001b[0m     filtered_tb \u001b[38;5;241m=\u001b[39m _process_traceback_frames(e\u001b[38;5;241m.\u001b[39m__traceback__)\n",
      "File \u001b[1;32m~\\AppData\\Local\\Programs\\Python\\Python311\\Lib\\site-packages\\keras\\src\\engine\\training.py:1807\u001b[0m, in \u001b[0;36mModel.fit\u001b[1;34m(self, x, y, batch_size, epochs, verbose, callbacks, validation_split, validation_data, shuffle, class_weight, sample_weight, initial_epoch, steps_per_epoch, validation_steps, validation_batch_size, validation_freq, max_queue_size, workers, use_multiprocessing)\u001b[0m\n\u001b[0;32m   1799\u001b[0m \u001b[38;5;28;01mwith\u001b[39;00m tf\u001b[38;5;241m.\u001b[39mprofiler\u001b[38;5;241m.\u001b[39mexperimental\u001b[38;5;241m.\u001b[39mTrace(\n\u001b[0;32m   1800\u001b[0m     \u001b[38;5;124m\"\u001b[39m\u001b[38;5;124mtrain\u001b[39m\u001b[38;5;124m\"\u001b[39m,\n\u001b[0;32m   1801\u001b[0m     epoch_num\u001b[38;5;241m=\u001b[39mepoch,\n\u001b[1;32m   (...)\u001b[0m\n\u001b[0;32m   1804\u001b[0m     _r\u001b[38;5;241m=\u001b[39m\u001b[38;5;241m1\u001b[39m,\n\u001b[0;32m   1805\u001b[0m ):\n\u001b[0;32m   1806\u001b[0m     callbacks\u001b[38;5;241m.\u001b[39mon_train_batch_begin(step)\n\u001b[1;32m-> 1807\u001b[0m     tmp_logs \u001b[38;5;241m=\u001b[39m \u001b[38;5;28;43mself\u001b[39;49m\u001b[38;5;241;43m.\u001b[39;49m\u001b[43mtrain_function\u001b[49m\u001b[43m(\u001b[49m\u001b[43miterator\u001b[49m\u001b[43m)\u001b[49m\n\u001b[0;32m   1808\u001b[0m     \u001b[38;5;28;01mif\u001b[39;00m data_handler\u001b[38;5;241m.\u001b[39mshould_sync:\n\u001b[0;32m   1809\u001b[0m         context\u001b[38;5;241m.\u001b[39masync_wait()\n",
      "File \u001b[1;32m~\\AppData\\Local\\Programs\\Python\\Python311\\Lib\\site-packages\\tensorflow\\python\\util\\traceback_utils.py:150\u001b[0m, in \u001b[0;36mfilter_traceback.<locals>.error_handler\u001b[1;34m(*args, **kwargs)\u001b[0m\n\u001b[0;32m    148\u001b[0m filtered_tb \u001b[38;5;241m=\u001b[39m \u001b[38;5;28;01mNone\u001b[39;00m\n\u001b[0;32m    149\u001b[0m \u001b[38;5;28;01mtry\u001b[39;00m:\n\u001b[1;32m--> 150\u001b[0m   \u001b[38;5;28;01mreturn\u001b[39;00m \u001b[43mfn\u001b[49m\u001b[43m(\u001b[49m\u001b[38;5;241;43m*\u001b[39;49m\u001b[43margs\u001b[49m\u001b[43m,\u001b[49m\u001b[43m \u001b[49m\u001b[38;5;241;43m*\u001b[39;49m\u001b[38;5;241;43m*\u001b[39;49m\u001b[43mkwargs\u001b[49m\u001b[43m)\u001b[49m\n\u001b[0;32m    151\u001b[0m \u001b[38;5;28;01mexcept\u001b[39;00m \u001b[38;5;167;01mException\u001b[39;00m \u001b[38;5;28;01mas\u001b[39;00m e:\n\u001b[0;32m    152\u001b[0m   filtered_tb \u001b[38;5;241m=\u001b[39m _process_traceback_frames(e\u001b[38;5;241m.\u001b[39m__traceback__)\n",
      "File \u001b[1;32m~\\AppData\\Local\\Programs\\Python\\Python311\\Lib\\site-packages\\tensorflow\\python\\eager\\polymorphic_function\\polymorphic_function.py:832\u001b[0m, in \u001b[0;36mFunction.__call__\u001b[1;34m(self, *args, **kwds)\u001b[0m\n\u001b[0;32m    829\u001b[0m compiler \u001b[38;5;241m=\u001b[39m \u001b[38;5;124m\"\u001b[39m\u001b[38;5;124mxla\u001b[39m\u001b[38;5;124m\"\u001b[39m \u001b[38;5;28;01mif\u001b[39;00m \u001b[38;5;28mself\u001b[39m\u001b[38;5;241m.\u001b[39m_jit_compile \u001b[38;5;28;01melse\u001b[39;00m \u001b[38;5;124m\"\u001b[39m\u001b[38;5;124mnonXla\u001b[39m\u001b[38;5;124m\"\u001b[39m\n\u001b[0;32m    831\u001b[0m \u001b[38;5;28;01mwith\u001b[39;00m OptionalXlaContext(\u001b[38;5;28mself\u001b[39m\u001b[38;5;241m.\u001b[39m_jit_compile):\n\u001b[1;32m--> 832\u001b[0m   result \u001b[38;5;241m=\u001b[39m \u001b[38;5;28;43mself\u001b[39;49m\u001b[38;5;241;43m.\u001b[39;49m\u001b[43m_call\u001b[49m\u001b[43m(\u001b[49m\u001b[38;5;241;43m*\u001b[39;49m\u001b[43margs\u001b[49m\u001b[43m,\u001b[49m\u001b[43m \u001b[49m\u001b[38;5;241;43m*\u001b[39;49m\u001b[38;5;241;43m*\u001b[39;49m\u001b[43mkwds\u001b[49m\u001b[43m)\u001b[49m\n\u001b[0;32m    834\u001b[0m new_tracing_count \u001b[38;5;241m=\u001b[39m \u001b[38;5;28mself\u001b[39m\u001b[38;5;241m.\u001b[39mexperimental_get_tracing_count()\n\u001b[0;32m    835\u001b[0m without_tracing \u001b[38;5;241m=\u001b[39m (tracing_count \u001b[38;5;241m==\u001b[39m new_tracing_count)\n",
      "File \u001b[1;32m~\\AppData\\Local\\Programs\\Python\\Python311\\Lib\\site-packages\\tensorflow\\python\\eager\\polymorphic_function\\polymorphic_function.py:888\u001b[0m, in \u001b[0;36mFunction._call\u001b[1;34m(self, *args, **kwds)\u001b[0m\n\u001b[0;32m    885\u001b[0m \u001b[38;5;28;01mtry\u001b[39;00m:\n\u001b[0;32m    886\u001b[0m   \u001b[38;5;66;03m# This is the first call of __call__, so we have to initialize.\u001b[39;00m\n\u001b[0;32m    887\u001b[0m   initializers \u001b[38;5;241m=\u001b[39m []\n\u001b[1;32m--> 888\u001b[0m   \u001b[38;5;28;43mself\u001b[39;49m\u001b[38;5;241;43m.\u001b[39;49m\u001b[43m_initialize\u001b[49m\u001b[43m(\u001b[49m\u001b[43margs\u001b[49m\u001b[43m,\u001b[49m\u001b[43m \u001b[49m\u001b[43mkwds\u001b[49m\u001b[43m,\u001b[49m\u001b[43m \u001b[49m\u001b[43madd_initializers_to\u001b[49m\u001b[38;5;241;43m=\u001b[39;49m\u001b[43minitializers\u001b[49m\u001b[43m)\u001b[49m\n\u001b[0;32m    889\u001b[0m \u001b[38;5;28;01mfinally\u001b[39;00m:\n\u001b[0;32m    890\u001b[0m   \u001b[38;5;66;03m# At this point we know that the initialization is complete (or less\u001b[39;00m\n\u001b[0;32m    891\u001b[0m   \u001b[38;5;66;03m# interestingly an exception was raised) so we no longer need a lock.\u001b[39;00m\n\u001b[0;32m    892\u001b[0m   \u001b[38;5;28mself\u001b[39m\u001b[38;5;241m.\u001b[39m_lock\u001b[38;5;241m.\u001b[39mrelease()\n",
      "File \u001b[1;32m~\\AppData\\Local\\Programs\\Python\\Python311\\Lib\\site-packages\\tensorflow\\python\\eager\\polymorphic_function\\polymorphic_function.py:695\u001b[0m, in \u001b[0;36mFunction._initialize\u001b[1;34m(self, args, kwds, add_initializers_to)\u001b[0m\n\u001b[0;32m    690\u001b[0m \u001b[38;5;28mself\u001b[39m\u001b[38;5;241m.\u001b[39m_variable_creation_config \u001b[38;5;241m=\u001b[39m \u001b[38;5;28mself\u001b[39m\u001b[38;5;241m.\u001b[39m_generate_scoped_tracing_options(\n\u001b[0;32m    691\u001b[0m     variable_capturing_scope,\n\u001b[0;32m    692\u001b[0m     tracing_compilation\u001b[38;5;241m.\u001b[39mScopeType\u001b[38;5;241m.\u001b[39mVARIABLE_CREATION,\n\u001b[0;32m    693\u001b[0m )\n\u001b[0;32m    694\u001b[0m \u001b[38;5;66;03m# Force the definition of the function for these arguments\u001b[39;00m\n\u001b[1;32m--> 695\u001b[0m \u001b[38;5;28mself\u001b[39m\u001b[38;5;241m.\u001b[39m_concrete_variable_creation_fn \u001b[38;5;241m=\u001b[39m \u001b[43mtracing_compilation\u001b[49m\u001b[38;5;241;43m.\u001b[39;49m\u001b[43mtrace_function\u001b[49m\u001b[43m(\u001b[49m\n\u001b[0;32m    696\u001b[0m \u001b[43m    \u001b[49m\u001b[43margs\u001b[49m\u001b[43m,\u001b[49m\u001b[43m \u001b[49m\u001b[43mkwds\u001b[49m\u001b[43m,\u001b[49m\u001b[43m \u001b[49m\u001b[38;5;28;43mself\u001b[39;49m\u001b[38;5;241;43m.\u001b[39;49m\u001b[43m_variable_creation_config\u001b[49m\n\u001b[0;32m    697\u001b[0m \u001b[43m\u001b[49m\u001b[43m)\u001b[49m\n\u001b[0;32m    699\u001b[0m \u001b[38;5;28;01mdef\u001b[39;00m\u001b[38;5;250m \u001b[39m\u001b[38;5;21minvalid_creator_scope\u001b[39m(\u001b[38;5;241m*\u001b[39munused_args, \u001b[38;5;241m*\u001b[39m\u001b[38;5;241m*\u001b[39munused_kwds):\n\u001b[0;32m    700\u001b[0m \u001b[38;5;250m  \u001b[39m\u001b[38;5;124;03m\"\"\"Disables variable creation.\"\"\"\u001b[39;00m\n",
      "File \u001b[1;32m~\\AppData\\Local\\Programs\\Python\\Python311\\Lib\\site-packages\\tensorflow\\python\\eager\\polymorphic_function\\tracing_compilation.py:178\u001b[0m, in \u001b[0;36mtrace_function\u001b[1;34m(args, kwargs, tracing_options)\u001b[0m\n\u001b[0;32m    175\u001b[0m     args \u001b[38;5;241m=\u001b[39m tracing_options\u001b[38;5;241m.\u001b[39minput_signature\n\u001b[0;32m    176\u001b[0m     kwargs \u001b[38;5;241m=\u001b[39m {}\n\u001b[1;32m--> 178\u001b[0m   concrete_function \u001b[38;5;241m=\u001b[39m \u001b[43m_maybe_define_function\u001b[49m\u001b[43m(\u001b[49m\n\u001b[0;32m    179\u001b[0m \u001b[43m      \u001b[49m\u001b[43margs\u001b[49m\u001b[43m,\u001b[49m\u001b[43m \u001b[49m\u001b[43mkwargs\u001b[49m\u001b[43m,\u001b[49m\u001b[43m \u001b[49m\u001b[43mtracing_options\u001b[49m\n\u001b[0;32m    180\u001b[0m \u001b[43m  \u001b[49m\u001b[43m)\u001b[49m\n\u001b[0;32m    182\u001b[0m \u001b[38;5;28;01mif\u001b[39;00m \u001b[38;5;129;01mnot\u001b[39;00m tracing_options\u001b[38;5;241m.\u001b[39mbind_graph_to_function:\n\u001b[0;32m    183\u001b[0m   concrete_function\u001b[38;5;241m.\u001b[39m_garbage_collector\u001b[38;5;241m.\u001b[39mrelease()  \u001b[38;5;66;03m# pylint: disable=protected-access\u001b[39;00m\n",
      "File \u001b[1;32m~\\AppData\\Local\\Programs\\Python\\Python311\\Lib\\site-packages\\tensorflow\\python\\eager\\polymorphic_function\\tracing_compilation.py:283\u001b[0m, in \u001b[0;36m_maybe_define_function\u001b[1;34m(args, kwargs, tracing_options)\u001b[0m\n\u001b[0;32m    281\u001b[0m \u001b[38;5;28;01melse\u001b[39;00m:\n\u001b[0;32m    282\u001b[0m   target_func_type \u001b[38;5;241m=\u001b[39m lookup_func_type\n\u001b[1;32m--> 283\u001b[0m concrete_function \u001b[38;5;241m=\u001b[39m \u001b[43m_create_concrete_function\u001b[49m\u001b[43m(\u001b[49m\n\u001b[0;32m    284\u001b[0m \u001b[43m    \u001b[49m\u001b[43mtarget_func_type\u001b[49m\u001b[43m,\u001b[49m\u001b[43m \u001b[49m\u001b[43mlookup_func_context\u001b[49m\u001b[43m,\u001b[49m\u001b[43m \u001b[49m\u001b[43mfunc_graph\u001b[49m\u001b[43m,\u001b[49m\u001b[43m \u001b[49m\u001b[43mtracing_options\u001b[49m\n\u001b[0;32m    285\u001b[0m \u001b[43m\u001b[49m\u001b[43m)\u001b[49m\n\u001b[0;32m    287\u001b[0m \u001b[38;5;28;01mif\u001b[39;00m tracing_options\u001b[38;5;241m.\u001b[39mfunction_cache \u001b[38;5;129;01mis\u001b[39;00m \u001b[38;5;129;01mnot\u001b[39;00m \u001b[38;5;28;01mNone\u001b[39;00m:\n\u001b[0;32m    288\u001b[0m   tracing_options\u001b[38;5;241m.\u001b[39mfunction_cache\u001b[38;5;241m.\u001b[39madd(\n\u001b[0;32m    289\u001b[0m       concrete_function, current_func_context\n\u001b[0;32m    290\u001b[0m   )\n",
      "File \u001b[1;32m~\\AppData\\Local\\Programs\\Python\\Python311\\Lib\\site-packages\\tensorflow\\python\\eager\\polymorphic_function\\tracing_compilation.py:310\u001b[0m, in \u001b[0;36m_create_concrete_function\u001b[1;34m(function_type, type_context, func_graph, tracing_options)\u001b[0m\n\u001b[0;32m    303\u001b[0m   placeholder_bound_args \u001b[38;5;241m=\u001b[39m function_type\u001b[38;5;241m.\u001b[39mplaceholder_arguments(\n\u001b[0;32m    304\u001b[0m       placeholder_context\n\u001b[0;32m    305\u001b[0m   )\n\u001b[0;32m    307\u001b[0m disable_acd \u001b[38;5;241m=\u001b[39m tracing_options\u001b[38;5;241m.\u001b[39mattributes \u001b[38;5;129;01mand\u001b[39;00m tracing_options\u001b[38;5;241m.\u001b[39mattributes\u001b[38;5;241m.\u001b[39mget(\n\u001b[0;32m    308\u001b[0m     attributes_lib\u001b[38;5;241m.\u001b[39mDISABLE_ACD, \u001b[38;5;28;01mFalse\u001b[39;00m\n\u001b[0;32m    309\u001b[0m )\n\u001b[1;32m--> 310\u001b[0m traced_func_graph \u001b[38;5;241m=\u001b[39m \u001b[43mfunc_graph_module\u001b[49m\u001b[38;5;241;43m.\u001b[39;49m\u001b[43mfunc_graph_from_py_func\u001b[49m\u001b[43m(\u001b[49m\n\u001b[0;32m    311\u001b[0m \u001b[43m    \u001b[49m\u001b[43mtracing_options\u001b[49m\u001b[38;5;241;43m.\u001b[39;49m\u001b[43mname\u001b[49m\u001b[43m,\u001b[49m\n\u001b[0;32m    312\u001b[0m \u001b[43m    \u001b[49m\u001b[43mtracing_options\u001b[49m\u001b[38;5;241;43m.\u001b[39;49m\u001b[43mpython_function\u001b[49m\u001b[43m,\u001b[49m\n\u001b[0;32m    313\u001b[0m \u001b[43m    \u001b[49m\u001b[43mplaceholder_bound_args\u001b[49m\u001b[38;5;241;43m.\u001b[39;49m\u001b[43margs\u001b[49m\u001b[43m,\u001b[49m\n\u001b[0;32m    314\u001b[0m \u001b[43m    \u001b[49m\u001b[43mplaceholder_bound_args\u001b[49m\u001b[38;5;241;43m.\u001b[39;49m\u001b[43mkwargs\u001b[49m\u001b[43m,\u001b[49m\n\u001b[0;32m    315\u001b[0m \u001b[43m    \u001b[49m\u001b[38;5;28;43;01mNone\u001b[39;49;00m\u001b[43m,\u001b[49m\n\u001b[0;32m    316\u001b[0m \u001b[43m    \u001b[49m\u001b[43mfunc_graph\u001b[49m\u001b[38;5;241;43m=\u001b[39;49m\u001b[43mfunc_graph\u001b[49m\u001b[43m,\u001b[49m\n\u001b[0;32m    317\u001b[0m \u001b[43m    \u001b[49m\u001b[43madd_control_dependencies\u001b[49m\u001b[38;5;241;43m=\u001b[39;49m\u001b[38;5;129;43;01mnot\u001b[39;49;00m\u001b[43m \u001b[49m\u001b[43mdisable_acd\u001b[49m\u001b[43m,\u001b[49m\n\u001b[0;32m    318\u001b[0m \u001b[43m    \u001b[49m\u001b[43marg_names\u001b[49m\u001b[38;5;241;43m=\u001b[39;49m\u001b[43mfunction_type_utils\u001b[49m\u001b[38;5;241;43m.\u001b[39;49m\u001b[43mto_arg_names\u001b[49m\u001b[43m(\u001b[49m\u001b[43mfunction_type\u001b[49m\u001b[43m)\u001b[49m\u001b[43m,\u001b[49m\n\u001b[0;32m    319\u001b[0m \u001b[43m    \u001b[49m\u001b[43mcreate_placeholders\u001b[49m\u001b[38;5;241;43m=\u001b[39;49m\u001b[38;5;28;43;01mFalse\u001b[39;49;00m\u001b[43m,\u001b[49m\n\u001b[0;32m    320\u001b[0m \u001b[43m\u001b[49m\u001b[43m)\u001b[49m\n\u001b[0;32m    322\u001b[0m transform\u001b[38;5;241m.\u001b[39mapply_func_graph_transforms(traced_func_graph)\n\u001b[0;32m    324\u001b[0m graph_capture_container \u001b[38;5;241m=\u001b[39m traced_func_graph\u001b[38;5;241m.\u001b[39mfunction_captures\n",
      "File \u001b[1;32m~\\AppData\\Local\\Programs\\Python\\Python311\\Lib\\site-packages\\tensorflow\\python\\framework\\func_graph.py:1059\u001b[0m, in \u001b[0;36mfunc_graph_from_py_func\u001b[1;34m(name, python_func, args, kwargs, signature, func_graph, add_control_dependencies, arg_names, op_return_value, collections, capture_by_value, create_placeholders)\u001b[0m\n\u001b[0;32m   1056\u001b[0m   \u001b[38;5;28;01mreturn\u001b[39;00m x\n\u001b[0;32m   1058\u001b[0m _, original_func \u001b[38;5;241m=\u001b[39m tf_decorator\u001b[38;5;241m.\u001b[39munwrap(python_func)\n\u001b[1;32m-> 1059\u001b[0m func_outputs \u001b[38;5;241m=\u001b[39m \u001b[43mpython_func\u001b[49m\u001b[43m(\u001b[49m\u001b[38;5;241;43m*\u001b[39;49m\u001b[43mfunc_args\u001b[49m\u001b[43m,\u001b[49m\u001b[43m \u001b[49m\u001b[38;5;241;43m*\u001b[39;49m\u001b[38;5;241;43m*\u001b[39;49m\u001b[43mfunc_kwargs\u001b[49m\u001b[43m)\u001b[49m\n\u001b[0;32m   1061\u001b[0m \u001b[38;5;66;03m# invariant: `func_outputs` contains only Tensors, CompositeTensors,\u001b[39;00m\n\u001b[0;32m   1062\u001b[0m \u001b[38;5;66;03m# TensorArrays and `None`s.\u001b[39;00m\n\u001b[0;32m   1063\u001b[0m func_outputs \u001b[38;5;241m=\u001b[39m variable_utils\u001b[38;5;241m.\u001b[39mconvert_variables_to_tensors(func_outputs)\n",
      "File \u001b[1;32m~\\AppData\\Local\\Programs\\Python\\Python311\\Lib\\site-packages\\tensorflow\\python\\eager\\polymorphic_function\\polymorphic_function.py:598\u001b[0m, in \u001b[0;36mFunction._generate_scoped_tracing_options.<locals>.wrapped_fn\u001b[1;34m(*args, **kwds)\u001b[0m\n\u001b[0;32m    594\u001b[0m \u001b[38;5;28;01mwith\u001b[39;00m default_graph\u001b[38;5;241m.\u001b[39m_variable_creator_scope(scope, priority\u001b[38;5;241m=\u001b[39m\u001b[38;5;241m50\u001b[39m):  \u001b[38;5;66;03m# pylint: disable=protected-access\u001b[39;00m\n\u001b[0;32m    595\u001b[0m   \u001b[38;5;66;03m# __wrapped__ allows AutoGraph to swap in a converted function. We give\u001b[39;00m\n\u001b[0;32m    596\u001b[0m   \u001b[38;5;66;03m# the function a weak reference to itself to avoid a reference cycle.\u001b[39;00m\n\u001b[0;32m    597\u001b[0m   \u001b[38;5;28;01mwith\u001b[39;00m OptionalXlaContext(compile_with_xla):\n\u001b[1;32m--> 598\u001b[0m     out \u001b[38;5;241m=\u001b[39m \u001b[43mweak_wrapped_fn\u001b[49m\u001b[43m(\u001b[49m\u001b[43m)\u001b[49m\u001b[38;5;241;43m.\u001b[39;49m\u001b[43m__wrapped__\u001b[49m\u001b[43m(\u001b[49m\u001b[38;5;241;43m*\u001b[39;49m\u001b[43margs\u001b[49m\u001b[43m,\u001b[49m\u001b[43m \u001b[49m\u001b[38;5;241;43m*\u001b[39;49m\u001b[38;5;241;43m*\u001b[39;49m\u001b[43mkwds\u001b[49m\u001b[43m)\u001b[49m\n\u001b[0;32m    599\u001b[0m   \u001b[38;5;28;01mreturn\u001b[39;00m out\n",
      "File \u001b[1;32m~\\AppData\\Local\\Programs\\Python\\Python311\\Lib\\site-packages\\tensorflow\\python\\eager\\polymorphic_function\\autograph_util.py:41\u001b[0m, in \u001b[0;36mpy_func_from_autograph.<locals>.autograph_handler\u001b[1;34m(*args, **kwargs)\u001b[0m\n\u001b[0;32m     39\u001b[0m \u001b[38;5;250m\u001b[39m\u001b[38;5;124;03m\"\"\"Calls a converted version of original_func.\"\"\"\u001b[39;00m\n\u001b[0;32m     40\u001b[0m \u001b[38;5;28;01mtry\u001b[39;00m:\n\u001b[1;32m---> 41\u001b[0m   \u001b[38;5;28;01mreturn\u001b[39;00m \u001b[43mapi\u001b[49m\u001b[38;5;241;43m.\u001b[39;49m\u001b[43mconverted_call\u001b[49m\u001b[43m(\u001b[49m\n\u001b[0;32m     42\u001b[0m \u001b[43m      \u001b[49m\u001b[43moriginal_func\u001b[49m\u001b[43m,\u001b[49m\n\u001b[0;32m     43\u001b[0m \u001b[43m      \u001b[49m\u001b[43margs\u001b[49m\u001b[43m,\u001b[49m\n\u001b[0;32m     44\u001b[0m \u001b[43m      \u001b[49m\u001b[43mkwargs\u001b[49m\u001b[43m,\u001b[49m\n\u001b[0;32m     45\u001b[0m \u001b[43m      \u001b[49m\u001b[43moptions\u001b[49m\u001b[38;5;241;43m=\u001b[39;49m\u001b[43mconverter\u001b[49m\u001b[38;5;241;43m.\u001b[39;49m\u001b[43mConversionOptions\u001b[49m\u001b[43m(\u001b[49m\n\u001b[0;32m     46\u001b[0m \u001b[43m          \u001b[49m\u001b[43mrecursive\u001b[49m\u001b[38;5;241;43m=\u001b[39;49m\u001b[38;5;28;43;01mTrue\u001b[39;49;00m\u001b[43m,\u001b[49m\n\u001b[0;32m     47\u001b[0m \u001b[43m          \u001b[49m\u001b[43moptional_features\u001b[49m\u001b[38;5;241;43m=\u001b[39;49m\u001b[43mautograph_options\u001b[49m\u001b[43m,\u001b[49m\n\u001b[0;32m     48\u001b[0m \u001b[43m          \u001b[49m\u001b[43muser_requested\u001b[49m\u001b[38;5;241;43m=\u001b[39;49m\u001b[38;5;28;43;01mTrue\u001b[39;49;00m\u001b[43m,\u001b[49m\n\u001b[0;32m     49\u001b[0m \u001b[43m      \u001b[49m\u001b[43m)\u001b[49m\u001b[43m)\u001b[49m\n\u001b[0;32m     50\u001b[0m \u001b[38;5;28;01mexcept\u001b[39;00m \u001b[38;5;167;01mException\u001b[39;00m \u001b[38;5;28;01mas\u001b[39;00m e:  \u001b[38;5;66;03m# pylint:disable=broad-except\u001b[39;00m\n\u001b[0;32m     51\u001b[0m   \u001b[38;5;28;01mif\u001b[39;00m \u001b[38;5;28mhasattr\u001b[39m(e, \u001b[38;5;124m\"\u001b[39m\u001b[38;5;124mag_error_metadata\u001b[39m\u001b[38;5;124m\"\u001b[39m):\n",
      "File \u001b[1;32m~\\AppData\\Local\\Programs\\Python\\Python311\\Lib\\site-packages\\tensorflow\\python\\autograph\\impl\\api.py:439\u001b[0m, in \u001b[0;36mconverted_call\u001b[1;34m(f, args, kwargs, caller_fn_scope, options)\u001b[0m\n\u001b[0;32m    437\u001b[0m \u001b[38;5;28;01mtry\u001b[39;00m:\n\u001b[0;32m    438\u001b[0m   \u001b[38;5;28;01mif\u001b[39;00m kwargs \u001b[38;5;129;01mis\u001b[39;00m \u001b[38;5;129;01mnot\u001b[39;00m \u001b[38;5;28;01mNone\u001b[39;00m:\n\u001b[1;32m--> 439\u001b[0m     result \u001b[38;5;241m=\u001b[39m \u001b[43mconverted_f\u001b[49m\u001b[43m(\u001b[49m\u001b[38;5;241;43m*\u001b[39;49m\u001b[43meffective_args\u001b[49m\u001b[43m,\u001b[49m\u001b[43m \u001b[49m\u001b[38;5;241;43m*\u001b[39;49m\u001b[38;5;241;43m*\u001b[39;49m\u001b[43mkwargs\u001b[49m\u001b[43m)\u001b[49m\n\u001b[0;32m    440\u001b[0m   \u001b[38;5;28;01melse\u001b[39;00m:\n\u001b[0;32m    441\u001b[0m     result \u001b[38;5;241m=\u001b[39m converted_f(\u001b[38;5;241m*\u001b[39meffective_args)\n",
      "File \u001b[1;32m~\\AppData\\Local\\Temp\\__autograph_generated_filezz7t5spb.py:15\u001b[0m, in \u001b[0;36mouter_factory.<locals>.inner_factory.<locals>.tf__train_function\u001b[1;34m(iterator)\u001b[0m\n\u001b[0;32m     13\u001b[0m \u001b[38;5;28;01mtry\u001b[39;00m:\n\u001b[0;32m     14\u001b[0m     do_return \u001b[38;5;241m=\u001b[39m \u001b[38;5;28;01mTrue\u001b[39;00m\n\u001b[1;32m---> 15\u001b[0m     retval_ \u001b[38;5;241m=\u001b[39m \u001b[43mag__\u001b[49m\u001b[38;5;241;43m.\u001b[39;49m\u001b[43mconverted_call\u001b[49m\u001b[43m(\u001b[49m\u001b[43mag__\u001b[49m\u001b[38;5;241;43m.\u001b[39;49m\u001b[43mld\u001b[49m\u001b[43m(\u001b[49m\u001b[43mstep_function\u001b[49m\u001b[43m)\u001b[49m\u001b[43m,\u001b[49m\u001b[43m \u001b[49m\u001b[43m(\u001b[49m\u001b[43mag__\u001b[49m\u001b[38;5;241;43m.\u001b[39;49m\u001b[43mld\u001b[49m\u001b[43m(\u001b[49m\u001b[38;5;28;43mself\u001b[39;49m\u001b[43m)\u001b[49m\u001b[43m,\u001b[49m\u001b[43m \u001b[49m\u001b[43mag__\u001b[49m\u001b[38;5;241;43m.\u001b[39;49m\u001b[43mld\u001b[49m\u001b[43m(\u001b[49m\u001b[43miterator\u001b[49m\u001b[43m)\u001b[49m\u001b[43m)\u001b[49m\u001b[43m,\u001b[49m\u001b[43m \u001b[49m\u001b[38;5;28;43;01mNone\u001b[39;49;00m\u001b[43m,\u001b[49m\u001b[43m \u001b[49m\u001b[43mfscope\u001b[49m\u001b[43m)\u001b[49m\n\u001b[0;32m     16\u001b[0m \u001b[38;5;28;01mexcept\u001b[39;00m:\n\u001b[0;32m     17\u001b[0m     do_return \u001b[38;5;241m=\u001b[39m \u001b[38;5;28;01mFalse\u001b[39;00m\n",
      "File \u001b[1;32m~\\AppData\\Local\\Programs\\Python\\Python311\\Lib\\site-packages\\tensorflow\\python\\autograph\\impl\\api.py:377\u001b[0m, in \u001b[0;36mconverted_call\u001b[1;34m(f, args, kwargs, caller_fn_scope, options)\u001b[0m\n\u001b[0;32m    374\u001b[0m   \u001b[38;5;28;01mreturn\u001b[39;00m _call_unconverted(f, args, kwargs, options)\n\u001b[0;32m    376\u001b[0m \u001b[38;5;28;01mif\u001b[39;00m \u001b[38;5;129;01mnot\u001b[39;00m options\u001b[38;5;241m.\u001b[39muser_requested \u001b[38;5;129;01mand\u001b[39;00m conversion\u001b[38;5;241m.\u001b[39mis_allowlisted(f):\n\u001b[1;32m--> 377\u001b[0m   \u001b[38;5;28;01mreturn\u001b[39;00m \u001b[43m_call_unconverted\u001b[49m\u001b[43m(\u001b[49m\u001b[43mf\u001b[49m\u001b[43m,\u001b[49m\u001b[43m \u001b[49m\u001b[43margs\u001b[49m\u001b[43m,\u001b[49m\u001b[43m \u001b[49m\u001b[43mkwargs\u001b[49m\u001b[43m,\u001b[49m\u001b[43m \u001b[49m\u001b[43moptions\u001b[49m\u001b[43m)\u001b[49m\n\u001b[0;32m    379\u001b[0m \u001b[38;5;66;03m# internal_convert_user_code is for example turned off when issuing a dynamic\u001b[39;00m\n\u001b[0;32m    380\u001b[0m \u001b[38;5;66;03m# call conversion from generated code while in nonrecursive mode. In that\u001b[39;00m\n\u001b[0;32m    381\u001b[0m \u001b[38;5;66;03m# case we evidently don't want to recurse, but we still have to convert\u001b[39;00m\n\u001b[0;32m    382\u001b[0m \u001b[38;5;66;03m# things like builtins.\u001b[39;00m\n\u001b[0;32m    383\u001b[0m \u001b[38;5;28;01mif\u001b[39;00m \u001b[38;5;129;01mnot\u001b[39;00m options\u001b[38;5;241m.\u001b[39minternal_convert_user_code:\n",
      "File \u001b[1;32m~\\AppData\\Local\\Programs\\Python\\Python311\\Lib\\site-packages\\tensorflow\\python\\autograph\\impl\\api.py:460\u001b[0m, in \u001b[0;36m_call_unconverted\u001b[1;34m(f, args, kwargs, options, update_cache)\u001b[0m\n\u001b[0;32m    458\u001b[0m \u001b[38;5;28;01mif\u001b[39;00m kwargs \u001b[38;5;129;01mis\u001b[39;00m \u001b[38;5;129;01mnot\u001b[39;00m \u001b[38;5;28;01mNone\u001b[39;00m:\n\u001b[0;32m    459\u001b[0m   \u001b[38;5;28;01mreturn\u001b[39;00m f(\u001b[38;5;241m*\u001b[39margs, \u001b[38;5;241m*\u001b[39m\u001b[38;5;241m*\u001b[39mkwargs)\n\u001b[1;32m--> 460\u001b[0m \u001b[38;5;28;01mreturn\u001b[39;00m \u001b[43mf\u001b[49m\u001b[43m(\u001b[49m\u001b[38;5;241;43m*\u001b[39;49m\u001b[43margs\u001b[49m\u001b[43m)\u001b[49m\n",
      "File \u001b[1;32m~\\AppData\\Local\\Programs\\Python\\Python311\\Lib\\site-packages\\keras\\src\\engine\\training.py:1384\u001b[0m, in \u001b[0;36mModel.make_train_function.<locals>.step_function\u001b[1;34m(model, iterator)\u001b[0m\n\u001b[0;32m   1380\u001b[0m     run_step \u001b[38;5;241m=\u001b[39m tf\u001b[38;5;241m.\u001b[39mfunction(\n\u001b[0;32m   1381\u001b[0m         run_step, jit_compile\u001b[38;5;241m=\u001b[39m\u001b[38;5;28;01mTrue\u001b[39;00m, reduce_retracing\u001b[38;5;241m=\u001b[39m\u001b[38;5;28;01mTrue\u001b[39;00m\n\u001b[0;32m   1382\u001b[0m     )\n\u001b[0;32m   1383\u001b[0m data \u001b[38;5;241m=\u001b[39m \u001b[38;5;28mnext\u001b[39m(iterator)\n\u001b[1;32m-> 1384\u001b[0m outputs \u001b[38;5;241m=\u001b[39m \u001b[43mmodel\u001b[49m\u001b[38;5;241;43m.\u001b[39;49m\u001b[43mdistribute_strategy\u001b[49m\u001b[38;5;241;43m.\u001b[39;49m\u001b[43mrun\u001b[49m\u001b[43m(\u001b[49m\u001b[43mrun_step\u001b[49m\u001b[43m,\u001b[49m\u001b[43m \u001b[49m\u001b[43margs\u001b[49m\u001b[38;5;241;43m=\u001b[39;49m\u001b[43m(\u001b[49m\u001b[43mdata\u001b[49m\u001b[43m,\u001b[49m\u001b[43m)\u001b[49m\u001b[43m)\u001b[49m\n\u001b[0;32m   1385\u001b[0m outputs \u001b[38;5;241m=\u001b[39m reduce_per_replica(\n\u001b[0;32m   1386\u001b[0m     outputs,\n\u001b[0;32m   1387\u001b[0m     \u001b[38;5;28mself\u001b[39m\u001b[38;5;241m.\u001b[39mdistribute_strategy,\n\u001b[0;32m   1388\u001b[0m     reduction\u001b[38;5;241m=\u001b[39m\u001b[38;5;28mself\u001b[39m\u001b[38;5;241m.\u001b[39mdistribute_reduction_method,\n\u001b[0;32m   1389\u001b[0m )\n\u001b[0;32m   1390\u001b[0m \u001b[38;5;28;01mreturn\u001b[39;00m outputs\n",
      "File \u001b[1;32m~\\AppData\\Local\\Programs\\Python\\Python311\\Lib\\site-packages\\tensorflow\\python\\distribute\\distribute_lib.py:1681\u001b[0m, in \u001b[0;36mStrategyBase.run\u001b[1;34m(***failed resolving arguments***)\u001b[0m\n\u001b[0;32m   1676\u001b[0m \u001b[38;5;28;01mwith\u001b[39;00m \u001b[38;5;28mself\u001b[39m\u001b[38;5;241m.\u001b[39mscope():\n\u001b[0;32m   1677\u001b[0m   \u001b[38;5;66;03m# tf.distribute supports Eager functions, so AutoGraph should not be\u001b[39;00m\n\u001b[0;32m   1678\u001b[0m   \u001b[38;5;66;03m# applied when the caller is also in Eager mode.\u001b[39;00m\n\u001b[0;32m   1679\u001b[0m   fn \u001b[38;5;241m=\u001b[39m autograph\u001b[38;5;241m.\u001b[39mtf_convert(\n\u001b[0;32m   1680\u001b[0m       fn, autograph_ctx\u001b[38;5;241m.\u001b[39mcontrol_status_ctx(), convert_by_default\u001b[38;5;241m=\u001b[39m\u001b[38;5;28;01mFalse\u001b[39;00m)\n\u001b[1;32m-> 1681\u001b[0m   \u001b[38;5;28;01mreturn\u001b[39;00m \u001b[38;5;28;43mself\u001b[39;49m\u001b[38;5;241;43m.\u001b[39;49m\u001b[43m_extended\u001b[49m\u001b[38;5;241;43m.\u001b[39;49m\u001b[43mcall_for_each_replica\u001b[49m\u001b[43m(\u001b[49m\u001b[43mfn\u001b[49m\u001b[43m,\u001b[49m\u001b[43m \u001b[49m\u001b[43margs\u001b[49m\u001b[38;5;241;43m=\u001b[39;49m\u001b[43margs\u001b[49m\u001b[43m,\u001b[49m\u001b[43m \u001b[49m\u001b[43mkwargs\u001b[49m\u001b[38;5;241;43m=\u001b[39;49m\u001b[43mkwargs\u001b[49m\u001b[43m)\u001b[49m\n",
      "File \u001b[1;32m~\\AppData\\Local\\Programs\\Python\\Python311\\Lib\\site-packages\\tensorflow\\python\\distribute\\distribute_lib.py:3271\u001b[0m, in \u001b[0;36mStrategyExtendedV1.call_for_each_replica\u001b[1;34m(self, fn, args, kwargs)\u001b[0m\n\u001b[0;32m   3269\u001b[0m   kwargs \u001b[38;5;241m=\u001b[39m {}\n\u001b[0;32m   3270\u001b[0m \u001b[38;5;28;01mwith\u001b[39;00m \u001b[38;5;28mself\u001b[39m\u001b[38;5;241m.\u001b[39m_container_strategy()\u001b[38;5;241m.\u001b[39mscope():\n\u001b[1;32m-> 3271\u001b[0m   \u001b[38;5;28;01mreturn\u001b[39;00m \u001b[38;5;28;43mself\u001b[39;49m\u001b[38;5;241;43m.\u001b[39;49m\u001b[43m_call_for_each_replica\u001b[49m\u001b[43m(\u001b[49m\u001b[43mfn\u001b[49m\u001b[43m,\u001b[49m\u001b[43m \u001b[49m\u001b[43margs\u001b[49m\u001b[43m,\u001b[49m\u001b[43m \u001b[49m\u001b[43mkwargs\u001b[49m\u001b[43m)\u001b[49m\n",
      "File \u001b[1;32m~\\AppData\\Local\\Programs\\Python\\Python311\\Lib\\site-packages\\tensorflow\\python\\distribute\\distribute_lib.py:4069\u001b[0m, in \u001b[0;36m_DefaultDistributionExtended._call_for_each_replica\u001b[1;34m(self, fn, args, kwargs)\u001b[0m\n\u001b[0;32m   4067\u001b[0m \u001b[38;5;28;01mdef\u001b[39;00m\u001b[38;5;250m \u001b[39m\u001b[38;5;21m_call_for_each_replica\u001b[39m(\u001b[38;5;28mself\u001b[39m, fn, args, kwargs):\n\u001b[0;32m   4068\u001b[0m   \u001b[38;5;28;01mwith\u001b[39;00m ReplicaContext(\u001b[38;5;28mself\u001b[39m\u001b[38;5;241m.\u001b[39m_container_strategy(), replica_id_in_sync_group\u001b[38;5;241m=\u001b[39m\u001b[38;5;241m0\u001b[39m):\n\u001b[1;32m-> 4069\u001b[0m     \u001b[38;5;28;01mreturn\u001b[39;00m \u001b[43mfn\u001b[49m\u001b[43m(\u001b[49m\u001b[38;5;241;43m*\u001b[39;49m\u001b[43margs\u001b[49m\u001b[43m,\u001b[49m\u001b[43m \u001b[49m\u001b[38;5;241;43m*\u001b[39;49m\u001b[38;5;241;43m*\u001b[39;49m\u001b[43mkwargs\u001b[49m\u001b[43m)\u001b[49m\n",
      "File \u001b[1;32m~\\AppData\\Local\\Programs\\Python\\Python311\\Lib\\site-packages\\tensorflow\\python\\autograph\\impl\\api.py:690\u001b[0m, in \u001b[0;36mconvert.<locals>.decorator.<locals>.wrapper\u001b[1;34m(*args, **kwargs)\u001b[0m\n\u001b[0;32m    688\u001b[0m \u001b[38;5;28;01mtry\u001b[39;00m:\n\u001b[0;32m    689\u001b[0m   \u001b[38;5;28;01mwith\u001b[39;00m conversion_ctx:\n\u001b[1;32m--> 690\u001b[0m     \u001b[38;5;28;01mreturn\u001b[39;00m \u001b[43mconverted_call\u001b[49m\u001b[43m(\u001b[49m\u001b[43mf\u001b[49m\u001b[43m,\u001b[49m\u001b[43m \u001b[49m\u001b[43margs\u001b[49m\u001b[43m,\u001b[49m\u001b[43m \u001b[49m\u001b[43mkwargs\u001b[49m\u001b[43m,\u001b[49m\u001b[43m \u001b[49m\u001b[43moptions\u001b[49m\u001b[38;5;241;43m=\u001b[39;49m\u001b[43moptions\u001b[49m\u001b[43m)\u001b[49m\n\u001b[0;32m    691\u001b[0m \u001b[38;5;28;01mexcept\u001b[39;00m \u001b[38;5;167;01mException\u001b[39;00m \u001b[38;5;28;01mas\u001b[39;00m e:  \u001b[38;5;66;03m# pylint:disable=broad-except\u001b[39;00m\n\u001b[0;32m    692\u001b[0m   \u001b[38;5;28;01mif\u001b[39;00m \u001b[38;5;28mhasattr\u001b[39m(e, \u001b[38;5;124m'\u001b[39m\u001b[38;5;124mag_error_metadata\u001b[39m\u001b[38;5;124m'\u001b[39m):\n",
      "File \u001b[1;32m~\\AppData\\Local\\Programs\\Python\\Python311\\Lib\\site-packages\\tensorflow\\python\\autograph\\impl\\api.py:377\u001b[0m, in \u001b[0;36mconverted_call\u001b[1;34m(f, args, kwargs, caller_fn_scope, options)\u001b[0m\n\u001b[0;32m    374\u001b[0m   \u001b[38;5;28;01mreturn\u001b[39;00m _call_unconverted(f, args, kwargs, options)\n\u001b[0;32m    376\u001b[0m \u001b[38;5;28;01mif\u001b[39;00m \u001b[38;5;129;01mnot\u001b[39;00m options\u001b[38;5;241m.\u001b[39muser_requested \u001b[38;5;129;01mand\u001b[39;00m conversion\u001b[38;5;241m.\u001b[39mis_allowlisted(f):\n\u001b[1;32m--> 377\u001b[0m   \u001b[38;5;28;01mreturn\u001b[39;00m \u001b[43m_call_unconverted\u001b[49m\u001b[43m(\u001b[49m\u001b[43mf\u001b[49m\u001b[43m,\u001b[49m\u001b[43m \u001b[49m\u001b[43margs\u001b[49m\u001b[43m,\u001b[49m\u001b[43m \u001b[49m\u001b[43mkwargs\u001b[49m\u001b[43m,\u001b[49m\u001b[43m \u001b[49m\u001b[43moptions\u001b[49m\u001b[43m)\u001b[49m\n\u001b[0;32m    379\u001b[0m \u001b[38;5;66;03m# internal_convert_user_code is for example turned off when issuing a dynamic\u001b[39;00m\n\u001b[0;32m    380\u001b[0m \u001b[38;5;66;03m# call conversion from generated code while in nonrecursive mode. In that\u001b[39;00m\n\u001b[0;32m    381\u001b[0m \u001b[38;5;66;03m# case we evidently don't want to recurse, but we still have to convert\u001b[39;00m\n\u001b[0;32m    382\u001b[0m \u001b[38;5;66;03m# things like builtins.\u001b[39;00m\n\u001b[0;32m    383\u001b[0m \u001b[38;5;28;01mif\u001b[39;00m \u001b[38;5;129;01mnot\u001b[39;00m options\u001b[38;5;241m.\u001b[39minternal_convert_user_code:\n",
      "File \u001b[1;32m~\\AppData\\Local\\Programs\\Python\\Python311\\Lib\\site-packages\\tensorflow\\python\\autograph\\impl\\api.py:459\u001b[0m, in \u001b[0;36m_call_unconverted\u001b[1;34m(f, args, kwargs, options, update_cache)\u001b[0m\n\u001b[0;32m    456\u001b[0m   \u001b[38;5;28;01mreturn\u001b[39;00m f\u001b[38;5;241m.\u001b[39m\u001b[38;5;18m__self__\u001b[39m\u001b[38;5;241m.\u001b[39mcall(args, kwargs)\n\u001b[0;32m    458\u001b[0m \u001b[38;5;28;01mif\u001b[39;00m kwargs \u001b[38;5;129;01mis\u001b[39;00m \u001b[38;5;129;01mnot\u001b[39;00m \u001b[38;5;28;01mNone\u001b[39;00m:\n\u001b[1;32m--> 459\u001b[0m   \u001b[38;5;28;01mreturn\u001b[39;00m \u001b[43mf\u001b[49m\u001b[43m(\u001b[49m\u001b[38;5;241;43m*\u001b[39;49m\u001b[43margs\u001b[49m\u001b[43m,\u001b[49m\u001b[43m \u001b[49m\u001b[38;5;241;43m*\u001b[39;49m\u001b[38;5;241;43m*\u001b[39;49m\u001b[43mkwargs\u001b[49m\u001b[43m)\u001b[49m\n\u001b[0;32m    460\u001b[0m \u001b[38;5;28;01mreturn\u001b[39;00m f(\u001b[38;5;241m*\u001b[39margs)\n",
      "File \u001b[1;32m~\\AppData\\Local\\Programs\\Python\\Python311\\Lib\\site-packages\\keras\\src\\engine\\training.py:1373\u001b[0m, in \u001b[0;36mModel.make_train_function.<locals>.step_function.<locals>.run_step\u001b[1;34m(data)\u001b[0m\n\u001b[0;32m   1372\u001b[0m \u001b[38;5;28;01mdef\u001b[39;00m\u001b[38;5;250m \u001b[39m\u001b[38;5;21mrun_step\u001b[39m(data):\n\u001b[1;32m-> 1373\u001b[0m     outputs \u001b[38;5;241m=\u001b[39m \u001b[43mmodel\u001b[49m\u001b[38;5;241;43m.\u001b[39;49m\u001b[43mtrain_step\u001b[49m\u001b[43m(\u001b[49m\u001b[43mdata\u001b[49m\u001b[43m)\u001b[49m\n\u001b[0;32m   1374\u001b[0m     \u001b[38;5;66;03m# Ensure counter is updated only if `train_step` succeeds.\u001b[39;00m\n\u001b[0;32m   1375\u001b[0m     \u001b[38;5;28;01mwith\u001b[39;00m tf\u001b[38;5;241m.\u001b[39mcontrol_dependencies(_minimum_control_deps(outputs)):\n",
      "File \u001b[1;32m~\\AppData\\Local\\Programs\\Python\\Python311\\Lib\\site-packages\\keras\\src\\engine\\training.py:1154\u001b[0m, in \u001b[0;36mModel.train_step\u001b[1;34m(self, data)\u001b[0m\n\u001b[0;32m   1152\u001b[0m \u001b[38;5;28mself\u001b[39m\u001b[38;5;241m.\u001b[39m_validate_target_and_loss(y, loss)\n\u001b[0;32m   1153\u001b[0m \u001b[38;5;66;03m# Run backwards pass.\u001b[39;00m\n\u001b[1;32m-> 1154\u001b[0m \u001b[38;5;28;43mself\u001b[39;49m\u001b[38;5;241;43m.\u001b[39;49m\u001b[43moptimizer\u001b[49m\u001b[38;5;241;43m.\u001b[39;49m\u001b[43mminimize\u001b[49m\u001b[43m(\u001b[49m\u001b[43mloss\u001b[49m\u001b[43m,\u001b[49m\u001b[43m \u001b[49m\u001b[38;5;28;43mself\u001b[39;49m\u001b[38;5;241;43m.\u001b[39;49m\u001b[43mtrainable_variables\u001b[49m\u001b[43m,\u001b[49m\u001b[43m \u001b[49m\u001b[43mtape\u001b[49m\u001b[38;5;241;43m=\u001b[39;49m\u001b[43mtape\u001b[49m\u001b[43m)\u001b[49m\n\u001b[0;32m   1155\u001b[0m \u001b[38;5;28;01mreturn\u001b[39;00m \u001b[38;5;28mself\u001b[39m\u001b[38;5;241m.\u001b[39mcompute_metrics(x, y, y_pred, sample_weight)\n",
      "File \u001b[1;32m~\\AppData\\Local\\Programs\\Python\\Python311\\Lib\\site-packages\\keras\\src\\optimizers\\legacy\\optimizer_v2.py:598\u001b[0m, in \u001b[0;36mOptimizerV2.minimize\u001b[1;34m(self, loss, var_list, grad_loss, name, tape)\u001b[0m\n\u001b[0;32m    567\u001b[0m \u001b[38;5;28;01mdef\u001b[39;00m\u001b[38;5;250m \u001b[39m\u001b[38;5;21mminimize\u001b[39m(\u001b[38;5;28mself\u001b[39m, loss, var_list, grad_loss\u001b[38;5;241m=\u001b[39m\u001b[38;5;28;01mNone\u001b[39;00m, name\u001b[38;5;241m=\u001b[39m\u001b[38;5;28;01mNone\u001b[39;00m, tape\u001b[38;5;241m=\u001b[39m\u001b[38;5;28;01mNone\u001b[39;00m):\n\u001b[0;32m    568\u001b[0m \u001b[38;5;250m    \u001b[39m\u001b[38;5;124;03m\"\"\"Minimize `loss` by updating `var_list`.\u001b[39;00m\n\u001b[0;32m    569\u001b[0m \n\u001b[0;32m    570\u001b[0m \u001b[38;5;124;03m    This method simply computes gradient using `tf.GradientTape` and calls\u001b[39;00m\n\u001b[1;32m   (...)\u001b[0m\n\u001b[0;32m    596\u001b[0m \n\u001b[0;32m    597\u001b[0m \u001b[38;5;124;03m    \"\"\"\u001b[39;00m\n\u001b[1;32m--> 598\u001b[0m     grads_and_vars \u001b[38;5;241m=\u001b[39m \u001b[38;5;28;43mself\u001b[39;49m\u001b[38;5;241;43m.\u001b[39;49m\u001b[43m_compute_gradients\u001b[49m\u001b[43m(\u001b[49m\n\u001b[0;32m    599\u001b[0m \u001b[43m        \u001b[49m\u001b[43mloss\u001b[49m\u001b[43m,\u001b[49m\u001b[43m \u001b[49m\u001b[43mvar_list\u001b[49m\u001b[38;5;241;43m=\u001b[39;49m\u001b[43mvar_list\u001b[49m\u001b[43m,\u001b[49m\u001b[43m \u001b[49m\u001b[43mgrad_loss\u001b[49m\u001b[38;5;241;43m=\u001b[39;49m\u001b[43mgrad_loss\u001b[49m\u001b[43m,\u001b[49m\u001b[43m \u001b[49m\u001b[43mtape\u001b[49m\u001b[38;5;241;43m=\u001b[39;49m\u001b[43mtape\u001b[49m\n\u001b[0;32m    600\u001b[0m \u001b[43m    \u001b[49m\u001b[43m)\u001b[49m\n\u001b[0;32m    601\u001b[0m     \u001b[38;5;28;01mreturn\u001b[39;00m \u001b[38;5;28mself\u001b[39m\u001b[38;5;241m.\u001b[39mapply_gradients(grads_and_vars, name\u001b[38;5;241m=\u001b[39mname)\n",
      "File \u001b[1;32m~\\AppData\\Local\\Programs\\Python\\Python311\\Lib\\site-packages\\keras\\src\\optimizers\\legacy\\optimizer_v2.py:656\u001b[0m, in \u001b[0;36mOptimizerV2._compute_gradients\u001b[1;34m(self, loss, var_list, grad_loss, tape)\u001b[0m\n\u001b[0;32m    654\u001b[0m var_list \u001b[38;5;241m=\u001b[39m tf\u001b[38;5;241m.\u001b[39mnest\u001b[38;5;241m.\u001b[39mflatten(var_list)\n\u001b[0;32m    655\u001b[0m \u001b[38;5;28;01mwith\u001b[39;00m tf\u001b[38;5;241m.\u001b[39mname_scope(\u001b[38;5;28mself\u001b[39m\u001b[38;5;241m.\u001b[39m_name \u001b[38;5;241m+\u001b[39m \u001b[38;5;124m\"\u001b[39m\u001b[38;5;124m/gradients\u001b[39m\u001b[38;5;124m\"\u001b[39m):\n\u001b[1;32m--> 656\u001b[0m     grads_and_vars \u001b[38;5;241m=\u001b[39m \u001b[38;5;28;43mself\u001b[39;49m\u001b[38;5;241;43m.\u001b[39;49m\u001b[43m_get_gradients\u001b[49m\u001b[43m(\u001b[49m\n\u001b[0;32m    657\u001b[0m \u001b[43m        \u001b[49m\u001b[43mtape\u001b[49m\u001b[43m,\u001b[49m\u001b[43m \u001b[49m\u001b[43mloss\u001b[49m\u001b[43m,\u001b[49m\u001b[43m \u001b[49m\u001b[43mvar_list\u001b[49m\u001b[43m,\u001b[49m\u001b[43m \u001b[49m\u001b[43mgrad_loss\u001b[49m\n\u001b[0;32m    658\u001b[0m \u001b[43m    \u001b[49m\u001b[43m)\u001b[49m\n\u001b[0;32m    660\u001b[0m \u001b[38;5;28mself\u001b[39m\u001b[38;5;241m.\u001b[39m_assert_valid_dtypes(\n\u001b[0;32m    661\u001b[0m     [\n\u001b[0;32m    662\u001b[0m         v\n\u001b[1;32m   (...)\u001b[0m\n\u001b[0;32m    665\u001b[0m     ]\n\u001b[0;32m    666\u001b[0m )\n\u001b[0;32m    668\u001b[0m \u001b[38;5;28;01mreturn\u001b[39;00m grads_and_vars\n",
      "File \u001b[1;32m~\\AppData\\Local\\Programs\\Python\\Python311\\Lib\\site-packages\\keras\\src\\optimizers\\legacy\\optimizer_v2.py:532\u001b[0m, in \u001b[0;36mOptimizerV2._get_gradients\u001b[1;34m(self, tape, loss, var_list, grad_loss)\u001b[0m\n\u001b[0;32m    530\u001b[0m \u001b[38;5;28;01mdef\u001b[39;00m\u001b[38;5;250m \u001b[39m\u001b[38;5;21m_get_gradients\u001b[39m(\u001b[38;5;28mself\u001b[39m, tape, loss, var_list, grad_loss\u001b[38;5;241m=\u001b[39m\u001b[38;5;28;01mNone\u001b[39;00m):\n\u001b[0;32m    531\u001b[0m \u001b[38;5;250m    \u001b[39m\u001b[38;5;124;03m\"\"\"Called in `minimize` to compute gradients from loss.\"\"\"\u001b[39;00m\n\u001b[1;32m--> 532\u001b[0m     grads \u001b[38;5;241m=\u001b[39m \u001b[43mtape\u001b[49m\u001b[38;5;241;43m.\u001b[39;49m\u001b[43mgradient\u001b[49m\u001b[43m(\u001b[49m\u001b[43mloss\u001b[49m\u001b[43m,\u001b[49m\u001b[43m \u001b[49m\u001b[43mvar_list\u001b[49m\u001b[43m,\u001b[49m\u001b[43m \u001b[49m\u001b[43mgrad_loss\u001b[49m\u001b[43m)\u001b[49m\n\u001b[0;32m    533\u001b[0m     \u001b[38;5;28;01mreturn\u001b[39;00m \u001b[38;5;28mlist\u001b[39m(\u001b[38;5;28mzip\u001b[39m(grads, var_list))\n",
      "File \u001b[1;32m~\\AppData\\Local\\Programs\\Python\\Python311\\Lib\\site-packages\\tensorflow\\python\\eager\\backprop.py:1066\u001b[0m, in \u001b[0;36mGradientTape.gradient\u001b[1;34m(self, target, sources, output_gradients, unconnected_gradients)\u001b[0m\n\u001b[0;32m   1060\u001b[0m   output_gradients \u001b[38;5;241m=\u001b[39m (\n\u001b[0;32m   1061\u001b[0m       composite_tensor_gradient\u001b[38;5;241m.\u001b[39mget_flat_tensors_for_gradients(\n\u001b[0;32m   1062\u001b[0m           output_gradients))\n\u001b[0;32m   1063\u001b[0m   output_gradients \u001b[38;5;241m=\u001b[39m [\u001b[38;5;28;01mNone\u001b[39;00m \u001b[38;5;28;01mif\u001b[39;00m x \u001b[38;5;129;01mis\u001b[39;00m \u001b[38;5;28;01mNone\u001b[39;00m \u001b[38;5;28;01melse\u001b[39;00m ops\u001b[38;5;241m.\u001b[39mconvert_to_tensor(x)\n\u001b[0;32m   1064\u001b[0m                       \u001b[38;5;28;01mfor\u001b[39;00m x \u001b[38;5;129;01min\u001b[39;00m output_gradients]\n\u001b[1;32m-> 1066\u001b[0m flat_grad \u001b[38;5;241m=\u001b[39m \u001b[43mimperative_grad\u001b[49m\u001b[38;5;241;43m.\u001b[39;49m\u001b[43mimperative_grad\u001b[49m\u001b[43m(\u001b[49m\n\u001b[0;32m   1067\u001b[0m \u001b[43m    \u001b[49m\u001b[38;5;28;43mself\u001b[39;49m\u001b[38;5;241;43m.\u001b[39;49m\u001b[43m_tape\u001b[49m\u001b[43m,\u001b[49m\n\u001b[0;32m   1068\u001b[0m \u001b[43m    \u001b[49m\u001b[43mflat_targets\u001b[49m\u001b[43m,\u001b[49m\n\u001b[0;32m   1069\u001b[0m \u001b[43m    \u001b[49m\u001b[43mflat_sources\u001b[49m\u001b[43m,\u001b[49m\n\u001b[0;32m   1070\u001b[0m \u001b[43m    \u001b[49m\u001b[43moutput_gradients\u001b[49m\u001b[38;5;241;43m=\u001b[39;49m\u001b[43moutput_gradients\u001b[49m\u001b[43m,\u001b[49m\n\u001b[0;32m   1071\u001b[0m \u001b[43m    \u001b[49m\u001b[43msources_raw\u001b[49m\u001b[38;5;241;43m=\u001b[39;49m\u001b[43mflat_sources_raw\u001b[49m\u001b[43m,\u001b[49m\n\u001b[0;32m   1072\u001b[0m \u001b[43m    \u001b[49m\u001b[43munconnected_gradients\u001b[49m\u001b[38;5;241;43m=\u001b[39;49m\u001b[43munconnected_gradients\u001b[49m\u001b[43m)\u001b[49m\n\u001b[0;32m   1074\u001b[0m \u001b[38;5;28;01mif\u001b[39;00m \u001b[38;5;129;01mnot\u001b[39;00m \u001b[38;5;28mself\u001b[39m\u001b[38;5;241m.\u001b[39m_persistent:\n\u001b[0;32m   1075\u001b[0m   \u001b[38;5;66;03m# Keep track of watched variables before setting tape to None\u001b[39;00m\n\u001b[0;32m   1076\u001b[0m   \u001b[38;5;28mself\u001b[39m\u001b[38;5;241m.\u001b[39m_watched_variables \u001b[38;5;241m=\u001b[39m \u001b[38;5;28mself\u001b[39m\u001b[38;5;241m.\u001b[39m_tape\u001b[38;5;241m.\u001b[39mwatched_variables()\n",
      "File \u001b[1;32m~\\AppData\\Local\\Programs\\Python\\Python311\\Lib\\site-packages\\tensorflow\\python\\eager\\imperative_grad.py:67\u001b[0m, in \u001b[0;36mimperative_grad\u001b[1;34m(tape, target, sources, output_gradients, sources_raw, unconnected_gradients)\u001b[0m\n\u001b[0;32m     63\u001b[0m \u001b[38;5;28;01mexcept\u001b[39;00m \u001b[38;5;167;01mValueError\u001b[39;00m:\n\u001b[0;32m     64\u001b[0m   \u001b[38;5;28;01mraise\u001b[39;00m \u001b[38;5;167;01mValueError\u001b[39;00m(\n\u001b[0;32m     65\u001b[0m       \u001b[38;5;124m\"\u001b[39m\u001b[38;5;124mUnknown value for unconnected_gradients: \u001b[39m\u001b[38;5;132;01m%r\u001b[39;00m\u001b[38;5;124m\"\u001b[39m \u001b[38;5;241m%\u001b[39m unconnected_gradients)\n\u001b[1;32m---> 67\u001b[0m \u001b[38;5;28;01mreturn\u001b[39;00m \u001b[43mpywrap_tfe\u001b[49m\u001b[38;5;241;43m.\u001b[39;49m\u001b[43mTFE_Py_TapeGradient\u001b[49m\u001b[43m(\u001b[49m\n\u001b[0;32m     68\u001b[0m \u001b[43m    \u001b[49m\u001b[43mtape\u001b[49m\u001b[38;5;241;43m.\u001b[39;49m\u001b[43m_tape\u001b[49m\u001b[43m,\u001b[49m\u001b[43m  \u001b[49m\u001b[38;5;66;43;03m# pylint: disable=protected-access\u001b[39;49;00m\n\u001b[0;32m     69\u001b[0m \u001b[43m    \u001b[49m\u001b[43mtarget\u001b[49m\u001b[43m,\u001b[49m\n\u001b[0;32m     70\u001b[0m \u001b[43m    \u001b[49m\u001b[43msources\u001b[49m\u001b[43m,\u001b[49m\n\u001b[0;32m     71\u001b[0m \u001b[43m    \u001b[49m\u001b[43moutput_gradients\u001b[49m\u001b[43m,\u001b[49m\n\u001b[0;32m     72\u001b[0m \u001b[43m    \u001b[49m\u001b[43msources_raw\u001b[49m\u001b[43m,\u001b[49m\n\u001b[0;32m     73\u001b[0m \u001b[43m    \u001b[49m\u001b[43mcompat\u001b[49m\u001b[38;5;241;43m.\u001b[39;49m\u001b[43mas_str\u001b[49m\u001b[43m(\u001b[49m\u001b[43munconnected_gradients\u001b[49m\u001b[38;5;241;43m.\u001b[39;49m\u001b[43mvalue\u001b[49m\u001b[43m)\u001b[49m\u001b[43m)\u001b[49m\n",
      "File \u001b[1;32m~\\AppData\\Local\\Programs\\Python\\Python311\\Lib\\site-packages\\tensorflow\\python\\eager\\polymorphic_function\\concrete_function.py:311\u001b[0m, in \u001b[0;36m_DelayedRewriteGradientFunctions._backward.<locals>._backward_function\u001b[1;34m(*args)\u001b[0m\n\u001b[0;32m    309\u001b[0m \u001b[38;5;28;01mdef\u001b[39;00m\u001b[38;5;250m \u001b[39m\u001b[38;5;21m_backward_function\u001b[39m(\u001b[38;5;241m*\u001b[39margs):\n\u001b[0;32m    310\u001b[0m   call_op \u001b[38;5;241m=\u001b[39m outputs[\u001b[38;5;241m0\u001b[39m]\u001b[38;5;241m.\u001b[39mop\n\u001b[1;32m--> 311\u001b[0m   \u001b[38;5;28;01mreturn\u001b[39;00m \u001b[38;5;28;43mself\u001b[39;49m\u001b[38;5;241;43m.\u001b[39;49m\u001b[43m_rewrite_forward_and_call_backward\u001b[49m\u001b[43m(\u001b[49m\u001b[43mcall_op\u001b[49m\u001b[43m,\u001b[49m\u001b[43m \u001b[49m\u001b[38;5;241;43m*\u001b[39;49m\u001b[43margs\u001b[49m\u001b[43m)\u001b[49m\n",
      "File \u001b[1;32m~\\AppData\\Local\\Programs\\Python\\Python311\\Lib\\site-packages\\tensorflow\\python\\eager\\polymorphic_function\\concrete_function.py:212\u001b[0m, in \u001b[0;36m_DelayedRewriteGradientFunctions._rewrite_forward_and_call_backward\u001b[1;34m(self, op, *doutputs)\u001b[0m\n\u001b[0;32m    210\u001b[0m \u001b[38;5;28;01mdef\u001b[39;00m\u001b[38;5;250m \u001b[39m\u001b[38;5;21m_rewrite_forward_and_call_backward\u001b[39m(\u001b[38;5;28mself\u001b[39m, op: ops\u001b[38;5;241m.\u001b[39mOperation, \u001b[38;5;241m*\u001b[39mdoutputs):\n\u001b[0;32m    211\u001b[0m \u001b[38;5;250m  \u001b[39m\u001b[38;5;124;03m\"\"\"Add outputs to the forward call and feed them to the grad function.\"\"\"\u001b[39;00m\n\u001b[1;32m--> 212\u001b[0m   forward_function, backwards_function \u001b[38;5;241m=\u001b[39m \u001b[38;5;28;43mself\u001b[39;49m\u001b[38;5;241;43m.\u001b[39;49m\u001b[43mforward_backward\u001b[49m\u001b[43m(\u001b[49m\u001b[38;5;28;43mlen\u001b[39;49m\u001b[43m(\u001b[49m\u001b[43mdoutputs\u001b[49m\u001b[43m)\u001b[49m\u001b[43m)\u001b[49m\n\u001b[0;32m    213\u001b[0m   \u001b[38;5;28;01mif\u001b[39;00m \u001b[38;5;129;01mnot\u001b[39;00m backwards_function\u001b[38;5;241m.\u001b[39moutputs:\n\u001b[0;32m    214\u001b[0m     \u001b[38;5;28;01mreturn\u001b[39;00m backwards_function\u001b[38;5;241m.\u001b[39mstructured_outputs\n",
      "File \u001b[1;32m~\\AppData\\Local\\Programs\\Python\\Python311\\Lib\\site-packages\\tensorflow\\python\\eager\\polymorphic_function\\concrete_function.py:145\u001b[0m, in \u001b[0;36m_DelayedRewriteGradientFunctions.forward_backward\u001b[1;34m(self, num_doutputs)\u001b[0m\n\u001b[0;32m    143\u001b[0m \u001b[38;5;28;01mif\u001b[39;00m forward_backward \u001b[38;5;129;01mis\u001b[39;00m \u001b[38;5;129;01mnot\u001b[39;00m \u001b[38;5;28;01mNone\u001b[39;00m:\n\u001b[0;32m    144\u001b[0m   \u001b[38;5;28;01mreturn\u001b[39;00m forward_backward\n\u001b[1;32m--> 145\u001b[0m forward, backward \u001b[38;5;241m=\u001b[39m \u001b[38;5;28;43mself\u001b[39;49m\u001b[38;5;241;43m.\u001b[39;49m\u001b[43m_construct_forward_backward\u001b[49m\u001b[43m(\u001b[49m\u001b[43mnum_doutputs\u001b[49m\u001b[43m)\u001b[49m\n\u001b[0;32m    146\u001b[0m \u001b[38;5;28mself\u001b[39m\u001b[38;5;241m.\u001b[39m_cached_function_pairs[num_doutputs] \u001b[38;5;241m=\u001b[39m (forward, backward)\n\u001b[0;32m    147\u001b[0m \u001b[38;5;28;01mreturn\u001b[39;00m forward, backward\n",
      "File \u001b[1;32m~\\AppData\\Local\\Programs\\Python\\Python311\\Lib\\site-packages\\tensorflow\\python\\eager\\polymorphic_function\\concrete_function.py:188\u001b[0m, in \u001b[0;36m_DelayedRewriteGradientFunctions._construct_forward_backward\u001b[1;34m(self, num_doutputs)\u001b[0m\n\u001b[0;32m    185\u001b[0m \u001b[38;5;28;01mwith\u001b[39;00m \u001b[38;5;28mself\u001b[39m\u001b[38;5;241m.\u001b[39m_func_graph\u001b[38;5;241m.\u001b[39mas_default():\n\u001b[0;32m    186\u001b[0m   backwards_graph \u001b[38;5;241m=\u001b[39m func_graph_module\u001b[38;5;241m.\u001b[39mFuncGraph(\n\u001b[0;32m    187\u001b[0m       _backward_name(\u001b[38;5;28mself\u001b[39m\u001b[38;5;241m.\u001b[39m_func_graph\u001b[38;5;241m.\u001b[39mname))\n\u001b[1;32m--> 188\u001b[0m   \u001b[43mfunc_graph_module\u001b[49m\u001b[38;5;241;43m.\u001b[39;49m\u001b[43mfunc_graph_from_py_func\u001b[49m\u001b[43m(\u001b[49m\n\u001b[0;32m    189\u001b[0m \u001b[43m      \u001b[49m\u001b[43mname\u001b[49m\u001b[38;5;241;43m=\u001b[39;49m\u001b[43mbackwards_graph\u001b[49m\u001b[38;5;241;43m.\u001b[39;49m\u001b[43mname\u001b[49m\u001b[43m,\u001b[49m\n\u001b[0;32m    190\u001b[0m \u001b[43m      \u001b[49m\u001b[43mpython_func\u001b[49m\u001b[38;5;241;43m=\u001b[39;49m\u001b[43m_backprop_function\u001b[49m\u001b[43m,\u001b[49m\n\u001b[0;32m    191\u001b[0m \u001b[43m      \u001b[49m\u001b[43margs\u001b[49m\u001b[38;5;241;43m=\u001b[39;49m\u001b[43m[\u001b[49m\u001b[43m]\u001b[49m\u001b[43m,\u001b[49m\u001b[43m \u001b[49m\u001b[43mkwargs\u001b[49m\u001b[38;5;241;43m=\u001b[39;49m\u001b[43m{\u001b[49m\u001b[43m}\u001b[49m\u001b[43m,\u001b[49m\n\u001b[0;32m    192\u001b[0m \u001b[43m      \u001b[49m\u001b[43msignature\u001b[49m\u001b[38;5;241;43m=\u001b[39;49m\u001b[43msignature\u001b[49m\u001b[43m,\u001b[49m\n\u001b[0;32m    193\u001b[0m \u001b[43m      \u001b[49m\u001b[43mfunc_graph\u001b[49m\u001b[38;5;241;43m=\u001b[39;49m\u001b[43mbackwards_graph\u001b[49m\u001b[43m)\u001b[49m\n\u001b[0;32m    194\u001b[0m   backwards_graph_captures \u001b[38;5;241m=\u001b[39m backwards_graph\u001b[38;5;241m.\u001b[39mexternal_captures\n\u001b[0;32m    195\u001b[0m   captures_from_forward \u001b[38;5;241m=\u001b[39m [\n\u001b[0;32m    196\u001b[0m       c \u001b[38;5;28;01mfor\u001b[39;00m c \u001b[38;5;129;01min\u001b[39;00m backwards_graph_captures \u001b[38;5;28;01mif\u001b[39;00m\n\u001b[0;32m    197\u001b[0m       \u001b[38;5;129;01mnot\u001b[39;00m \u001b[38;5;28misinstance\u001b[39m(c, ops\u001b[38;5;241m.\u001b[39mEagerTensor) \u001b[38;5;129;01mand\u001b[39;00m c\u001b[38;5;241m.\u001b[39mgraph \u001b[38;5;129;01mis\u001b[39;00m \u001b[38;5;28mself\u001b[39m\u001b[38;5;241m.\u001b[39m_func_graph]\n",
      "File \u001b[1;32m~\\AppData\\Local\\Programs\\Python\\Python311\\Lib\\site-packages\\tensorflow\\python\\framework\\func_graph.py:1059\u001b[0m, in \u001b[0;36mfunc_graph_from_py_func\u001b[1;34m(name, python_func, args, kwargs, signature, func_graph, add_control_dependencies, arg_names, op_return_value, collections, capture_by_value, create_placeholders)\u001b[0m\n\u001b[0;32m   1056\u001b[0m   \u001b[38;5;28;01mreturn\u001b[39;00m x\n\u001b[0;32m   1058\u001b[0m _, original_func \u001b[38;5;241m=\u001b[39m tf_decorator\u001b[38;5;241m.\u001b[39munwrap(python_func)\n\u001b[1;32m-> 1059\u001b[0m func_outputs \u001b[38;5;241m=\u001b[39m \u001b[43mpython_func\u001b[49m\u001b[43m(\u001b[49m\u001b[38;5;241;43m*\u001b[39;49m\u001b[43mfunc_args\u001b[49m\u001b[43m,\u001b[49m\u001b[43m \u001b[49m\u001b[38;5;241;43m*\u001b[39;49m\u001b[38;5;241;43m*\u001b[39;49m\u001b[43mfunc_kwargs\u001b[49m\u001b[43m)\u001b[49m\n\u001b[0;32m   1061\u001b[0m \u001b[38;5;66;03m# invariant: `func_outputs` contains only Tensors, CompositeTensors,\u001b[39;00m\n\u001b[0;32m   1062\u001b[0m \u001b[38;5;66;03m# TensorArrays and `None`s.\u001b[39;00m\n\u001b[0;32m   1063\u001b[0m func_outputs \u001b[38;5;241m=\u001b[39m variable_utils\u001b[38;5;241m.\u001b[39mconvert_variables_to_tensors(func_outputs)\n",
      "File \u001b[1;32m~\\AppData\\Local\\Programs\\Python\\Python311\\Lib\\site-packages\\tensorflow\\python\\eager\\polymorphic_function\\concrete_function.py:179\u001b[0m, in \u001b[0;36m_DelayedRewriteGradientFunctions._construct_forward_backward.<locals>._backprop_function\u001b[1;34m(*grad_ys)\u001b[0m\n\u001b[0;32m    177\u001b[0m \u001b[38;5;28;01mdef\u001b[39;00m\u001b[38;5;250m \u001b[39m\u001b[38;5;21m_backprop_function\u001b[39m(\u001b[38;5;241m*\u001b[39mgrad_ys):\n\u001b[0;32m    178\u001b[0m   \u001b[38;5;28;01mwith\u001b[39;00m ops\u001b[38;5;241m.\u001b[39mdevice(\u001b[38;5;28;01mNone\u001b[39;00m):\n\u001b[1;32m--> 179\u001b[0m     \u001b[38;5;28;01mreturn\u001b[39;00m \u001b[43mgradients_util\u001b[49m\u001b[38;5;241;43m.\u001b[39;49m\u001b[43m_GradientsHelper\u001b[49m\u001b[43m(\u001b[49m\u001b[43m  \u001b[49m\u001b[38;5;66;43;03m# pylint: disable=protected-access\u001b[39;49;00m\n\u001b[0;32m    180\u001b[0m \u001b[43m        \u001b[49m\u001b[43mtrainable_outputs\u001b[49m\u001b[43m,\u001b[49m\n\u001b[0;32m    181\u001b[0m \u001b[43m        \u001b[49m\u001b[38;5;28;43mself\u001b[39;49m\u001b[38;5;241;43m.\u001b[39;49m\u001b[43m_func_graph\u001b[49m\u001b[38;5;241;43m.\u001b[39;49m\u001b[43minputs\u001b[49m\u001b[43m,\u001b[49m\n\u001b[0;32m    182\u001b[0m \u001b[43m        \u001b[49m\u001b[43mgrad_ys\u001b[49m\u001b[38;5;241;43m=\u001b[39;49m\u001b[43mgrad_ys\u001b[49m\u001b[43m,\u001b[49m\n\u001b[0;32m    183\u001b[0m \u001b[43m        \u001b[49m\u001b[43msrc_graph\u001b[49m\u001b[38;5;241;43m=\u001b[39;49m\u001b[38;5;28;43mself\u001b[39;49m\u001b[38;5;241;43m.\u001b[39;49m\u001b[43m_func_graph\u001b[49m\u001b[43m)\u001b[49m\n",
      "File \u001b[1;32m~\\AppData\\Local\\Programs\\Python\\Python311\\Lib\\site-packages\\tensorflow\\python\\ops\\gradients_util.py:733\u001b[0m, in \u001b[0;36m_GradientsHelper\u001b[1;34m(ys, xs, grad_ys, name, colocate_gradients_with_ops, gate_gradients, aggregation_method, stop_gradients, unconnected_gradients, src_graph)\u001b[0m\n\u001b[0;32m    728\u001b[0m \u001b[38;5;28;01mwith\u001b[39;00m src_graph\u001b[38;5;241m.\u001b[39m_original_op(op):\n\u001b[0;32m    729\u001b[0m   \u001b[38;5;66;03m# pylint: enable=protected-access\u001b[39;00m\n\u001b[0;32m    730\u001b[0m   \u001b[38;5;28;01mif\u001b[39;00m grad_fn:\n\u001b[0;32m    731\u001b[0m     \u001b[38;5;66;03m# If grad_fn was found, do not use SymbolicGradient even for\u001b[39;00m\n\u001b[0;32m    732\u001b[0m     \u001b[38;5;66;03m# functions.\u001b[39;00m\n\u001b[1;32m--> 733\u001b[0m     in_grads \u001b[38;5;241m=\u001b[39m \u001b[43m_MaybeCompile\u001b[49m\u001b[43m(\u001b[49m\u001b[43mgrad_scope\u001b[49m\u001b[43m,\u001b[49m\u001b[43m \u001b[49m\u001b[43mop\u001b[49m\u001b[43m,\u001b[49m\u001b[43m \u001b[49m\u001b[43mfunc_call\u001b[49m\u001b[43m,\u001b[49m\n\u001b[0;32m    734\u001b[0m \u001b[43m                             \u001b[49m\u001b[38;5;28;43;01mlambda\u001b[39;49;00m\u001b[43m:\u001b[49m\u001b[43m \u001b[49m\u001b[43mgrad_fn\u001b[49m\u001b[43m(\u001b[49m\u001b[43mop\u001b[49m\u001b[43m,\u001b[49m\u001b[43m \u001b[49m\u001b[38;5;241;43m*\u001b[39;49m\u001b[43mout_grads\u001b[49m\u001b[43m)\u001b[49m\u001b[43m)\u001b[49m\n\u001b[0;32m    735\u001b[0m   \u001b[38;5;28;01melse\u001b[39;00m:\n\u001b[0;32m    736\u001b[0m     \u001b[38;5;66;03m# For function call ops, we add a 'SymbolicGradient'\u001b[39;00m\n\u001b[0;32m    737\u001b[0m     \u001b[38;5;66;03m# node to the graph to compute gradients.\u001b[39;00m\n\u001b[0;32m    738\u001b[0m     in_grads \u001b[38;5;241m=\u001b[39m _MaybeCompile(grad_scope, op, func_call,\n\u001b[0;32m    739\u001b[0m                              \u001b[38;5;28;01mlambda\u001b[39;00m: _SymGrad(op, out_grads))\n",
      "File \u001b[1;32m~\\AppData\\Local\\Programs\\Python\\Python311\\Lib\\site-packages\\tensorflow\\python\\ops\\gradients_util.py:365\u001b[0m, in \u001b[0;36m_MaybeCompile\u001b[1;34m(scope, op, func, grad_fn)\u001b[0m\n\u001b[0;32m    362\u001b[0m     xla_compile \u001b[38;5;241m=\u001b[39m \u001b[38;5;28;01mFalse\u001b[39;00m\n\u001b[0;32m    364\u001b[0m \u001b[38;5;28;01mif\u001b[39;00m \u001b[38;5;129;01mnot\u001b[39;00m xla_compile:\n\u001b[1;32m--> 365\u001b[0m   \u001b[38;5;28;01mreturn\u001b[39;00m \u001b[43mgrad_fn\u001b[49m\u001b[43m(\u001b[49m\u001b[43m)\u001b[49m  \u001b[38;5;66;03m# Exit early\u001b[39;00m\n\u001b[0;32m    367\u001b[0m \u001b[38;5;66;03m# If the gradients are supposed to be compiled separately, we give them a\u001b[39;00m\n\u001b[0;32m    368\u001b[0m \u001b[38;5;66;03m# _XlaScope name that is based on the name_scope of the gradients.  Otherwise\u001b[39;00m\n\u001b[0;32m    369\u001b[0m \u001b[38;5;66;03m# they just inherit the existing _XlaScope name, which lets them be merged\u001b[39;00m\n\u001b[0;32m    370\u001b[0m \u001b[38;5;66;03m# together with the non-gradient computation.\u001b[39;00m\n\u001b[0;32m    371\u001b[0m \u001b[38;5;28;01mif\u001b[39;00m xla_separate_compiled_gradients:\n",
      "File \u001b[1;32m~\\AppData\\Local\\Programs\\Python\\Python311\\Lib\\site-packages\\tensorflow\\python\\ops\\gradients_util.py:734\u001b[0m, in \u001b[0;36m_GradientsHelper.<locals>.<lambda>\u001b[1;34m()\u001b[0m\n\u001b[0;32m    728\u001b[0m \u001b[38;5;28;01mwith\u001b[39;00m src_graph\u001b[38;5;241m.\u001b[39m_original_op(op):\n\u001b[0;32m    729\u001b[0m   \u001b[38;5;66;03m# pylint: enable=protected-access\u001b[39;00m\n\u001b[0;32m    730\u001b[0m   \u001b[38;5;28;01mif\u001b[39;00m grad_fn:\n\u001b[0;32m    731\u001b[0m     \u001b[38;5;66;03m# If grad_fn was found, do not use SymbolicGradient even for\u001b[39;00m\n\u001b[0;32m    732\u001b[0m     \u001b[38;5;66;03m# functions.\u001b[39;00m\n\u001b[0;32m    733\u001b[0m     in_grads \u001b[38;5;241m=\u001b[39m _MaybeCompile(grad_scope, op, func_call,\n\u001b[1;32m--> 734\u001b[0m                              \u001b[38;5;28;01mlambda\u001b[39;00m: \u001b[43mgrad_fn\u001b[49m\u001b[43m(\u001b[49m\u001b[43mop\u001b[49m\u001b[43m,\u001b[49m\u001b[43m \u001b[49m\u001b[38;5;241;43m*\u001b[39;49m\u001b[43mout_grads\u001b[49m\u001b[43m)\u001b[49m)\n\u001b[0;32m    735\u001b[0m   \u001b[38;5;28;01melse\u001b[39;00m:\n\u001b[0;32m    736\u001b[0m     \u001b[38;5;66;03m# For function call ops, we add a 'SymbolicGradient'\u001b[39;00m\n\u001b[0;32m    737\u001b[0m     \u001b[38;5;66;03m# node to the graph to compute gradients.\u001b[39;00m\n\u001b[0;32m    738\u001b[0m     in_grads \u001b[38;5;241m=\u001b[39m _MaybeCompile(grad_scope, op, func_call,\n\u001b[0;32m    739\u001b[0m                              \u001b[38;5;28;01mlambda\u001b[39;00m: _SymGrad(op, out_grads))\n",
      "File \u001b[1;32m~\\AppData\\Local\\Programs\\Python\\Python311\\Lib\\site-packages\\tensorflow\\python\\ops\\while_v2.py:428\u001b[0m, in \u001b[0;36m_WhileGrad\u001b[1;34m(op, *grads)\u001b[0m\n\u001b[0;32m    422\u001b[0m cond_grad_graph \u001b[38;5;241m=\u001b[39m func_graph_module\u001b[38;5;241m.\u001b[39mfunc_graph_from_py_func(\n\u001b[0;32m    423\u001b[0m     grad_cond_name, grad_cond, loop_vars, {},\n\u001b[0;32m    424\u001b[0m     func_graph\u001b[38;5;241m=\u001b[39mutil\u001b[38;5;241m.\u001b[39mWhileCondFuncGraph(grad_cond_name))\n\u001b[0;32m    426\u001b[0m _check_num_inputs_outputs(cond_grad_graph, body_grad_graph, \u001b[38;5;28mlen\u001b[39m(loop_vars))\n\u001b[1;32m--> 428\u001b[0m outputs \u001b[38;5;241m=\u001b[39m \u001b[43m_build_while_op\u001b[49m\u001b[43m(\u001b[49m\n\u001b[0;32m    429\u001b[0m \u001b[43m    \u001b[49m\u001b[43mloop_vars\u001b[49m\u001b[43m,\u001b[49m\n\u001b[0;32m    430\u001b[0m \u001b[43m    \u001b[49m\u001b[43mcond_grad_graph\u001b[49m\u001b[43m,\u001b[49m\n\u001b[0;32m    431\u001b[0m \u001b[43m    \u001b[49m\u001b[43mbody_grad_graph\u001b[49m\u001b[43m,\u001b[49m\n\u001b[0;32m    432\u001b[0m \u001b[43m    \u001b[49m\u001b[43moutput_shapes\u001b[49m\u001b[38;5;241;43m=\u001b[39;49m\u001b[43m[\u001b[49m\u001b[43mt\u001b[49m\u001b[38;5;241;43m.\u001b[39;49m\u001b[43mshape\u001b[49m\u001b[43m \u001b[49m\u001b[38;5;28;43;01mfor\u001b[39;49;00m\u001b[43m \u001b[49m\u001b[43mt\u001b[49m\u001b[43m \u001b[49m\u001b[38;5;129;43;01min\u001b[39;49;00m\u001b[43m \u001b[49m\u001b[43mbody_grad_graph\u001b[49m\u001b[38;5;241;43m.\u001b[39;49m\u001b[43moutputs\u001b[49m\u001b[43m]\u001b[49m\u001b[43m,\u001b[49m\n\u001b[0;32m    433\u001b[0m \u001b[43m    \u001b[49m\u001b[43mparallel_iterations\u001b[49m\u001b[38;5;241;43m=\u001b[39;49m\u001b[43mparallel_iterations\u001b[49m\u001b[43m,\u001b[49m\n\u001b[0;32m    434\u001b[0m \u001b[43m    \u001b[49m\u001b[43mname\u001b[49m\u001b[38;5;241;43m=\u001b[39;49m\u001b[38;5;124;43m\"\u001b[39;49m\u001b[38;5;132;43;01m%s\u001b[39;49;00m\u001b[38;5;124;43m_grad\u001b[39;49m\u001b[38;5;124;43m\"\u001b[39;49m\u001b[43m \u001b[49m\u001b[38;5;241;43m%\u001b[39;49m\u001b[43m \u001b[49m\u001b[43mwhile_op\u001b[49m\u001b[38;5;241;43m.\u001b[39;49m\u001b[43mname\u001b[49m\u001b[43m,\u001b[49m\n\u001b[0;32m    435\u001b[0m \u001b[43m    \u001b[49m\u001b[43mnum_original_outputs\u001b[49m\u001b[38;5;241;43m=\u001b[39;49m\u001b[38;5;28;43mlen\u001b[39;49m\u001b[43m(\u001b[49m\u001b[43mbody_grad_graph\u001b[49m\u001b[38;5;241;43m.\u001b[39;49m\u001b[43moutputs\u001b[49m\u001b[43m)\u001b[49m\u001b[43m)\u001b[49m\n\u001b[0;32m    437\u001b[0m \u001b[38;5;66;03m# See comment in while_loop.\u001b[39;00m\n\u001b[0;32m    438\u001b[0m outputs \u001b[38;5;241m=\u001b[39m [array_ops\u001b[38;5;241m.\u001b[39midentity(t) \u001b[38;5;28;01mfor\u001b[39;00m t \u001b[38;5;129;01min\u001b[39;00m outputs]\n",
      "File \u001b[1;32m~\\AppData\\Local\\Programs\\Python\\Python311\\Lib\\site-packages\\tensorflow\\python\\ops\\while_v2.py:479\u001b[0m, in \u001b[0;36m_build_while_op\u001b[1;34m(loop_vars, cond_graph, body_graph, output_shapes, parallel_iterations, name, num_original_outputs)\u001b[0m\n\u001b[0;32m    477\u001b[0m   while_op\u001b[38;5;241m.\u001b[39m_body_graph \u001b[38;5;241m=\u001b[39m body_graph\n\u001b[0;32m    478\u001b[0m   \u001b[38;5;28;01mreturn\u001b[39;00m tensors\n\u001b[1;32m--> 479\u001b[0m \u001b[38;5;28;01mreturn\u001b[39;00m \u001b[43mutil\u001b[49m\u001b[38;5;241;43m.\u001b[39;49m\u001b[43mrun_as_function_for_tape_gradients\u001b[49m\u001b[43m(\u001b[49m\u001b[43m_make_op\u001b[49m\u001b[43m,\u001b[49m\u001b[43m \u001b[49m\u001b[43mloop_vars\u001b[49m\u001b[43m)\u001b[49m\n",
      "File \u001b[1;32m~\\AppData\\Local\\Programs\\Python\\Python311\\Lib\\site-packages\\tensorflow\\python\\ops\\control_flow_util_v2.py:400\u001b[0m, in \u001b[0;36mrun_as_function_for_tape_gradients\u001b[1;34m(make_op, inputs)\u001b[0m\n\u001b[0;32m    398\u001b[0m   \u001b[38;5;28;01mreturn\u001b[39;00m results\n\u001b[0;32m    399\u001b[0m \u001b[38;5;28;01melse\u001b[39;00m:\n\u001b[1;32m--> 400\u001b[0m   \u001b[38;5;28;01mreturn\u001b[39;00m \u001b[43mmake_op\u001b[49m\u001b[43m(\u001b[49m\u001b[43minputs\u001b[49m\u001b[43m)\u001b[49m\n",
      "File \u001b[1;32m~\\AppData\\Local\\Programs\\Python\\Python311\\Lib\\site-packages\\tensorflow\\python\\ops\\while_v2.py:460\u001b[0m, in \u001b[0;36m_build_while_op.<locals>._make_op\u001b[1;34m(inputs)\u001b[0m\n\u001b[0;32m    456\u001b[0m \u001b[38;5;28;01mdef\u001b[39;00m\u001b[38;5;250m \u001b[39m\u001b[38;5;21m_make_op\u001b[39m(inputs):\n\u001b[0;32m    457\u001b[0m   while_op, tensors \u001b[38;5;241m=\u001b[39m util\u001b[38;5;241m.\u001b[39mget_op_and_outputs(op_fn(\n\u001b[0;32m    458\u001b[0m       inputs,\n\u001b[0;32m    459\u001b[0m       util\u001b[38;5;241m.\u001b[39mcreate_new_tf_function(cond_graph),\n\u001b[1;32m--> 460\u001b[0m       \u001b[43mutil\u001b[49m\u001b[38;5;241;43m.\u001b[39;49m\u001b[43mcreate_new_tf_function\u001b[49m\u001b[43m(\u001b[49m\u001b[43mbody_graph\u001b[49m\u001b[43m)\u001b[49m,\n\u001b[0;32m    461\u001b[0m       output_shapes\u001b[38;5;241m=\u001b[39moutput_shapes,\n\u001b[0;32m    462\u001b[0m       parallel_iterations\u001b[38;5;241m=\u001b[39mparallel_iterations,\n\u001b[0;32m    463\u001b[0m       name\u001b[38;5;241m=\u001b[39mname))\n\u001b[0;32m    464\u001b[0m   _copy_handle_data(body_graph\u001b[38;5;241m.\u001b[39moutputs, tensors)\n\u001b[0;32m    465\u001b[0m   util\u001b[38;5;241m.\u001b[39mmaybe_set_lowering_attr(while_op)\n",
      "File \u001b[1;32m~\\AppData\\Local\\Programs\\Python\\Python311\\Lib\\site-packages\\tensorflow\\python\\ops\\control_flow_util_v2.py:73\u001b[0m, in \u001b[0;36mcreate_new_tf_function\u001b[1;34m(func_graph)\u001b[0m\n\u001b[0;32m     70\u001b[0m transform\u001b[38;5;241m.\u001b[39mapply_func_graph_transforms(func_graph)\n\u001b[0;32m     71\u001b[0m func \u001b[38;5;241m=\u001b[39m atomic_function\u001b[38;5;241m.\u001b[39mfrom_func_graph(func_graph\u001b[38;5;241m.\u001b[39mname, func_graph, {})\n\u001b[1;32m---> 73\u001b[0m \u001b[43mfunc_graph\u001b[49m\u001b[38;5;241;43m.\u001b[39;49m\u001b[43mouter_graph\u001b[49m\u001b[38;5;241;43m.\u001b[39;49m\u001b[43m_add_function_recursive\u001b[49m\u001b[43m(\u001b[49m\u001b[43mfunc\u001b[49m\u001b[43m)\u001b[49m  \u001b[38;5;66;03m# pylint: disable=protected-access\u001b[39;00m\n\u001b[0;32m     74\u001b[0m \u001b[38;5;28;01mreturn\u001b[39;00m func_graph\u001b[38;5;241m.\u001b[39mname\n",
      "File \u001b[1;32m~\\AppData\\Local\\Programs\\Python\\Python311\\Lib\\site-packages\\tensorflow\\python\\framework\\ops.py:2468\u001b[0m, in \u001b[0;36mGraph._add_function_recursive\u001b[1;34m(self, function, overwrite)\u001b[0m\n\u001b[0;32m   2466\u001b[0m     \u001b[38;5;28mself\u001b[39m\u001b[38;5;241m.\u001b[39m_add_function(function)\n\u001b[0;32m   2467\u001b[0m \u001b[38;5;28;01melse\u001b[39;00m:\n\u001b[1;32m-> 2468\u001b[0m   \u001b[38;5;28;43mself\u001b[39;49m\u001b[38;5;241;43m.\u001b[39;49m\u001b[43m_add_function\u001b[49m\u001b[43m(\u001b[49m\u001b[43mfunction\u001b[49m\u001b[43m)\u001b[49m\n\u001b[0;32m   2470\u001b[0m \u001b[38;5;28;01mif\u001b[39;00m \u001b[38;5;28mhasattr\u001b[39m(function, \u001b[38;5;124m\"\u001b[39m\u001b[38;5;124mchildren\u001b[39m\u001b[38;5;124m\"\u001b[39m):\n\u001b[0;32m   2471\u001b[0m   \u001b[38;5;28;01mfor\u001b[39;00m f \u001b[38;5;129;01min\u001b[39;00m function\u001b[38;5;241m.\u001b[39mchildren:  \u001b[38;5;66;03m# pylint: disable=protected-access\u001b[39;00m\n",
      "File \u001b[1;32m~\\AppData\\Local\\Programs\\Python\\Python311\\Lib\\site-packages\\tensorflow\\python\\framework\\ops.py:2510\u001b[0m, in \u001b[0;36mGraph._add_function\u001b[1;34m(self, function)\u001b[0m\n\u001b[0;32m   2508\u001b[0m         pywrap_tf_session\u001b[38;5;241m.\u001b[39mTF_GraphCopyFunction(c_graph, func, gradient)\n\u001b[0;32m   2509\u001b[0m     \u001b[38;5;28;01melse\u001b[39;00m:\n\u001b[1;32m-> 2510\u001b[0m       \u001b[43mpywrap_tf_session\u001b[49m\u001b[38;5;241;43m.\u001b[39;49m\u001b[43mTF_GraphCopyFunction\u001b[49m\u001b[43m(\u001b[49m\u001b[43mc_graph\u001b[49m\u001b[43m,\u001b[49m\u001b[43m \u001b[49m\u001b[43mfunc\u001b[49m\u001b[43m,\u001b[49m\u001b[43m \u001b[49m\u001b[38;5;28;43;01mNone\u001b[39;49;00m\u001b[43m)\u001b[49m\n\u001b[0;32m   2511\u001b[0m \u001b[38;5;66;03m# pylint: enable=protected-access\u001b[39;00m\n\u001b[0;32m   2513\u001b[0m \u001b[38;5;28mself\u001b[39m\u001b[38;5;241m.\u001b[39m_functions[compat\u001b[38;5;241m.\u001b[39mas_str(name)] \u001b[38;5;241m=\u001b[39m function\n",
      "\u001b[1;31mKeyboardInterrupt\u001b[0m: "
     ]
    }
   ],
   "source": [
    "model.fit(train, validation_data=test, epochs=100, callbacks=[checkpoint_callback, schedule_callback, example_callback])"
   ]
  },
  {
   "cell_type": "markdown",
   "id": "fa8ee94b-89f7-4733-8a0c-a86f86ff590a",
   "metadata": {
    "tags": []
   },
   "source": [
    "# 5. Make a Prediction "
   ]
  },
  {
   "cell_type": "code",
   "execution_count": 60,
   "id": "01fa7204-ce0e-49a8-8dbd-14fe5dfead40",
   "metadata": {
    "collapsed": true,
    "jupyter": {
     "outputs_hidden": true
    },
    "scrolled": true,
    "tags": []
   },
   "outputs": [
    {
     "ename": "NameError",
     "evalue": "name 'gdown' is not defined",
     "output_type": "error",
     "traceback": [
      "\u001b[1;31m---------------------------------------------------------------------------\u001b[0m",
      "\u001b[1;31mNameError\u001b[0m                                 Traceback (most recent call last)",
      "Cell \u001b[1;32mIn[60], line 3\u001b[0m\n\u001b[0;32m      1\u001b[0m url \u001b[38;5;241m=\u001b[39m \u001b[38;5;124m'\u001b[39m\u001b[38;5;124mhttps://drive.google.com/uc?id=1vWscXs4Vt0a_1IH1-ct2TCgXAZT-N3_Y\u001b[39m\u001b[38;5;124m'\u001b[39m\n\u001b[0;32m      2\u001b[0m output \u001b[38;5;241m=\u001b[39m \u001b[38;5;124m'\u001b[39m\u001b[38;5;124mcheckpoints.zip\u001b[39m\u001b[38;5;124m'\u001b[39m\n\u001b[1;32m----> 3\u001b[0m \u001b[43mgdown\u001b[49m\u001b[38;5;241m.\u001b[39mdownload(url, output, quiet\u001b[38;5;241m=\u001b[39m\u001b[38;5;28;01mFalse\u001b[39;00m)\n\u001b[0;32m      4\u001b[0m gdown\u001b[38;5;241m.\u001b[39mextractall(\u001b[38;5;124m'\u001b[39m\u001b[38;5;124mcheckpoints.zip\u001b[39m\u001b[38;5;124m'\u001b[39m, \u001b[38;5;124m'\u001b[39m\u001b[38;5;124mmodels\u001b[39m\u001b[38;5;124m'\u001b[39m)\n",
      "\u001b[1;31mNameError\u001b[0m: name 'gdown' is not defined"
     ]
    }
   ],
   "source": [
    "url = 'https://drive.google.com/uc?id=1vWscXs4Vt0a_1IH1-ct2TCgXAZT-N3_Y'\n",
    "output = 'checkpoints.zip'\n",
    "gdown.download(url, output, quiet=False)\n",
    "gdown.extractall('checkpoints.zip', 'models')"
   ]
  },
  {
   "cell_type": "code",
   "execution_count": 61,
   "id": "247f664d-3c87-4e96-946e-930dad0e1c2c",
   "metadata": {
    "scrolled": true,
    "tags": []
   },
   "outputs": [
    {
     "name": "stdout",
     "output_type": "stream",
     "text": [
      "WARNING:tensorflow:From C:\\Users\\chara\\AppData\\Local\\Programs\\Python\\Python311\\Lib\\site-packages\\keras\\src\\saving\\legacy\\save.py:538: The name tf.train.NewCheckpointReader is deprecated. Please use tf.compat.v1.train.NewCheckpointReader instead.\n",
      "\n"
     ]
    },
    {
     "data": {
      "text/plain": [
       "<tensorflow.python.checkpoint.checkpoint.CheckpointLoadStatus at 0x29ddb1bb2d0>"
      ]
     },
     "execution_count": 61,
     "metadata": {},
     "output_type": "execute_result"
    }
   ],
   "source": [
    "model.load_weights('models/checkpoint')"
   ]
  },
  {
   "cell_type": "code",
   "execution_count": 62,
   "id": "7f8d689f-b7bb-443c-9b88-e40c1d800828",
   "metadata": {
    "tags": []
   },
   "outputs": [],
   "source": [
    "test_data = test.as_numpy_iterator()"
   ]
  },
  {
   "cell_type": "code",
   "execution_count": 63,
   "id": "38546dc2-bee9-4837-864b-8a884df40ad7",
   "metadata": {
    "tags": []
   },
   "outputs": [],
   "source": [
    "sample = test_data.next()"
   ]
  },
  {
   "cell_type": "code",
   "execution_count": 64,
   "id": "a43621f0-229d-4c0d-9554-9c3a3da9c61a",
   "metadata": {
    "tags": []
   },
   "outputs": [
    {
     "name": "stdout",
     "output_type": "stream",
     "text": [
      "1/1 [==============================] - 12s 12s/step\n"
     ]
    }
   ],
   "source": [
    "yhat = model.predict(sample[0])"
   ]
  },
  {
   "cell_type": "code",
   "execution_count": 65,
   "id": "ea462999-f87e-4a7e-a057-5be7b6d8f7d5",
   "metadata": {
    "tags": []
   },
   "outputs": [
    {
     "name": "stdout",
     "output_type": "stream",
     "text": [
      "~~~~~~~~~~~~~~~~~~~~~~~~~~~~~~~~~~~~~~~~~~~~~~~~~~~~~~~~~~~~~~~~~~~~~~~~~~~~~~~~~~~~~~~~~~~~~~~~~~~~ REAL TEXT\n"
     ]
    },
    {
     "data": {
      "text/plain": [
       "[<tf.Tensor: shape=(), dtype=string, numpy=b'bin white with a eight now'>,\n",
       " <tf.Tensor: shape=(), dtype=string, numpy=b'bin green by n eight now'>]"
      ]
     },
     "execution_count": 65,
     "metadata": {},
     "output_type": "execute_result"
    }
   ],
   "source": [
    "print('~'*100, 'REAL TEXT')\n",
    "[tf.strings.reduce_join([num_to_char(word) for word in sentence]) for sentence in sample[1]]"
   ]
  },
  {
   "cell_type": "code",
   "execution_count": 66,
   "id": "82bd4c10-dd6e-411e-834b-2a3b43fd12c5",
   "metadata": {
    "tags": []
   },
   "outputs": [],
   "source": [
    "decoded = tf.keras.backend.ctc_decode(yhat, input_length=[75,75], greedy=True)[0][0].numpy()"
   ]
  },
  {
   "cell_type": "code",
   "execution_count": 67,
   "id": "5d68ac46-c90b-4eab-a709-f19aee569ff5",
   "metadata": {
    "tags": []
   },
   "outputs": [
    {
     "name": "stdout",
     "output_type": "stream",
     "text": [
      "~~~~~~~~~~~~~~~~~~~~~~~~~~~~~~~~~~~~~~~~~~~~~~~~~~~~~~~~~~~~~~~~~~~~~~~~~~~~~~~~~~~~~~~~~~~~~~~~~~~~ PREDICTIONS\n"
     ]
    },
    {
     "data": {
      "text/plain": [
       "[<tf.Tensor: shape=(), dtype=string, numpy=b'bin white with a eight now'>,\n",
       " <tf.Tensor: shape=(), dtype=string, numpy=b'bin green by n n eight now'>]"
      ]
     },
     "execution_count": 67,
     "metadata": {},
     "output_type": "execute_result"
    }
   ],
   "source": [
    "print('~'*100, 'PREDICTIONS')\n",
    "[tf.strings.reduce_join([num_to_char(word) for word in sentence]) for sentence in decoded]"
   ]
  },
  {
   "cell_type": "markdown",
   "id": "64622f98-e99b-4fed-a2cc-f0da82eb5431",
   "metadata": {},
   "source": [
    "# Test on a Video"
   ]
  },
  {
   "cell_type": "code",
   "execution_count": 2,
   "id": "fa95863d-3832-47bf-8a77-ebaa38054ace",
   "metadata": {},
   "outputs": [
    {
     "name": "stdout",
     "output_type": "stream",
     "text": [
      "C:\\Users\\chara\\AppData\\Local\\Programs\\Python\\Python311\\python.exe\n"
     ]
    }
   ],
   "source": [
    "import sys\n",
    "print(sys.executable)"
   ]
  },
  {
   "cell_type": "code",
   "execution_count": 68,
   "id": "0cf4ff38-4f7f-4451-b1ad-302e21c5c36f",
   "metadata": {
    "collapsed": true,
    "jupyter": {
     "outputs_hidden": true
    },
    "scrolled": true
   },
   "outputs": [
    {
     "name": "stdout",
     "output_type": "stream",
     "text": [
      "Requirement already satisfied: ipython in c:\\users\\chara\\appdata\\local\\programs\\python\\python311\\lib\\site-packages (8.32.0)\n",
      "Requirement already satisfied: colorama in c:\\users\\chara\\appdata\\local\\programs\\python\\python311\\lib\\site-packages (from ipython) (0.4.6)\n",
      "Requirement already satisfied: decorator in c:\\users\\chara\\appdata\\local\\programs\\python\\python311\\lib\\site-packages (from ipython) (5.1.1)\n",
      "Requirement already satisfied: jedi>=0.16 in c:\\users\\chara\\appdata\\local\\programs\\python\\python311\\lib\\site-packages (from ipython) (0.19.2)\n",
      "Requirement already satisfied: matplotlib-inline in c:\\users\\chara\\appdata\\local\\programs\\python\\python311\\lib\\site-packages (from ipython) (0.1.7)\n",
      "Requirement already satisfied: prompt_toolkit<3.1.0,>=3.0.41 in c:\\users\\chara\\appdata\\local\\programs\\python\\python311\\lib\\site-packages (from ipython) (3.0.50)\n",
      "Requirement already satisfied: pygments>=2.4.0 in c:\\users\\chara\\appdata\\local\\programs\\python\\python311\\lib\\site-packages (from ipython) (2.19.1)\n",
      "Requirement already satisfied: stack_data in c:\\users\\chara\\appdata\\local\\programs\\python\\python311\\lib\\site-packages (from ipython) (0.6.3)\n",
      "Requirement already satisfied: traitlets>=5.13.0 in c:\\users\\chara\\appdata\\local\\programs\\python\\python311\\lib\\site-packages (from ipython) (5.14.3)\n",
      "Requirement already satisfied: typing_extensions>=4.6 in c:\\users\\chara\\appdata\\local\\programs\\python\\python311\\lib\\site-packages (from ipython) (4.12.2)\n",
      "Requirement already satisfied: parso<0.9.0,>=0.8.4 in c:\\users\\chara\\appdata\\local\\programs\\python\\python311\\lib\\site-packages (from jedi>=0.16->ipython) (0.8.4)\n",
      "Requirement already satisfied: wcwidth in c:\\users\\chara\\appdata\\local\\programs\\python\\python311\\lib\\site-packages (from prompt_toolkit<3.1.0,>=3.0.41->ipython) (0.2.13)\n",
      "Requirement already satisfied: executing>=1.2.0 in c:\\users\\chara\\appdata\\local\\programs\\python\\python311\\lib\\site-packages (from stack_data->ipython) (2.2.0)\n",
      "Requirement already satisfied: asttokens>=2.1.0 in c:\\users\\chara\\appdata\\local\\programs\\python\\python311\\lib\\site-packages (from stack_data->ipython) (3.0.0)\n",
      "Requirement already satisfied: pure-eval in c:\\users\\chara\\appdata\\local\\programs\\python\\python311\\lib\\site-packages (from stack_data->ipython) (0.2.3)\n",
      "Note: you may need to restart the kernel to use updated packages.\n"
     ]
    },
    {
     "name": "stderr",
     "output_type": "stream",
     "text": [
      "\n",
      "[notice] A new release of pip is available: 25.0.1 -> 25.1.1\n",
      "[notice] To update, run: C:\\Users\\chara\\AppData\\Local\\Programs\\Python\\Python311\\python.exe -m pip install --upgrade pip\n"
     ]
    }
   ],
   "source": [
    "pip install ipython"
   ]
  },
  {
   "cell_type": "code",
   "execution_count": 69,
   "id": "b5b8a0c4-088b-460f-b90e-7db4f512eaff",
   "metadata": {},
   "outputs": [
    {
     "name": "stdout",
     "output_type": "stream",
     "text": [
      "Note: you may need to restart the kernel to use updated packages.Requirement already satisfied: pyttsx3 in c:\\users\\chara\\appdata\\local\\programs\\python\\python311\\lib\\site-packages (2.98)\n",
      "Requirement already satisfied: comtypes in c:\\users\\chara\\appdata\\local\\programs\\python\\python311\\lib\\site-packages (from pyttsx3) (1.4.11)\n",
      "Requirement already satisfied: pypiwin32 in c:\\users\\chara\\appdata\\local\\programs\\python\\python311\\lib\\site-packages (from pyttsx3) (223)\n",
      "Requirement already satisfied: pywin32 in c:\\users\\chara\\appdata\\local\\programs\\python\\python311\\lib\\site-packages (from pyttsx3) (308)\n",
      "\n"
     ]
    },
    {
     "name": "stderr",
     "output_type": "stream",
     "text": [
      "\n",
      "[notice] A new release of pip is available: 25.0.1 -> 25.1.1\n",
      "[notice] To update, run: C:\\Users\\chara\\AppData\\Local\\Programs\\Python\\Python311\\python.exe -m pip install --upgrade pip\n"
     ]
    }
   ],
   "source": [
    "pip install pyttsx3"
   ]
  },
  {
   "cell_type": "code",
   "execution_count": 73,
   "id": "f4c35372-a742-45b4-9fc9-7c4b27c4753a",
   "metadata": {},
   "outputs": [],
   "source": [
    "import pyttsx3\n",
    "from IPython.display import display, Audio\n",
    "#testing and converting the predictions to speech\n",
    "\n",
    "def test_video(sample, speed_factor=0.8):\n",
    "    \"\"\"\n",
    "    Tests the LipNet model on a video sample, prints the real and predicted text,\n",
    "    and converts the predicted text to speech with adjustable speed.\n",
    "\n",
    "    Args:\n",
    "        sample: The video sample to test.\n",
    "        speed_factor (float): Factor to adjust the speech speed (e.g., 1.0 for normal, 0.5 for half speed).\n",
    "    \"\"\"\n",
    "    print('~'*10, 'REAL TEXT','~'*10)\n",
    "    real_text = tf.strings.reduce_join([num_to_char(word) for word in sample[1]]).numpy().decode('utf-8')\n",
    "    print(real_text)\n",
    "    \n",
    "    yhat = model.predict(tf.expand_dims(sample[0], axis=0))\n",
    "    decoded = tf.keras.backend.ctc_decode(yhat, input_length=[75], greedy=True)[0][0].numpy()\n",
    "    predicted_text = tf.strings.reduce_join([num_to_char(word) for word in decoded]).numpy().decode('utf-8')\n",
    "    print('~'*10, 'PREDICTIONS','~'*10)\n",
    "    print(predicted_text)\n",
    "    \n",
    "    # Text-to-Speech with pyttsx3 and adjustable speed* 43686172616e6468656570\n",
    "    try:\n",
    "        engine = pyttsx3.init()\n",
    "        voices = engine.getProperty('voices')\n",
    "        selected_voice = None\n",
    "        for voice in voices:\n",
    "            if 'en-GB' in voice.languages and voice.gender == 'male':\n",
    "                selected_voice = voice.id\n",
    "                break\n",
    "        if selected_voice:\n",
    "            engine.setProperty('voice', selected_voice)\n",
    "            print(\"Using male British voice\")\n",
    "        else:\n",
    "            print(\"No male British voice found, using default voice\")\n",
    "        \n",
    "        # Adjust speech rate\n",
    "        current_rate = engine.getProperty('rate')\n",
    "        new_rate = int(current_rate * speed_factor)\n",
    "        engine.setProperty('rate', new_rate)\n",
    "        print(f\"Speech rate adjusted to {new_rate} (from {current_rate})\")\n",
    "        \n",
    "        # Save speech to file\n",
    "        engine.save_to_file(predicted_text, 'predicted_speech.mp3')\n",
    "        engine.runAndWait()\n",
    "        print(\"Speech saved as 'predicted_speech.mp3'\")\n",
    "        \n",
    "        # Play the audio in the notebook\n",
    "        display(Audio('predicted_speech.mp3', autoplay=True))\n",
    "    except Exception as e:\n",
    "        print(f\"Error during text-to-speech conversion: {e}\")"
   ]
  },
  {
   "cell_type": "code",
   "execution_count": 75,
   "id": "a1da56d0-21a1-4c34-a509-8054ef2b370a",
   "metadata": {},
   "outputs": [
    {
     "name": "stdout",
     "output_type": "stream",
     "text": [
      "~~~~~~~~~~ REAL TEXT ~~~~~~~~~~\n",
      "lay blue at d eight please\n",
      "1/1 [==============================] - 3s 3s/step\n",
      "~~~~~~~~~~ PREDICTIONS ~~~~~~~~~~\n",
      "lay blue at d eight please\n",
      "No male British voice found, using default voice\n",
      "Speech rate adjusted to 160 (from 200)\n",
      "Speech saved as 'predicted_speech.mp3'\n"
     ]
    },
    {
     "data": {
      "text/html": [
       "\n",
       "                <audio  controls=\"controls\" autoplay=\"autoplay\">\n",
       "                    <source src=\"data:audio/mpeg;base64,UklGRpCWAQBXQVZFZm10IBIAAAABAAEAIlYAAESsAAACABAAAABkYXRhapYBAAAAAAAAAAAAAAAAAAAAAAAAAAAAAAAAAAAAAAAAAAAAAAAAAAAAAAAAAAAAAAAAAAAAAAAAAAAAAAAAAAAAAAAAAAAAAAAAAAAAAAAAAAAAAAAAAAAAAAAAAAAAAAAAAAAAAAAAAAAAAAAAAAAAAAAAAAAAAAAAAAAAAAAAAAAAAAAAAAAAAAAAAAAAAAAAAAAAAAAAAAAAAAAAAAAAAAAAAAAAAAAAAAAAAAAAAAAAAAAAAAAAAAAAAAAAAAAAAAAAAAAAAAAAAAAAAAAAAAAAAAAAAAAAAAAAAAAAAAAAAAAAAAAAAAAAAAAAAAAAAAAAAAAAAAAAAAAAAAAAAAAAAAAAAAAAAAAAAAAAAAAAAAAAAAAAAAAAAAAAAAAAAAAAAAAAAAAAAAAAAAAAAAAAAAAAAAAAAAAAAAAAAAAAAAAAAAAAAAAAAAAAAAAAAAAAAAAAAAAAAAAAAAAAAAAAAAAAAAAAAAAAAAAAAAAAAAAAAAAAAAAAAAAAAAAAAAAAAAAAAAAAAAAAAAAAAAAAAAAAAAAAAAAAAAAAAAAAAAAAAAAAAAAAAAAAAAAAAAAAAAAAAAAAAAAAAAAAAAAAAAAAAAAAAAAAAAAAAAAAAAAAAAAAAAAAAAAAAAAAAAAAAAAAAAAAAAAAAAAAAAAAAAAAAAAAAAAAAAAAAAAAAAAAAAAAAAAAAAAAAAAAAAAAAAAAAAAAAAAAAAAAAAAAAAAAAAAAAAAAAAAAAAAAAAAAAAAAAAAAAAAAAAAAAAAAAAAAAAAAAAAAAAAAAAAAAAAAAAAAAAAAAAAAAAAAAAAAAAAAAAAAAAAAAAAAAAAAAAAAAAAAAAAAAAAAAAAAAAAAAAAAAAAAAAAAAAAAAAAAAAAAAAAAAAAAAAAAAAAAAAAAAAAAAAAAAAAAAAAAAAAAAAAAAAAAAAAAAAAAAAAAAAAAAAAAAAAAAAAAAAAAAAAAAAAAAAAAAAAAAAAAAAAAAAAAAAAAAAAAAAAAAAAAAAAAAAAAAAAAAAAAAAAAAAAAAAAAAAAAAAAAAAAAAAAAAAAAAAAAAAAAAAAAAAAAAAAAAAAAAAAAAAAAAAAAAAAAAAAAAAAAAAAAAAAAAAAAAAAAAAAAAAAAAAAAAAAAAAAAAAAAAAAAAAAAAAAAAAAAAAAAAAAAAAAAAAAAAAAAAAAAAAAAAAAAAAAAAAAAAAAAAAAAAAAAAAAAAAAAAAAAAAAAAAAAAAAAAAAAAAAAAAAAAAAAAAAAAAAAAAAAAAAAAAAAAAAAAAAAAAAAAAAAAAAAAAAAAAAAAAAAAAAAAAAAAAAAAAAAAAAAAAAAAAAAAAAAAAAAAAAAAAAAAAAAAAAAAAAAAAAAAAAAAAAAAAAAAAAAAAAAAAAAAAAAAAAAAAAAAAAAAAAAAAAAAAAAAAAAAAAAAAAAAAAAAAAAAAAAAAAAAAAAAAAAAAAAAAAAAAAAAAAAAAAAAAAAAAAAAAAAAAAAAAAAAAAAAAAAAAAAAAAAAAAAAAAAAAAAAAAAAAAAAAAAAAAAAAAAAAAAAAAAAAAAAAAAAAAAAAAAAAAAAAAAAAAAAAAAAAAAAAAAAAAAAAAAAAAAAAAAAAAAAAAAAAAAAAAAAAAAAAAAAAAAAAAAAAAAAAAAAAAAAAAAAAAAAAAAAAAAAAAAAAAAAAAAAAAAAAAAAAAAAAAAAAAAAAAAAAAAAAAAAAAAAAAAAAAAAAAAAAAAAAAAAAAAAAAAAAAAAAAAAAAAAAAAAAAAAAAAAAAAAAAAAAAAAAAAAAAAAAAAAAAAAAAAAAAAAAAAAAAAAAAAAAAAAAAAAAAAAAAAAAAAAAAAAAAAAAAAAAAAAAAAAAAAAAAAAAAAAAAAAAAAAAAAAAAAAAAAAAAAAAAAAAAAAAAAAAAAAAAAAAAAAAAAAAAAAAAAAAAAAAAAAAAAAAAAAAAAAAAAAAAAAAAAAAAAAAAAAAAAAAAAAAAAAAAAAAAAAAAAAAAAAAAAAAAAAAAAAAAAAAAAAAAAAAAAAAAAAAAAAAAAAAAAAAAAAAAAAAAAAAAAAAAAAAAAAAAAAAAAAAAAAAAAAAAAAAAAAAAAAAAAAAAAAAAAAAAAAAAAAAAAAAAAAAAAAAAAAAAAAAAAAAAAAAAAAAAAAAAAAAAAAAAAAAAAAAAAAAAAAAAAAAAAAAAAAAAAAAAAAAAAAAAAAAAAAAAAAAAAAAAAAAAAAAAAAAAAAAAAAAAAAAAAAAAAAAAAAAAAAAAAAAAAAAAAAAAAAAAAAAAAAAAAAAAAAAAAAAAAAAAAAAAAAAAAAAAAAAAAAAAAAAAAAAAAAAAAAAAAAAAAAAAAAAAAAAAAAAAAAAAAAAAAAAAAAAAAAAAAAAAAAAAAAAAAAAAAAAAAAAAAAAAAAAAAAAAAAAAAAAAAAAAAAAAAAAAAAAAAAAAAAAAAAAAAAAAAAAAAAAAAAAAAAAAAAAAAAAAAAAAAAAAAAAAAAAAAAAAAAAAAAAAAAAAAAAAAAAAAAAAAAAAAAAAAAAAAAAAAAAAAAAAAAAAAAAAAAAAAAAAAAAAAAAAAAAAAAAAAAAAAAAAAAAAAAAAAAAAAAAAAAAAAAAAAAAAAAAAAAAAAAAAAAAAAAAAAAAAAAAAAAAAAAAAAAAAAAAD//wAAAAAAAAEAAQAAAAAAAAAAAP///f/+/wEAAQABAAIAAwABAAAA/////wEAAQAAAAAAAAAAAAEAAAAAAAAAAAAAAAAA/v/9//7/AAAAAAAAAQABAAAA//8AAAAAAAACAAIAAAAAAAEA//8AAAQAAwD//wAAAAAAAAAAAAAAAAAAAAD//wMABQABAP//AgADAAEAAAAAAAAAAQABAAEAAQABAAEAAQAAAAAAAQABAAEAAQAAAAAAAAAAAAAAAAAAAAAAAAAAAP////8AAAAAAQADAAEA////////AAD+/wAABQABAP3/AQACAAAAAAD/////AQABAAEAAQABAAAAAAAAAAAAAQAAAP//////////AQADAAMAAwADAAAAAAAAAP///f///wEAAAABAAEAAAABAAEAAAAAAAEAAQAAAAAAAAAAAP///////wAAAQAAAP//////////AQABAAAAAAAAAP//AAABAAAAAAABAP////8DAAIA//////////8AAP////8BAAAA/f/+/wAAAAAAAAAAAAAAAP////8AAP////8AAP////8AAAAA//8AAAEAAAAAAAAAAAAAAP//////////AAAAAAAAAQABAAAA/////wEAAQAAAAAAAAAAAAAAAAAAAAAAAAACAAMAAwABAAAAAAAAAAAAAQAAAP////8AAAAAAAAAAAAAAAAAAAAAAQABAAAAAAAAAAAAAQAAAAAAAQABAAAAAAAAAAEAAQAAAAAAAAD+//3/AAABAAAA/////wAAAAAAAAAA/////wAAAAAAAAAA/////wEAAQD//wAAAAD//wAAAAAAAAAA/////wAA/////wAAAAAAAAAAAAAAAAEAAQAAAAAAAAAAAAAAAQABAAAAAAAAAAAAAAABAAEAAQABAAAAAAABAAAAAAAAAAEAAAAAAAAAAQABAAAAAAAAAP7//f8AAAEAAAD/////AAAAAAEAAAD/////AAAAAAAAAAD/////AQABAP//AAAAAP//AAAAAAAAAAD/////AAD/////AAAAAAAAAAAAAAAAAQABAAAAAAAAAAAAAQABAAEAAQAAAAEAAQAAAAEAAQAAAAAAAgADAP////8CAAMAAAAAAAAAAAAAAP//AAABAAAA/////wAAAgAGAAYAAQD//wEAAAAAAAAAAAD//wAAAAAAAAAAAAAAAAAAAAABAAEAAAAAAP////8BAAEAAAAAAAEAAQAAAAAAAQABAAEAAAAAAP///f///wEAAQD///////8AAAEAAQD/////AAAAAAAAAAAAAAAAAAABAAAA//8AAP////8AAAAAAAAAAP//AAAAAP//AAAAAAAAAAAAAAAAAAABAAAAAAAAAAAAAQABAAEAAQAAAAAAAQAAAAAAAQAAAP//AQADAAEA/v8AAAMAAQD//wAAAAAAAP////8BAAEA/////wAAAQAEAAcABQACAAEAAAABAAEAAAAAAAAA//8AAAAAAAABAAEAAAAAAAEAAAAAAAAAAAAAAAAAAAABAAAA//8AAP//AAABAAAAAAAAAAAAAAAAAAAAAQABAAEAAAAAAAEAAQAAAAAAAAAAAAAAAAAAAAAAAAAAAAAAAAADAAIAAAAAAAEAAQAAAP3//v8BAAMAAQAAAAAAAAAAAAAAAAAAAAAAAQABAAEAAgADAAEAAAAAAAAAAAD//wEAAwABAAMABwACAAAAAAABAAQABAADAAUABAABAAAAAAAAAAAAAQACAAQABQADAAAA//8BAAEAAAAAAAEAAgADAAMAAAD//wEAAwABAAIAAwABAP//AwAFAAEAAAACAAEAAAAAAAAAAAAAAAAAAAABAAEAAAAAAAAA//8AAAMA///9/wIAAwABAP////8AAAEAAQABAAEAAQAAAAAAAAAAAAAA/////////////wEAAwADAAIAAQAAAAAAAAD+//3///8BAAAAAAAAAAAAAQABAP////8BAAEAAAAAAAAA////////AAABAAEAAAD/////AAAAAAEAAQAAAAAAAAD//wAAAgD+//v//v8BAAEAAAAAAAAAAAAAAP3//v8DAAEA/P/7//3/+//8/////////wEAAwAAAP7//////wAAAAAAAAAA/v/9/wAAAAAAAAAAAAAAAAAA/////////////wAAAAAAAAAAAAAAAAEA/////wAA/////wAAAAD//wAAAQABAAAAAAD///3//v8BAAAA//8AAAEAAAAAAAMAAwD/////AAAAAAAAAAAAAP//AAAAAAAAAAD/////AAAAAAAAAAAAAAAAAAAAAAEAAAAAAAEAAQAAAAAAAQAAAAAAAAAAAAAAAAAAAAEA///9////////////AAAAAAAAAAAAAAAA/v/7//r//P/9//v/+//7//3////9//v//v8BAP7/+//8//7//f/9//7/////////AQD+//v//v////z//f///wAAAAAAAP////8AAP3//v8AAP///v8AAP///P/7//7/AAD///////////7//f/9////AAAAAAAA/v/9//3//f/+/wAAAAAAAAAAAAD///7//f/9/////////////f///wAA/f///wEAAAAAAAAAAAAAAAAAAAAAAAAAAgADAAEAAAD/////AAD/////AAAAAP7//v8AAAAA/////wAAAAD/////AAD+//3////9//3/AAD///3//v8AAAAA/////wAAAAAAAAAAAQAAAAEAAwABAP//AQADAAEAAAAAAP//AAAAAAAAAQABAAAA/////wEAAQAAAAAAAAAAAAAAAQABAAAAAAADAAYABQACAAEAAwADAAQABQADAAEAAAABAAMAAwACAAEAAQAAAAIABQAEAAMAAwABAAMABQABAAAAAwAFAAMAAwAEAAUABQADAAEAAQAAAAAAAQAAAAEAAQAAAP///////wAAAAAAAAAAAAD/////AAD/////AQADAAQAAQAAAAIABQAFAAcACAAFAAMABQAIAAoACAAFAAYABwAHAAkACgAKAAoACQALAA4ADQALAA0AEAARAA8ADgAQABIAEgAQAA4ADQAMAA4AEAAOAAkACQAKAAoACgAJAAgABwAJAAkACAAHAAUABAAGAAcAAgACAAMAAAAAAAAAAAAAAP7//v////v//f////3//f/8//n/+v/+//3/+//7//7/AAAAAAAAAAABAAIABAADAAIABgAJAAUABwAJAAcACAAKAAoACQAJAAoADAAKAAkACQAKAAoACgAKAAkACQAKAAoADgAbACkALgAyADkAQwBOAFcAXgBkAGkAbgBzAHUAdgB2AHYAdQB3AHcAdQB2AHYAdQB1AHUAdQByAG8AbQBqAGYAYwBhAF0AVgBOAEkASABDADwANwAyAC0AKAAkACIAHgAZABQAEQANAAwACgADAAAAAAD9//r/+f/2//H/7//x//D/7P/r/+v/6f/q/+z/6//p/+j/6v/r/+r/6f/s/+3/7P/r/+7/9P/6//v/+//+////BQARABIAEAATABYAGQAdACAAIQAeAB4AIgAhACAAIgAgACEAIgAgAB4AHwAiACIAIAAdABwAHgAeABsAFwAUABMAEgAPAA0ACwAHAAEAAwAIAAYA///9////AQABAP//+//8//z/+//+/wEA/P/3//T/9P/4/////f/z/+7/8v/7//3/+f/1//T/+P////7/+P/3//z/AAD///v/+f/7//3//f//////+v/6//7/AQAAAP////8AAAAA/P/8/wIABQACAP///////wIABQABAPv//P8AAAEA/v/6//n//v8CAP//+v/3//f/+f/8///////7//f/9f/4//7/AQD///3/+v/x//L/+v8FADEAhwDeACYBawHHAUoC4gJyA+MDPASTBPgEXgWrBc0F0gXUBdwF2wXBBZEFWQUnBQMF5QTCBJMEYgQ3BBQE/APsA8wDkQNJAwQDygKVAlAC6gFuAf0ApgBWAPz/mf83/+X+sf6O/mv+Q/4k/hv+Iv4s/jH+NP44/jf+Nv46/kP+RP40/hz+Dv4S/iD+KP4j/iD+Mf5e/pP+tv7O/vH+Kf9q/57/vf/W//T/GAA3AD0AOAA7AD8APQAzACMAGQAbAB4AGAASABkALQA9AEEARgBgAIkAnQCNAHQAeQCcALgApwBrADAAIgA6AEoAKgDp/7b/q/++/9b/1/+8/6L/o/+8/97/9f/x/9v/1//u/wYACAD2/9j/x//P/93/2P+8/5r/j/+f/7L/uP+3/7f/t/+6/9D/+P8YABsACgAAABIAOgBSAEAAFgAAABYAPAA2AAUA3v/k/wsAKQAaAOj/zv/u/yoAUAA+AAoA8f8QAE4AcwBXABwA+v8IADEAOQANANj/v//C/8b/s/+Q/3f/cv9y/2n/Xf9Y/1v/V/9M/1T/ef+R/3r/Tv9L/4H/uv+z/3P/Sv9s/6z/xf+m/3P/Y/99/7j/RwA/AVUCNQPkA+IEqwYICToLuAytDcsOgxB8EuATSBQbFA4UXhSZFCsUDBPCEc4QLxCID4wOSw0ZDEML2AqYCjAKiAnBCA8IlgdGB+QGNAYqBd0DggJSAV4Ab/8s/nf8pvpO+bL4X/iv95P2ovV79Qf2lvan9nr2svaD94H4IvlT+XP53PmC+gj7Mvsv+1L7nvvh+wj8OPyT/BT9l/0C/nT+KP8YAPQAkgEdAtsC0gOoBAQFAwUsBcYFbwaBBtoFGwX0BFcFkAUYBSoEdwNgA6IDwAN+AwQDpgKYArwC0wK7AnMCFALAAYgBVgEBAXwA6P9m//H+ev7//Yr9IP3J/I/8aPw6/Av8/Psn/Hr8t/y0/Jn8v/w2/a791f2y/Zb9uf0D/ir+Iv4f/jv+WP5R/kX+gv4K/3X/gf9n/5j/NQDpAEwBVAFPAZEBCgJmAn8CbQJcAmACaQJfAkACHwIDAuEBtwGVAY0BjwF1AUMBKQE/AVsBQwHuAJsAlwDJALUAJwCG/0//b/9k/97+Kf7N/ez9Fv7T/Tv95/wm/Zr9vf1u/Rf9Mf20/Sv+QP4H/tL98v1a/qf+pv5+/mr+f/6g/rf+x/7f/l3/pgCEAkIEdQWQBooI3QvGD+ASmBTHFbgXqhqSHTQfUx/EHogezx7uHi0eghyNGvYY3BfYFosVARSqEsgRKxGYEP8PZA/NDiEOUA16DK4Ltgo6CTMHBQUcA24Blf9F/bX6YviD9v/0s/Oc8sHxGfGb8FvwifA28SvyB/OI89HzSPQp9UT2K/eV96v31fc++Mr4WPnv+Z76XfsV/M78wv0h/9YAlwIRBCoFKAZwBy8J/go1DJkMmQzTDHINCw4UDoMNywxFDNwLWAvHCl8KFAqLCa8IAAj6B1AINQhbB10GAgZABjYGPgW7A50CMQLZAdgAMv+P/Yn8Dvx9+2X6GPlH+CX4O/j19173GveP91r4u/h/+Df4kfiL+W76i/oM+r75DvrM+n77o/s9++D6J/sk/EX90f2r/Y/9Sv7R/1AB/gHwAfgBuQISBEwFvQVpBfgEDQWqBUsGZwbhBSQFrwSsBPEEIAX8BJEEFATPA+cDNwSEBIgEFgRnAwIDJwN5A2cDpQKHAbcAhACPAD4AWv9J/p39gv2J/T39q/w5/C38Xvx1/Fv8O/xR/KD84Pzf/Ln8qPzX/Cf9P/0C/bz8zPwj/U79FP3M/CD9mf7+AE0DwQTRBdUHmQuAEOsUuhdUGTkbaR5dIoElpiYdJl4lgyU0JjMmxySHIoYgJB/1Hagcbht8GqIZkhh3F+MWFhdtF+8WYBWcE5sSRRJzETUPzQthCNgFEQQJAuT+7/pi9yX1EvQ188Dx0+9D7tftoe7a74bwUvDU7/XvHfG18oXz5fKJ8eTwmPG78uPyxPF88GbwvvF984L0wPQ09cf2Xfkd/FL+5P9DAfsCLAViBwYJ6Qk7CmoK2wqHC/8LygvwChsK7QlRCq8KoQpECv8JMArqCscLQwxSDEQMPQwqDAYM1gtrC3oKBQlmB/kF1gTGA4QC7AD2/h/9Lfwe/DD8qPtq+jL5AfkK+kT7ePuE+mb5LPn2+df6vfqK+SL4dPen9x34A/ga9xH23PWr9s/3hvie+I34IPm1+rX8IP6P/ov+9v4wANMBAAMbA2YCxwH4AckCPwPEAssBJQEuAYkBugGsAXYBRwGGAUcC+wIXA74CdAKnAl4DAQS8A24CDAGyAEgBoQHhAD3/wv1k/fH9Wv7v/Rb9qvzq/Ff9f/2N/b39/f04/kL+7/2L/aP9Lv5f/qn9l/xA/NP8S/3//HL8Ufyf/BL9c/26/dH+yAHkBeEI8wkfC68OdBQGGkgdMh6dHo4gJyQnJ1MnJyUvIwcjsyMwI+ogHh5eHCgcpBxrHPgaYBkWGRAa0xpaGjUZSxh/Fz8WaBQ7EgUQzw0pC5MHcgMiAGL+MP37+o73YvQb86fzXfTA8+/xnvA08eTyiPNt8g/xz/Bn8brxM/Eo8FvvbO9D8N3w2/Aw8X7yTfTs9U332/jQ+g79Qf8FARQC1gJKBDUGSQc/B/kGOAf3B7sIHwnaCDIIVAi1CRwLTwu7CqkKfQuMDBgN0QzuCysLBgsCCzgKnAj3BssF6QT3A98CpgFkAFv/xf50/gz+iv02/RH9nvzr+7X77fvS+yL7Ofpx+fr45vjw+Hz4i/f+9j73sfff9yn43viN+dD5EPrb+h38W/0x/m3+MP4i/vP+ZgBXARABLQDT/2MAYAEXAiwC1AG5AV4CZQPNA44DjQMFBHEEXwTdA2EDTANtAyQDPwJMAfAAJAE0AZkApP8r/3P/9P8aALj/Hv/F/tD+Fv8T/4T+Dv4y/kv+lf2q/Hr8Cv3n/T7+kf2K/FX8af0E/+P/d/9Y/uL99f6EANQA4v8q/2v/LgDUALMAy/9P/xkAYQF0AdAAQgNmCsgSdhjqGgMd1CFhKegwCjWUNAUyeDATMLkuDSsBJpAhux7lHHsauRZVEyoTMBafGNoXTBWwE8oT1RPxER0OfwkrBSABTvxn9g7x+O257MDrsuo86pbq1+uE7lPyt/UE+Bv6I/xe/bL9sP3u/eH+VADmAKv/Lf4N/60C3gaGCYcKgQv8DacRcxQFFRoUPBMZEw4T+hE5DyELewf7BdYFWgUUBEUCOAD0/lz/cwDpAMIAFQAh/l/70PkB+iH6sPg/9hb08/Ig82T0oPW/9W/1qvb7+Vv9lv7v/X39/v5LAjAFHQVRAjgALwHNA08F7AT6A+ED6ARbBkwHggetB0cI/QgcCTAI3AYDBoAFpwQzA4QBVQAFAMb/dP56/Kb7wvxw/sH+Qv1Z++T6J/yp/dD9W/yN+gr6M/uW/Hz8UPtc+0/9f/+AAF4A//+vABQDaAVPBXUDvQLPAxIFigXCBMwCgwHKArAEZgTJAs0BWQFhAc0CAgRrAlv/Vf4d/4n/kv/5/gP9DPtd+yf9z/3q/Nj7ZPvs+7T9Wf9V/+v9qPw1/Z3/rAE/AWr/gP7t/lAATgKKA68CTQE/AbkB1QFqAoUFJA1pGbkmLzD8NAk5jj+pRxxOEE8RSfs+bzRqKkIgMhZmDdkGqgICAOb9uvz2/ZUB6wVcCdgKcQnOBOD9YPYT8Jrr5eeb45/eodpT2jLfz+cT8Sj5RwAmB9QN1RPGF20YBhd9Fq8XBRi/FMQORQrnCpoQTBdEGoAYQBVoFLwWgxkLGf8TXgzpBFb/yPub+Dj0r++c7VTuGvBw8Ynxj/Df8G70pPjW+fr3KPXv8hHzcvZH+mz7E/t8/O//5wMPCCQM+g5AEA0RxhH9EWkR+Q/kDRAMXAs7CysKmgfLBLQDUwW0B00HkQNv/1D9Cf16/X78OPjg8v3wPPO79aX1PvO68IbxP/fL/Q7/WPuT+EH6nv6EAsEDAALG/9z/agKSBboHLQhrB2wH3gk3DrsRxRG7Dg0MdAzFDoQPjQzTBskBxwA4A1YEIwEI/D/5Dvr//D//Cv4/+rj3J/iO+T36HfrT+MH29fWu93/6zPzo/Zj9MP0c/1UDigaRBoEEzAJKAyQGUAnSCdsGagPaAi8FVQgNCswINwV9AqsCFQRQBA8D/ABq/nL8N/wL/Uf9e/w2++H5LfnB+VX9CQdDF2wp6Te8QARFSkcHStBMR0xSRgc8nC7GH1AT1gupCEAIMApfDfQP8RAqEN0NewsZCowH9AAW9jrpFt7514XXgdqs3oXjj+kf8Rz5Qv9uAloE+QbkCWELugnABI3/Kf9xBQIPDxeGG70cshxdHn4hySJcIKYaKBPuC5UGZQIS/sL6tfp9/UoAEAFa/138U/oh+qP5MvZf8GXrZema6Tjq4Or+7DzyJfoJAYMDpAKMAmIFTAnJCvgHbAOxAbQD7wYUCdkJqQpXDcoR7xTCE7MPYgwvCg4IkAX1AYr9Zvp4+f34WPhU+UT8f/5K/kL8iPnH9xH4xPgs99Xz5fHj8t71GvkD+3H7Df0PAgII+AkNBxkD4AJOBlkInQauAkAAzgFMBjgK5wp4CB0FsAJRAY4APv/+++f3yfXR9mz5Fvtm+jL4Tvem+bL9sP+U/XD5wPas9lz4mvo9/K/8yvzN/d//jgJeBRAHPAbtA/kCMgRaBV4EmQER/xf/YgK6BnQIzAWdASEAawFWA1IEuwI9/vX5FPlz+tf7OP0//i79H/v2+pD9dwWWFfEqSz25RsNH8kTuQohCikBoOhIy/SqPJeAf/RjAE9gUeRxMJFYlKB4PEtYFmPyO9ZXuDejB4xLhc97Y3J/em+TU7Zr3gf3j/VP7dvgA9v/zbPPM9cD7VwM5CUQM/Q0aEVIXlR6sIR4efhfTEboNiwq8B1QFxwQECNwNAhHYDUUHGwIKAPn/Of/Z+t/ymuvt6JLqFO7r8Yr1lvgG+6P8PPyc+Sr3x/bo90H5I/rD+g/83f62AoQGEAqkDXsQQBEnDzIKnQQAAkEDWgUiBhAGMgUyBAEFgwelCNAGuwPIAGr9T/qN+Gz21/O78/T2QfsG/lD+qvyg+nf61fz4/kP+IPv594X3Gfqm/XAANwJ4AxYFqwdMCfYHLgU8A04C5QEzAnwC+wGpAUwCUwNRBJgFnwbDBbMCTP/+/NP7lfvh++j7C/yY/UT/w//5/9//bP8x/73+YP3F+zH7nvti/G79Iv+JAeUD2gTDAw8CLgEiAVgBjAD//tj+ZgCaAbYBEQLgAp0DRgQABC4CAQDw/lz+qPyF+hn8TQbnGV4xzEPISppGfT0nNqcy/y98K+kn2Sc0KiIu+TDGL7As6yukLPsoVR1ADJD6cexy5WDlXejk6/vvsPNS9GfxzO1S6xPpquY45Efhrt5b393kgO1S9/MBLgz9EocUuxGoDKIHsQUSBzoJcQvSDZsQUBS9F7sZeRrYGRYXAxLZCiACzPra96T4N/vm/k0DowauBs4CQ/xP9Qzwi+6L8HXxqe9E78TyTfiq/d0BeAPgApMBM//Q+4n4DvdI+QX/LAVdCXsMtA4MDp8KeAfLBZIEEQSEA+0AeP08/QQC6wfWCdgHnQRPAc3+Vv3p+lD2/vLG9DT62P5iAKD/J/5F/eD9qf44/Yb6JfmR+d36SvwZ/t8AQQS5Bg4HeAUWAzQBsAACAVoA5f5T/1sCBQXHBRUGQwXmAr4BoQJfAkL/Dfwi+1D7T/yn/5ACAgI/AMv/FQBd/4X9tfsM+in5G/tB/zsBjf+I/oEAaAL5AYQAV/55+zT7Wv5FAUIBiP+w/4gCOwWkBQEEMgCz+if5Xf0+A9IMUx1HMNw9okHIO0cvQCKQHO0fhiafLCc0jD0WROxDfz0JM2Ynxh1eGJkUfgwFAgj9o/6iApsGwAhUBSH8d/AQ5LDYNdFf0KrWauDd6IjuS/IE81jv9+kx587nr+qx70305fVm99v9QQlhE+QWyhQoEMQK5gbcBYQFmwTsBp4OFBeOGssXCRHuCCQC4v7H/bH7ifmJ+QP7S/zR/CX9iv1E/Tn7Qfdk8gXuqOxv7w/0HPlq/jQDzAZOBzoDtfw4+Nv3j/ufAmEIEAqAChQLgwvsC6ALkgkbBm0D8wJBA/8CMQO7BJsGNQhWCUwHWgFY+yH4fPe/93v4AfuR/bT+WAAmAG/81fgY9zD3TfgQ+Q76sPtf/T//JgH2AakB4AGSAnwBMv6S++D8RgHqBCIHrwfjBSoFHgY1BbYBl/0z/O7+ywKtBDoEdwKjALEAKAJ6AVL+lPuo+g77UPwD/kn/9P9wAFAAAf/M/V79zPwo/H37jfsj/kkCAAUBBMz/B/2v/QgC5w3uHoktdDbPN8Uv7iG0F1wXzh/iLGo650TCSR9I2kCyNFMm6BsaGaMc1SGpIoAexBgcE3AOeQrpBKH87POn7DzmeeGn35fhSOf77CDvsOxQ5VjcEtat093VTty05Yrw//h3+9n4PvUX823zxvbd+l7+tAL3B1sMLQ4IDlQOmQ+cEDUQ9gyUB7YDHwTnB1gMJw/NDl8MGgnzA1T9ffff9Az38Ptf/3P/dv1Q+/75R/mJ99r07PMO9nD5P/vS+jX6Yfui/sYCUwUSBDMAxP1q/un/GAHWAy4HEAkkC+EM5gquBW8BUP/g/fL9ZgAIBJMGmwazBIcBcP0A+o34tPcm9nf2HPra/b7+Q/30+p/4cPdD+A/5kPdp9p/4z/xIAA0Bxv8X/+T//QAzAfX/Sf2O/MEASwa0CB0IiQb+BCcELQSgA/MBZgDIAKMD3gW+BY0FhgV5A/7/0P2Z/Gr81v4mAQEBRP98/fP9QADvAH3+Mft++b75ofuX/XIB0QyKHtMvpjgbMlwg8hBxDWIVbCI8MME96kjOT0tPI0L7Kz4ZCBO1GZYl5C1iL9Er0CV0HlwVlwme/X72hPTW8i3vUuwv7EDuN/G48X/rx+B72M/SBs46zRXTr96v7MH3t/k28pLmFd38207iU+rA8+D/DwuaEDUQuQqIAYT66vsmBCUMvxBoE94UmxSLE/sSOBE/DNsGrwTEBAYFjgaSCcwKOAkEBwYFlwGe+1v1B/KP8qX2/PwqAvcCFP/S+ab21vTE8i7yGvWs+eL9LALKBEUDs/8T/v/9/Pxb/Kj+GQKwBMQH6wnECG4G3QXSBbEDnABt/30AJAMdB4gJDwiVBOUBvACG//P8VPrj+VL8hwAgBGIEigBz+/D4ZfkW+q758vlp/Nb/9AGaAcb+6/p4+TX8EwAAARP/tv32/twBLwRzBL4Cxf9c/u8AkQPMAjMBSwFqAiEEJQZxBaABh/5B/tn/5wFIA8MCyQCZ/9P/ZQAmBckR3iDoKvgrpyN3FqMMmgxbFi4lYTRuQZ5JLEjIO4sprhiCED4V8SMdNEM+sT7hNNoktxPNBPz7OvyAAl8I8wuIDOUH8P7m8wzo2d3B2ardQOXb6eHomuXF43LjCeSj45bfldoa2gDgB+mz7wvy+vJs9fz3E/nu+D32E/Of9QP/HAleDnMPIQ9dDZkKTAkNCbwHagfNCyMSfBWEFSYT5w4DChQG4wOjA/4EwwZmCDAJQQhiBtEDYv+O+Zb1LvaD+k7/QQGh/4H8O/qk+WH5dfd/9KPzBPc8/WgC+wL1/nv6Ovml+j38W/1m/Qz9WQA/BugIZwYxAfj8KPzI/qMCcAU+BmEFOQUPBp4EqAAf/t7+tQBUAhAErATeAqwAUwAzAE/+lvxf/TH/wAD1APP+k/0F/cT8F//MACT+EPsS/Nf9B/6s/8wAYP9q/h3/if9x/kH9rP2T//wBoQPPAhsAIP4m/uj/ogImBCgCPgCIAckEAg2gGtkltSizJGYccRJoDloU6SD5L/09CEeJR4w+gy/1H0oWkRjPJWc2A0NeRio+ii2rG1sNzATjA7AJexNHHJMd4BWTB1H2Keii4Tzit+aR7D3xR/Im7yroZN9t2BnVldRg1uXaxODJ5Zvpuevx6NPiHOA+4tHmN+zO8LnzC/cJ/TsDOAVoATj7IPnt/AsE7wvhEKsRJREwEVsRwg97Cx4HfAfKDEISWxaCF/ASBAwXCA4HvwU8BK4E2QbCCAsJJAh4BZn/ePp3+pv8k/x6++v7zPy9/HD9vP6T/Hn3qvSo9TL4ivqW/AX+Rf7V/ez9Xv7i/FP5uvfU+ur/aQNJBakF4QKV/hX+TQBpAMz/QgGMA9IExAVMBucEugGK/ib+ZgDjAbECzAOmA0ACDgECAT0BdP/+/MX8//0+/y4B+wKWAXL+N/1Y/YL92fzN+638Rv9zAVUCowG3/iX7kPo4/dT/hwBQADIA3/+G/8wAUgbTECMd3SXzJTccvw54CGcO0xuSKro310ACQ889JDIhItsUrBM6IaA1+ERDSKw/0y//HmoSfQsbCVUMyRVKIDIkdR3dDUn7uOxs5vvnzO2C8jX0ZfQe8Q/qnuKy23fVYdL602HYy97q5RHp9+an4enbgdlu22rfkOMD6IbtRfTZ+mv9ivk28uLtMfGQ+k4EkgpiDMkLdQxADooNaAm0BS4G0AtkFCYaFBokFgsRSg3sC50LEwsuCzgNDRAPEagPpgwNCAsDnP92/pj/4wJWBqUGggOq/lz6HPnp+cD5avgl+N/51Pxw/4T+n/mj9N/yX/WK+bD7S/zu/Ev9N/0V/W77dvjN+C/8Of+eAdwBYAA3ADoB9gBg/4r+BP/QAGYDfQTQAr7/R/7a/60BvAEqAS4Arf4t/hv/9f4X/qH+3f6Z/rP+2/1F/LX7QPyS/AH9uv3n/QP+8v1x/fz8LPya+4L8W/4sADQBlABU/qb8/Pzq//UHyhPcHcoi+yDEGJAOLwltDZcZNSjRNcc+Fz9eNx0s9CAVGWYZbyMDMtw9Z0LhPZYxrCJ8FqgP1A5sE8kaBiG8IncdBBK6BOH5cPOY8Xfz2/Yu+Yr56vcB85TqBuI63W3cq90C4N3i+uQ/5oLnFue14zffAtyT3J7hcuje7XzxVfOr8lTyd/NQ89TyQ/UH+m7+pAKZBnMIgAgWCHkHpgZ8Bj4ImQvoDmcRnhJMEjARVg/gDEgLVwv6C68MJA5DD4UOnwy8CmIIPgXeAnwCUgMpBMcE3gRWA2QAI/4R/fn7zPpQ+qj6avtX/Nv8Tfyq+qv41/c3+EP4TPgo+ZL6PfxN/Qv9r/vt+Qr5JfqG/Oz9af5d/+f/x//m/93/9P4s/jX/kgHvAvUCsQLbAUcBFgIoAzgDMAIaATMBhwLLA/wDUQMHArEAnQDPAYwCyAGeAIkA7wD0AGIBbgECAL/+6v5T/03/7v+aAG0AHACJ/8b+ef6V/0kExQznFSYcNh0YGZESxA2RDVkSpBofJFYtsTQAN6Ay0yniIIYbURyEI1Mt2DNENWEzbi4lJ/gfWBpwFiQV6RatGRkbkRmfFAAOwwe4AgL/jvyr+ib4MPXx8y30bfO58WLvLOvt5Svj2OJL4k/iyeO05ZnnVOmN6QDnM+NP4UvicuVw6kHvufGT8m7zr/Nr83b0j/Vc9kD5mP0aAbkD6QUWBngE5AMzBTgHRwlKC3YMIQwODNMNFQ9oDhkNoAvgCu0LoQ2UDe0LNAoYCdcJYwvUChgIAwXzAm0CIQPxA4MDzwFdAAkAwf9v/vf8sfsn+s75svoq+yT73Pou+lL5vPhm+E74mPiy+Kz4CfmO+Uz6APsL+8b6jfqg+mr7hPw2/XT9pP31/XH+Mv8OAKIA2QDtANQAyABBARoC5AJdA2cDHQP7AmgDAQQBBGgD9QIOA30DEARYBJUDjAJzAtQC6QK2Al4C5wGeAZ4BdgH7AHYAMwAuAAUArv9oAA0E0wqsEpIYFxrWFjwRIQ3yDGAQ+xXGHNwjBSruLTMuNyp0I1gdCht9HTojUykgLVstSipXJV0grBx/Gm8Z7RhTGA4XHBWzEqUP8AtACJ0FbwSrAxsCKv+R+mf15/EA8YLxIvI/8h7xuu7b6w3pqeYO5bDkwuXA56Tpq+rE6gXqoehc51Dn/ejZ69ruKfEc8t3x7vFT82v1SPf8+Ln6cfxM/vH/yAD7AFsBtwIdBbcHlQljCmwKJwreCf8J2AoEDB8NAg5MDtQNLQ3gDJYM8AsgC5IKmgoNCz8Lfwq4CKYGYAVWBcIFoQWpBBgDmQGiAPf/c//3/kj+l/05/dn8Dvxv+/L6Cfo6+dn44fh6+UX6mPo2+nj56vgM+df5lvrN+q/6t/o2+w784vxg/W79W/22/af+l/8sAJAAogCFAMIAbwFOAhQDiAOhA5cDpQPhA1cEqQSOBGcEdwS4BB0FYAVQBe8EaQQbBDAEXARCBAUEuwNQAxoDGgPmAmsC4AFnAW4BuwJNBW0IUQv+DAgNAgznCmcKogp/C+4M4Q5EEdcT7xXNFlAWFhUDFK0TOhRgFXQW7xbUFl8WxxVPFRwV9RSHFMUTyBLEEdMQyw98Dv0MnguwCl0KWQrRCTcI6AW1AxoCMQGtAAsABP/I/br88/sk+x76Avn99zn32PbK9sP2cvbA9dT0BvSo88/zUPTe9BL11vSj9L/0BvVf9bz19vUk9q/2nPeA+Ar5P/lL+XP5A/r++hH88fyJ/dT9/P1R/uH+iP83ANoAPwGMAQ8CqAIVA04DYgNTA20D9gOwBCcFOQUEBa0EfwSrBPwEIgUYBfgEzQSpBJoEgAQ9BOgDnANeA0oDWwNUAwkDkQIHAowBXQFoAWIBMwHeAHUAHgDv/9L/ov9W/wv/2v7G/sn+z/6r/lX+/v3N/cj96/0W/hT+6f3F/a/9p/25/cn9xv23/bH9xf3r/Q7+Iv4V/vb99P0b/lX+i/6v/qv+l/6a/rf+4v4O/yf/Kf8o/0D/bv+a/7H/sv+c/5T/r//y/3IAGAG5AVUC7AJ1A/YDdwTfBDAFlAUUBrIGXwf0B2cIvwgICWEJ3AloCu4KYgvGCxkMWQyHDKwMxQzEDMcM3gz0DAQNCg3xDLUMcgw0DP8L2AuxC3MLIgu9CkwK2glnCfcIgAgACJAHLgfBBkcGygU+BakEKgS5A0sD5gJ9AgUCiQEYAakAPADc/4T/MP/l/qP+Y/4e/tf9k/1L/Qv95vzN/LH8lfx3/FP8L/wa/BD8BvwA/Ab8DPwO/Br8Kfwv/DX8QPxM/GP8h/yl/L381vzs/Pz8Dv0s/VD9cf2P/a79yv3l/QL+IP41/kf+Xv57/p3+vf7S/uH+7v77/gz/JP86/0j/Vf9k/3T/gf+J/5P/mf+b/6T/r/+7/8f/yf/H/8n/yv/J/87/2P/c/9z/2//Z/9v/3//g/+L/3//Y/9r/5f/u/+3/5v/h/+D/5P/t//H/8P/w//H/9P/5//v/+v/8/wEAAAADAA0AEAAPABIAFQAVABwAJwAsADMANwA3ADoARQBMAE0ATwBWAHIAqgDnACIBWQGHAbkB9gE3An4CygIUA1sDpwPyAzcEfAS8BPsERAWVBeoFQAaQBtoGFwdPB40HzgcMCEkIfgipCMwI8AgPCSYJNglFCVAJWQlmCXEJaglcCU4JNAkVCQIJ7gjMCKAIcghDCA0I1gegB2AHHAffBqAGYgYiBtgFiwU/BfQErARoBCME2AOJA0ID+wKwAmcCJgLgAZgBWwEiAeYArABxADUA/v/M/57/dv9N/yD/9f7Q/q3+jP5u/k/+Mv4c/gz+/P3q/db9xv29/bP9pv2g/aD9m/2T/ZT9lP2P/ZH9lv2W/ZX9m/2k/ar9rf2u/bT9uv2+/cf90/3W/dP92f3j/en98P30/fX9+v0A/gT+CP4O/hL+E/4V/hj+Gv4f/ib+Jv4i/iL+J/4w/jT+MP4y/jf+Of46/j/+Rv5H/kX+S/5T/lX+XP5l/mj+av5w/nn+gP6K/pL+mP6f/qn+tf6+/sT+z/7c/uf+9f4B/wn/Ff8h/y3/Ov9J/1X/Yv9w/33/iP+W/6L/rv+7/9v/EQBBAGwAnADIAPIAJwFgAZUB0AESAlEClALYAhMDUwOVA9sDLAR7BMcEFgVfBaIF5gUtBnQGtgb1BjgHdwewB+gHIQhTCIEIsAjaCAIJKglPCW0JhAmVCagJuQnDCcoJzwnOCcsJyAm8CaoJnAmKCXIJVwk6CR4J/QjXCK8IgghVCCsI/gfMB5kHZgcyB/sGxgaQBloGHgbhBa0FdAU4BQUFzgSPBFcEIgTqA7UDhQNQAxgD5QK2AokCXAIrAv0B1AGqAYEBXQE7ARIB6ADIAK4AkABvAFAANAAbAAUA7//X/8D/rP+Z/4T/cP9k/1f/Qv8w/yj/H/8O/wL/+/7v/uT+3f7W/sz+w/6//rv+sv6q/qf+pP6c/pf+mP6U/oj+g/6G/oX+gf5+/nn+df50/nP+cP5t/m3+a/5n/mX+ZP5k/mb+Zf5f/lv+XP5g/mL+W/5Y/l7+Xv5Z/lj+Xf5g/lz+XP5g/mD+YP5k/mb+Zf5n/mr+bP5w/nP+dP53/nz+f/6C/oP+h/6O/pP+mP6c/pz+oP6p/rz+4v4B/xH/I/83/0r/YP99/5z/u//Z//r/HgA9AFcAfQCjAMkA9wAhAUQBagGOAa0B1QEEAikCSgJyApkCuwLgAgkDKgNHA2gDjAOuA8wD5wMDBB4ENgRPBGwEgwSSBKMEuwTQBN0E6QT2BAMFDwUbBSEFJgUtBTMFNAU1BTcFNgU1BTUFMAUnBSMFIAUYBQwFAwX7BO4E4gTaBMoEuQSsBJsEjwSCBG8EWwRJBDcEJQQVBAIE7APbA8gDtAOgA44DegNmA1IDPgMsAxoDBQP0AuQCzgK5AqoCmgKGAncCZgJSAkUCNAIiAhkCDAL4AecB3QHUAcUBtQGrAaIBlQGJAYEBdAFoAWUBXwFTAUkBQwE8ATYBLwEoASIBHgEZARQBDAEGAQYBBAEAAf4A9wDzAPMA8ADtAO0A6wDnAOYA5gDiAOAA4gDhANwA2wDhAOAA1gDVANkA1gDZANsA1gDTANAA0QDYANUA0ADQANAAzgDNAM8A0ADLAMcAygDNAMgAxADHAMUAwgDEAMIAvgC+AL4AuwC3ALUAvgDeAPkA/wABAQQBBwEOARYBIgE2AUcBUQFaAWcBcwF/AYwBlgGhAbABvgHKAdAB1gHhAesB9gEDAg8CFgIWAhoCJwIsAjECPQJAAj4CQAJCAj8CQgJQAl0CYQJaAlUCWgJgAloCUwJUAlQCTAJIAkUCPwI7AjcCKwIjAi4CMwIoAh8CIAIgAhAC8wHjAewB+AHxAeIB2QHRAcgBvgGxAaUBoAGjAacBqQGwAb0BuwGkAZIBkQGMAX4BggGRAZMBowG7AbkBqwGjAakBvQHQAeEB+gEQAhECCQIKAg8CEAIeAjgCPAIsAigCLgIqAiICJgIuAi0CKgIwAjcCOgIwAhoCIAI1AjQCNgIvAg8C/wEKAg4CCgIWAhsCBQLyAe8B6gHeAd4B3wHPAcIB0AHqAe8B3gHGAbEBjAFaAVIBYgFgAVsBTwE9AT8BQwEmAf4A9AD9APsA+AD4AOkAwACPAGsAXgBrAIEAdQBLACsAHwApAD8ASgBFAB8A7v/q//v/9P/s//f/3f+s/7j/2v/e/8v/pf+B/2//Zv9j/27/cf9L/yj/Mf9J/0X/M/80/zD/C/8D/yT/I/8L//z+6P7Z/uH+6f7g/u7+D/8a/xj/IP8u/zD/NP9S/23/b/+N/7X/q/+X/63/yf/F/77/sv+l/7T/y//b//j/GwAdAP//8/8MADAAPQA9AFoAgQCPAKcA3wAUAQ0BygCwAOAABgEKARABJAEvAR0B+wDkAN8AzwDAAL4AhwBuAKcAjwAWALf/ff9O/07/hf+s/7D/qP+X/3D/Gf+a/jH+EP75/cH9ov2p/c79/f3u/bP90f1P/nH+Kf4E/gb+B/4N/i7+YP5o/nH+sP6v/mT+Rv5F/jX+N/56/ub+Wf+F/1T/Uv9S/wz/GP9Z/07/LP83/y7/zv5u/nz+wv7V/sT+u/6t/o7+dv55/pT+xv4H/yf/BP+9/nP+MP4V/k/+yv42/2H/Sv/8/p/+Yf4d/vH9Q/7h/iP/BP/w/r/+lP4F/8D/AACT/yT/d//6/yEAawBoAOj/ef/d/m/+l/7L/uT+Gf9u/83/JACWADABngGeATABogCgAHQBPgIRAqcBtQHwAXEC7AILAy4DTQNWA5kDKATDBCYFKAW7BCUEqwNJAwEDzwKlArECJwOmA6EDNwOdAsMBAgH+AFcBIgFzAJ7/wv4j/s79qv2O/Xj9uP3p/Y/9U/1M/TH9ev0p/tH+Gv/D/tz9Nf1H/Uj9Lv2l/VH+dP4l/vH94P2n/WP9XP19/c39Gv7u/Z39p/3M/bv9+f3R/s3/sADfAHIApgBgAVgCgwO7A8MC9AEOAmYC+wIFBHMEsQO3AlwCVwK2ApEDBgSGA7EC4QHAACMA0wADAtYCagN3A4ICxAFYApADnQSnBYoGxAbjBqcHmQj8CA0J6Ah5CHcIHAmsCcEJqQluCcAIDAgsCPIIcglxCRcJkggrCPYHwgdwBwAHUAaMBcgEsAPWAm4CgAEBAJL+Zf2N/Dv8Rvwq/Mn7Zfst+//6h/qo+bf4F/iE98j2H/ap9Y/1qPVn9fj0WfWY9m/3mffJ9yf4pviH+av6VftV+1L7vftg/PX8Wv1l/Sj9Tf0T/t3+d//v/xMACQBzAFwBJQKwAjoDhwNPAwgDFgMtA3IDIwWQCCEMgw53D1QPCw/hD2MSmhXKF/kXbhYsFFwSdhEpEfAQXBAgD08NZAvTCa8I9gfJB8cHdAcNB8QGQQZiBXMEWQMcAmkBSAEGARIAMP6p+2v5e/jq+Kj5t/kF+QT4N/cl9x34oPnk+pj7yvv5+5L8Uv2+/e/9Kv5a/qv+R/+z/4b/Hv///iv/of+TAMcBwQKlAqYC9QKjA8ME6QVFBqMFvwRlBMwEpgVKBgsG+QT2A6sDEAS0BAEFnQS1A/MC7gJ1A9UDqgMFAysCjQGIAcMBrQErAV0Ahf/6/uX+Cv8S/9H+Sf62/Xf9r/0c/ln+R/4W/ub98v1Y/rL+v/6X/lj+Uf6l/gb/HP/w/s3+1/4E/z3/ev++/wQAMAArABgAQACnAA0BUgFiATUBAgEAASMBTgFyAV0BCQHMAM4A2wDIALUAzgD1ANoAdAAeADUApwAEAeUAWgDa/8j/GwByAGkAAgCH/zr/P/+T/+f/zf9W//r++v4u/4H/vP+I/zP/Rv/O/4cADQEhAekA2wAxAcwBeQL8AhMDuAJBAhYCUwLKAi8DKQOTAsMBQAFZAeUBXQJmAs0B0wB7AA8BuQHSAVoBwQCGALoA4ABuAPf/QQEtBVoKSQ6DD9EO+Q6SElMZBSBqI74i2B+yHTYesCCbIvwhwx5mGsoW7BQKFOYSKhFED+ANLA2cDIwLBAqtCBkIOghwCOIH/wUcAzgAFv6x/IP78fnG9331o/M88hHxHPC671fw5PG/8+r0y/Q59LH0yPbQ+YP8k/2W/OT6SfpX+0T9qv6i/nX9Xfx1/MT9ef/hANwBxAIGBJYFKAeMCJMJWgooC/MLcAxjDNAL4gqzCZQI3wdJB3UGYwUpBAsDXQIkAg8C9gENAmgCsgKNAvoBUAEJAWAB1wGFASIARP66/BD8H/wM/CX7x/n4+Bj5j/nI+bz50fmh+hr8av3t/a79av3z/Vr/ugASATIAzf4Q/qT+6v+GAMD/TP6N/Tn+1P8wAVABjwBKADEBsgLYAzUE9AOSA3EDlQO4A5QDLAO/Ai8CTgFsAPr/EABSAEkA0/9b/0//lf/t/0wApwDjAPQA0ABtAB4AMwBxAF4Aov93/pT9Z/27/dT9HP0C/Jv7Tfxf/cX9P/2X/Mn8Cf6D/yEAm/+w/lP+3P7u/74AkgB4/zD+nv0z/m//VAAoAOz+tv3c/Xj/VQEyArABYgCR/zwA+gF3A18E1AWyCIMM1Q+9EewSTBXlGYsf7iOjJSQlPySeJDgmkSd9J8cl9iLsH00dLxt0GQ0YqxbsFO4SMBHlD9MOyQ29DMoLJwu4Cn8JyAZUA2IAi/5+/VP8/vl39tfyLvDV7pHuve6s7kfuBu417rjunu8j8STzIfWV9in3Bvf/9r739fjx+Vj6QvoV+in6hPry+mP7QPzh/er/uAHJAiIDjQPuBEkHugk0CzoLOgpGCR4Jlgn5CbwJtQgtB8sFHQXoBJAECASTA4sDKATMBKUEnQOCAnYCsQMNBR4FXwO/AN/+j/5H/6//rv58/HX6rPn2+X76mvo8+hT6nfp0+/b7Dfw5/Nf8pv08/nP+ZP47/v79lf0n/Sz9tf0b/t79NP3N/CH9C/4B/6//MQDJAGQBuQHiAUoCHQP3A0IEwgPaAj8CRwKrAsUCFgICAWEAdAD7AG0BPwGUADcArgCjAWcCmQJOAuIBugH1AWICswKVAt8B1gAWAAYAcADAAIgAtf/C/pD+Nf8EAIAAawDm/5D/5/+hABoBGgHBAEEA3//X/xAAMADo/zf/gP5B/pn+KP97/03/q/5B/rH+w/+dAJIAcgA+AqUGwgvQDiQPNg8LEvkXOR6ZIaAhwCBeIXIjMSU5JcojGiLtIPEfYh40HCwa0xgGGFQXcBaKFeIUKxTXEiAR9w/YDwcQ+w7MC1kHugMbAo8BMwAI/dX4XPWP8+vyTPIt8SHw8++C8Pnw8PDT8ErxmPIV9MP0k/Qs9Prz4fOs82nzcfP984X0XfTJ88zzB/UR9wn5e/qx+zP9DP+xANMB3gJPBPIFDQcfB2QGrQWgBR0GjwZdBoUF3gTWBCoFrQUnBm4GuAZIB/IHZQieCKQIWQjHB0MHBgfHBvgFaQSEAv0AQgAuACsAhv8T/rj8ifx8/YP+rf7//WT9u/3D/lX/wP6f/fj8Dv1P/f78BfwN+5H6Zvo9+jb6jfof+477sPu4+zH8e/39/sz/tv9L/23/awB/AY4BiwCH/2n/JQDZAKUAof/Z/hr/JQAuAaYBkQFuAagBRgIGA6QD4wPEA4wDaQN4A4oDIgNmAvIB6gH8AQcC1wEhAWwAfQBFAR8CWgLmAVQBKAF2AfkBRwILAkUBegBDAGwASQC3/xj/jP48/oD+6/7l/oj+Jf7x/UD+Ef/H/+EApgO2B1kLjA0EDz4RBxXfGTAebiAOIcshCSPzI/MjSCOOIh4iiCEPIPUdHhwDG5Uacxo1GqoZ4BgUGFoXjRagFawUmhMmEiMQgg1RCvYG8gOZAcr/sv3X+s33cPUs9M7ztvNO85/yQvKZ8lfzvfN18/PysfLb8kfzSfOM8mjxTPC+7+fvd/A98d7xJPJu8inzqvTy9kj57vr0+wf9eP76/wkBgAHJAVMC+gJJAxgDxAKrAsECBQOUA00EEwXFBTQGegYJB/QH2AiACdgJrAkGCUkI6gfOBzoH0wVDBHIDXQMgAxwCrwDL/wIA8AB+AQ8BMQDW/x8AewCTAGgA6/8e/1P+yf08/Y38Afxo+8L6jfrP+gT7yfpi+o36cvt9/Dz9rf3o/f/9HP5i/qX+x/4X/2z/E/8Z/n39yf10/uX++P7S/sT+N/8dAAYBnQGQAV8B5wHlArkD8wMvA+EBZQFPAmUDWwNtApsBTAFxAfoBmQLMAowCdALeAlgDUwP0AsYC3ALfAqoCWwL7AXwB5gA/ALD/kf/q/1AAGQD9/gP+hf+qBD8LGhAUErMS4xQGGoAgSyXLJjsmHiZoJ9sodSihJSIiRyBYII0ghB9hHREbiBkbGb8ZKBtPHP0bDhqDF1kVCRRWE/4Rtw71CYkFSAKB/5T8o/nW9mf0AvPr8iHzkPKV8UrxxPF68nbzffSu9KvzAfKB8MPv7O9Z8ALws+587Wbtbu7e7zLxpPKo9B33bfk5+8n8nv6QAOoBiQIdA7ID4wPtA6kD0QIxAsACIAQhBXcFsQUnBgEHighpCp0LuAtWC0sLiAtMCzoKlggIBykGsgWTBKMCTgEjARMBhgATAEsA9QCIAbABCQHf/7n/oAC9AGP/mf1N/Hj74vpa+rL59fhY+IT4YfnH+d75gPpb+/37wfzz/c/+e/7U/QP+Xf47/gj+7v2N/SP9Of2C/Zv9AP4T/y8AuQAmAe8BqAIbA6ADHQQ+BBIE4AOhAwwDQwK/AY0BjgGLATUB/QAjAU8BlQELAmQCjALGAg8D+QJ+AhsCwgEDATQA9v+3/7P+8P3A/Tr9zvxG/S3+o/6N/hr+lP2p/e3+HQKrB1MO2BNKF9IZ8hzTIO0knCijKv8qGyvkKvwovyVnI6YiGiImIZQgSCCrH+4eKB5QHckcCh2sHV4d1BoNFrcQOgzMCFoGBQRJACf7uPZu9FPzH/I28fPwGfFA8u7z8fPR8SzwgvAk8avwm++f7mXt6+sx6zrrHOvG647uL/Jy9Hv1DPfI+Qj9rf9KAYoCGASPBQMGLwW/A/QCtwNlBRMGewWgBR8HnQh5CUEKPAt+DGUOTxBAEMkNVwuVCnkKnQkXCCkG4gMUAl8BHwGDAPH/NAD8AHIBdwEwAYQArv9B/6r+Vf1P/LP7f/rO+Gr3l/Zw9lj3/fgH+ir6wPrw+8L8hv0d/9YAQwFxAGz/0/7K/kP/sf9G/zv+9P0w/xMBYAKjAqACLAMsBMsFjAe0BwkGawTkA68DmwOOA2ECLgAq/93/NQDw/0EAqwBpANMAQAKDAmkB+QBFAXMA4P6F/v7+RP6I/FL7zfro+ub7L/2P/RX9Nv2F/sr/IwDd/6H///9MAEYBHQbeDiQXHRwwH50hZCTWKSExdTXoNCMznjIaMqowdS6HKuQlZSTyJXYmYCR7IVwehBvJGkUb5RkyFjYSDg5ECGkBfvsE95rzQPEN78Tr7uef5RbmSuhD6kLrbewe7lrvRPC48Prv+e5s71LxLfM29Kj03/TO9f740v0XAoYFTAnhDC4PDRGEEm8S3REBE8gUExTUELgN6wstC+gLvwy0CywKvAqUDOkMQAuPCHkGWwbHBlcFnwH5/N/4XPaZ9TX1dPPR8ZjypvNP823zwfQT9oH3fPkK+sP4Y/iz+fb5UPgH9xj3FfhH+vT8bf1L/Dr9GwGiBWgI1gj4B54H1AirChILLwk2BjcEcgTEBfsFsARrA7oCiwIPBFwG0QadBboE6wNTAl0BRgHm/yv9qvvh+gX5+ffQ+CL5Svj8+Ln6APs0+z79tv5o/Qz82vzf/Y39Qf3r/G/7cfqp+9P93f4N/73//wA5AmoDsQSvBfYFXQVaBFoFogubFrohuyhjKuopTCxGM2s77j64O9I1YzJaMmky7C7fJzsh/h7sIE8j3SIhH3Aa/xYmFVEULxNCEDkLtwTt/Kf0gexv60Dp/eWO4yLiGOL+5GXpIOuE6qHr+e6d8c/y8vKy8BDtwOxD8Rr2avh8+Wj6zvuo/7QGog0RER8SpBOMFXwW7xYFF9UUAREbD8EPFxAAD94NpgyaCpsJoQtuDgcPhQ3iCkEHogOOAVYARv6++n/2NPOr8T7xD/Hk8MTwAfFx8gz1JveE9yD3zPZK9hf21fZ69zP3P/dj97v2Kvcx+qj9z/9HAggFVwZRB8wJlwupCp8JGAo6CngJSwlZCHUFrAPlBKkGOwfdBxMIBQeLBmgHMAcMBY0DWANqAjcA1f0n+3343PdZ+TT6B/ms9+r3r/n3+2L98Pzz+qL5DPu7/UP+GPzX+f/4Mvml+jT9lf4J/r/+dwHPAioC7ALyBKIG1QvIFkMitykUL+AyETPxMlw3rzzaPF86jTiNNWYxci9zLvkq9CcpKeEr7ivmKZsmNSFaG5QXuhQxEIwK2wS7/tb3pfCo6j3nmub257npEOpu6Enm1+VS57XoQel96Sbpg+iP6APpvuig6F/qI+5x82b5bP6SAdwDiQaICZAMyQ9rEogT/RPiEw0SYA9yDpAPJhH8EpQUmBR4EwATDhNPEiIRKxCoDikMfQlHBv0BI/7h+1P6vfjV95P3afeS9833C/c49dvzDvQk9eL1lPWf877wK+/W74vxCPNL9MX1lve1+ef7vP3n/vn/7wEuBP8EXQQeBOYEhgVhBQUFpgTRBEMHDAt8DK8KqAiUCPkJ8AugDHQK6AbjBPAEHgXdAxoBQ/6E/WD/7QAyAMX+hf11/I/8sf2H/cH73fr/+vr5+vce90H3jPeV+Oj52/k0+VL6e/zQ/T/+Nv4i/s3+JABfADb/RwAlB3sS0h4wKewuazDEMQE2Gjs2PQA8ETq/OHI3jTV2MoYtzyiXKHct+jJnNTc1rDNeMJwr4iarITUbcRWgEd8MvwSS+3P0JvCv7sDvH/Ho8F/wN/EN8qbwNu3+6JbloOTA5UHmfuSz4bnfDOAo4+fn/uxA8uH3Ov0QAdUCLgNwA6oEpQYdCIIIVAhrCFUJmAphCxUMGg7sEWIW1hkVG7UZoRbEEz8SMBE4D3kMlwmsBgQEEAK+AIz/ev6e/hEAGQHsAAgAOf4I+5n3V/UE9PryIvJ78ZzwHO8e7gbvLfFk87/1c/iq+oz7zvth/HL8qvt++2D8C/1X/Wn+yP9GAIYA5wFYBEoHvArsDUQPwQ4IDoAN7gxpDIkLQwpjCR4JlQjsB7QHRweNBrYG0QdPCBQIKAizByYFBwIzAI7+4fxv/Hv8Bfuk+Hb3g/cs+Bz7QAJDDCoWlh7EJCcnwiYoJ5Qptiv5K4grYCvjKmUqqSo1KmYo1SecKhEvlTIkNAkzBi+zKd8kGyCdGigVgBAnDMgHYgNq/pL5rPYY9nz24/Yg94n2gvQP8qTvvOvu5vTjOeP24s/iJePY4vPh/uLZ5v/qNO7l8Vr2Gvqz/F7+Nf6G/Ob79f0lAVQDNgSOBFUFcQcFC7oO5RDxEdAT6BarGdkaCBrLFqkSZBAREKsPdQ7tDNYKrwjQB/UHkgfVBsMGoQbrBSwF/gNlAWP+9fsC+e/1P/Sk8xLz6vIM8zLyKvG58YnzQvX39lv4VvjD9wD4Vfi690z3N/fJ9mL3kvlw+x/8O/3P/vL/ugF6BGQG7wa7B4wISAjSB7wH5QZ7BVQF6gX1BSUG1QbPBk8G4AalB2UHAAcvBxcHYQZ+BcEDAgGO/i/+dAFUCLoQQRgfHjAivyRYJ/Yq2S1mLnsuFi/3Li8uFS1lKjAmkyPgI5kl8yeDKs4rZyvVKt8pdid+JNUhrB7dGi8XKhIcC3kEyP+j+6b3QfX28/nyXPML9S/13fJ78FDv6e4R7zzvse1P6iDnauXh5KnkW+R45AzmSOlT7ZHx5/Sq9lb4dvsP/3YB9gIDBDQE+wNXBJYE1AN1A6YEuwbNCKsKOQycDWUPQhF2EsQSThKKET4RLxGeDzAMlQgABn4EzwNfAysCLwA3/1cAzgHFAaEAYP9M/vr9sP6x/k/80viT9n31ofQe9MzzCfPb8n70ZfYU92/3bPjA+aH74v2b/o395PyR/Tb++/0V/WX7pPkg+vX8wf5G/ob9r/2c/hEBmQQkBvIEFwQwBUQGfAZnBhkFUgLdAL0BTgILA8UGFQ3FE8IaKSGNJKYmTSurMfs1QzhTOR84MjZQNm42rTIfLTgp3yYTJpInziiZJj0jACLVIeQg+R+RHvwa3hbXExAQ5AkkAzX9mPfE8lXvZewo6cPmMeZP5tflWOWb5ZDmT+it6j/sqeu+6Yroj+ja6BfpEel+6GToUuqr7XbwgfLm9PT3pPtYAD0FlAhWCv8LoA1PDpcO3Q6YDgAO2g3QDSsNbgwUDN8LyAsNDIIM/gziDQMPcQ+4DlsNygs5CvEIqQejBb4Cwf9a/Xf7ufn19y72vvRN9Ar1I/af9nP2Vvaa9j33S/gX+dr4Dfic9273GPfX9pP24vVc9Qz2fPes+Mr5Gvtg/Mj9w//JAS8DUgSXBaMGHQc2B+4GZAYKBu8FrQUPBVwE/gM6BMcE+QS+BJIEwQSXBScIrQzxEUAXjhwOIQsknybSKQ4twS8TMsMzGDRPM30ykDF1L44sASoYKPMm2iYOJwQmfiOrIHoe+xzpG6MaQhixFNsQMQ01CcIE3P+G+on14PFc7/zsdOoL6M3l/eNl4/jjxOSf5fzmdehD6bzpXurM6u/qkOuu7FXtmu1g7qvv5PAs8qfzGvX39gr6Dv7TAbsE3gaQCGsK0wwxD6cQNRE6EQIR9BAdEaUQHA94DYwMFgzqCzgMKgw3C3YKlQqyCjYKtglCCVQINAdcBhoF5QKUAML+Dv0h+0z50vek9s31X/Ue9aj0KvRY9HD1wvaZ9wH4Ovh4+CD58fk9+t/5P/kQ+a75l/rr+qD6aPqo+o77QP0p/zYAugDcAWsDrgS4BZ8G5wb0BqIHZQgTCAEHHwaCBRAGxwjVDNAQrhS1GFkcyB/YIzgoySvNLsUx5jOxNLY06jOEMTouMytRKFwl/CIlIb8eshvaGGcWLhTOEmQSzBFkELIO1QxDCjYHCARfADP8P/jX9H/xC+646pLnp+R74ljhAeFm4aziheRb5hfoqukC64Hsc+6U8EzyVPP183j06vRx9Qv2g/b09vj33flD/Ln+GwFaA3YFsgcwCrIM9g7zEHYSOBNFE8MS5hH4EAAQyQ5JDbsLXQpOCYAIrAfABuQFUgVhBfIFVwYcBnMFmQSZA6gC3AHJACT/cf3++4b6BPnC95r2c/Xn9Bv1gfUE9tX2tfd4+Hv5m/pY++r7zfyk/Rn+hP6Z/u/9Q/1Z/ZX9kv3n/Uf+Of6J/uj/SQH2Aa8CkAMTBL0EewbdCIkLFw9SEzYXaRpTHQcgsyKwJbooISuyLJ8t5i3KLVEt/CvHKXsnhyXCI0wi4yC7HtgbExnAFpgUrxL4EAUPvgxVCrMHoQRUAfX9lvpz95v0wfH77rnsrOqb6OrmquW35IjkdeXD5s/nx+jB6ZrqsOtb7QnvYfCq8e7yDvRG9aX2s/eU+M/5WvsG/RX/aAFZA/oEuwZpCLoJEgupDPQNqQ4iD18P8Q4aDngN6Az6C/8KQQphCVYIigfpBgcGHgWMBBUEewMCA6AC2wHRANr/wv5j/UL8ffuI+m35ifi89+n2evZ99m72SfaP9k33IfgH+eL5V/qK+hj7D/zx/Jb96f3p/fH9T/7y/nT/m/+z/xIAuwCXAYUCRgO6AyEEpAQhBXkFzQXGBg0JYgwyEAgUdhdMGv0cCSArI7klvSeKKb8qMysXKykqJSimJVYjFSH2HhIdFRv0GOMWwBRiEiUQdg43DRkM6wouCX8GcQOkAN/9zfrA99v0CPLB71HuIO2U6wTqIekp6RPqy+vF7UPvUPCC8fbyRPRS9T/2HPcL+Cf5QPr9+lb7u/um/CP+4f+YAUoDJQUyBzUJ2wruC14MoAxRDSIOaQ7oDawMEgulCaAIuAeVBlUFXATaA6UDawPuAjgCowFwAVsBBAFaAIr/vf7m/c38Vfun+Vr43vfK95r3Mve09oX2IvdZ+FP58vme+nT7pPwV/gn/DP+w/rb+GP9///D/HgCs/3b///+aAPwAiQEqAp4CbgOfBHoF8gVmBr8GugaABjoGzgWqBccGPwl3DCUQzxP4FrMZQhycHoMg4CGwIvYioSKAIYUf5BzpGeYWPBQIEhgQaw4fDf0LngoSCYAH1wU8BOYChgGM//v8B/rE9oTznfAU7t7rQepc6RbpUOnE6WDqX+vR7KLuv/Ds8s30Uvak96n4Mfl9+f35wPrD+wf9Wv6R/9gAagI1BAoG5wfVCbALRg2LDmsPlQ8UD0sOUw0yDBQLEwr/CKQHQwYvBTIEXAP+AtMChAI6Ag4CqQH7ACMAAf+z/Wf8LPsi+jD5MPgu91D2vvWG9a71YPZp9134PvkU+rj6OfvW+2z8vfzr/CH9a/3f/XP+3/4S/2b/IgA9AY8C1QOuBCwFswU2BnIGdwZhBgwGmwVIBdgEKQSJAyYDxAJgAhwC4AGpAagBIwJvA9IFGAmhDNQPMxK2E+IUCRbQFuAWZhaIFWYUWxNcEuQQ6Q4hDeULMgsMCyML4AoGCscILwcpBfgC/AAT//b8qfpD+MP1kPMX8v/wBvB073HvCvBR8eDy5PMh9DL0kvQ69Sv2Qfft9yT4ifhN+fz5wfoQ/LP9bP9WAVcDFAWEBsoHswgKCRsJSAmKCdAJ/Qm9Cf4IVQgSCOcHzQfOB6YHPgfeBnIGmAVmBAUDgwEgABz/Rv5m/ZX8zPv2+k36/vnF+aP56vlW+nb6afpX+hL6u/nG+ST6YPqW+iv75fuJ/FH9LP7C/j7/EQAPAecBngIkA0wDPANHA14DXAN2A8wDDwQ1BF8EWwQmBA4EFATcA3MDIAPPAmkCFAKzAeEA5v9L//v+qv6P/gr/SQCDAsIFSAkHDM8NFA8FEJEQ3xDWECAQFw89DnoNiAxyC2IKcwnWCLQIzwi5CE8IWweSBSYDigD8/aP7yvle+Bf3BfZQ9en0wfTv9Ej1lfX99a72Wfeq96b3Uvfj9uT2k/ew+Ar6rft0/R3/pwAZAjgDHAQWBe0FZAaYBpoGcQZEBiYG7QWsBbMFGAajBggHBAd1BpEFpgTBA80C0QHeAPT/FP9S/p/98vyT/Jn8rvyq/LD8u/yw/LX8m/wS/Gv7Ffsq+5z7TPzk/DD9ev0Y/tr+dv8IAJMA9ABFAaYBvwF2AVIBdwGcAaoBxgEKAmUCygIqAxYDlQJIAjUCGQLvAZIB/gB2ACsABAC3/1z/V/+f//b/LQALAKr/cP9v/0T/7P6p/nD+V/5p/un+wABPBPgIoQ0YEfsSvRPdE5MTsRIuEakPzQ6LDkoOjA0zDIUKBQndB74GWgWoA5QB6P6R+7z32POP8H7uve3S7VbuRu9q8GbxGPJh8mny0PID9Kv1Hfcl+B/5ZvoT/A3+IABuAjoFMAifCgcMZAwUDIML0gr5CTAJ2wgBCTIJEQlwCF8HWQa0BRUFBgTCApUBTQDN/hr9N/tx+Xz4kfgo+cb5V/rM+hH7RPtP+x377fri+kH7F/zN/C39f/3//en+XgANAmoDVgQRBYYFRwVPBBEDGQLjAXgCMANjAyQD/gIUAwkDuAIBAuMAAgCt/1f/pf77/W/9yvx+/Mn8av1M/kn/1P+N/9b+S/4i/jf+Xv5Y/lD+1P7j/+AAaQGGATYB+gBrAQICLALvAT4BPwCE/wQAugLzBwAPIxYlGygd5BxMG/oYdBYNFPQRABGGEUYS3REWEHoNpQpDCE4GAwQZAcP90/nx9KbvBevd56Xmeuek6Rfseu6P8Kjxb/GZ8PbvB/BV8dTz5PYI+g79z/82AosENwc3Ch4NUw8LEEYP1Q0aDFcK8wgRCNAHiwj7CbcK0AmnB94ErQG9/nf8Yfqu+CD4avh1+CX4LPi5+Kv53fru+3P8rPz//BP9g/wA/ID8HP6EACEDPQWLBicHKQdrBhAF/AOVAzoDmQLZATEBAgF9AcgB7ACR/+f+M//K/4T/n/3E+tD4BPmh+gv8tfwa/cz99P4fAIsAIwCv/5b/rv/z/3UAHwHXAXMClgKDAgoDIQTfBKsEmwP8AXsA0v/T/7//Xv8P//3+Gv+M/0sAuAAMAFT+Zfwy++L8lAMuDoUZ1iJRKGgpYicMJOUfMhvbF98XqRpEHpkgxh/RG7IW4BEMDcUHlQKy/W/4rPL57PrnAeX85BPnmum763vtlO5d7pHsBOpK6LHoBuzj8WT4SP5nA2sHCQqkC9UMng21DU8NzQw2DMoLnws3C5QKXwrpCnkLwgppCA4FBgGQ/HX4h/UR9Eb0z/U+98z3OvhH+Vv6Rvoj+Tn4J/hH+V/73PxW/Ur+swDNA5MGhwhdCYIJQQlECJYGqQRDA/ECTQPTA0UEXwRMBOIDqwLsAPT+//yA+4L6s/n9+Kz4Hfkz+pr7J/0Z/kb+kv7O/lP+ff3z/Nv8Yv3w/isBBQNWBJgF+AUZBSIEmgMBAzgChwG2AP7/RgBwASEC3wGIAW0B6ADV/4z+8fzL+wf8uPyx/E78tfwr/vX/7QBKAJ/+Z/3p/qAFvRG/IL0unjdxOXM1zS5xKBgjOR/BHtQhrSbfKhkrHSYuHkIWWw96CPoAofkN85XtL+ns5DPhPeDs4irnRuoX68jpvecw5unksuM85OzoxPHc++wDpAjjCqAMxA40EK0PMA6jDS4O3g79DooOQw68DmAP3A7RDB0KEgfCAub8vPZb8pLx/vNs9+35zvrD+nf6ePmj99D1CPXF9Wj3WfnT+8n+7AHRBLIGYAcHCGwJLgodCc4GaAQDA0oDwAQkBh8HGQiYCIUHzAR1AWT+5PsW+t/4E/ib+Ln6tPxT/ZT8Yvsb+8j7M/yQ+136+vkW++r8af50//EAbgPWBZ8GpAX7A8wCfgJ6AtMBDAGXAWsDDwWABb4EJgO3ARMBWQCt/sT88ft0/HT96v1t/bb8Df2l/vP/h//G/XH8nvzX/Y7+yf2d/MT8UwCzCaoY1Cl/ODNADD8+N7ItZSbZIXkfeSDKJS4uaTYLOvw1QitiHkETWgp0Ahr7LvQf7ivq7ugx6i/tVvCR8XXvmuof5W7gydyh2jLb9N9/6Tf2FAJuCbcL4gocCVoH6AVNBdkFtAfpCmUOLxGzEzEWUReRFRURPQtEBQMApPtM92LzZfKF9XT6M/5q/1T9wPhO9H3xl+8W7uvtw+8r8x34aP6DA+wF1Ab8BqsGQQaHBeoD1QE0AV8DKgf6Cu0N6w4aDnQM2wnIBf4A7fxO+nr5O/q9+3L97/6n/x7/Tv0V+3P5cvhu9yr2VPUF9q74hPz6//8BKAOQBPoFSQbWBDQCIABfAJoC4ASsBg0I7wjUCQQKVghgBacCEQH2/1X+0PxZ/CH9/v5sABYA0P73/ZT9kfx4+lH4cvds+Or6af2j/gv/yP/wANcBMQLkAR8BVQCT/wP/4f7BAG0IxxZbKGA44UAmP5c2Qiy3I08ePRwCHj4jQip6MPYxyCx3I8gZmxFrCq4Cz/kP8bzqMeh46Anqbuxg79nxhfJU8NTqo+O/3UPbn9345HLvg/qvA1EJgwuPC48K4wj8BucFNgavBzYKAQ0hDxERQBO9FBwU1RBOC4IEp/2h91vzRvIN9cX5af1//kr9IvvI+MT1GvKT7rjsR+7S8vb38/uX/loAPwI9BTYI5QinBgQDKwCW/5AB/wQJCHAKVA21D2AP/QvxBjYCHv+O/Wv8c/uP+0L9zf9LAXEAL/41/Dn7nPoY+Yj2wPSH9fH3WvrA/Hj/RQKCBB8FOQMhAHj+q/7y/u/+KgAMA8MGwgn6CUsHLAQVA7cDeQMlAR7+H/x0/PL+UwHTARYBhQA9AKP/VP4o/Kf5PPjV+LD6hfxO/kwAoQENAtQBsgA4/6n+/v7v/kz+h/5eALwCqASCBeMEsASmCO8S7yFkMfI7vD3FN0sv0ygvJZQjPiTTJ7wtCjS9Nvkx/CZgG2ITvA6VCpcEqfxA9UfxSPBn72Huu+6W8FbyqvGx7Kjkft5Z3cTgSOck7yP3gf4VBAIHuQZnBFQDQQTlBQgIDwr/C5oONhGhEqYSXRLNEq4Syg/DCSsCxvv6+MD5rfv8/On9pv6t/jf9iPnr86zux+zP7hPyPvSH9cv2T/k9/XQAtQFxAbwAvgBRAZ0BjgGaAVoCqQTrCJ8NTBCSD8sL2Ab+Aj8ByQBAAKj/PwBRArMEywV1BPYAXP2v+5L7Z/t/+hn5wPeW94b5sPy6/9kBWAIZAVH//f2W/Er7CPtN/Gr/RAP3BfgGygYOBu0ENgNYAR8A7/+kAHEBuAHPARMCXAKUAuQC8AIWAhQA//we+ib5ePpQ/aH/8/+S/8v/QABXAMX/9v18+5n62/sc/msAvQGtARkBIwEIAgEDRQN9ArMAvf7b/Uz+Sf+BAuILXBsgLY47OUBDOhcvvySSHgAdKh8lJO4qDzLrNn02ODCYJoEcgxOADO4G/AD0+jf2FvML8pPz+PYW+or6RPf18LLpE+Rq4Y/hsOS763X1Xv6vBP4HIgh1Bs8EpQPsArwDiQafCdELlA7JEgcX3xnxGWYWfxDWCtcGlAMWAL793/0nANID4wa8BtsCS/0B+KnzvPBO79zuYO+Y8WX1G/mD+yn9Ef60/bf8X/ue+Zf4j/kI/ML+1QHuBUAKWw2BDr0MUggDBBkCxAHGAZkC6QMIBYwGgQg7CW0H+QNtAB39tfo1+vP54/jA+GD6Ff2j/8MA7P90/fb6Afq0+SX5//iG+Sv7Q/63AfsDmgQlBCwDOQJnAZUAHQDt/zMAqwG2Aw8FZQX5BPIDFAPXAuUB0/+i/QD82Pty/ab/CQHnAB4Avf8T/7T9PPz2+kf63PpD/P/8Qf1n/lIArQFQAbD/Yf7A/Qz+/v7P/qT+NADzAcsCrgLAAfgB7gZdEhohJy31Mmcyly1aKMkkgyJEImAmWC76Nc85pjjUMzMu0ihGI0sdUxfpEvIPewx3CD0FpQOoA/ADfwJL/gn4Q/EI613m4uTz5lXrrvB79Tf4xfh1+Nb32/Yv9nj2LPh7+9f/QQSEB80J1QwiEBgSYxJGEIQMkwmDCC4JoArEC3UMgQy3C04K4AcxBBAAkfwm+tT4J/gk9/L1hvUN9iv3yffX9rz0YfKc8AnwdfB38RvzgvVN+NH6s/zM/fH9bP02/Qn+Of8dACEBJAKGAxcGrAj4CbgJUwg1B60GCAZNBVoEcwN9A1sEaQXtBUcFxQMeApAABf+U/T/8Mvsi++X7d/yR/Kb8E/1z/fz8ofse+kD5efmG+or7P/yE/UL/PABnAGMAYgBMAAYAov+D/zgAygEeA0wDHgOrA6EE8AQ3BLoCKAF9APAAzgFAAukBjwFzAQ0BEQGBAQEBkf+J/jr+9f3X/dz9of2q/Zn+zf/l/7X+o/0S/SX9QwA5B3sPORaIGSwZDRe3FTEWXxeGGNsa4h44I4ImCCiEJ80leCSFIxIiJCC/HdQa9xcaFqcVChYvFiEVbxKjDpQKQAbGAQb+uPsS+7T7mfyo/Ij77PmU+Gz3LvYm9ar0fPR+9Aj1OfYY+IX65Pyf/qP/LgBJAL7/9P7t/icArwK5Bc4HrgghCYAJnwljCZIIHwf/BewFgwYQB/0GQQZ2BUoF3QUSBpcE3wFp/7v9Q/0//U79XP2x/QL+6f1d/Wb8Ofsk+mj5TfnG+Xr6DvtM+5P7avyU/U3+J/5r/cD8svw3/cP9F/6d/rP/AgHtASACtgE0AfMA1gCrAIUAoAD8AFoBswEDAiMCMAIWAp0B7QAxAJn/Y/9//7b/7P8bAEcAaQBjAA8AdP/d/on+cf6A/qn+2v4c/2T/mf+9/7v/qP+3/7b/aP8G/+j+E/+N/zwAmwCpALAApwCbAJIAawAiANb/4/9ZAKoAqgCkALAAxADyAAcBnwASAOD/6//m/6n/OAD0AhMHCwu7DVEO1A2JDXANjg35DRwPfxF6FAoX0BjCGSkaYBp5Gk4ayhkRGVoYzxe7F0EYAhmjGfYZtRmZGL0WgxRFElUQ/w5eDkgOVg4zDq4NmgweC58JRQjkBmQF7QPEAhYC6AH/AfsB1gG5AXgBzwC2/1r+C/1U/Fj8qPwe/aL9+P0V/gH+v/1M/Z78Bvy4+3/7dfuu+/T7Tvy9/Az9Ff3h/In8B/xf+8/6l/q2+gr7g/vv+yH8Mvwo/Ob7g/sj+8j6gfqI+ub6RPtq+5r7+PtQ/IH8bfwj/Nn7pfuj++D7Pvyj/A39Z/2t/QD+T/5L/vv9wv3M/fv9Ov6B/sb+GP97/9j/EwAXAOf/rf+Z/6n/xf/h//3/OwChAPAAAwH7APMA0gCgAH0AeACWALUAyAD0ACwBWgFzAV8BOAEbAf0A3wDcAPMABAEVAT0BcAGPAZABegFaATcBGgEPARcBJAEvAT4BWAF/AZgBiAFvAVcBNwEdAQ0BCAEXATIBQAE7AToBUQGrAUQCyQIfA2sDswPbA/oDPwSrBCsFtQU+Br4GOAelB/IHJghxCNUIJglZCYoJtwnYCRIKaQqnCsEKygrFCq8KiQpfCjkKFQr8Ce8J4QnDCZwJZwkcCcoIhQhDCPIHpAdfBxYH2AanBnMGOgb3Ba4FaAUgBdcEkwRSBBsE7QPHA6sDiQNYAywDCAPeArACjQJqAkgCMgIeAgkC+wHwAeEB0AG8AaEBiwF5AWUBVQFIATsBNgEsASEBGgEGAfAA3QDFALYAqACRAHsAcgBqAFgAQgAtABsADAD4/9r/vf+r/5//i/9z/2T/WP9E/zD/Hf8J//f+5f7N/rr+tP6s/pn+iP6F/of+fP5i/lD+U/5Y/k3+Pf42/jn+P/4//jr+N/43/jv+O/43/jr+Q/5Q/mb+ef5//oL+iv6Q/pz+tf7G/s7+4f72/gb/Gf8u/zv/S/9p/4X/lf+s/9D/6/8FACsAUABrAIcAsADbAP8AHgFFAXIBkAGhAb4B5QEIAiMCPQJbAnoCkwKpAsIC4gIGAygDSQNgA2IDbAODA48DlgOmA7MDtwPLA+YD8QPzA+wD5APqA/oDBgT/A+8D7AP3A/4D/gMHBBQEFAQLBAEE/AP8A/ED3gPbA+gD6APgA98D1gPDA7gDsQOdA4MDeAN0A2kDVANJA0oDRAM2AzEDKAMJA+gC4ALmAuACzQK/ArcCqgKgApkCjgKCAnwCegJ2AmsCVQJQAlsCVgJRAk8CPwI1AjwCPgI2AjoCQQI4Ai8CMQIzAi4CMAI0Ai8CKgIpAh8CEwIaAicCKAInAioCJAIcAiMCLgItAi4CNAI7AkECTgJeAmUCaQJzAnsCgwKUAqECqwK8AtAC4ALnAvECBwMZAyMDMQNDA1MDYgNtA3YDggORA5wDpgOrA68DvwPGA70DugO8A7oDuAO3A7UDsAOqA6IDmQOJA3EDWANGAzYDGgP+AuYC0QK+AqQCfwJiAlICNQIGAuIByQGrAY4BcgFSAS0BCAHiAMEAogB8AFkAOwAdAAUA6v/C/6T/k/95/1L/Mv8c/wX/7f7X/sP+sP6c/o/+gP5m/lP+Rf40/ib+HP4W/hH+C/7+/fj9+P3r/eT96v3h/dr93v3f/dr90/3X/eH94/3g/eH94/3j/eP95/3s/fH9+f0A/gH+Af4F/gf+Cv4T/iH+Kv4w/jT+Nv46/j3+Pv5C/kr+Uf5U/lP+W/5m/mT+av51/nj+ff6F/oj+i/6P/pb+nP6e/qb+tP69/r7+uP66/sX+0v7c/ub+7f7x/vX++P76/gD/C/8V/xf/Fv8c/yj/Nv86/zX/Ov9E/0X/Pv9C/0z/UP9Q/1f/Yf9l/2v/cv9y/3D/c/96/3//g/+E/4T/hP+D/4L/f/98/4P/i/+L/4v/if+G/4f/iv+M/43/jP+G/4D/fP92/3P/dP91/3D/bf9v/23/Yf9b/2D/Xv9e/2D/WP9S/07/TP9T/1T/Tf9M/0v/SP9J/07/Uv9O/0n/Sv9O/03/S/9Q/1X/V/9e/2L/Yv9m/23/bv9o/2T/af9y/3n/gP+K/5D/kv+X/5f/lP+c/6X/pf+l/6z/r/+v/7b/vf+9/7r/wf/M/83/yv/N/9P/0v/R/9r/3v/Z/9v/3f/c/+L/5f/k/+X/7P/x/+//7v/v//H/8v/2//7//f/7/wQABAD+/wEACQAIAAQAAwABAAQACwAMAA8AEwATAA4ACgAOABYAFwATABMAFQAUABYAGwAaABoAHwAmACoAJwAkACYAKgArAC4AMQAtACkALAAzADcANwA0ADUANgA2ADwAQAA/AEEAPAA9AEYARQA/AEIASABLAEoASwBQAFQAUwBPAE4ASgBFAEoAUwBSAE0AUgBVAFAATwBVAFUAUQBSAFMAVABUAFIAUQBRAFEAUQBTAFAATQBSAFIASABFAEcARgBGAEgASABGAEQARABDAD0ANAAwADEAMAArACgAKQApACsAKQAiACAAJgAjABYAEgATABIAEAAOAA4ADgAKAA0ADQABAP7/AAD9//n/+v/8//3//P/0//P/+P/u/+r/8P/o/+P/5v/k/97/2P/Y/97/2//V/9P/0f/N/8n/yf/K/8j/x//I/8L/vP+6/7b/tP+2/7r/u/+5/7T/r/+s/6n/pf+k/6b/pP+h/6P/p/+m/6D/nf+e/5//nv+c/5z/nP+Z/5n/nP+Z/5j/m/+d/6P/pf+e/5j/mf+a/5r/nP+d/53/n/+i/6P/o/+j/6H/nv+f/6H/p/+q/6z/sP+w/6n/qP+w/7P/s/+4/7X/tP+9/8D/wv/L/8v/xP/E/8z/z//L/8v/0v/X/9b/1//c/9v/3v/n/+f/4v/g/+P/7//x/+3/8//x/+//9P/v//D/+P/2//r/AQAAAAEAAQACAAcACAAFAAAAAAAJABMAEgAKABAAGwAcAB4AHAAZAB8AHwAfACUAJwAmACMAIAAiACgALQAwAC8ALgAyADQAMgAwADEANAA3ADcAMwAxADMANAA0ADQANgA3ADUANQA2ADEAMAAyADQAOQA6ADMALQAuAC0AKwAtAC0AKwAtAC4ALAArACoAJgAjACIAIQAkACcAJwApACcAHwAdACIAIwAgACIAHwAbAB8AIAAiACcAJAAdABsAHgAgABsAFwAbAB4AGgAZABwAGgAaACAAHgAXABIAEwAbABoAFQAZABYAEgATAAwADAATAA8ADwAUABMAEwASABIAFQAUAA8ACQAIAA4AFQAXABQAEQAQABAAEAAQAA4ACwAJAAYAAwABAP//AQAHAAYABQAFAAEA//8CAAMAAwADAP//+v/5//j/9P/2//j/9v/2//n/+//1/+7/8//4//f/+//3//H/8v/x//b/+//1//T/9//2//X/+P/8//v/9//2//n/+v/1//b//f/+//7/AAAAAP//AQABAP3/9//4////AAAAAAQACQAIAAcABQABAAEABgAFAAEAAQAGAAkACgAHAAEAAAAAAAAA///8//z///8AAAAAAgADAAAA+f/7/wEAAAACAAoACgACAP//AAD+//z//v////3///8FAAcAAgABAP//9//3//3/+//4//3/AQAAAAMACgAJAAAA/f8AAAEA//8AAAAA/f/+/////f/6//b/9//9/wAAAAAAAAAAAAD+/wEABQADAAAABQALAAcABgAKAAUA//8AAP7//f///wAAAwAHAAYABQAIAAgAAwABAAAAAgAFAAMABQAHAAEA//8AAAAAAgACAP//AAAEAAQAAQAAAAQACQAKAAYABAAGAAoACQAFAAUACQAIAAQAAwAFAAUABQADAAIABQANABQAFwAaABkAEgAKAA4AGAAbAB0AIAAdABoAGAAXABcAEAAFAAAAAQD//wAADgAWABgAGQAUAA0ADAAFAPv///8MAA0ADQAOAAoADgAQAAcA//8BAAYABQACAAYACQAGAAEAAAAAAAIAAwD9//f/+f/9/wEABgAIAAYA///2//v/AwAAAP3/AwABAPf//v8HAAMA/f/3//T/9v/z/+//8//4//H/7f/2//z/9f/t//H/9v/v/+7/+P/3//H/8v/x//D/8//z/+3/8f/8//7/+v/6//3//f/9/wEABwAIAA4AGgAbABMAEQAXABsAHgAmACsAKAAoACsAKAAnACYAHAAUACAALwAiAAgADgAmACUAFwASABYAGwANAAAADgAUAAAA9P8BABAAIgA0ACgAEQARABoAFwAMAAoAEAAMAAYABgD7//H/9/8CAP//7v/l/+7/9P/n/+P/9v/w/9P/2v/0//f/7f/x//3/BAD7/+H/5v8BAPH/z//N/9f/y//D/8v/zf/P/+f/+f/s/97/4v/n/+n/7v/7/wMA9P/r//v/CQAFAP///P/z/+r/5f/j/+f/6f/l/+r/AQD9/87/tP/O/wYAJgD8/9v/AwAVANH/mv/G//3/4f++/+X/DwAWAB0AIAASAAkAEgASAAwADAAGAPr/5v/Q/7r/lv+O/7j/yP/G/87/yv/S/+z///8HAAoA9//X/8v/vv+l/6r/wP+6/6b/s//P/7L/ff+g/9r/5//8/wAA9v/9//n/DwAxAB4ABAALAA0AAQAMAC8ANQAUAAcAHQAgAPf/8f8dADIAPwBQAEwATwBiAFwAKQDw/+f/BgAdAB0AMgBcAFwASQA0AAoAAQAaABIA8P/1/yMARABJABwADQBeAHMACwDT/woAFwD9/y8ATABFAGkAoADCAIYAHAAtAIYAigBiAHAAXAD9/+f/JQBLACIAy/++/9v/0/8IAEcAUABwAEYAEQBbAG4A+P/N/0YAjwBRAB4ASgCsAI0A5f+p/7L/cP9c/8r/DQC8/4H/y/8lACYA8/+h/4T/4v8bAO7/4f8NAAoAIQBhAOv/kP/l/7r/Tv9+//X/DQCw/6T/CwDu/5n/yf8DAAYA8v/U/+r/WACyAIMALQApAF0AeABRAE8AmwCwAJ4ApwCnAKMAjQA2AO7/UgDKAHkAEwAOAHEA1wAgADMATQEuAMr+XP+k//f+6v7w/8YA1wC0/xT/xAAmAPL9N/8uAOj+3/7t/4L/6f36/bD/3v8m/ob9pP4c/0/+Jv4m/xcAZAA2AJD/6/7i/tr+Xv6W/jQAbAHmAOP/rP/B/yb/Nv4d/tn+hP+F/4z+//4PAV4A9v4SAM0ATAAQADYAUQClADkBOQGzAJkAYAHKAS4A2v3q/UcAfAHRAOcADwJRAkkBxQC7AbACAAJzAGoANgEfAYkBkAFSAE4A/gA5AC7/tf/c/0//eACkAekBfgGs/1b/Fv+I/S0AtgNVApr/l/4h/+UAtAIGAjz/Sf5RAJwCowFU/yQCFAZ2A8X+av7GAcoC2v0b+sH+LQW2Arv9eP/yAAT+e/zE/bH9RP3L/7oB5//8/ZQAewQeAoT9tf9KAwL/Mvql/zkGWwTf/0z+QP/M/839uPp++1wAZQJY/y/9UP9bAV8AdP26+rL7Tf+tAYwBi/5s/X4B/wLR/BX4lvx+AZn9E/n4/VMEewPKAMEAFAE1AJX/RP+O/wMBhwGlAMj/S/90/qr70/md/KH+mP2S/Sz+8/7GAJ0BPf8k/ev8JPyi/mkD2AEs/Gn/9QcBBwUC1/8qAJUElwQRAD4C2wjsCq0HfQQFBHMFZwV4AVL/bgI2BvQHMQnCCDkFNQPAArr/xP1vAXUDUf53/BIBZgPqAFz8ivoC/Bf8RPyp+9j4Cvzy/zL9Gf1GAFgAd/zC9jT0wvnsAHz8LPfK/vYE4v5N9574L/1V+wr2TfYz/CoBhv8E+an4yf8PAoL8ufu0AD3/0/te/jIE4ghTBmcAMQFTBZEA8/vkBG8HHAFKBDcH/wEwAHgEkwIE/Xb+nwKDBd0Cd/tx+7IBBQMC/9P82P2C/VX6SPZp9U733vZB+Mr7DfpW9xz2ofMo89L0OPbU91H5QPfH86vzkPI28EzygfXn86nxEvWX+DDzke2389X5LPmc+J/2E/a19473Vfqw/bf8vvxJ/0//JP2X/tUC4AKj/zQBLgfMB0ACZgKsB6EIoQjWCUQK6wuEDZwKigQSAz0IaQ02DXYK0Az5EEEOkQmWBu8EowinDKAJFwXzB74NCg0iB0ECcQGcAqQBRv40+xX7Nv4yAKb+cP3a/WP8KPZD78ryVvpt+Xf65P4H/GL3Tvmu+ov1XvMg9qr5YP7W/7b+LP4+/L/7uv2f/e77nf1vAdgBoQCIAbkE7QfCBaAAzf9iAWUC6gOXCGoS0hiUFDUOPw24DYwKOAd8C6oVChxrG8gYvhbDE+URrA/4C0wPShaBFrcTTRQaFtITXA5kDOwMmQrUCF8JugmvClIL9AlsCFQIOQY0ACz7DPv3/QwAjACLAS0CKQCS/IL4ZPVE9Xv2cfbD9yT9ewDQ+2z1M/YK+Zn2fvNk9Bb5hPw2+kH56/3w/9f6yfZz+Lb65vwG/hz8ovzPAUYF6wJ3/9v+6v/UAAoA7/+MA3sH5AZnBFMFUQdJBtsCTgDPAQ8G7wckBmMG/QjSB4wEugI4Aj0DPQQCA6kBJgRlBxMGMgKFAEYBHAH0/nP9ov4uAWICEwEv//3+IP++/b77EPuz/I/9//ur/JL/dv/b/Ir8Vfyg+ez5rfxI/fv8Pv0J/tj+sf5M/ar8UP2K/KD73f0jAVMBU/9P/xkBbQCj/ob/XQCr/9X/OQGoAr8DhAMtASUA5AG5AnIBrACwAcMCpAI/A0QEzQKUAUgCPQEh/38AtANEAzsBDgG+AXkCuQGA/67+QQBwAREBMQFEAWgAtf9p/wgABwGVAO7+J/7a/kgB0wcuD7UQlQ2UCXEGbwW7BkoK0A+sFYEZ5Rp/GpAX2hLVDsUNbhEMGG0dhR9uHjEbRBcfFD4TzhO5E7UTERQoFLgUnhT1ETgOVAycC+wJywcRBvYEfQQeBNMDIgRLBA0C4fzl9zX25/bC9674H/oZ+5j6e/jv9O3xCvHh8N7wxfIb96n6w/mC9dbyBPTA9Wn1VPVf9wz6h/vb+y/8AP2p/WH92PyT/cX/CwJbAisB8QFnBaUHuAYABv0FzgTJBHUGAAg1CegJ6An1CVkKYwlzB24G5QVhBmoIFQoJCscI6AbiBDoEYgTVA68DbQNmAkgC6AIAA1kC0QAD/jP8IP3e/Sv+qP5n/ev71fvw++D7LfxZ+7/49vcS+uH76PtX+0X7F/tj+mn6EvvC+jH6RPsu/bf9N/3J/Zb+Uf2V/Pb93/61/zcAnv8VAIkB5QFxAdUBRAKCAfcA8wGvA40E7QO4AlECZQMJBdQE3gL0AXoCfgNRBCYE0QN3A0cCZgHoAdEC0wIMAvAAVAA9AQ8CcwGMAML/1/59/kD/CwBo/+H/tQUeDm0S5hD+C+0FPQEQAugJVxTgGxUfbB4XGzsX6RM6Eb8QdBTwGvAhiCcEKAQi0hmzFHsTbBWVGdIc5xx2GggYVBdWFocTeRC4DX4KdwikCbcKwQmxCJgG8gNCAsL/qPtP+Lr2oPWg9oj66vx7+kH1BvGw7irtVu2S7yLxU/Gp8vH0d/Sz8JXtJO2a7Yzv7vPv9pn3OPfA9aL1svcp+QH5Zfnz+ir8kf0iAKECVgNsApwB5AEeAxgFbAb+BdsFkQc1ChEMeAs7CWAHbQb1BiUJdAswDHgLCgp9CEQIHQgsBqYE3gSzBdgGKwizBzYETwAP//v/xQDfAAYBKQDS/R/9Of4G/mn82PqY+QX5L/q7+/f7RvuZ+Q74dfji+Ur6PPkg+Dn4HPmM+ov8Kv1D+9z4avgk+mH8sv3V/aL9uP0P/r/+PP/g/mL+y/4NAH8BuAIoA1oCFQHkABECdwMZBMcDEQP3AtQDbwRPBHkEUgQlA3oCkQMsBTAFcgOhAbEBXANtBDwEGQMyAdT/bQBHAhkDLQJBAJn+a/6E/0sEdw3JEycTaw8tC3sFkAIaBzAPGBgZIRcmPySCHfUUyg29DRUVBh4LJkUs8CwnJgMd/haHFOkUeRiaHgEjwSFnHpUbdRahEFcOjQ7fDWwNxw3wDMULmQltBosE/QF+/dD5PfhU94j3AvrO+4P6wvbt8frtaesN6g7rke7A8Y3yYPLP8PLsYOkD6BzpSuwF8Hryp/Mf9Pzyf/GQ8SjyxfJp9CH3xfmq+yT9Av6X/Tf9Cv7p/tf/agH0AkQEHgYgCN8IkAgBCAIHyQXeBUYIvAvzDdQNFQz7CU4IBQg2CTcKGgpoCQYJhwlUCsQJVwcUBX0DngJWBLQGugYHBcACGgEYAdABJgEf/3z97/wM/k4AiAGvAN39ivol+Rv6Kfuw+139Pf7c/CT8efxJ+//4ofgD+m779/xT/qT+A/7I/IP6mPlf+9X8Uf6pAOIAgP5f/UT+Uv7W/mQAeAC9/y8AGgE6AXQBmQEMAVoBpQK2AhYBFAC+APQBiQO+BbgFDALi/kH/7gAmAiQEAgXRAuMAvAG3AtwB4ABX/wL+pv90A34JuRGMF5UWLRDFCIYDqAMEC0IXUSMvKqQqfSa3HtEV8hBRE9cb/iZaMWo3hTXdKzYgmxhZF2MbOiL5KBctuSyHJ8IgixrtE1APIBBGFAMXmheYFpMSdwzfBukCGgCg/fr75vvC/MH96f34+9X35vFP6+PmEud66mDuMPLD88Dw7OqG5cfhY+Cq4m/niewE8TLz2fBZ67fmMeR55ezrjfMv+PH4HPcG9RD0afTm9Qj4yvml+27/ugN5BWsEOgLiAEUBIgMjBvMIEAoyCikLoAznDBQMwgoLCQsIGAkiDF0PxRD7D6kNtQpzCCAHmgauBw8K2AsYDGAL+wjqBNUB/QBEASYC9wOPBTUFIQOQAJD9Mvta+278QP2P/ib/C/6U/HL7avnA93n4EPoR+7v77vsK+6/5Y/kT+jz60vnT+UH6Avty/IT9pfy++4T87vwh/FT8l/2V/Sr+gwDHAVUBzf/m/X79mf/IAWEC/wKWAjYBAALbA5kDigEzAFwA3gF/BHkGLAbhA1cBLwBfAI4BmgPoBHQEPwMdAkoBcgCcAd4IvhKuF6UW4xHMCScCdANjDlQcdCe7KgYnwiBcGeASwxL9GToiZCo/Mz42MC+PI+4afxe9GTMh2ymYLqAspSYjIdobfBZ/E5ATfxXwF40Z6Ri4FcsPTwgYBGUDtAGD/0QAWALQAcv/ov2/+ePzru2O6kLsH/Be84z1g/Ug8WPqtuX44zzkoeY360TwCfNe8t3ulukc5XfkNeiS7sv0O/jr96n1TPNP8Qzx6vKu9R352P37AQgD5QGR/iP7TfzH/20CtgUuCdoJBAmSCaoIHwYjBYIFogeLC6MOCg91DTAL7gjtByMIrghbCSQJfQnMC60M/Ap6CBYFSgHpABQE0gUkB4IIYgbsAtkAyf6f/BP9vP41/+4AvQJbARP+TvtY+R34rfj0+iP9N/6I/vv9e/zL+k/5oPda9zv6Kf30/jMBfwEv/qv6s/mJ+Xz6Hf7gAeMDEgRyAv7/zf2Y/Pn8J/+SAn8FfgYfBsIE3wG8/gf+BQC0AmsFeQd+B7QFQQMBAaf/0P9JAWwDcAUJBgUFewPsAUEAPf+E/w8AvQDmARcExQlnEccUhxE/C78EFQDrApcO1RzRJsMo4yJLGV0R2g00EO0YSCSBLWsyrjEJKqoddBNtEZ8XZiK0LSg0fzB9JJ4YtxFjD5ERnhenHL8d+hy3GdESVwrWAsX+AQARBUEJdgpbCNsBevmC9Bf0g/QU9Pfz//OL8xT09/WU9XXwiOl75c7loel178b0tfY/9BLvaurv6IXpW+qB7YL0BPuk/Gz7Hvgj8R7rJu3s9Wj+OgQQB0YFj//s+TX4ZPoa/osCUQhcDX4NMAmWBJ8BsgBWAsUGSAwlD8kN9QqLCVAIRwawBb8GVQfaB1QKHw2hDMkIigSgAo4ClAKlA1AGpgfTBfUDNwRlA2D/5PsT/M79kf+SAlcFqAP//RT5W/dg+Kb6Lv19/50Af/+3/D36sPgp95f2q/mK/owAi//5/Zf7RfiB9/r5ofw4/uf+6f7Q/uH+6v1j/Hf8jf2z/VX+JwGZAksBvQAkASYAV/5E/t7/gwHfAigE4ATYAy4BE/8u/5MAtQHVAuQEEAYGBHcB2gBOADn/6v9gAvgDmgTQBFADCwBN/cf87/+BCLYSSRdSFGwN3wRt/rABeg71Gygktyb3IugZqxFUDhwQ8Ra5IS4srDEgMFQnshp2ESMRvRg4JF4uqDAGKosffBayEdcRCxUqGHEaVBvHGaoW4BHFCsoD0ADEAtUGqAk8CYYFxP/o+RD3Wvey9rTzlvG/8pn1g/cA9x3zSeyj5bbj0ufi7Z7xqvIH8lfv4Ooc5+jl/OaY6UruZfWG+tP4ZfJE7P/oNOpM8dH6ZABRAG79p/qg+ED3yvdw+5oAKgRwBtEI8AjQBOT/6f7ZAUwGEAuXDmMOBwsHCCEHxQfGCBIJmgi6CaMM+w1TDagLJgjAA74C9wU9CYwKJAosCKUFOwSpA7gCmgGh/+v+hgI3BnEFFwLv/nH79vhQ+mf9Zv+g/3b+vP1M/Yr77vgL9+/20/gs/G7/sABu/r/4u/TY9ZL4avup/rD/g/3T+9375/qC+mf7ofvL/KX/gwHlAHf/Lf7E/Jv8vP60AdYCnQERAaEBWwHmAd8ClQG3/3QA3AKOBLcF/ARLAtsAwAB1AVkDzwRsBPACCQJQAjQDWwMfAgIBfwCeAF0C+wMnA5ICvwbtDUUSdBGEDMsFdgGCBMAPVx0YJVEjshuBE94NQw5zFcweeiU2KU0qPyfPIHQZHhQpFIkaiCQBLcYupCdKG/AQEA0jEIsXGB46HxQbdhWpEAMMUgctBKADlgUiCc4LaApjBFD8UfXI8iL1rviC+hH6afeV813x+fBq717sYerV6iPtjPC+8wT0APBo6s7nbOmA7EvvGPJw9In1bPW49J/zm/G37wLxsfaW/dkBxALvAEr8Pffm9i78ZwKMBsMJvArBB1oELQM6A8QDhgVtCB4M5A+LEBYNUwiRBDcDUwVOCiYPkhBtDuEKNQedBFkEcAXDBZEGPwlXCgkJIgdsA1/+gPwn//cBuQNEBYEEDAFJ/UH7xfqZ+gX7Df2y/xgA9v2m+5H56veq97b4t/pv/Hv8qvuF+2D7Dfr1+Nb4vfhi+f37OP8bAPj9Gfvn+YH6dfvP/Cr/8ABtACn/f/9LAEn/V/1G/dX/NQItA44EvgR5AQf+if5uAfQCXQNeBLsEKQPAAT8C8AIOAucAHAGSAmAE9QQwBOoC6gDV/gn/uAFtA80CJQI9ApYBWAD3/4b/3P30/JcAlwkEEq0TRA8kCPIA+/3KA9kQER1HIlUhTR1/FkQO/QqHD1EYVCMHLjwyCSz6HnYS4wx3ERQdSynbMAUweSZjGQ4QnA05EJcVPhzLIA4gahr9EVsJAQOwABQDTAkfD/MOHQm7AdT69vUx9FD1HPg5+gH6iPhV9yj0oO4J6zPqFeqp6z7wPvTD8zjwfezy6FHmDucP68fvXvP+9Dz06/FD75LsLOyo72v0f/g0/DD+GPxG+EP2B/a992v8DQLuBFoFoQSgAv0A6ACvAQQDcQW9CI0LwgziCxIJmwWmA8AEWAhEDJkOMg7LC3QJMQdRBWUFwwYKCIYJEAuUCiEIqQUQA8MAaQA1ArAEFAbfBWQEqQGz/tH83Pv3+/v90QCdAYcA0/7H+/T4Zvg8+VL6IPws/pD+af2U+zv5QPfn9rX44/uw/iP/cP1y+5754vhw+r/8l/2J/fr9Nv5v/k7/Wf++/V383fy1/qIBKAT7A2ICXQGUALr/IAD6AaoDygQXBksH3QYzBD8BIgD7AFoDMAe6Cq4KqgY+AkkAZQDEAZ8ErgcvCD0GhwSGA2YCcABw/nn/1gJYBdMGyAa0AjP8lfmO+63+qQNDC4IRMxLsDRUHZADa/XICjw0cG60kQiRBGwIRVgreCFIPjBw2J84qeyp8Jlcd9xPoEKATdBqNJBYtES7EJgQbrg/VCnwOChaWHH0glx8gGGkOAwi/BLcCEgTZCE8MXQyQCZMDPfvt9AHzrfTo+LT7APsd+Yz2HvKy7RLss+sY62bsHfAB87HyVPBg7arp2eb/5/vrfe/g8cXzcPQ/8+vwKe4i7SLvoPI+97j8x//H/df5FfdV9dL2Q/wSApoF4gYhBqcDYQE4AD0AXgJmBsgKwg31DTELCgcbBAEEawbSCeQM3g5dDhwLvQeBBm4GIgayBpkILwpoCn0J1AcIBYQBQAARAhUEBAVcBZIECwJ5/zr++v1i/s79MP3i/vP/xf7K/er8OfoC+Gf5rPtX/HP8mPxp/Ev71PlP+U35JPm2+Z77uv2Z/uH93Pso+rX5qfkf+yv+JgCDADoAiP+D/rz9Z/2S/ej+JwGQA04F4QTiAt4AMP8Q/zMB5QOVBSMH+AfyBc4C+gBcAO4AUgPMBuQIDghXBZsC7ADhAGMB8AHBA5sF8QWQBW8EsQCr/O38Tv+pAeUEZAZsA/f+2fzf+xb8mv7iAHwBvQErAeX9r/pw+u/8swNGDtoU1BBeB/r/Af1gAZAOKx08I7ogfBr6Ej4NYg0fE0kbxSRJLGItBygbH2EVxA/YE1wfdyroL8Ut8iM3F4wPRQ9RE/0YPx6eH38c/BYYD0oHdwN3A68FFgoFDg8MIAUY/lb4SvQh9Fv3ivkI+QP42/af8wzvqOsh6mXqXuwW79vwtPCN7qHrEOrL6arpjuqx7dLwxPEj8q/ytfG/7+bv/fHF88H17/g+/N79bf3S+wD6H/m7+un+QwRoCI4IxgWtA9sCCAIJA10HHQtODNgMswzPCucHMAbLBtsIxwpbDGUO5Q7EC1AHugRoBJkFMgjsClwL9wjCBcYD2ALJAa0AQgFYAyEEswNYA0sBx/yy+f36zf0D/2n/iP+Q/YX6dvk3+rn6avr++QD6PPu6/Jn8gvsM+vP34/YR+av8F/50/XT8rvox+Mz3O/q//Nj9a/5Q/pT8hPrH+dX6B/22/l7/SP9H/vz8mvxO/Tn+3/5K/7n/kABvAOr+af5K/7f//P+KAWEC2gCc/y4ABwEWATAB1wEQAkoBkwBdAZcCFALGAOAA5gEWApgBzAE4AmgBdAAPAfIBZgGBACUBaAL0AUcAxv9oADgADwCtARQC4v+6/u7/TAHxADH/if1z/S8BsgnWEmQVKw+VBaf+8/7JCDgXeCKtJX4gzhdQEb0OoQ/4FakgqCm5LsEuFCcFGuEPBQ8JF6kjsy7iMesqdx3dELsK6gsDEiwZ2h1oHucZCBEZB13/k/sG/XUDKgr3C9wHVf9/9XLuv+yS7+nzAfeR9xj2q/J07Srpzebu5eTnNOwC8Hbxh/CG7Qbqgejw6I3qE+3Y7w7zg/Y6+K32FPMs8Azwr/MG+gQAxgKTAeH+nP3p/db+UAA+AigEJQdjC34NlQtXB2kDRQKTBYALnQ9kEO8O/gvOCJUH7geOB44H4wn7DAkOyQytCfwEGAFmAC4DYgd3CesHqQQHAhgAmf42/pr+uf7w/i0ANwHq/6P89flm+df5P/pK+5H8fvzT+/T8M/4//MT4EffY93H6O/7FAW0Cef/6+536+/ot/AH+OAAyAooDywMNA44BNv7K+wr+NQKEBeoH9geTBLsAmv8XABIBiQIfBNcF2gY8BjwEagHQ/vf9n//1AtkFaQaIBO4Bnv+n/Vj9u/42AJcB8wJCA7cBCf90/Br70vvr/YMARgJgAUv/vP01/LL7nvyU/Tr+WP89AOb/T/9R/pj8pvsU/OD9mwBoAq8BK//2/Eb8gv32/60BfAHF/2H+B//EALgBhgF3AML+8P2F/8UBdgKYA3wIew/6E4MTAQ4lBsQBIgZSElMfmiZpJkIg2RfKEUwQXhP/GU4ixCkWLjEsISJxFSENlAsxEiIePyesJ1ggMhXyCbUCVAGoBD4K8w6aEAQOpwZl/Pny6O0F79L0Qvtr/mT8cPWl7JPmxuRM5v7p6O0m8Dvwru71677oSObY5WnooOw08ATz6fNU8vTw/vDC8T/zjvXJ9+751PxV/2wANgD9/oH+EgC2AvIEhQbPBwYJcAqfC1oLLQldBrAFoAg/DbEQYhHdDisKtwaxBkAIpgmsCg4L5wrZCgsK7QbiAmEAVgC3AgQGKQebBJ0Af/3S+9f75fxc/dL8dfw2/In7xPqS+cT3kPY890v58/rR+uX46faS9vP39/n3+in6vfhu+MD5qfu3/I784fuR+0P8DP6L/yT/+/0e/n3/BgGBAukCMgHb/9gA1QJUBHgEXQNJAmACdgPPBKgF2QQYA3gCDgOLA+oDnQSTBFwDdgKjAq4CEQLEAeQBsQFqAcQBFwLyAe8Avf7L/a3+nP8SAUcCyQCV/XP8Mv3B/QH/7P8W/xz+LP5Y/v39l/0F/dr8R/5CAGQAsf4r/Xb8w/zd/oIBQQGG/pf8zPsx/BH+AQCzACIAHP8i/ij9NvzX+5f8H/7z/4IBawF+/7r8SvpC+u788P+bAdoB0QD1/r/9tv2r/TT9rP2g/zIDgQngEKgUkRLJDJ4GhgMCBzcQ7RpbI8MmgiSqHjIY0xK4EAUU6huCJT8tLC/ZKH0cXRAaCl0LdRKgG8UhGiEjGkwQRAb+/Qf6ofuQADAGUApTCaoB0fWW6tbkRuZ97E7zf/fe9nzxreoG5drgJ9/b4QnoIu7b8WjyRO+u6X7lc+Xc6MDt9PJR9+P5m/r5+G32ivUr9sn4dP7CBNAH7AdYB8AFMQT0BI8HLgo+DC8Otw8cEHoPUw7jDMkLGwzXDV8P5w80DygNAAwVDFoLGQqDCHQGhwWtBh4IzwfXBdYCDgAB/zH/YP/Y/r79Of1P/Sz9jfy6+j/4GPeS95v40vn7+tb6e/kv+AL3a/b49jz45/kr+6b74ftw+zX6YPm0+c36c/x8/rH/7//S/xX/Ov7x/VH+pf+pAVED0AM1Ax4CWgGKAXcCDgPyAgYDVwPRA9wEWwUiBD4CXQFDAfgB4wMPBVwE7wLSAVcBawGbAUoBsABkAK4AigHwAd4A9f6V/ab94f4QAFYAbf/O/cn8LP0b/mb+T/7W/RX9b/0k/gj+z/1b/cf8Lv2C/kb/D/+c/uf9WP2S/V/+lv+nAMsADwD5/jP+Zv6y/zABxwFPAWoAFQCUABkBHAHFAFUAMQA/Ad0C9QKsAW4As//F/xoBfQIzAhkBrQDNAPcANwH3AN7/bP9eAJAByQHCAEz/XP43/+ID2QvrEh4VqRGZCgUEzwJZCMcRSBuiIbkj9yF4HH0UXg0OC8QP5BnOJD0rbCnLH3ATCApEBaQF1AsqFAsaJRujFf4JZvxr8nPvZfPo+mkBKgSVAWH5Zu7c5BPfct6M5Nbt7POm9K3wk+lK4gjeqN2s4LnmCu5i9Fv3DPU67/HpPehT6//xgvlS/yACGQKcAAf/n/2s/YkAxAQFCSENww9HD/IMGwsNCoQKswz7Do8QYhE+EUgQHg/FDRkM+ArnClcLpwuKC6YKygjIBvcFvgWhBPYCNAGr/1X/SABVAdMARf5a+8T5a/mZ+Xf67vq9+Rz57/la+tf5aviH9pT1h/bT+GD78vzy+4b5Xfib+HP5rvr3+978FP2p/U//xP8i/tv8QP0u/qr/SwLSA/0CngEPAQsBQgEhAo4DggRBBJADywMWBJwDkAOPAzsDhAMXBMQE0wRZA/0BPQIOA0kDVAP8ArsBFwHLAVQCjAEpAAEA+QAhAbkANQAA/1T+8P7H/+H/Bv8M/vD9hP58/gb+GP7i/Zj9JP6R/iL+YP0J/U/94f1h/r/+Ef+t/ov9Cf2f/Xn+Kv/I/8//Fv+4/kb/1P9n/5P++P5BACgB7AHCAQQAk/7l/owAJAJ/AncBmQDqABcBIwF7Af0APQDPADwCwQL5AfQAPwDW/zEAfAGKAk8CowF4AREBYgDg/47/FgAgAScDzQcuDWwQyxDyDZQIdQR0BcYKxBGHGAMdGR7SG8kWaBARC5QJbw0UFZUc4h8MHXgVTgx5BC4AfABLBOgI/QviC3cHc//y9pvwRe2U7R7xk/U6+IL3GPM97PPlr+Ix47XmLOuD7hTwS/BJ7+LsKOop6WjqHO449M75VPwU/In6f/kJ+gL8pv5uARQEmAZCCVMLlgtWCvYIugjlCc4LHA7ZD/APfQ9ID1gOgAz/CloKEApECuoKSgveCmQJeQeHBUcDsAFwAYgBYAERAZsAxP9U/rL8VPsZ+h75Q/lw+vP6vfqQ+sD5pfgH+Lv3rvcL+PL4Sfqc++f7HPts+vb5zvmY+tL77/zQ/Xj+SP+M/8L+DP7Y/QD+B//XACACXAJUAvgBTAHOAHEAsgDJAesCnAPdA5sD2gIbAtIByQHCASACDwPQA7sDVwPTArYBEAF6AeAB4gEEAnoC2gKaApIBVQDL//P/ngB5AXYBoQAdADgAOgCc/8r+bP6B/uz+tv9IAJ//RP7E/fD9x/2k/Rn+MP7j/X/+Wv81/zP+KP3I/AD9r/3c/qj/Of82/sr94f3j/Qj+cv7Z/gX/C/9P/4P/GP+f/gH/bv8D/6L/EAHVAN7/xv8YAHQARQHQARQBEgDz//4AcAK5AvcBMAHAABMB6AE8AsIBDgHdAHABPAIuAmcB7gB4ACcA0wCjAS4BDgCl/6D/s/9fAYIFSwq1DecOBg2lCNEEfgTBBywNPhMeGFUaCRlzFG0OswkuCF4Kew+uFOoWiBVNEUILqwQ5/wj9Z/5iARcEIwWrAl/81/Wg8RLvae6074Pxn/LJ8vPx++9d7fjq9+n46i7trO8S8urz2fT29P/0n/Vs9jT3yvhb+7b95f/1AlQFkgXUBBMEpwMdBOcFfgjBCiIMuQyJDAwLTgjXBT4FagY3COkJyQrcCVQH8wRMA4IBDABBAL0BBwPrA5gDQQF2/oj8Lfxa/UH+Qf6C/iX/BP+l/r/+8f17/GL8oP1t/pz+Lv+8/5L/hv/o/z//uf0T/Zr9mf7i//EAqgCb/63+2P1m/W39eP2H/UD+aP/z/5z/0P6B/RL8AfxT/Yv+O//0/14A3/8i/9z+tP6J/hH/SwBhARACdgJsAtABFwHPAEQBFwJoAqMCagP7A9cDsQOWA6sC4QE7AqkCfAJYAq4CEAMbA9ECGALlAKn/M/+0/10AhQBoAGYAWwCo/2v+l/3Z/HL8s/1q/9P/H/8h/m79Hf0u/Z/99v3g/fD9z/63/6X/Cv+S/m3+o/4M/7n/KADW/+7/wQDxAFgAJwB9AHkASQBrAI8AhAClAFYB2gEvAXEAbAAfALH/AwC4APcA4wDmAMMAZAACANb/xP+E/53/dAAsAR4BfQC1/zn/RP/8/+8A5AAiALD/W/+C/zcAWgEHCAANzg/ODxsNnAjSBRYHMgtsEM4VdhlWGQkWfxEBDckJHwncCmINZQ8REKQO2gqMBTsAXPyo+pH6UvsT/IT7Vfl29tbz3fFP8A/vge6f7iXvM/DA8e/yMvMu827zdfNO8y70Xvbw+Jf7hP61AFIBPwE6AR0BRAGwAm4F/QddCRYKDgoDCfQHTQeZBvAFDwYiB2IIugiGB3sFeQOvAcoA8QD5AFkABQCcAAAB+P9r/ib9svte++78af5//tT9nf0O/oX+yP7Q/kP+aP2n/W3/CQFqATkBBgHQAHIASgCNADQAtf+lAAAC9gExAfYAeACC/0n/gv89/7n+4P6e/6j/3P6j/hz/7f4E/pz9sv17/bL9N/8FAPz+r/7X/2EAlP+k/kb+UP5A/1sBMgP9AlsBowDhAFMAa/8LAK8BjAIIA6QD2gJ5AFr/dgAeAT8A9//tAIgBBgImAoQAMf7e/AP+/gDqAej/Qv5a/nX+G//nAIIA0P0J/e3+//87/+T+Uv9Q/+n/mQFQAYT+yPzY/ez/tQG5AtQBCQAi/0z/IQCfACAAjv8lAGsB+QGYAeMApf86/oL+PgAKAZwAtAALAUAAXf+F/7D/FP/v/vH/XAAj/x3+hP6v/sf9OP6x/zX/Kf5P/hD+8vwc/X/+0/5p/mv+4v59/6X/WP9b/rX8yvyg/iICNwu+F/MgDyQ9IJAVogpVCV4RPh0tKs0zHTfNNB8umyPSFlUNoA2ZF3wk3CwcLDkhlhFRBdj9Yvmr90T4r/s/AEoBWvxX8tHmA98U3vvgluKV4vriSuVN6cfryuqV5gThXN9d42fpZO+n9Ab5C/0pAF8AXP3u+ZH4hvsFA88KhBDzEycU3BHADUcIOwTIBPgJtRBtFVoVCRFCDAMJRgbkAq//Av/BAYUGqAoGCtkD4fyB+CX32vfy+Fn6/vwMAPUAJv8n+zv2bvXT+D77GfwJ/BH8zv5YAwEFdwHy++T4avo//2UDxwTwAwUDxQQxBkID5v6j/Jf9WAHfBMwFDwTMASMCQgNJAW79rfrk+nf+4AJCBAECK/+Z/Wj9c/33+4P66vtl/70BQAF//5D+Of6B/s3+2fwx+6z9awJOBTwEbgBO/Zv9ewCgAjcChf8S/hYBUwVHBmYDxv7y+3/97QG4BOoDKAHH/qz+tgBYAn4BW//6/dn9Gf8NAe8BqQBQ/nH9mv7M/0oAbwBo/yT9fPzP/hAB8wAaAFT/UP20/JT/LwK1AVb/b/01/Z/+zABJAgkCBACM/pX/0ACe/+z9wf7/AFcC4gJ5Atf/5/yd/dcA5AE2AFv/LADHAVADEwKs/rT7FfvU/x8G9gUhAAT80Pun/UoC5AWlAg/8Afo7/aADsw/bH44sizCTKk4b2gltA7sNmyOmOwxM2E3/QqgzGSTjFiMR5hVfIp0x8T09PzExPxqHBV/4l/Qt+oUDVQmOCcQFqP048UzkP9sT13bX59u14YblVuYN5Uniet512mHX8taw2TffE+fS7kX0aPcs+J32zvMw8TLwWfMv/CYIwhJLGJwWsg7pBZkBeQLyBt4NlhUxG5YcshkcE/0JQALq/88CWAjYDd8Q2w9KC/YE1/73+qH4sveR+u/+XAE1AjQBWP2N+B322vUT9qL2CPg7+y//XgFCAUP/0vvZ+KT4cvpm/Dj/HAPrBWUGkwWHAwwAJ/1C/G39jQDmBNsIzAnCBoAC8f6X/K38O/5f/2QAVQIpBL0EmgMP/yr6t/j/+Ij72P+fAcEATwC3ANv/R/18+v34+fkv/YcBmgSHA9oAoP/+/cX7+/n1+Ej6XP7NA7YHbAb0/xH5IvY59yX77P/bATEBbQAqAK0A1v8v/Oz45vje+ygAsQObBI4Crv+C/gT/7/6p/Rb+EgAPAVwCQQSCBHED7ALsAcj+9fvC/HIAaQR4B5wHtwNT/4f+7f/6/+X+Dv5N/h4BKQZMCDsEvP06+Rz5Rf2vAYcCUwCm/sD/ZAJwA6kA/Ppi98n5tf/cA1AE+QEB/qn81f8HAm8A/Pwf+lf6Of5TBxwXWCiCMi8x4STREcgDigbaF2cufkEdS9xLyEQrNjYk8hPFC3MSzSY2PRdH/T24J78QeQHY+oL8YQC0/xsAZQT9Bb8AmfTb5K/XrNID1sHdauTZ5D/ijOIm5ATkx+Cs2j7Vf9N92WXo6/aR/Tj+Vfsc9fbvVPC/8qn2Mf/TCl0WfBxCGYIPYgTb/e7/7Ad0ESEZ3BuEGYkVpBC3CKwCTAHlAFcDIwlEDW4N2ApjBsr/qPg79G/0/vfO+3L/0wFEABn+B/3H+R31WPHp8BD2S/5vBMgFAwMr/mH7i/wg/Tf7rPlh+48CUgsGDwsMSQMI+rv3i/wBA1kGxAVbBDkFWQe9Bh4C4vqt9If1nP1JBoYJHAVv/Xf4WfdS+iL+Of1T+ef3gfpK/9wDAgT+/Zb3ovVN+I79HQFRARIAsP8LAm4EkwJR/s77hvzY/9kDEwZ4BewDHQTIBBsDOAAn/hf+8ADeBJ8GigWrAw4ClAA7/839GP2o/s4BSgOjAYb/kf8QAH//Qf5e+435d/x1ARMEXgLq/d767/ss/6gAh//m/Jv7o/4bA4MELAK9/dv6UvyJAGEDVAOMAS7/G/7L/4kCHANcAWf/TP6r/vwAmANwAzAAxf3R/gABugK9Agn/Eftj+5T/6gNdBLf/7fkI+X38zgN1Ei4jrS1nLy4neBafBhIE3hGMKEU+6EsmTvhEFjTRIeoThg9GGAsr5zwlQz07OypvFyUJKQID/4X9hgAkB8MMsgxwA7/y9+JV2yLbzt454sThPeBl4h/n9ein5ITcz9TF0KDUpt8+6gTxivWU9w72cfOT8I7sT+w18+z+CAx2FQYXEhE4CJoC8QGQBKUKXBJdFxIZCho2GH4RIwu6BlkDRAQSCfYNzhDLEAwNKwYN/zr68PhI+lL8tP7E/zf/7P+h/2v7v/U38d/v3PM1/IwD2QX1As38wPge+fz6aP2K/+wAxgMOCP8KGAowBeD/av5pAfAFhQlQCqYHnAWiBhYI4gfxBHAA1/2C/osB+ARSBt0EiQFO/vH8+vs3+pv52/pT/O79awC4AFn9tvmF93H2ofay+Mz8MgEfA00BI/3N+L/2mfl7/zMDmQKe/0f+cgC9A9gE0ALJ/lL7SP1pBPQIoAeqA0oAbP8nAoUFZwSx/wb9FP+3A4kHRAcqAsD8xvuB/uwAPwHc/1/+DP89AZICmwEy/rr6+Pn3+/n+PwHzATYBo/97/sz9nvuT+Pr3L/vHAOYF7gbjAXn65PX+9XX6+f+XAhcCyADK/yb/Kv98/iX8Dvpn+qT+zwS/B/EFBwE2+y74kPqoBGkWpCi1M20zKSbIEYYEZghxGUwvakLUSw9L1UIONbQkahY7EQ0azCwVP5xG1T5VLCQYpAjy/1v+mgHyBicOmBJSDkkCpfKX5PLcLNyO3kDhn+S/6DLrgulc4zna1tIH0t7W4txM4d/kBert8B/2cPWO7v/ls+Jw6bT3YAVrDCMNfgujCS4HkAQvAngBvQb8EWMc2h80HC0VFQ4pCSoIIwpPDGYO3hFjFDgSxg2yCdEEuv8B/Kn6g/wqAegFSAd5Ay77yvNx8t30zvV/9DH0KfdN/HwA0P8d+GfuqevQ8UT66/4x/xb9M/xM/kMAZf/Z+3H4mfnV/0MGcwgBB94ENQMeAmoCLAOPAvgBZwPkBbgHCgksCZ8GVQLb/dP7gf54A9sGTAcJBf8Aaf4n/8f/8v0V+9X5i/xAAWEEzgR1ARP7bPYz90/6GP2VACACDAG2/8P9Tvyt/FH9Av3c/Br+QACYAvgDCQMjANX8oPz9/1kBYgDwAF0CewOQBHwD/f32+Kz5T/5ZA40FKwOr/oL8dP15/sT9y/s4+jj7Xv9FAxUDXf9I+zL52Pl7/PX+fv/P/vP+xv88AIoAt//N/Yz8Tfy7/S8BYwTcBEIDNwH7/g7+G/+HAMAB7wJ8A/YCCgIkAYgD7w4LIawvYjI7J6ITDgQ6BQYYMDBjQVVIPkYNPRcwoiJ4F/4SAho/K2c+U0iEQVgt7hXuA5n8hwBzCtQS7xX+EygNgAGs85XojuL631HhfOf+7ZPvuuxr5/TeV9cL1hPZ+9sM3T/epuLU6V/w9PL773voCuIN47DqcvOX+uMAfgcIDEELswWT/Lb0AvdIBBEU9x3QHk0YRBB4CyMIsQVlBikK5RCUGYoewxnfDY4DRv+g/2ACGga5CBsJsQg7CEgFhP5D997z9vQj+Jf7e/6J/wn+Nvts+Oz05vCC74Pyj/jz/VP/3f2e+8D47PZP+PD5Lvgs+JD9CAQHCNAHaAJ++pD23PrAA3wJdAhxBGMCBwPnBT8I0gVdAP/8Sv99BqELuwkNBDEA6P5PAIMEgQWMACj8mf05Ap0EswNJAe791vr4+hP+LP8j/Vz9wwCJAgYAbPqP9T7zvfNn+c4BEwUIAW77qfaY8fbwp/bq/H3/xv6S/eL8kvs6+kr59vcD+L77YQGCBGIDsf+r/AX91P4nAGMB1wC2AAsE0wbYBesCsgBJAEEC4wRRBcMEJAMjAUwDsAYQBnYDwQE9ADf/BgHkA84DbgGfAAgChwLyAB7/5/zA+kD80ADbA2oCBv8oA7wSDSXpLgsqHxc5Abn6DwubJtE8KUXoQX85Ri+cJJgaDROEEyIi1joDTd9K6jVkGsYEivx3Ao0PaBn0HNccQhf4Cfn4ruqr4h3j4Or78mT2pvSX7gDmSd3g1ojUrNbY2+zgHeMT4pvhSuRo5vLlweMQ4B3fueXV8I/4Cftu+4f72Pzm/tz+IPxW+sf/igyfF68byBghEOQH7AYDDN4QnBSqF7kYwRlkGXoUcg1jCCkHNwm2DJEP/w/KDVMKpQa2Afn7T/qd/D7+Cv+k/uz8Cvxv+yP5qfSU72LtivGr+bb9HfuL9TPxKPK/9oj5NPg78+Hw5fZAADkF7gJx+1D1i/aP/QUDIQQRAuz/xwLtBxMJ9QXaAF3+igGuBiAJuAinBwAHgAeHByYELQATACoEkAklC68HvgL5/pH/2AMvBcQBrv44/6EBTQTMBHEA5vo7+ST8BwHPA2sB8/tf+Zb6vP2yAQ4CHv1t+OX4V/yF/8MBGAFJ/bf6W/z2/mr/if5u/Sf9sv/UAw4E///9+1b6qPz7AucHjQWH/4n8Tv19AGAENQUSAeP8WP52AyYGygTGAA38RPv2/yQF2QXJAlT/n/2T/sUAbwHx/43+Fv8QAbMCzgFq/jL7/PuTBc0XKyliLlMlxhOOAh3+xgvCIt42BUKuQxE9wjD+Ia8Ucg5AFD0mMD2KTKpJKzXCGnUGpv0NAawNrxpAImIkMh4kDq/4eeXP3Ojhme93/LoBR/1I8dTj2dla1OTSMtUu3H/ljupz6tjnheI93JzYWdm83dDjqes19HP4pPdd9T3zIfLn8p71CPpyAPUHaQ42EiwR2AtDB3EGGAjtCtcPHRfwHNodNRsqFboM5wdbCSsOtBI+FesVJhVvEt8MJgZ+AAn9sv4SBY4KNguyBrH/8vkY92L2uvZn92T3kffF+Vf8l/sI97fxL+7T7XvxWvfx+tH5I/c395X4uPhJ+B/2gPMW9Y/7ewNbB0MEyv3y+Pb3/fpJAJAE5QXNBRcGigZyBcwBg/53/skAwwTLCYQM5wlYBKkAu/+5/zEBSATdBWEFGwUFBSYD8/+s/VH9E/85AUUCwQLCAUH/s/2w/cf9DP2K/PX9mf94/wf/d/7Q/Kn7x/wy/gv+y/3E/e/9hv52/n7+Qf9C/0n+1/1W/r3+GP9fAMIBbAHt/2z/1/+F/6r/+QAPAd8ABwLXAioCnwCu/x8ADgH5AHsAYQF4AsAC3gKrARX/j/3K/tIBfwM3Arr/Rf4V/pIB8wyXGlchMyBIGNILhgIRBfET5CZ+Nfw7EDoRMFkhMRaYEq0W1CS2OHNHskg9OqUjuhCZCLUMjRoFKusw/S3lJDYW6QT79330jvmBAnUL2g8sCt377uzy4ozezd/L5WXsqPCk7+boHuIc3CHXOdg53QPgL+E+5MnmEueN59fmceQn423kh+gU7gvz7Pbo+Wb8cf3x+k/3vPa7+SUAQgoVEzYTIw53CrQHsgZdCcgNRRGCFNkYyRucGakS9wqrBjkI4g4zFloZkhdlEhEMxAd9Bb0DoQMfBmoJaQtqC9kHsADD+b/2F/is++b+7//m/VT6HPjR9mr1aPQP82ryV/R69275Jfmz9jnzdvGq8gr17faO9zT3iveS+e77OfwF+qz3B/eU+O78ZQGEAl0BHAA1/+T+pv9wAAABwAL5BOkGHAjVBusDuAFOARADwwUJCGIJtAilBgEFswOfAtMCPQQ1BS0GTgdpBhoEtwGx/7L/lQEhA0YDlgKFAU4Ao/95//b+AP6E/Vn+fP+o/4f/aP4x/L776vyC/Vf9Iv1C/bv9C/48/VX8gPzG/IT9lf5K/kf9GP3v/ff+Nf/R/l/+8f3o/UL/JgHmAM//w/9N/y7/JAB5ABABMwa6D4UXjRnQFGwL/wO9BPQOjh2cKLEs4ipIJbcebRnbFrYYFSBJK7c11Tm7MwcmUBnvE00WjR2sJSwqzSiNIxkddRRpCmkEAgVJCpIQCxMwDuoDNfrQ9MnzNvQP8zjxTvBP8Mnwsu9K68/klN/p3lHiceV95U/kCORE5O7ltudQ5Sbg9d1I4eznfu6k8ifzxvDG7eLsie5U8MTyZvie/ywEgwT4ARr+hPsN/XUCkQiODD0O0A6fDmINewvdCYwJCAuMDtATcRfeFZ0Q+wssCjwLlw6AEScRoA7hDGMNRA6MDBAJtgZSBkwHSwlaCgwIhAQQA1gDhAOPAvQAhP9y/lL+kP/KAAIA2/07/A/7WPo2+vr5Ffru+jT8ZP0K/S36rfbB9ZL39vm0+0L82fs8+8T6iPqr+fL3s/dL+hD+ZwCy///8TvrU+EX6OP7bABEAc/4Q/vf9A//dAM8AKf8Q/vb+ewFKA7QCzgC5/8P/MAHPA6UERAJa/x3/wAGHBEkFAARkAXT/YwAdA0EE1QIuAQIBXALKA2ADwQE2AEz/SAC4AugDnwLEAOr/8P+aALAAsv+D/nn96P0mAIkBkAA0/hj8XvvB+6T8gv1//dn83vxx/bP8svq++nr/uAcVD1cRdQ27Bc3/TgFuCQ0TphoVH4IgbR8mHDgXNRN+Ey8ZyiIDLLgvTSzbJLcdqhnxGWEdSSELJBwlBySFIAEbfRRvD30OsRDcEqoSQA+jCaoEgQIKApIAUP2o+bb2rPSn82bz4PJ78a7vqu0o6/Ln6uRM5BTmTOiY6mDsrOsh6E/kUeLV4iDmXuoV7vHwpPFf8MruSe0S7HnttPKp+D38XP39/L77l/rQ+l78If5cAOcDhAdZCYoIHAa2BPoEdwZVCc4LyAtuClYKFwuXCzcMCQyzCnYJDwmMCUcKYwriCb4JQwpQCvIIaAbIA3ICZANdBvYIawiABboC5wAjAFYAtACaAKQAuAEgA/0CnwBp/Uj7NvsZ/a///ABTALf+av3z/PL81PyR/I/8BP3e/df+Ff8i/sP8IvyR/JL9Vv78/Qn90/yE/bn+pf8w/6D9kPzW/LD9Yf6a/nT+sv5u/97/Z/8x/vz8vfzU/VP/ZADqAI0AS/84/jf+rf4P/3r/uP/k/20AHAEkASAAsf7f/Tj+av+aAA8BsgD9/4L/ZP9W/y3/E/8I/w//RP+O/7r/vf+b/zn/y/6i/q3+1P7v/t7+5/5P/+T/GgCk/8X+F/4A/pn+aQDSA8kH7woODF4K/gaeBDwFxQjQDXkSfBXzFk8Xfxa2FP4SfBLrE3oXBRxMH8cfzB3xGqkYxxdzGKYZEBqmGQoZkRj9F6gWdBT0EeIPww5fDqYNuQscCTQHmgZ2BmYF1gJL/8z7tPmI+ff5yfni+Hv31PUP9CryRfDW7kHusu4f8GbxVvEK8BXuY+zl67vsZu7677vw6vAe8WPxi/HP8T7yz/Lw85z1Gffa9/73Gfi0+PD5fPu9/EH9N/1J/e79BP8kACIB8QFsAqQCxgLMArECtwIxAx8ELwXsBfsFWwVpBL4D0wOZBFIFfQVSBQ0FwASOBGkE7ANAAxwDlAM4BHYE3QO6AtcBxQFuAiUDJgNhAosBKQE/AaEB1QGhAUgBGwFCAX4BTgGpABkAEACGAE8B4AGUAaIA4v/L/yYAiwDDAMMAogCMAJcAkQArALH/tP8rAIIAfwBAANb/i/+l/+7/AgDN/4f/Xv9g/27/av9W/zH/E/8k/0X/Qv8G/6P+Wv5n/rn+B/8T/9L+d/5Q/mr+jP6D/l7+Tf5s/qT+y/67/nT+Nf48/oj+4f77/tX+pP6A/pf+8v42/zL/EP/+/gb/N/9y/3r/Wf9D/2T/vP8DAP7/wP+D/3X/9/9IAd8CCwSWBJ8EagRSBJUEJAXpBfUGVwjZCQYLjAuIC1cLXwvfC8cM1A23DkIPiQ+8D/QPLBBVEGoQbhBsEHsQjBBrEBgQug95D2cPXQ8PD1oOZQ10DMYLcgs3C9IKNgpwCZIItAfdBv0FIAViBMwDWQPoAkoCfgGcAMb/GP+c/jv+1v1f/d78Zfz6+5X7PPv0+rT6ifpp+j76DPre+bP5k/mZ+bf50Pnk+eT51PnY+fb5Gvo9+mT6jPq2+ub6FPs6+1n7dfuZ+8r7CfxO/IP8ofyy/Mb88Pwr/Wb9mv20/b392P0B/iP+Rv5v/oD+h/6q/tP+8v4J/w3/EP8k/0P/Zf+G/5b/kf+Q/6X/xf/e/+z/+P8AAAEAFQA1AEAAQwBLAFMAZACAAJIAkACLAJIAowC9ANEA1gDRAMsA2ADpAO4A9wABAfwA9wADARABEwEUARYBFwEcASIBJwElARsBGAEdASABIgEcARABEQEXARYBEQEMAQEB9wD2APQA7gDoAOAA1wDRANAAzADGALsAqgCfAJcAkwCWAJUAhwB2AGwAYwBfAGMAWwBMAEIANgAwADUANQAoABkAEgAPAAwABwADAAAA+P/0//P/6v/h/+X/6//o/9j/yP/D/8P/8f9tAAIBmAEXAmACgwKaArMC5AItA44DAwSFBAAFawXABfoFHwZBBnMGugb8BicHSAdfB3QHkgemB68HtAeqB5wHjgd5B10HOgcVB+4GxgacBnAGPwYFBskFjgVNBQoFxQRyBBUExQOEA0MD+QKsAl8CEQK8AWkBHQG+AFEA9P+o/2P/Jf/v/sD+k/5e/hj+3f2q/WP9EP2//Gv8Dvy6+3H7J/vn+sP6sfqY+nj6UPoe+un5ufmX+Xz5Wvk6+Sr5Jvks+Tj5QvlA+Tb5KPka+RD5A/n2+PT4//gT+S75Tflz+Zb5rPm++cv5zfnN+dP52/no+QX6Nfpt+qT60/rt+u/67vr1+vj6APsf+0b7a/uk++37K/xT/HL8kvyw/Mz88vwT/Sj9P/1X/W79iP2i/bb9wv3E/cL9wv28/ar9l/2G/Xj9c/1p/VT9Rf1C/TX9HP0G/fH82vzF/LL8o/yU/Ij8h/yA/G/8Y/xX/EX8Nfws/Cn8Lvwz/DH8OfxD/D78QfxL/Eb8Q/xK/E78SPw+/D78RvxG/EL8Qfw9/DT8K/wm/CL8H/wf/CH8HfwW/A38//vx++r77Pvz+/j7/Pv9+/r78vvn+9z70/vN+8L7tvu3+7b7rfux+7r7v/vH+9P73vvn+/H7/fsK/Bf8KvxI/Gf8e/yF/JT8rfzL/PD8Gv1D/Wr9lv3H/fX9I/5T/ob+v/72/i3/Z/+f/9X/CwA/AG8ApgDjABgBQQFtAaQB1wEGAjECWgKDAqYCwwLnAggDGgMrA0IDXAN6A6EDvwPQA+MD+QMNBB0EKQQ0BDwEQgRLBE0ERwRGBEsETQRHBD4ENgQvBCIEEQQHBPQD0gO5A6sDmQOCA20DWwNLAzcDGAP8AuwC0gKqAoQCXwIzAgYC4QG5AY4BbgFZATsBFQHzANAArgCPAHMAWQA0AA4A9v/i/8z/uP+j/4r/b/9V/zz/Jv8O//H+3P7N/rz+q/6d/pP+i/6D/nv+c/5t/m7+av5k/mr+bf5n/mf+bP5t/mr+Zv5f/l3+Yf5h/mL+Z/5t/mr+ZP5k/mz+cv5z/nT+d/53/nn+gf6F/ob+jv6b/qn+tP66/sT+0v7f/u3++v4B/wP/Cf8V/yX/MP82/z3/RP9L/1n/af92/4T/jP+U/6X/sv+3/7//zf/c/+j/8/8AABEAHgAmAC4AMwAyADYAQQBLAE0ATABRAFkAYQBoAGYAYwBpAG8AcgB1AHUAcgB2AH8AewB5AH4AeABzAHYAdgB2AG8AagBtAGUAXgBjAGEAXQBgAGMAYQBiAGQAXwBYAFIATwBQAFMAUABGAD8APQA9AEAAQABAADwAMgAxADcANQAwADIAMAAiACMAKgAmACAAGgARAAsABQD9//n/9f/r/+D/3v/e/9f/zf/J/8b/vf+3/7r/tf+q/6X/oP+Y/5T/j/+G/4D/hP+G/4X/hP+E/4T/hP+J/5L/kv+V/6D/o/+g/6f/rv+u/6r/pv+g/6D/pP+j/6X/rP+v/6v/p/+q/7H/tv+3/7n/vv+//8P/yv/K/83/1v/i/+3/8//3////CAARABwAJAAhACIAKQAmACYAJgAcABsAGwAXABoAHwAkACsAMgA9AEgATgBPAEsASQBTAGAAXwBaAGAAaABuAHUAdQB3AH4AgACHAJMAmQChAKkAqwCrAKsApwCgAJoAlwCYAJ8AqQCrAKcApACeAJQAkACQAIgAewByAGsAZQBeAFIARwA8ADYAOAAwACYAJQAfABwAIAAgAB8AGAAIAP//AQD9//D/6v/r/+f/3v/Y/9T/zf/B/7j/sv+t/6r/ov+Y/5b/lv+W/5v/o/+k/5//oP+m/7H/vP+9/73/wv/B/7r/v//L/8z/z//b/+D/2P/U/9X/0P/R/9T/1//e/+H/4//s//T/8f/q/+z/8f/2//v/AQAIAA0ADgARABYAFAAJAAEAAQAHABAAEgAUABcAEAAJAAkACQAKAA0ADAAHAAIABAAJAAUA/P/5//7/CAAHAAAABAAKAAoACQAIAAcACwARABMAEwAXAB0AHgAcAB8AJAAjACgANwBAAD4APQA9AD0AOwA4ADUAMwAwAC0AMQA3ADcAMQAwACkAIQAsADEAJQApADUAOgA7ADIAKgArADEANQA8AEAAPwA+ADoAPgBIAEUAPwA/AD8APwA+ADsAOAA1ADEAMAA0ADgANQAvACwAJQAlADEAKwAeACYALQAsACoAJAAdAB4AJAAmACkAKwAnACUAJAAkACMAGwASAA4ACwAHAAsAFAAaABwAHAAYABUAFQAQAAgACwAQAA4ADwAOAAoADQAOAAYAAQAGAAwADAAMAA4ADQAJAAIAAAAAAAMABQADAAAA/////wEABQAFAAQA///7/wAABAAAAP//AgD+//n///8CAP///f/4//b/9//1//P/9f/0/+3/6v/w//T/7//t/+7/7P/y//b/8P/v//D/7f/t//P/+P/3//H/8f/1//T/8f/1//r/+//+/wEAAAAAAAMABQAAAPj/+f8AAAEAAwAKAAwACgAMAAsABQAHAAsACgAHAAgADAAQAA8ADAAIAAMAAwACAAAA/f/8//7/AAABAAIAAwD+//f/+v8AAAAABAAHAAAA/v8AAAAAAAAIAAwABwADAAYACgAKAAcABAAFAAcABwAMABMAEgALAAwAFAAWAA8ADAANABAAFQAZABgAGAAcABwAGQAaABwAHwAjACMAHAAaAB0AGwAaACAAHQAXABoAGwAVABUAHAAeAB8AKAAnAB8AGwAbACAAJQAkACcAKwAoACEAHgAeABwAHAAjACQAHAAYABsAGgAWABYAGwAbABkAGgAcABwAGgASABEAHAAcABkAGQAOAAkAEgAVABEAFQAbABUADQAQABIADQAOABIADwAKAAoABgABAAYAEQASABEAEwAPAAkADgATABAADwASABMAEgAVABkAGAAUABMAEwASABYAFwAVABcAGwAaABQAEgAXABkAFQAUABYAFwAXABQAEwATABIAEQATABIADAAQABIACAAMAA8ABgAHAAwACAABAP//BgAKAAQAAAAAAAAAAAAAAAAAAAABAAIAAQD+//z/+v/5//r//v8CAAEAAAD9//v/+f/3//b/9//5//n/9v/1//z/+v/2//3////8////AAD9//r/+f/7//r/+f/+/wIAAAD5//P/+P8AAAEAAwAFAAMAAAAAAAUACgAIAAIAAAAAAP7/AwAJAAMAAQAGAAUABQAJAAYAAQAFAAsACgAIAA0AEAAKAAsAEQAPAAoADAASABMADgALABAAEQAGAAAABgAKAAoACQAJAAwACwAJAA8AEwAKAAAAAwAJAAoACQALAA0ADAAJAAoADQAMAAIA/P///wYACwAIAAcACQAEAP//AAACAAQABQABAPn/9//8/wIAAgD9//3/BQANAAYA+v/8/wIAAQD/////AQAFAAkABwAAAAAACAAHAAMABwAKAAUABwASABMACAAFAAYABwAHAAUABQAEAAEAAQAHAA0ACwAGAAUAAQD8/wsAEAAAAAAADQAQAAoABAD//wEACgANAAwADgAMAAcABQAGAAoABwD///z//v/9////CgATABIAEAAOAAcAAwAIAAcABQANAA4ABAD6//z/DQAQAAUADAAKAP//AwD8//j/AQAAAAAABwAJAAoACQAJAA0ADQAHAAAA/f8GABAACwD//wUAEwAVABgAEwAKABEAEQAMABEAFAATABMAEQANAAwACgAGAAYACgALABIAGwAaABAACwAIAAAA/v8HAAgA+//3//v//f8AAP////8AAP//BgAFAPj/+//+//n/AAAFAAMAAQD3//D/+f8CAPn/9f8BAAQA/P/5//3//f/3//L/8v/0//j/9//u//H//v8AAPz/+P8AAAQA7v/o/wIABwD9//T/6v/p/+v/5//q//T/8P/g/+b/+//+//D/7v/4//P/5P/y//z/6v/m/+n/4//o//P/7v/p//v/BQD+//3/AAACAP//AAANAAoAAAAQABMA/////xAADQD///r/8//y/wAAAQABAAsADQAAAPP/+v8LAA0AAgD//wIA/P/6/wQAAwAAAAgAFAAhABwADQAOABgAGQAXABcADQD9//3/BgANAA0ABAABAAMAAwARABoAFwAZAA4ABQATABQABAACAA8AEwAKAAoAFgAZABUAHwA3AEQAJAD1/wIAHADz/7T/nP+J/2f/af+F/43/n//e/xAABQDw/+r/5P/f/+r/AgD6/8b/sP/L/+n/+f8GAAgA8//a/9H/1//f/9j/0//g//D/+/8AAAkAIQAiAAAA6f/c/83/yP/M/8T/wv/k/xIAJgAlABUA5f+1/7b/0P/P/9L/9//9/+v/CwBAAEAAFAAEABYAEAABAAwA/P/W/8f/wv/B/73/tv/G/+X/AQAcAC0ALAAdABAAHQArAB0AGgA0AD8ALQAyADcAFwD9/+7/1//P/+j/CQAbAB0ADwAKAA8A+//5/0QAnwCGANv/Q/9Z/9b/WADCAOMAtgCBAJcADAGHAZEBIQGnAD4ACgBmALsAlQBlAFAAMAA5AIgAnQBuAIUAzwDMAL4AGAFYATYBIAEqAQYBywDiADsBTwH6ALoA3gDSAEQA3P/k//7/7v/U/9//9v/0//X/DgBMAMAAOQGOAYQB0gAOANL/y/+k/5v/nP9L/0//+P+DAKUAcgAVAP3/cAAgAVcB1AAsAPb/EQAlAG4A9wAaAacACQDI/wQAMwAHAO7/JAA6ABAAHgBHAN7/5f4z/kb+i/6D/pj+Cv8J/0H+L/4j/wAAxwD0ADEAav8D/3v/qQAYAZcA+P+L/4H/FwAkAdABbgGaAGUAuQDAAL0ALAFKASgBXAFyAWoBugEQAoYBBwDI/tD+yP+zAEcBnwFhAQQBHgH7ALsA8gAHAVsAef9X//r/pAC0AAsADv9g/lj+kv5g/uv9wf3w/Xr+W/8nAEkAT/9d/sf+g/84AEcBZQE3AFz/tv92AHcBswLhAsIBqgC0AIIB8QG4AUsBzgBCAEsAVwFcAggC7wCvADwBbgENAZ0AfACWAMoAKQGeASIC6QKlAygDWAEiAGcArAAqAEQA3wAPAR4ClgN+AyMCIAGpASYDCAQ8BG4EPgQhA+ABXQEnAcwABwGLAZgAtv4t/ib/4f/2/x0AFQCP/3L/UAAtAXMBiQDm/kD/3ACCAX4BJwDq/YD9Zv/2AG4BKgIkApUAh/9JAEcBfAGOASwB4//M/p/+Uv5V/s7/ZwG7AZYBoQEaAeEABgIRA9wCVwJXAk4CNwKzAj0DxQLdAWABEAFCAfABNQIHAhsCfQJTAmkBCwGeAbcB6gAoABwAkwCdADQAz/8Z/1D/SgCw/wz/d/8W/0/+i/4w/7T+cv17/d7+av+i/vr9Bf45/nv+6/4//4//GABeAND/+/6s/r/+5/6A/5YANgHWAAsAm/+P/3X/OP8V/wz/Jf/c/iL+zf4CAOD//P+kALsAuADyAAUBsgBiAGsAYAD//wQA8gCVAXAAUP6j/Tn/bwGoAp4CygHxAOIABQKcAxkEowJfABT/yf6e/0wBewEoAFz/bv/c/80AqQEcATIAlwB2AYEBrwF1AkUCUwEgAYIBbQEoAZUBIQKvAaYAswDOAX4Bf/9O/q/+ef/A/7b/5f/6/5f/Tf/E/9YAlAEfAc7/Mv8KAPAAlQCs/17/Xf8x/zn/jP/l/yYAFgCJ/8j/VwEmAmEBiQDFAFQBjgDM/mv+KQCMAbQAMf/9/vf/0ACsAP//t/8uABEBqAHTAT4C1gJAAmYAav/s/wcAL/9T/00AxADEAboCMwIRAY0AWAG4AhwDwwK/Aq0CuwGXADgAGgCv/7z/IgBT/+n9BP5n//3/jv9k/47/fP+Y/00A7QAaARoAi/5n/yUBJAGPADL/kf0d/lgANwHAABQBJwETAKL/jQBFAQUBhwDO/9X+5f5pAHABVwEDAWYA3//+/6AAMgG1ACX/5v3g/Wf+GP9kAGcBaQHzAFYALQDCAOYAp//e/rT/HwDd/7b/hv/z/6YATQBB/0T/gAA8AdYAbgCMAGcAq/8e/z7/w/9NAP7/0P58/lT/ZwA5AUEB0QALAOv+Ov/bAEEBOADZ/77/p/7k/pYAFwFSAAD/O/7D/mn/f/+5/w8Acv9z/t/+WwDdAO7/P/+u/5H/Ef/9/4IAtP85/wf//P6Z/zYAzP+V/5YAOwHcAH0AqwD/ANYA1wBSAekAbAA1AdABZwHbAKgAkQCxAMIATQBIABoBjwG+ACT/mP6+/80A/gDtALYAZgA/AKEAjQEiAm8BBABc/zj/Yf9YAJoA3P+U/6X/mP/j/3YAYwAdAJcACgGqAJYAbAG3ATIBBQEpAdYAXwCxAGEBUQF+ADEA1QClADr/ov5h/wcAqv///jT/4f/s/6L/2/+nAHUBwQHXAXIBCQAe/4b/tP8A/6r+uP5N/s7+VQARAdoAFQB3/wIAZwFGAqwBPwCI//n/YgAXAFgAOgEHAc//2v4w/4UAugCR/z3/PQCVAOX/6v+NABoA+P4Q//b/NgDi/53/4v/m/xb/BP/5/xoADf+r/oH/kACxATECigHSALUA0wC6AIgAmABkAKb/Tv84/8n+1P7i/7YALAA1/zL/AwBaAK3/lP/r/6n+SP33/Wn/m//4/gL/xv80AFP/qv4cACkBsv/v/dr9NP7H/Yj9/P1b/qf+hf82ABsA+v81AHAAewClAPMAgABb/wz/vv9FADkABADU/47/WP9d/8X/NQAVAOD/GwBdAFwAPQCGABoBsQCL/xH/Hf8E//L+Ef8D/xr/z/+SANAAwQBtAIv/9f4q/0P//f7C/qr+jP5d/jL+Ev4p/qf+Qv9l/x//F/+b/xcA0v9J/2P/uP9//+n+sP4K/13/8f+6AacDdgShBLUE4AQdBScF2wTIBP4EiwSXAwoD9wL0AsgCvQIQA1MDOAMtA4kD7QO9AxsDsgIcAl4BWQH+AM3/Gv8e/xv/0f6S/of+yP4l/zj/Uf+O/43/ZP8o/wz/Mv/9/m7+Nv5M/iv+CP5W/r/+A/84/2H/vP9FAH4AUgB/AO4A1QCAAFEAPgBbAHAAOgD5/xkAcACOAI8A1wA8AUMBAQH8ABAB1QCWAHMASQAZAM//dP8+/zH/G/8N/yv/QP9E/0f/QP9p/5T/jv+p/8L/ef8T/xH/Lv8l/yj/8v6w/sL+yf7i/kX/if9z/1L/kf8DABgA4f/1/00ASQAAAPX/6P/P//r/LwAhAMf/mf8KAF4ARABeAHMAewCdAIYAhACwAJ4AdQBoAGAARgATAPL/DQBBADoA6P+l/9P/XgCKAAsA0/8eAEgATAAfAO7/AQD5/8f/vf/J/73/pf+d/6H/vf/S/7//wf/c/9r/2v///xoABQDv/+7/2f+//+j/DQDi/6L/TP8F/yP/Zv9M/xj/Kv/6/qT+zP4x/1//PP8F/xL/Ov8s/xn/Sv92/0//KP9V/27/Iv/r/kH/bgDIAvAFiwgNCoYLow3qD+wRkhN+FJYUjhS1FHQUcxM7EnQR9RBkENgPEg8eDs8NIw47DtQNZw32DDUMOAsICsIIYwe0BeoDUQLMAB7/Zv0i/Ij7Nfuw+iD65vng+fn5TfqB+lr6D/ru+RD6/vlt+db4pvi++O74M/lY+Vb5qfmX+tf75vyG/Rn+z/6C/1QACwFiAYwBkAGSAdQBDgLiAaEB1QFJArECGgN6A7MD5ANIBMEEBAUHBQYFBAWRBNADbwMgA5kCTgIbAncBqgBfAGMAZQCFAKMAbgD8/87/DAAuANX/X/8r/+n+aP4m/jL+5P0z/RL9tP0m/uv9k/2k/Rb+wf5R/1z/A//8/mn/u/+l/1//Uf+J/7X/qv+J/3v/nf/z/2AAqgCcAJEA6QBDAVcBPAEOARQBXwF+ARYBjABdAHwAswDDAIgANQAeAEUAeACiAJ8AgAB1AGUAUgA5AAYA/P8tAB4Alv8v/zr/Y/+h/7X/bv86/zn/Yv+7//7/9P+//8b/SQDsAOcAKADR/20AKwFEAbkAJAAkALoAJAECAdUAywCwAJUAsgAhAWoBGQGzAIwAbQBaAHIAvAFKBQ0KEQ4fEUkUqhcOG7UeNCJ7JCkl8CRTJCEjPyFHH/Ad/xyrG8IZuxc0FoIVdRWhFWwVZhTLEvAQxA5XDPUJegdbBLMAR/1r+rv3DPXx8hnyV/KM8h7yp/Hi8dXyBvTq9CH16fTN9Mj0afTX86zz9PN69E31QfbS9n33YPkx/KP+QACaARUDfgSlBYMG8wbcBpgGnQazBk0GigUXBTgFoQUOBl4GUAYABhIGiAaaBv0FJgU/BBADzwHaAPr/xv58/ab8OPzN+2b7Qftd+5j7qfu1+wH8CPyx+477mvtn+xv7FPsM+9T66vqH+wr8IfyC/MH9Sv8VAAwABACIAH4BkgItA8wCzQFPAdgBvwIbA8ECUgI1AmcCFgPKA6QD/QLzAnwDpwNQA6wCsgHmAAUBdAH5ANj/AP+0/tL+Nf9x/wr/VP40/sv+HP+M/gv+Rf5z/g7+r/2z/aL9Yf15/fT9Ov4//mv+n/6i/sj+k/+iAMQA+f+T/wcAnwD7ACcBwwD4/9f/jgDRAEcAAAAkAFUAtgAMAZEAnf+G/2sAOAEFAfz/Lf8h/2f/jf+w/7r/X//r/u3+Hf/s/q/+2f5IANkE7AyBFUIbgR76IXUnQi6zM4A16zNZMa8vly5MLNgn5SIkIEEgRCG4IBYeDRumGXEasRuLGk4WohASC0oGKwLQ/Y74XPPP7+ftVOxl6v3oTuk967/tqO8I8PDuEe717sLwcfGq8N3vHPCK8bXzqvVO98j58/3rAtkGzwi2CZgLqA4lETES+RHOEJAPXg/8D+oP3Q5wDiwPpg8XD8oN7gvaCYsIGgj6BgEE6/9a/Bj64/gT+AP3cPXL8/byKfOZ87fzcvP18sXy4vIH80nzavMZ8/vy/POl9Sj3yPiS+u/7+Pyv/jwBiQPSBGEFzQVABs4GrgezCBAJeAgaCPQIQwq9CjIKSAm0CCMJIgrjCY8H7wTxAw0EmgPxAc//VP7q/eX9Rf3j+5/6V/rd+if7UPrq+FX4nvjk+Kv4+fdr9/P3e/lz+hn6m/lR+jf8Lf4l//r+uf5m/9YAKgKpAoEClwI8A/kDUAQ6BGsEYAVxBoMGnwXhBPwEnAXhBXYF6ASZBEoEzgNEA5UC3gGqAbsBUAFlAF7/Xv6o/c39m/7G/pn9HPyh+x38sPzw/Lj8RPxT/N38Iv0H/Sv9kP25/ZD92P1YAUIKWhbZII8nUCy7MYc4Cj+EQpZBET7WOkM4mTSLLpknQyPoIqYkzSWGJM0g6RxOGwobFBk9FHwNqAVG/ZX1ne8X63znIuU15Nvjm+NV5JTmFOmF6qfrdu317qju1ewQ6+LqZO0L8jf2C/hf+SX9WgOPCRIOMRHmE24WLxhhGOgW+BQ3FP4U2BUYFS4TBBIxEsISDhPhEpERSA8PDXgKfwa1AbX9MPuK+c73UvVu8l7wKPCL8QfzWvO18jTyHPLs8bDxtvED8oHyL/MU9AX1L/aK+C78if+AAfUCxwSjBn8I6gkPCmsJPAnpCcsKLAvSCgUKuQnLClUMiAw8C8YJ7whpCKUHzAXTAl8AqP+y/2n+d/so+QD5BPry+qH6BfnS99r3hPjL+An4BPfj9p33W/ht+Cf4rfiA+hv9FP8k/1L+Ov82Al4EDATBAmQCxAPQBXsGQQXLAyYETAYDCLQHLgYyBXAFMwZeBmEFrANDAsgBAQLuAVgBAAFlABn/X/7q/ln/+/6l/rX9zPvg+hH8gv0u/c/7HPuF+4/8xv18/jP+hf24/TL/mgCAAHz/U/8dAKEARgEmAhgCkgEmAhYDuAI3ApgCaATVCrYXaiZnMBQ1NzgdPOFAmEWgRlxBXDkxM3EuzCgbI3Yfmx4/IGsiXCIQH04afhY+FM0Rfwx9A9/4me8I6RTlDuMQ4uPhXeOC5lfpwerH63ft++9o8hHzFfHu7WjsDe5R8mT3uPsx/yoDnAiwDqATvRZQGNkYPhkrGZQXzhTXEewPGRDHEesSghKHEccQIRBDD8sNRAuoB2kD2P5X+rv2hvQy83/yfPKN8sjydfPf83rzjPLU8eHxcPJJ8sbwMO9k7+jxxfV2+c77D/3A/ncBPgQQBscG5wblBvkGMwcZB9UGxAceCgoMWQwPDPcLIgyyDI0MtAraB08FzAMeA1YCkAA4/ir9L/42/4b+9fzE+xn79/ry+nL5tPZk9Y32DfiY9xj2NfYN+HD6v/x4/bP8hPyv/Vv/EABx//j+mv/5AEoCwQKoAkEDLwWeB2EIlQasBFsFUwdJBy0FEgMgAscC0QT2BXIEfAJLAhkDswPZA58Cxf+W/T/9sf0b/jv+hv1U/D38Zf1A/hn+jv3I/F/8P/35/cD8wfqf+pn8vf6k/z7/k/5x/kP/agEVA+sBWf8B/wgBSAKvAdEA6AC8AZ0CeAMQBJQD/gESAYIBRwJqBswRwyDJK5MxeTXDNzo4qTi1OHY1GjCkLacuhC7NK1EqXyy0MPg0UzarMT8nKBznFEoQXgqDAnL7wPZC9IPzM/Mt8kXx3vHR8t3w6Oq+45XeLNzY2wLd8d4U4S7kR+nQ7m7yJPVI+bb9cf/T/iv+qP4gAfcFOQw7EVQTORYXHCcghx9eHaEclRxhHIkbaBhgE1wQKRJBFusXwRWvEbwNYQtACqAH9QGS+9D34faE9h31G/Pr8TLyqPNG9R31gfGX7OHqNexO7VftQu2z7bTv9PMT+JP5tPkG+0v9EP8nAEsASP+R/hgAgwMXB7wJGgvNC0oMhQzYDDMNFQ0tDDcKAggGB1MHsAcPCMAIQgifBscFnQVxBL0ByP7s/C38vPsj+4j61vkL+Rj5v/pK/H77S/lC+Bb4QPcz9zf4UPgc+HX5ovve/J39sP7E/j79l/y//V7+gv2l/CT9rv5CAK0BFQPPAxUDJAJpAnMCkQDc/tf/cgFzAU8BLwJ4Ag8C5QIoBCsDeAAB/yz/9P89AO7+w/00/rj/FgKDA6kBMf5u/dz+KP/c/tn+l/3t+4n93AAYAfn+ff7T//UA0wEyARv+XPvu++X+mAGwAlcBN/8x/7gAnwEUAXcBnwf+FFkkgC7kMHcuNyt4KZcq6Sy/LOAqeiwbM8Y5+zvJOpI5ZTnjOLI10C0RItkWzhB2EDUSHhKhD58K+AbwAkv91PR87Kbn4+Qh4S/dXtsg3GLf0uQL6S7oeuNa39zcuNr92ZHbHN+X5CrrBPHr9Gv35fml/Hb+T/4a/VH86vwBADEFuQqYD2QTSBYuGN0XzxSAECUNBQwlDTQPPxDgD4sPfxApEmoSAhCkC40GLgKa/3P+yf27/AD8pv0RAGcAMv81/a75svXk81XzLPLU8UbzL/WW9lH4pvoG/Jn7lfrL+Vv4cfZk9hL5y/uw/C/++QFaBd0F6QTcAx8C4wDCASgDzwIJAhIDbgW0BwUJEwkHCH4GMQUkBKECjwA2/+b/EgKeA/gDHQSbAw4C4QCGALr+LPsT+eP5E/wE/lL//v9f//r9sv3C/Yz8tvpE+Tv5JPur/cf+tf4z/zwA6gB9AOX+gP3V/P/8vP6+AMgA1f8MASAEbgWcA/gAif+D/60A2QGdAV4ALgAVAsUErwUnAxUAqP9aAAsBgAEtAJn9af3jAAIEOQOzAHr/v/5t/mz/+f9Q/pr8dP2M/84AwADu/1H/Iv9E/2j/tP5m/Qz9UP4aAPUAqgDu/43/AP/Y/6EH4RUoIlYnjifIJGofhxujHDUhFSavKn8xbDojQJE+RThbMo8urCyvLBYtXCs5KNEn9yoJLLwnBCHgGUgStAszB5oCW/0z+679VgCC/kn43O9658Hh3N+G31DeLt0I3gDg9uB84A/fNt0H3Lbc3t4Q4H3fEuA75CzqGO/t8r30/vMR9GP2sfj3+en7nf9TBBcJlAyXDXUMbgvdDL0P0RCuDwwPJRCcEdMSuROYE3USRxEtEIcOpAydCqIIDQgbCfYJCQnkBg8FLQOWABD/tP6a/Tj88fsc/Ff7NPqw+QX6dfpR+TD4Ufg19/f1Lff1+B35e/mT+7r8NPuk+UX6aPt5+0X8gP4Q/279svy5/eT+Cf82/5kApQHPAFT/nv7V/XL9rP+jAhgDbgGg/9n+2/56/+EA5QDK/i3+bgCwAXcASgBRAKf+s/42AaEC7wBT/ir+JACDAbEBWgKYAnwA3f5tAFoCkgHL/7EACwN8AjABMQIXAtf/pP8WArkCiAEGAX0A//9iAGEB/QE7ARUAwf+S/4//vf9h/0z/JQCLAKX/O/8i/yj+Vv4y//P+vf7i/pf+hv6g/z0A+f6S/cr9Ff+e/yT/V/9i/3/+Mf8EAfQACP/I/dD+sgA2AXMA9P/i/5f/EQCoAWYCnQI3B7cSHh8kJLkhbhzGFRcRyRO4HREpJzKhOcQ+Pj61NmMsfCW7I5ImzC3bNYg5YzcUMgosmCTJG+0UahHADygPJw/mDXAK+AVwAHr58PFA6pjjoN8T37fh/+TO5Xvjft4Z14DPDMxgzcfQL9VN2s/e/+BA4FLdGdrr2GDboOGw6Rvw8fKA9Bf3Mvlw+i780v3P/qwB7Af+DWAQIBHyEgcUmxOfE/cTNBPaEkwVLxnlG0EccRpkF9ETwRBSD0sP6A/eEL0RlBFpD4QLhwebBDsCYQAJAVYDrwRDBToEAQCP+pn3o/f7+Pn6j/z8/KT84PtE+w/6Wfde9Wf2Z/nq+978/Py//O77Hfs7+1v78fl9+R/8uv5r/6//4/8A//790P0H/Zz7yfsw/vgA7gJgA0IBsv1I/J/9df4B/on+TgCQAa0CVAMyAWr9c/vc/B4AKALmAewAzwBWAQICWwL3ABj+F/3s/5sDSgTKAhkCngEAARcCDwNAAdn+hv9YAjwEagRLA/gB5wAdAJ4AWQGFALP/4AAAA4YD5AEjAEX/lv5z/nb/QQC0/6//ugDOABIA7/6h/Ub9YP1B/dD9Nf86/4n+RP+u/nr8Dvwg/X39//wi/R/+tf5Z/hn+vv5L/or8tfw1/ib+hv3V/ucA3QB8/0X/gP8h/sf8mP4BAV8CKwmaFbQePB+wGAcQ3wkBChITICK2LrYztDUaNjYvRyR3HdIcCyKcLRs7D0GiO4UvLCSaHZwa6hlkG4MdSB8HIMUdshaeCkj+uvgk+hP8Rfu2+Wb2HvEG7nDsjOd6363Z7dh7297e/+Dj4NreaNwl23vZAtb/08DW0d0U5tjrIu1U6ublX+NH5UzqSu8a9Ur8RwHWAeL+hvqp95L5lwARCfMOPhASDj8LagkKCWIJwQnfC2cQeBQdFRsSMw0kCdIIjQvvDUQO0QwnC7kK+goRCsUHvQXEBLYEKgUZBdcDPgITApMD+APMAfj+uPyp+4j8nP45ANgAnAD9/uL88fqv+DD41vpn/o0A+QBv/w38c/kH+eX5bvvP/CX+jv+x/5r+WP23+735yvlt/Kr+GQC3AHX/2v3B/Ar8n/xO/gP/if4e/zUAEwBO/7v+1/4G/9b+uP+pALv/H//2APcCUgJRAFz/Sv92/4kArgK2A3ACLwKzA1gDZwHiAKoBHgIfAyAF7gWuBPwC4ALqA5oDUQJHAlYDfQSXBRMGpwScAaf/nwD/Aj4EtQNUAhQB0gBgATsBuQDx/0T+P/5yAHYBEwCD/sb9L/16/Qf+6P3h/V/9u/yE/aj+7v0y/AL87vzi/JP8p/2A/qz9MP1R/nn+O/02/Z39lf1t/uz/wACkAMX/AP4S/e39jwCbB5ASNhu9HPgXjRBBClkJhhAGHd4o4DDBNEgz2yucIngcpRuhITYtAjmOPrI6MzC4JFMc1xiyGsYf1CP+JLcj/x6aFSQKugGU/hb/DwGPAhABqvtU9b7w6eu+5S7h7t+a4EHiIeQ741Dfltug2RXZWNh/1pTVetio3n3kYOf55V3h4d1Z3ofineho7ifzA/eo+Wz64PjN9T70HvhhAFkIGw4jEIINhglLCGgJlQrFDB4RSRabGREZ5RXLEbENzAzzEK8VsRVFE28SDRLeEFIPPw1OCvMHUAi6Cu8LEgoaB30FjATWAuoAoP9s/m39E/4SAOQAE/8F/L/5kfi490H3C/gG+rz7HPyv+xr6oPbw8+z0/ff++Q77Dfzs+6T6iPnL+Kj32vYf+G/7oP6l/13+IvxY+n752/mO+3T9Tv7D/gEA+wC1//78tvsH/BH9t/+hAkcDrAG6/y7/2P9NACcAqgDDAfABXALaAxEEGwKZAFkBlgKBAmQCRQOuA3MDAgSjBEUDOgE9AagChwNUAwIDPAMRA5cC1wLKAl4BBgBpAKUBcQKsAg8C8QDc/y3/nv9dAPv/Jf9d/y0AOQC1//X+1/3r/BD9gf4hAFQAxP5n/Tr9vvzL/JX+vv+7/ub9Y/70/Tr9/P3j/rn+QP6R/lP/iP/y/oP+6P7J/mv+xP+2AeYBLAEnARwAHP4g/vYANAeUEDEZbBx5GcIS5gsGCoAPthnpJGAuqzPzMussriQHHkEc8iAVK1k2tjwNO/4yoyj7H4kbEBxNIDQlyifdJjsiChkLDgEHmQSJBOsFAgfYBJ//Lvrm9KbvJuvi59vmPeed5rfkLOOY4QDfXd2e3MXa2tix2B/an9xB4P/iSeNJ4rvgit8+4D7j7+ce7dXxc/We9iH1LfPi8sz0EPl6/5oFhQnKCtsIfAavBW8FkgcDDQkSFRRFFXMVIBI4DgsNJg5yEPgSHhXfFSgU8xCNDlENzgv1Cg8MLg2+DL0L5QouCWsGVASmAyQDZQIwAjICfAFvAOH/ZP+M/uz8g/og+Zz5p/qk+0/9yP0N+zD4uffp92n3r/d5+RL7pPs9/Gr8Xvoj9wX2EvgZ+/v8x/3t/RD9jvs3+zL8I/wG+9/7Av/iAE0AiP8G/4n9tvyq/soAqwAGAJUAawFEAbQAnwARAQIBeABcAY8C5QEuATkCOANjAlYBqgEpAsUBsgF7Ar0CMgJfAi0D4wK2Ae4ACAGfAdwBLAIHAyoDvQGVAO4A1wDw/2MA8wEMAnsBGQK4AXj/FP7R/uj/iQA9AZABfwEYAMD9tv02/yD/vf6TAGgBPf+D/nb/lf7k/Jz9t/98ADkAhf+g/pn9wPwj/s4A6wC7/vH9wP6j/qv+3/8oAOr+KP5Y/88AJwB5/l/+gP/a//H/CAF3AeL/Uf6+/rb/VP9XAdoJjBMhGFgYdxWzDpYIiAolEwsdLSZhLbwwBS/mKNYgtRuxHF8jUi6YOLE7ozbzLQwmbCCqHZ0eXiJDJmQonidbIpkYcA6aCNMHgwlxCvMIVgXZAFf8C/jW81vvOus26b7pyemv517lOeNV4cXgX+DC3S7a+tgz2o3d0eGU4xXjWOJV4VjgQOF54zLlreh+7lnzfvUe9WHzBvLD8kj2vfsGAR0EtgVGB/IH9wbLBSUGFQgvC2sPaBNbFAgSbQ+YDgMPyw/wEAsSAhJGEWERtBHfEAUPEg0IDNILbguXCi4K/AkICVcI2QftBUoDngEuATcBCwFTAL//JQAIAJL+nPwm+u/3UfhT+z79uvxu+875jPiI+ML44veI96P43vns+139WfsS+ET3pfgX+rb7/PyW/J375fsX/Yz9/Pxh/JP8ev1G/of+sf4z/7n/xgDvAdgAT/53/ar+NwBVAjAEFgNBASsBbgFtAUIBlAArAMYB2AOEBNMEbQNAABr/3QBOAmkCCwNuA4YC8gFpAj0C7AAvAJ4AbwEgAmcCzwHwAKkAnADDAAwBogCl/1H/CACiAF4APACqAFcAI/+g/uj+i/6P/un/hQDn/0T/vP5A/o3+Mv/j/nn+ef6e/nr/VgDz/7D+0v3l/a/+n//C/yH/2P5l/zYAcAC3/3H+s/2F/nkAoQH8AIL/oP4U/2wAaAEbAYr/N/7N/rcAOwJsAh0Blv7q/Mn96P/NA8wKVBL3FlcXBBMTC0EFrAa4DkIaACUTK4ErnSciITka7RU/Fs4beCXhLjszlzBsKJYecRcAFRoWfRlcHSUfdR4aG50U6wwhB+oDcQK5Aq8CsgCC/qL8CfrI9lLz8e7W6i3pmuhD6Kro7ejk6Anpi+hA5vTist+X3WXfSeRK6ZntTu9k7RXqp+eo5kToKO1j8tz2J/sm/f377fm1+GH4LvrG/uYDrAfCCXEKIwonCboH/AZ2CNYKFg0GEJgRuxBkD1MOdQ35DK8MIwxNDEMNfg2fDXANkwtXCRYINAceBl4F7wSdBNMEvAT7A+cC9wDJ/o/9AP2E/KX8gP3q/ab99Px8+4z5Zvhi+NP4y/mH+nf6x/pA+6v6kvk9+QP5x/ju+YH7RPzR/Ez9A/1j/FX8VPxs/D79Tv4r//b/fABbABcAMQAhAK7/wv+5AKEBJAKkAhADDAOLAq0BygCpAFsBawKWAxcEdQN/AhwC1wFBAfQADwE4AZ8BkQKDAykDawHj/5H/pv+1/6oATwGIAIkAoAG4AWMA2f66/Wr9eP7f/wkBtwHSAF////60/kf9/PzT/mQAMAJ+BIAEogG6/oX9uP28/4cCQAQrBX8FvAQUA10B1v96/2sBIATEBTwGiQWTAxUCOgL4AQgBGQEIAu4CygMjBO4CaAExAPb+Wv+jAG8Ak/8UAGEAbf/B/zsAdf6J/Mf8tv0G/r/+8f4Y/of9ZP3v/Y7+tv0P/PH7UP00/vj+qv+z/oz9qwCpCLAQxxQaFIUPuwkGBwUKcRH6GdMggyUJKKomTSEyG1gXjxY+Gugi5SuwL5MtvSeHH2IXKxPQE8AWEhoCHU0drhmZE/oM4AYpAqX/Rf8+AFwBLQHX/hr7y/ZG8gfvf+0e7J7qzOoh7JDsOe3d7VPsT+mv5vrku+QC50zqR+1/8HXyTvKH8afwBO9M7pDwS/SE+Hf9VgEeAmkABv7y++b7hv6fAkwHbwr9Cr0KYArZCB8HTQd8B30HKAqNDf8OzA4qDfYJYAfzBu4GzAdBCawIjgcyCJYIpQbIBJADBgE9/1QAHQJLAvQBkQE9ANX+/P34/Ib7kPq++hT8Dv4Q/1v+qPzS+q/5Xfm3+f/6M/yQ/CT9Qv4Z/qn8Ofy3+5z6a/us/fT+p//wANQAJv9D/uz9uP2n/owA3QGkAlID6QLVAUgB/QBrAHQArgFAA5wEVAW9BAQDcAHCABYBfQJ+AyQDvAL5AhgD0QKIApkBbwBEAG4A7ADqAQwCIAG8AMwA0f9a/+n/Lf/i/Wz+8v9fAKEApAD0/jP90PyW/ev+pv8r/4n+0P4G/yb/q//2/j79y/wV/qf/jACaALr/5f6r/s3+af/c/2n//P7e/9IApQCYALUA6v/8/kv/LgCEANcAcgF3AY4AvP/y/1IALwCRABIBiAAGAMwAkwEJATIAnf8j/3z/0wClASIBUwCn/1P/+v8JAfkAFADS/+T/3v91AEMBuADE/ysAoABOADQAUADh//L/EAFgAa0AFACB/4///wLWCR8QpBPkEygQMAoYB64I+QziEwoc2CH1I0kjPx8xGFwSbhD4Eh0a8yJUKPYnVyPXG+QT6g6EDVcO7BDEFFwXzhYwE+MM6QRC/ov7D/zY/Z3/UQAs/1X8Z/jw8wrwnO297Ebtnu617wTw/e+B7wnuKuzT6hjq/OlL6xPuy/Bp8p3zpfSW9JzzVvOS88DzBvZ6+mf+pwB8Ad8AbP/P/iz/UgCeAgkFDQdMCQwLVApHCBIH6QWdBZkHDQoACx0LMAt/Cm4JZQjVBlMF8ASaBZEGbwdmB+8FKgQoA2ECVAG9AGUAq/9k/yMAuQBHAID/Xf7L/M37w/sV/E38jPzp/Dj9ef2h/RD94/v1+mz6zvpx/CT+tP7A/tj+MP5Y/TD9GP0E/ff9pv+bAAkBQwGnAKL/Ov9R/2v/FQAVAaMBFAKEAhgC9ACCAIMAQgCAAE0B6gE1AkoCmwGHADQAYgCiAOMAzQBqAG8A7AD/AJgAJgCZ/zH/a/8xALcAWQCg/2P/hv+O/63/7v+v/4P/WgBZAV0BygAkADj/M/94AGwBwQEIAtQBGAFdAeQBEgGhAAgBAAEtAWwCBwMuAs8BdgGHAHgADgEhAfoANQEoAekAKwE2AZUA9f+Y/xn/If/8/2UAGADl/9X/dv8b//L+hv4p/oD+Nv+N/47/f/8r/6H+fP6h/oX+jf75/k7/f//1//n/Jf/h/in/C/8Q/7n/PgBNAIMAPQB9/3r/9v86AGIAgABAAEAA2wDsAGcAFgDv/+T/cABrAaIBsACp/1r/EQBMA18JMw+JEc8QMA4ECkwHaAgPDAAR0xcFHwMj3iLAHpAXDhEbDzcShxjvHxUlECbQI9EeuBfjELEMsQsnDpgTkBhTGaIVUg+FB/gAL/7M/fv9+P5sAHkAQf8v/ev4XfNE77ftGe4J8AXyIPIm8SzwUO/s7tTuwu3y67zrZu3H73jydvS89FD09fQS9nj2cfaD9hz3B/lu/NT/7AGAAr4BkAALAHgAhAH8AtIEuQZMCJQJAgqhCGEGsgQBBMsEMweTCSIKhAlkCLcGYQWuBNED2gL3AtcDtQScBVMFXgMbAXf/of66/oj/GgA6AA4AbP/y/lj+FP0q/OX7y/ti/P/9lP5+/fT8oPzX+wb8/vzo/Dr8y/yn/dj9Pf6w/jT+Yv2L/Tz+sP4b/3f/P/8B/4f/KQBbAHYAfAAFALn/HAB2AKEABwFVARsB+wBNAU0ByQBlAC4AAACyANwBCQJjAb0AHQDA/2gABQF3AOD/8P9EANEAdAEtAcf/tP7f/pn/WAAKAagAhf9i/w4ARgATAOf/Ov/F/pP/gQCmAGoAGACj/37/uv+6/8X/AAAGAAoAPAA+ABEARgA1AIv/av/E/wkAcADEADIAi//u/wwABQCJAE0Anv/5/54ADgD8/7kAJQC5/4cAtgABACwAmgD3//j/hwBNACUAkQCZAFMAowAVAGL/XACOANH/NACrAAgANgBNAVIACf9z/6T/tv+YAA4BMQCl/8//vv8ZADQAlv9g/3T/i/8bAMsAYwCb/53/e/+X/xoAvP9B/23/yv9KAPoAjQAc/xv/bv8oAEkEdgkSDBENag25CjEHPgd9CAoKkg7MFOIY3BoiG0YX4BG9Dt8NvA/8E0kYChthHCUbGxfdEiMOpAnTCAMLtQ0oEEARxA4NCtgFpgGo/qP9yvyB/Jr9Tv43/fn7yfmE9eHynPJe8oXyofN989vxz/Go8rTy7PIx84byzfFa8hbzovO99Nb1Avek+DH6Kfto+8P6n/mC+Rb7g/3y/8IBoQLGAqICawLnARgBwwDLAcwDjgUFB6IHZAaQBK0DGgNaAvUCTgSKBNMEigUcBZgDlgLEAaEAnQBaAaoB1wENApQB2gCbAJv/8f61/5f/5P5Z/+H/X/+b/2wAaf93/gP/Uv8//6f/0f8f/wf/vf9MAMIArgAdAL3/ff+A/woAlgB9AHQA3gD3ABkB/QADAFj/Xv+i/3AApAGlAbEAwACjALD/mP/j/zP/AP+kAIgBFwEBAWcABf+P/m/////V/9z/EgAzAEIAdgCSAIn/Yv7X/r7/HACYAOIA7P8U/6n/FAATAD8A6f9B/5f/fgB4AFcAUwB//wz/KAAMAWcAMgBCAEr/I/+TAAwB5P/F/04A6f/8/+cAqgA2//D+3P8sAC0A3gDdAJD/Fv/z/zcAvv8UABYASP+V/58AlQD3/woAsP8Y/67/WAAiAPD/GgDG/5X/QwCRAAEAm/+g/3H/zv+/ALkA5/+N/7X/0v84AN0A7ACJAJMA3ADDALoA2QCAAB0AvQC1AfYBKgIkAjUBdgD4AGgB+QAeAa0BpgG0AUECHgL9AE8AagCuAO8AKAEqAbwAWQC1ACABsADw/5D/SP8L/9r/RQIuBYIHXgkiCikJpQfDBkYGUQZHCGEMxxDqE5MVQxWWEhgP9wyHDDwNdg/8EtIVshZoFsUU9xCADLUJuwjpCKAK0wxjDSQMJwqSBygE4ADW/t79j/02/hj/0/5a/YL7o/nv9/D2c/YQ9sv1i/Vt9av17PWy9Y/1D/Zz9mf2ivai9uD1kfUF9+P4Lvrr+8v9y/3j/Pf88fwN/HH8pP5GAMQBTAS5BWgE0wJZAlkBxgBOAioEhARCBcgGlgYbBTQEMwNpAQ8BigJ9A58DBgTUA04CZwFoAbUAw//S/zIAAQAcAHoA/P///rz+2/7I/iD/h/8W/0/+Kv5D/l3+5P4l/zP/t/8gAAEAuP9R/47+ZP5C/x4AvQBnAasBNwGyAGUA+P+9/+X/RQDbAHUBAwI9ApYBXwDI//j/7P8MAKwAtABrAL4ADQFpAJf/b/9e/x3/b/8eAP//av9L/1L/Fv9I/7P/Xv/+/iD/Gf/V/u3+/v6V/qP+Zf/a/8j/v/9d/37+Vv7n/if/LP+d//D/1f8KAEYA0P8l/xL/Qf9U/7//dwCbAEsAYQBjAPf/z//4/83/qf8uAJwAnACqAJwALQDz/zAALAAEAEcAgAAuABgAbAA3ABAAYgBWAAkAEQA9ABwA+P8BAPn/7v8MADoASQBFACkA8f/Q/93/3f/N/+//BAAQAFQAYgABAMP/6v/y/8//5/8AAO//+v8sADkADwANADIA8f+d/9z/KgADAN7/BAD5//j/XQB1APH/pv/j/+3/2f8vAHQAJAAMAHsAfQBIAGQASADQ/9f/cACxAKwAqAB0ADUATABlAaUD+gWgB64IMAn9CEoIiAcWB4EHiAnHDJYPjRG1Ej8SbxCJDigNYAy1DCkO0Q9HEYwSwRIOEVwO6AvVCVEIEgieCNMI7AjgCM4H8QVTBMUCtQAS/3b+M/7V/YP9EP0w/Gz7Qvv1+gf6ZPkl+Xj4nfd497v37veg+KH5Jvpm+t/65PoF+kb5VvnO+ZT6Dfy0/d3+m//S/3j/zf41/jf+qv5A/08AzwHHAugCBQPeAuYBFAETARIB5wCXAZACpQJoAoECVQKUAQgByQBnACQATABbAPr/xP8QAD0AAgDW/5T/L//+/rD+Rv4U/iT+k/7z/gr/Zv+7/3D/4f6F/k/+KP5I/rL+Nv/Z/3kAhAAVAPv/IwC1/wz/Qf/Y/04A3AAdAQ4BKQE9AdUATQBEAH0AggBxAKQACQFAAS4B9QCsAHwAiQCTAE4AEgA1AD4AAAANAHYAeQAnABUAAgDU/8r/sP9K/wH/W//y//z/7P8qAO//bv9e/3P/Sv9D/2T/VP+w/1wAWwDp/8z/0/+Q/3j/uP/c/+L/HABXAGIAlgDEAGUA3v/1/2sAhQBkAJIAigA7AM4AQgGKAB4AmgDTAIQAkgCVADoARAB/AFoASwC8AN8ARwDs/08AdgAGAM7/2f/A/9f/UQBjABEADQAFAKn/mv/m/5f/MP+Y//z/9f/2/wcA5//Q/8j/fP9X/7D/6P+a/47/FgBnACwA1f+t/7X/AgAlAM3/ov/p/yUAGAAVAFcAYgD4/9L/HAAqAP7/JgAmAKf/1v+DAIcANQAiABgA9v8RAB8A5//b////8f/3/28AoAAOAJf/zf/V/3IA8QI0BZoFvQWgBtAG+wVoBSsFigUMB/EIZAq+C/8M9wynC30KGgreCZ4Jugk+ChoL4AvqCz8LfgqICSYIPwfpBoQGDQZiBagEMgTJA2cD/AJCAnMB2QA9AEv/L/5W/cP8U/xb/Af9oP1v/ez8hvzb+yf7nPoK+vP5zfoC/L78I/2M/bX9U/27/Ij80/w//cP9Uv7R/rH/tQDvAG4AQAC5ACsBQwE6AUABcgHcATICQQJpAuACHwPTApkCsAKmAisCSgHpAG4B5wEfAlUCOALPAYwBLwFMALL/t/+K/zT/oP94AIIA4/9k/x//8v7d/lb+r/1A/tD+Tv5C/t/+4/5p/nT+rP5l/j3+ov63/jT+G/6j/h3/Pv85/0f/kP/w/+T/bP8z/3f/q/+H/6H/VADzAO4AqACXALYAsgBhAAgAEgCTABIB4gC9AF0BbAG8AJEAxwCpAG4AcwBvAG8AtgDUAGsAFwBtANoArwALAJ//2f81AAEAgv+N/wwAJwDM/7r/IQA6AJL/Cf8k/13/o/+5/2P/Yf/v/y0Azf+c/43/Pf8+/7T/uf9e/73/NQDf/6X/HwBIAML/j//E/xwApgCxAND/ef+dADEBUgC5/zwAEQHlAPr/EQAkAToB/P+M/2YAHwE5AagA7P8XAPsAFAEYAJz/PAC0AHYAYgBfABsALwCIAFgAu/+t/ysAdQAWAHn//P/UABgAD/+a/54APwBQ/2b/QgCcAIr/wP4AABAB3f+b/qP/4gBNAFz/Y/+7//z/UwAHAHT/vf9GACcAt//O/0UAMwCd/33/CgB5AEwA5f/F/wsASQDx/73/AgCEAGUCuAT0BLcDZgNCBEwExQK+AdoC0gS9Be0FlAZTB0MHSQYUBZMEqgTaBCgFXwU7BW0FbgaOBvMEsQMLBKIEAwT3Ag0DZgOeAtsBNAKpAkwCvAGsAcsBiwHEABkA6f9+//r+O/8AAEIAz/+2/08A8v+H/gr+kf6f/i/+Uf7R/jf/m/+q/zb/7f4C/63+S/7N/mD/1v6s/s3/7P8O/3//nwAaAMH+G/94AFcARv9G/8v/JQBjAE0AWACUAH4AMgA4AF0AIgDa/wMAOAA5AKQAEwGgABEAfADSABkAy/8mADMAMwApABIAUwC4AIsAEwAPABYADQApAAAAu/+4//f/UgAVAOP/YQD0/07/JADcABYADv8p/+//eAAcADH/j//eANEAd////uf/nQBWAFT/sP53/8QANAE6ALr+DP8jAYsBG//S/QsA7gE5ACv+TP84ASIB1v8j/4//bACnAOb/a/+3/wMANABOACUAzv+b/zUA1QAeAGn/yf8hAAMA6v/w//j/PwBSAP//AgALANr/DABMALz/Lv8UAEMBVQCu/oz/CQGzANL/Tv+s/2EAKADY/w4AAwDD/w4AWgDn/7n/VgB3AKD/P/8oAMAAzf9D/xMAgwBDANP/jv8AALoAUQA3/2v/s/8j/4v/gAD1ANEAGgAFAF//QP4hAOsBP/8V/a0AdwLN/j3/UgL/AOb9Nf1s/0QB5f9B/WH+igEcAHD9vP+aAu7/H/z0/XwBev/q/Fv/bACd/mr+nf9VAFEADv9B/Sf/EwIZADf9ff4kAd8ADf/8/6ABPQBNAAQC5v9u/WYAdAPx/5L8bv7DAV0DCQHz/bn/lgP+AZ78qfwjAtwDSv9Q/PD/wwMYApX/X//d/w0BIALdAScAj/70/9cCgwKP/17/5gHcAdL/y/+KAQsC0/9l/kMAkQEDASwBpAGoALsA+wHo/1n/BgLoABD/qQBQAuIBGAFzALf/lgDSAB//Hv8JAf4BuQFhAeT/Bf/CANQA+v38/W4BaQDF/Ej+igHUAWz/E/1r/j8B0gHz/xb8HPw+AdYBdv5t/gABEwIVAAf9Nv2LAvsCQ/vy+gYDnQRA/rv7gABBA1b/hfuL/fEBbgKa/er6AAAKBe8Baf3v/+gB8/6L/vsAcgK/AGT9Sf4rAxADF/3n/zwGmgD9+wEAXAGj/pv/MwFI/lX+VQHKAkwCPP3Q+rX/VwKk/wb9z/3vAFUCIf+O+/r+NQN7AAH9Nv15/4QByAC+/Yv92wG+A/v+yfseAO8AeAAFBPP8lPf3A0QM7gBU9Rz79QXvCF8BbPdL/OsHiQZL/Pv4zwDyBs8AWfj5+p4DRQXdAfH/V/7Q//UCUAFQ/Q79Dv7l/VwCWAS5/vn9bgKvA3gBNP4v+2L9ygRKBDH7d/mhAssHJgHL+Xn8pwS5BnL/dfeR+i4F1AbP/un5E/6DBcIDqfwb/oQCNwDk/cAAR/7B+54EwwbM/Jj43P7uBRQEq/us+OsATwZU/on5mQGIBgX/a/m2/+EEc//R/GUB/v/L+1sByQgiA0r6//utAswExv+0+Cn6YQfRCbz6Rff0AkMJOwSw+qv1+fzICrQI2/fO89wCtAyCAjX1+PiAB28Lwf4K8r74vwomDGL8kfN6/BoKAQfn+bH6MgPJAv/+BQCU/Ij7EAhVCIf40/TWAKMK/wSb97/16gMXC8X9vPWEAaYJkf+e9mD+4QYRAdX8wwB7/gr9KAIcA1j/SP7S/vT+3QOdBGD83fpVAsIEvf69+wQCfgRm/rT/GQMe/Qj8VgWEBQz5wve9AekGbQSP+8P4RAPWCS//CPTN/OgLhgU89TP57gYMCf0AJ/kh+zgFlAjw/FfzYfzwCq0Jdfru9MsCbAwHBNz32PS/AGcNUASS8c/0CQvbEH7+9+8G+D8K1wwn/JvvcfjWCkwNN/ww8qn+Zw0ICE712fIJB9QNgf8J9xj5QwGVCpsHDPjc9uwHtgmi+3n3iwAfBxQBT/ji+mwFbQe9/yj9DwBj/7T+mAOYAxb6PPfMAeQJ1gND+sT6wwPECPcBx/cz+RYFjQij/0b4n/l/AvAJ6QQX+G/2ZwSYDFIAnvNo+vkFygaP/nj46v8SCQ0Dz/f4+vIEUQS8/iD4nfw3DRAESfHq/VoP+wUr9F31IQNIDZwHl/Ry8+4F6wyzAan1YflwBu8GpPuQ9//+2wX7BpACEflq+fgEwgfA/lD4KPoUAPwI7gYK+Er41QVhCXwBr/gp92wA3gvXBZr0ovReBsQNJgBu8xP6XAnDCwz+W/Fi+DoLyAwX/K/ywfuvCmQIzfmt+Q8DVAOZ/5AA3ftc+WEI3Ap9+LPy5v8PDCEH6vc49DIDswwK/4T00v/bCToBVfdt/Q8GXgEN/j8CAv5b+zkCKASb/+T9e/6//lQEFwZ1+6X2GAN7CZ/88fZJAEYG9ALy+w38lAPjBRcAhvtO/SABywFJAcsAwvxO/CYF5wgv/Uf2lQHjBvP+4vl0+yUC3QaPAnz79PzzAj8DjQFp/lr6u/2cA9QDDf9d+nL/fAYxAVb7x/3QAqYFGwBT+Ff8MQcZBYL5LvpEBDQI8AHe+AP6WQXyCav+SvNu+isKQQmC+vP1OgBZCdkFjPqN9ZAB0w20Al/yKPjPCRkLUvn58KIB0xIkB5jv7vJFCqMQHf5I7jT3sAuhD7z+YPHm+v4NNQ6599fqbP4HE3AI/PGZ76YEpBT6B4LwH/EoB2AObf9M9Gn6nQb9BuP8I/l7/qMGWAl6/nn2Lf3HBP8GIAHh9fj2zAdqDtL9h/Iu/mkN6Qmw9U7vNgGlDE0D/fjN+t3/wAJPBYIDJP3U+hL/AwKpAq4AKvv9+5YDjgQu/icAcQIY/AwBcQZA/NX3aAFAB7D/TvjG/hQGAwJf/3sA9v5C/2QAIf+v/ysDeABx+t/9PQVZBWP/EPwnAIYDxwCL/u/9Zf57AZMBqPxn/UsGrQUL+fb3mwfhCpb6u/OJ/jwKzAXZ9d72uQe8CUb7OPiqA14H5gH4+uf3mv84CAQEWvnm+K4D0ghIAff6F/x0APIF8gLG+jD8bQJoAZ39h/9KAHr/EQJnAcf+KgCaAQj/GP7r/zb+BP7ZAOgBPQN8AYv+jgB5AKr8Ev+pBcsAfflP/mgBCgMPBab+q/wHAzoC6/pI/RIGvAIP+A/6KwZbB//77vmnA0AFpQCi/nD7QPsYAYMHNQXV9gT1LgcEDKEAuPZl9hAGEw5Z/ojy2fzUCpAHvPq495MAIAdLAhz63vvSBSIIhfsN9LcDZg6GAUr1rvZlBHAOzwHx8XT56Qp4Cfb7Bvc4/AkH2ghA+9/zugAjDfwCvvLX+QIMxwgF+aP1kQClCqICNvbI+wQGTgIw/D8BBgRVAsoC9PuQ94MBjgmXAWf2rvlABfEH/QBo+mb5aQEiC9QFc/RA8VoEUxFiBNnuafFADI8RD/oX8+sCLwoKAZX6+/xgAX4BVfsqAPII4/wu8pAB9g8QAinzV/uNBkMGGQJr/WD3SvsZBygIxf1d97X+qwg5BKr6Y/xWAwEE2f7B+pT7cwEnBf0A2Pw+/SUAkgTMBI7+Evpd/nAGTwOq9hX42QWkCFz/Tfm4/94IfAUw/BT8PQFL/yr88/+xAUr+RgA0BTf/DfmAASwJwgCX9nX7zATtA2j9c/ykAFUEnwCQ+SQDfQtL/iz3VfxdAC0FQQbm+jL14gVgDGD8nfaYAZMGLgHb/fr63PpSAzwHv/zU95AEQArw/9/5Zv7OAFUCDAV3/Qr2RP9PC5YFlvmx+3wEOwSH/nb8B/2iASsFKv+W+RX/OgY2AnT64v0cBp4CR/ob/J4DsgTr/Vf5uv1JBQUFFv4S/Lf98ALVCKb94PF//bELTwZi+Vj4sABaCJMGN/tH+FcBPgmxB7T5ifD8/X8PrQka9Q3xxgI0D5EGaPcU88T9ywzJCwj45evN+2oSTg/T9UzpNQAhFm8G5fEV+JUGYgdSACj8DPwXABoAdQEgCLH+O/Dd+/QQNQng8mL02wSUChAFf/2h9h/5RAZuCoX/tPXP+gcISAhR/Cv5GQE5Bp8CyPsG+Q/+lgVbBH/9zPqU/SsEeAdoAYn5E/sjBeAH5vrT88r/zgnvA6D6d/qsADcI0Qhk/Xv0dPvjBTkDfPxC/W//sv/QBVMHgPr++FMIXgnX9q7xzgKLDN4BE/Q2+JYJnA3c/cjzyv6tCRMFSvyK9zr5BQGeCMkIDPsi8e0BxhAJBgL2MPEcAGEQFgX+8eD1yQddDeYBY/dU+kUE4gYa/xD59v00Bi0DGfgm/LAJ6QbR/G34afxoCCgI2fm79bEAvgimA1T6Afj6ANcJZwOU+G75qwL6CE8FqvmC86z+Jgu4BPT3M/qVA4oDmgB0/yb+BgBXAaD/Xv4d/50CaAEs+xj/4wQHAVz/8QBZABv/A/5o/dMB9gU//CL3kgQlCk7+zva5/iIHrALH+er5rAHABt0Bp/j6+/0G0QVd/Br86wB4/tP9fgJCAeD8ZgGqB0sCwfqk+8gBkAUcAQr3zvftCBQMjfv99SP/cQggCHD8nfKN+xQNEwpY9yPyrP9FC4YGI/r69hsBRwsWBg72sfNvAxMNDAWK9lb0/wFICvsFLf9n+KD4ugURDZb7BvHsAhAMdAAE9oj41QS+CrIBJvdn+7cDkQJaATMCHf1Y+DL/UAnvA6b2OPylCIIDR/um+9j/rQTXBAr80vexAyEJiP4y+Wn/kgTXAXX+VADt/kz9FgWkBCH4rPhdBzcIYfpg9+j9hwd0CTT4UPPMBjgPsv9v8Un3DwccD7UDK/Iw9vQGPgw/A9n23vZcAo0HTQH9+Sz6mQH+CoAIjPiy80UAYQoyBrb5/PHM+tcOFg5i+O/xD/9EDDwL5fod7qb5fBCyDrD2Au20/XgPTguO+TbyN/6JDW0K0PaZ75j/XQ7NCbr4FPG3/fsKnAprAU31HfRrBVQRy/5b7gX+/ws1BVr5VPY3APYJwQVp+l75Tv+PAa0EcQVK/Lr0kf3zC6gHefYk+GYGAQaj/lf7VfyGAt0GqP8a+FYAJweOADH8n/9XAdr/wwBfAIP+Sv+w/97/uP9O/3UCaQPf/6z+Gf7i/I4AFQaoAEP5JP7RAfwCGAWX/0/8EQHCAZD8j/1RBMwCrvoM+xIERAbz/UD7EAJaA7kASwCD/PT5+/6PBzcIp/nG8g8C3wv5BWn6yPKg/oENgQbC9z33aALGCCYEGPzG+bH+9ANSA3D/nP6NAJ/+zPz/BLwHXf33+GH8egPJCG0Ai/aa+8YGrgfc/hP4Sfq6BNkI//799kj7VQU5CtcDyfYD9HUCLQyOAvn2QfroAZADVgOa/+T7t/6iAnoCh//r/YH/kwEj/9P74AH6B7cBjfr0/doCywEgAhIBQfsY/I0E2gXz/Q781gFZAzX/Uf2R/Xr/ugSQA4b7nfo2AiIFyv4M+8EAfAR+/xv8n/+pA1oCZv2C+0b/qwNqAln/lf2s/OID1AaO+mz2gwEyCB8DU/y7+qT+IwZBBjL9Tvdm+r0CQgi1A9f3kvaFBJcMKgWb9/HydgBkEbkJ5u5q7OQG5xStBiLykvHuAxoQSQra+E/sDvkHEHUO9ffW7Uj9axA4D8z4aewB//oNNgeu/CLzFPaXCD4Qjv+a7vv3Dw65Dh39jfRT+doEvQ08Bfnv9u1ZBx4WNAVm8GTz0ANsDkAJAvc770f8SwySDHv9TvKd+UwJmww6/3jzafp5CEgJl/+P+X76v/+5B08FaviY9mkAzAcNB5T/YvlZ/EMEaAQH/6r8Cfzv/nIDPANDAOP8tP2wAxIDP/1h/BH/pAO1BNL9Mflz/y0GEQLN/E7+CgI9BBEBdvt+/GgDEwW9/ZT4YP4EBrUE2P7N+6D9ggKnBPT+Nfp/AEUFJQAI/Nr+2AK/ALb7vv1IBi8HEvzx9u3/HAikBMf6yvbc/W4IPAmI/1/4bfn6AK0HBQMG+qn51QCuB7YGxPx69Av7BworDHv9hvEH+TEK/gw9AHT1ufXLAbEN5gnz+tHx2vkrC4oOrf1270T38QchDOoC3Pe197gBBAiuBF77ovZ2//kIZAb1/C71G/tlCuUK/voB9H3/dwk/BrT9kflw/uECdwA9/vz8GP0TA28IqQEX9qL41QZEDHEBUfQY9FcCAg9zBxj2cfOJAGQKrAkbADLyTvc2C/ALpvt18wz7uAbHCLsBk/lc97IB8AyLBpX3t/OA/VYJfAsGAKnyfvaOB7kOGwSC9/725P/XB/AFYf2u9xb5hQO3C5wCq/P/9qII8A7lBR/48u/x+bwMwA5X/CHuRPYYCW4QWwbh9Q7waP4OEeoNkfY56gb6whDsEJv5bOtE+VALiw4lBi74qPH5/BEOHg0Q+6vsxPLgDIMXTP/P6B309wzMET0DGPNo8NUAVBPCDSD0DOk7+hgR6RJa/s/tX/T+BwITCQlY9I/t6fyzDawKnfro8U/6EArEDMD/SvWW+Z8FHwrXAnX5tvUR++QGHQpD/9X1X/okBUUKVwfm/Uv2uvkoA3UEb/72+1v9LgHFBVUF2/98/OX+OwKBAd/+cf38/Ib/3QQ6BQ79qPgn/wgFpgRXANj6xvpUAWgGdANy/OX4tPw5BTcHBQBa+lj8cwOVBmsARPrr+nD/OgSEA2n+7fyt/30CpwMpAt78PPql/3cFBAVM/4v5HPtfAwwIagJD+RH5GQK7B9IDZPx2+aj9PQSTBKr9P/umABAEiAKq/zv+Kv7u/e3+mwK1BND/EPo4/cEEXwZKAHn57Pl5AdIHvwXB/ej5MP/yBUQDpPo1+Q0ApgRRA/8A+/0D/sIE8QU6/U33Avy0BUkIGgBy96H68wQICOACK/yC+Uz+LwX2BcH/dvld+k8BTAUZATz82P4IBIADX/9P/or/Yv+s/mT/WgCYAJ4AZQAMAXUC2wGy/j79kP9CAtICOAD2+3H7UwCPBHECF/0U/EAAsgNIA4T/yvv0/AkB6QJ+AUP+IPxa/moDyQP0/mX8bf4wAuQDaQE2/cr8awAXAk0A0/2F/SsBdAR1A1UAh/20/Jj/3wNzAin9GPxW/h8C/gRQAkX+dv5FANr/f/8LAe4AK/4v/fT/EwIZAHX+SgBeARYBKwGn/yr93P2cAXYCXv7W+xn/SAMFBIACJQBw/Vf97AAZA3MAAv03/WL/GQFyAfb/wv5k/7cAPwHbAFcANAAzAMT/pP74/XL/kgGhAYQAnAAOAYUAswCwAPz+wf3N/Yv+8/9cAaIB8gA/AJH/AQBgAQMBO/8V/mr+/P+ZAOH/mv9s/27/GwCTABwBmQHGAEz/Wf8kAGD/qv6S/wcB2gHlABr/SP+zAQIDvQBN/RD9yP+hAQYBSP9X/jP/+wAHAcb/TwBhAacAVv9D/xUAuP8E/tz9sADkAv8AS/4O//QBCwOyAEv9r/zQ/9oCFQIM//H9vf/iAT8CngAO/6r/LAHmAAT/F/7+/kYAjgC//8n+LP8IAesBqADb/lz+0v+IAfgAff55/R7/2AD7APH/Gv/N/28B1gFoABz/Ff+p/woAjP8T/9n/MwEOAqgB6/+C/o//uAGTAbf/Qf4r/h0A3QFcARcAw//o//H/dQACAUQAx/6L/rv/KgA7/yT/MgDSAAIBqgCW/7/+P/8cAbwBbf+W/Yb+kADIAYkAQf5W/ocA5gFTATkA0P80AM8AwgADADD/1/5w/7IAlwEWAUv/0v4jAQMDPgHr/UL9d/9pAcMAQv5K/VP/9QFaAmoArP4m//EAwwFxACr+q/30/z0CYgH7/pX+YAAAAmUBIP/u/Tf/UAGuAQMARf6V/sEAAgLOAND+df5AAOMBKwEi/xf+4f5YAIsAff8A/9X/9ABKAa8Ajf8Y/+7/6QDYANf/C/+D/+EAjwGYAA//+P5zAHgBzABw//r+r/+LAEoAFv/f/i0APAHgAOH/oP8eAC8AeP8P/6L/PAAtAPn/CgBGAF0AHgDD/7n/KwCxAMgAkQCTALcAQgBx/1X/5v8lAAEANwCcALQAnQBsAB0A0v+///D/SwCIAGEAEgDp/+H/5f/X/8f/8v9VAI0AVADm/7//2P/D/3T/Tf+d/zoAoQB6AP7/tv+//+P/2v+B/3L/9v9JAAQAm/+A/63/7/8JAOv/6/9DAK0AnQDo/xL/3/5h/9D/sf92/7n/ggAZAb0A1v+c/zwAeQDX/z//cv8pAJEAUgDS/6L/JgD1APgAIAB8/5r/+//5/43/N/99/xgAawB6AEQAAQApAEQAwf8g/x//iv+1/5X/lf/V/xgAMgAoAAUA4P/h//f/+f/z//f/8P/S/9D/EwBSAEcAKwArACYACwD1/+v/5//m/9j/4/8gAEEAPwA4ABMA2//F/9H/xv+Z/4H/nv/K/9r/0//O/9T/3v/j/93/3//8/xoAEADk/8b/z//p/wcAKwBJAFUAWwBfAFAAHgDc/6n/nP+x/8b/xv/h/xYAIgAUABQAGwAkACwAIwAIAPn/AQAKAAMA+P8NAEEAVAArAP7/AwApADYAGADx/+b/CgBLAHsAfwBYACoAGAAQAAEA/f/v/9b/1f/q//f/AAAMAPn/1f/a/wMAGAAdADIANgAqAC4AQwBiAHwAdgBHABUAFAA5ADkADgDi/8X/y//a/9H/wf+v/5z/nv+0/9L/7P8BABEAGgAeABkADgAOACIANQAhAAUAJQBmAI0AgABMAC8ARwBiAFkANwAdABoAKAAsABoACAD7/+7/4f/S/83/4P8AAAoA8P/O/7//w//Q/9L/sf+C/3v/nv/D/8j/r/+g/7H/3f8KAA4A+v/4/wAACgAaAC0AQwBOAD8AJwAtAEIAOgAoAB4AEgAFAAcAFgAXAPf/yP+q/7H/zP/Q/7j/rf/H/+z/CAAnADUAJAAVAB8ANQA2ACQAGQARAAQABgAWACMAJwAaAAIA9v8BABQAFQD8/+D/4f/9/x4ANQA6ADIAMwA+AEcARAAyABIA+//8/wUA/v/y//f/AQD+//H/7P/4//3/5P/E/7n/vP++/8b/0f/h/wkAOABNAE4ASwBDADEAGAAIAP7/9f/1//b/7P/k//H/BgAGAO//2//Z/9v/zv+//7T/oP+b/73/7v8JABUAJgA6AEYANAASAAgACADy/8//vv/A/8r/1P/S/8f/0P/5/xwAHAAGAPL/7f/y//z/BQAGAAYAGgBAAFkAWABTAFEAQAAgAAwACQAJAAUA+P/q/+3/+P8FAA4ABADp/9j/3P/n//P/+//2//X/BgAgADIAMgAnABoADAACAPv/7f/b/9L/0//U/9f/4v/z//j/6P/X/9j/1//O/8r/z//X/+T//f8cADQANgAnACYALgAiAAYA7P/X/8j/wv/E/8r/2P/y/woAEAANAAwADAAEAPb/7//w//P//v8UACoANAA6AD8AOgAqABUA/f/n/9H/wf+9/8T/1v/p//r/DgAdAB0AFQAJAPT/4P/U/8//0v/l/wIAGgAsADwASQBLAD8ALwAgABMABgD7//b/9//7/wkAGgAhACMAJAAdAAsA+v/q/9b/z//Y/+b/9f8KACEAMQA5ADwAOAArABwAEQAJAP7/+P/9/wUAAwD//wIABgAFAPn/5//Z/8//x//F/8v/3P/1/xAAKAAyADAALwApABcAAwD4/+z/5f/w//v/AgAJAAoADAARABMADgAAAO//5v/k/+b/7P/9/xIAIgAqAC0AMgAwABoA///v/+j/4//k/+r/7f/u//b////9//n/+f/3/+z/4P/h/+z/8//7/wkAFQAhAC4ANAAxACgAHQAVAAsAAwABAAEA///9//3/AAAFAAcAAgD9//b/7P/m/+X/5f/q/+//9P/3//3/BwAMAAgAAQD+/wAAAQD7//b/+f///wAAAAAEAAsAEQASAAsABQAGAAcAAwD//wIABgALABYAIQAhAB0AGwAZABQACgACAP7/+f/0//T/+f///wAAAAABAPr/9//9//b/6//u//X/+/8AAAAAAwAMABMAFQAWABQAEAAMAAUAAAAAAPz/9v/0//L/8v/3////AQABAAEAAAD//wEA/v/3//v/AAAAAAIAAgABAAMAAgABAAMAAAD9//3//f/6//n//P///wQACAAHAAUABwAJAAUAAQAAAAAAAAAAAAAAAQACAAQAAgABAAUABwACAAAAAAABAAAA/P/8/wIABwAFAAEAAQADAAIAAQAAAP////8AAAEAAwAIAA4ADwAJAAcACQAGAAAAAAABAAAABAAMAA0ACgAKAAwADwAQAA4ADwARAA4ACQAJAAgABwAJAAsABwAAAAAAAQD9//f/9v/4//f/9//7////AAAAAP7/AQAFAAMABAAEAP7//f8CAAMAAQAAAAAAAAABAP3/+P/6/////f/5//7////8//3////9//v//v8AAAAA/////wIAAwABAAQABQAAAP3/AAAEAAMAAQD///////////7//f///wEA///9//3//v8AAAAA/f/6//v///8DAAIA/////wEA/v/5//z/AQD///v//v8AAAAAAgADAAEAAAAAAAAAAAAAAAAA///9//3//P/4//j//f////3//f/8//v///8AAAAAAAAAAP7//f/9//r/+f/8//v/+f/6//3//v/4//j///8AAP//AAD///7//P/5//r//f/8//v//v8AAPz/+f/9/wEAAAAAAP////8AAP//AQADAAEA//8AAAAAAAACAAMAAQAAAAAAAQAAAP//AQADAAEAAwAFAAMABAAGAAUAAQD/////AAABAAEABAAHAAYABQAFAAEAAQADAAEA/////wEAAwACAAAAAAAAAAAA/v/7//n/+v/7//3///8AAAAAAAD9//7/AAAAAAEAAwAAAP//AQABAAAABQAHAAIA//8BAAEAAQABAAAAAAAAAAAAAgAHAAYAAAAAAAYABgACAAAAAAAAAAAAAAAAAP////8CAAQAAwADAAIAAAABAAUABAACAAMABQAFAAUABwAKAAcAAwADAAEAAgAFAAQAAwAFAAUABAACAAEABQADAAAAAQADAAMAAwABAAEAAQABAAAAAAAAAAAAAwABAP3///8AAP////8AAAAAAAAAAAAAAAD+//n/+f/8//v/9//5//z//f8AAP7/+////wIA/v/5//r//f/9//3//v8AAAAAAAABAP7/+//+//7/+//9//////8AAAAA//8BAAEA/v/+/wAA/f/+/wAA///8//v///8AAPz//P8AAAAA/f/+/wAA/v/9/wAA///7//3/AQAAAP////8AAAEAAQAAAAEAAQD9//v/AAACAAAAAAD///////8AAP////8AAAAA////////AAABAP///f/+/wAAAQABAP///f8AAAAA/P/7////AQD+//3///8AAAAAAQAAAAAAAAAAAAAAAAAAAP////////3//P/6//z/AAAAAP//AAD9//7/AAAAAAAAAAD///3//v/8//n//P/+//z/+//9/wAA/P/5//3/AQD//wAAAAD///////8AAAEAAQAAAAAAAAAAAAAAAAAAAAAAAgADAAAA/f/+/wEAAQABAAMAAwACAAEAAwAFAAUAAgAAAAAA//8BAAUAAwD//wEAAQABAAEAAQAAAAEAAwAEAAEAAwAHAAQAAwAGAAUAAwADAAUABgADAAEAAwAEAAEA//8AAAEAAQAAAAAAAQABAAAAAAACAAMABQAHAAYAAwD/////AAAAAAAAAAAAAP//AQADAAEAAAAAAP//AAACAAMAAQD/////AQABAAAAAwAFAAEAAAAAAAAAAAD+//3/AAABAAAAAAABAAMAAwABAAAAAQAEAAUAAgAAAAAAAAD//wIABQABAAAAAQAAAP//AQABAAAAAQAEAAMAAQADAAUAAwAEAAYABAABAAMABgAFAAIAAQAEAAMAAAD//wAAAQABAAAAAAABAAEAAAABAAIABAAFAAcABgACAP//AAAAAAAAAAAAAP////8CAAMAAAAAAP////8AAAMAAgAAAP//AAABAAEAAQAEAAQAAQAAAAAAAAAAAP3//v8BAAEAAAABAAEA/////wEAAAD9//7/AAAAAP////8AAAMAAQAAAAMAAgD+//3/AAAAAP7///8BAAAAAwAHAAMAAAAAAAEABAAFAAMABgAIAAYAAQABAAEAAQACAAUABAAAAP//AQABAAAAAAABAAEAAAACAAMAAwABAP7/AgAHAAMAAQADAP7//f8BAAEA//8DAAUAAQD//wEAAQAAAAAAAQAAAAAAAQD///3/AAAEAAMAAwADAAAAAAACAAMAAQABAAIAAwADAAQABgAEAAEAAQABAAEABQAFAAIAAwAFAAQAAAABAAQABAABAAEAAgADAAMAAQABAAEAAQABAAEAAAD//wIAAgAAAAIAAgAAAAMAAgAAAAEAAQAAAAAAAAAAAAAAAAABAAMAAwAAAP//AAABAAEAAwADAAEAAQACAAQABQACAAAAAAAAAP//AQADAAAAAAABAAEAAQABAAEAAAACAAQAAwABAAMABQADAAQABQACAAEAAgAEAAUAAgABAAQAAwAAAP//AAABAAAAAAAAAAEAAQAAAAEAAgAEAAUABQAEAAIA//8AAAAAAAAAAAAAAAAAAAMAAgAAAAAA/////wEAAwACAAAA//8AAAEAAQABAAQABAAAAAAAAAAAAAAAAAD+//3/AAADAAIAAAAAAAAAAAAAAAAAAAAAAAAAAQABAAEABQAFAAIAAAAAAAAAAAAAAAMAAgAEAAkABwABAAEAAgAFAAcABQAHAAoABgABAAIAAwABAAIABQAEAAAA//8BAAEAAAAAAAEAAQABAAIAAwADAAIA//8BAAcABAABAAMA///9/wEAAQD//wIABQABAP//AQABAAAAAAABAAAA//8BAAAA/f8AAAQAAwADAAMAAQAAAAIAAwABAAAAAgADAAMABAAGAAUAAgABAAEAAQADAAMAAwADAAEAAAABAAEAAgADAAEAAgAEAAMAAAAAAAAAAQABAAIAAwADAAIAAQABAAEAAAD/////AQABAAEAAAABAAAA//8AAAAAAAAAAAEA/f/7////AQAAAP////8BAAMAAQD9//7/AAAAAP////8AAAEAAQABAAAAAAABAAEAAAAAAAIAAQAAAAUABgABAAAAAgABAAAAAAAAAAAAAAAAAAEAAwACAAAAAAAAAP7/AQAFAP///v8EAAMAAQABAAAAAAACAAMAAQACAAMAAQAAAAAAAQABAP//////////AAAAAAAAAAAAAAAAAAAAAAAAAAAAAAAAAAAAAAAAAAAAAAAAAAAAAAAAAAAAAAAAAAAAAAAAAAAAAAAAAAAAAAAAAAAAAAAAAAAAAAAAAAAAAAAAAAAAAAAAAAAAAAAAAAAAAAAAAAAAAAAAAAAAAAAAAAAAAAAAAAAAAAAAAAAAAAAAAAAAAAAAAAAAAAAAAAAAAAAAAAAAAAAAAAAAAAAAAAAAAAAAAAAAAAAAAAAAAAAAAAAAAAAAAAAAAAAAAAAAAAAAAAAAAAAAAAAAAAAAAAAAAAAAAAAAAAAAAAAAAAAAAAAAAAAAAAAAAAAAAAAAAAAAAAAAAAAAAAAAAAAAAAAAAAAAAAAAAAAAAAAAAAAAAAAAAAAAAAAAAAAAAAAAAAAAAAAAAAAAAAAAAAAAAAAAAAAAAAAAAAAAAAAAAAAAAAAAAAAAAAAAAAAAAAAAAAAAAAAAAAAAAAAAAAAAAAAAAAAAAAAAAAAAAAAAAAAAAAAAAAAAAAAAAAAAAAAAAAAAAAAAAAAAAAAAAAAAAAAAAAAAAAAAAAAAAAAAAAAAAAAAAAAAAAAAAAAAAAAAAAAAAAAAAAAAAAAAAAAAAAAAAAAAAAAAAAAAAAAAAAAAAAAAAAAAAAAAAAAAAAAAAAAAAAAAAAAAAAAAAAAAAAAAAAAAAAAAAAAAAAAAAAAAAAAAAAAAAAAAAAAAAAAAAAAAAAAAAAAAAAAAAAAAAAAAAAAAAAAAAAAAAAAAAAAAAAAAAAAAAAAAAAAAAAAAAAAAAAAAAAAAAAAAAAAAAAAAAAAAAAAAAAAAAAAAAAAAAAAAAAAAAAAAAAAAAAAAAAAAAAAAAAAAAAAAAAAAAAAAAAAAAAAAAAAAAAAAAAAAAAAAAAAAAAAAAAAAAAAAAAAAAAAAAAAAAAAAAAAAAAAAAAAAAAAAAAAAAAAAAAAAAAAAAAAAAAAAAAAAAAAAAAAAAAAAAAAAAAAAAAAAAAAAAAAAAAAAAAAAAAAAAAAAAAAAAAAAAAAAAAAAAAAAAAAAAAAAAAAAAAAAAAAAAAAAAAAAAAAAAAAAAAAAAAAAAAAAAAAAAAAAAAAAAAAAAAAAAAAAAAAAAAAAAAAAAAAAAAAAAAAAAAAAAAAAAAAAAAAAAAAAAAAAAAAAAAAAAAAAAAAAAAAAAAAAAAAAAAAAAAAAAAAAAAAAAAAAAAAAAAAAAAAAAAAAAAAAAAAAAAAAAAAAAAAAAAAAAAAAAAAAAAAAAAAAAAAAAAAAAAAAAAAAAAAAAAAAAAAAAAAAAAAAAAAAAAAAAAAAAAAAAAAAAAAAAAAAAAAAAAAAAAAAAAAAAAAAAAAAAAAAAAAAAAAAAAAAAAAAAAAAAAAAAAAAAAAAAAAAAAAAAAAAAAAAAAAAAAAAAAAAAAAAAAAAAAAAAAAAAAAAAAAAAAAAAAAAAAAAAAAAAAAAAAAAAAAAAAAAAAAAAAAAAAAAAAAAAAAAAAAAAAAAAAAAAAAAAAAAAAAAAAAAAAAAAAAAAAAAAAAAAAAAAAAAAAAAAAAAAAAAAAAAAAAAAAAAAAAAAAAAAAAAAAAAAAAAAAAAAAAAAAAAAAAAAAAAAAAAAAAAAAAAAAAAAAAAAAAAAAAAAAAAAAAAAAAAAAAAAAAAAAAAAAAAAAAAAAAAAAAAAAAAAAAAAAAAAAAAAAAAAAAAAAAAAAAAAAAAAAAAAAAAAAAAAAAAAAAAAAAAAAAAAAAAAAAAAAAAAAAAAAAAAAAAAAAAAAAAAAAAAAAAAAAAAAAAAAAAAAAAAAAAAAAAAAAAAAAAAAAAAAAAAAAAAAAAAAAAAAAAAAAAAAAAAAAAAAAAAAAAAAAAAAAAAAAAAAAAAAAAAAAAAAAAAAAAAAAAAAAAAAAAAAAAAAAAAAAAAAAAAAAAAAAAAAAAAAAAAAAAAAAAAAAAAAAAAAAAAAAAAAAAAAAAAAAAAAAAAAAAAAAAAAAAAAAAAAAAAAAAAAAAAAAAAAAAAAAAAAAAAAAAAAAAAAAAAAAAAAAAAAAAAAAAAAAAAAAAAAAAAAAAAAAAAAAAAAAAAAAAAAAAAAAAAAAAAAAAAAAAAAAAAAAAAAAAAAAAAAAAAAAAAAAAAAAAAAAAAAAAAAAAAAAAAAAAAAAAAAAAAAAAAAAAAAAAAAAAAAAAAAAAAAAAAAAAAAAAAAAAAAAAAAAAAAAAAAAAAAAAAAAAAAAAAAAAAAAAAAAAAAAAAAAAAAAAAAAAAAAAAAAAAAAAAAAAAAAAAAAAAAAAAAAAAAAAAAAAAAAAAAAAAAAAAAAAAAAAAAAAAAAAAAAAAAAAAAAAAAAAAAAAAAAAAAAAAAAAAAAAAAAAAAAAAAAAAAAAAAAAAAAAAAAAAAAAAAAAAAAAAAAAAAAAAAAAAAAAAAAAAAAAAAAAAAAAAAAAAAAAAAAAAAAAAAAAAAAAAAAAAAAAAAAAAAAAAAAAAAAAAAAAAAAAAAAAAAAAAAAAAAAAAAAAAAAAAAAAAAAAAAAAAAAAAAAAAAAAAAAAAAAAAAAAAAAAAAAAAAAAAAAAAAAAAAAAAAAAAAAAAAAAAAAAAAAAAAAAAAAAAAAAAAAAAAAAAAAAAAAAAAAAAAAAAAAAAAAAAAAAAAAAAAAAAAAAAAAAAAAAAAAAAAAAAAAAAAAAAAAAAAAAAAAAAAAAAAAAAAAAAAAAAAAAAAAAAAAAAAAAAAAAAAAAAAAAAAAAAAAAAAAAAAAAAAAAAAAAAAAAAAAAAAAAAAAAAAAAAAAAAAAAAAAAAAAAAAAAAAAAAAAAAAAAAAAAAAAAAAAAAAAAAAAAAAAAAAAAAAAAAAAAAAAAAAAAAAAAAAAAAAAAAAAAAAAAAAAAAAAAAAAAAAAAAAAAAAAAAAAAAAAAAAAAAAAAAAAAAAAAAAAAAAAAAAAAAAAAAAAAAAAAAAAAAAAAAAAAAAAAAAAAAAAAAAAAAAAAAAAAAAAAAAAAAAAAAAAAAAAAAAAAAAAAAAAAAAAAAAAAAAAAAAAAAAAAAAAAAAAAAAAAAAAAAAAAAAAAAAAAAAAAAAAAAAAAAAAAAAAAAAAAAAAAAAAAAAAAAAAAAAAAAAAAAAAAAAAAAAAAAAAAAAAAAAAAAAAAAAAAAAAAAAAAAAAAAAAAAAAAAAAAAAAAAAAAAAAAAAAAAAAAAAAAAAAAAAAAAAAAAAAAAAAAAAAAAAAAAAAAAAAAAAAAAAAAAAAAAAAAAAAAAAAAAAAAAAAAAAAAAAAAAAAAAAAAAAAAAAAAAAAAAAAAAAAAAAAAAAAAAAAAAAAAAAAAAAAAAAAAAAAAAAAAAAAAAAAAAAAAAAAAAAAAAAAAAAAAAAAAAAAAAAAAAAAAAAAAAAAAAAAAAAAAAAAAAAAAAAAAAAAAAAAAAAAAAAAAAAAAAAAAAAAAAAAAAAAAAAAAAAAAAAAAAAAAAAAAAAAAAAAAAAAAAAAAAAAAAAAAAAAAAAAAAAAAAAAAAAAAAAAAAAAAAAAAAAAAAAAAAAAAAAAAAAAAAAAAAAAAAAAAAAAAAAAAAAAAAAAAAAAAAAAAAAAAAAAAAAAAAAAAAAAAAAAAAAAAAAAAAAAAAAAAAAAAAAAAAAAAAAAAAAAAAAAAAAAAAAAAAAAAAAAAAAAAAAAAAAAAAAAAAAAAAAAAAAAAAAAAAAAAAAAAAAAAAAAAAAAAAAAAAAAAAAAAAAAAAAAAAAAAAAAAAAAAAAAAAAAAAAAAAAAAAAAAAAAAAAAAAAAAAAAAAAAAAAAAAAAAAAAAAAAAAAAAAAAAAAAAAAAAAAAAAAAAAAAAAAAAAAAAAAAAAAAAAAAAAAAAAAAAAAAAAAAAAAAAAAAAAAAAAAAAAAAAAAAAAAAAAAAAAAAAAAAAAAAAAAAAAAAAAAAAAAAAAAAAAAAAAAAAAAAAAAAAAAAAAAAAAAAAAAAAAAAAAAAAAAAAAAAAAAAAAAAAAAAAAAAAAAAAAAAAAAAAAAAAAAAAAAAAAAAAAAAAAAAAAAAAAAAAAAAAAAAAAAAAAAAAAAAAAAAAAAAAAAAAAAAAAAAAAAAAAAAAAAAAAAAAAAAAAAAAAAAAAAAAAAAAAAAAAAAAAAAAAAAAAAAAAAAAAAAAAAAAAAAAAAAAAAAAAAAAAAAAAAAAAAAAAAAAAAAAAAAAAAAAAAAAAAAAAAAAAAAAAAAAAAAAAAAAAAAAAAAAAAAAAAAAAAAAAAAAAAAAAAAAAAAAAAAAAAAAAAAAAAAAAAAAAAAAAAAAAAAAAAAAAAAAAAAAAAAAAAAAAAAAAAAAAAAAAAAAAAAAAAAAAAAAAAAAAAAAAAAAAAAAAAAAAAAAAAAAAAAAAAAAAAAAAAAAAAAAAAAAAAAAAAAAAAAAAAAAAAAAAAAAAAAAAAAAAAAAAAAAAAAAAAAAAAAAAAAAAAAAAAAAAAAAAAAAAAAAAAAAAAAAAAAAAAAAAAAAAAAAAAAAAAAAAAAAAAAAAAAAAAAAAAAAAAAAAAAAAAAAAAAAAAAAAAAAAAAAAAAAAAAAAAAAAAAAAAAAAAAAAAAAAAAAAAAAAAAAAAAAAAAAAAAAAAAAAAAAAAAAAAAAAAAAAAAAAAAAAAAAAAAAAAAAAAAAAAAAAAAAAAAAAAAAAAAAAAAAAAAAAAAAAAAAAAAAAAAAAAAAAAAAAAAAAAAAAAAAAAAAAAAAAAAAAAAAAAAAAAAAAAAAAAAAAAAAAAAAAAAAAAAAAAAAAAAAAAAAAAAAAAAAAAAAAAAAAAAAAAAAAAAAAAAAAAAAAAAAAAAAAAAAAAAAAAAAAAAAAAAAAAAAAAAAAAAAAAAAAAAAAAAAAAAAAAAAAAAAAAAAAAAAAAAAAAAAAAAAAAAAAAAAAAAAAAAAAAAAAAAAAAAAAAAAAAAAAAAAAAAAAAAAAAAAAAAAAAAAAAAAAAAAAAAAAAAAAAAAAAAAAAAAAAAAAAAAAAAAAAAAAAAAAAAAAAAAAAAAAAAAAAAAAAAAAAAAAAAAAAAAAAAAAAAAAAAAAAAAAAAAAAAAAAAAAAAAAAAAAAAAAAAAAAAAAAAAAAAAAAAAAAAAAAAAAAAAAAAAAAAAAAAAAAAAAAAAAAAAAAAAAAAAAAAAAAAAAAAAAAAAAAAAAAAAAAAAAAAAAAAAAAAAAAAAAAAAAAAAAAAAAAAAAAAAAAAAAAAAAAAAAAAAAAAAAAAAAAAAAAAAAAAAAAAAAAAAAAAAAAAAAAAAAAAAAAAAAAAAAAAAAAAAAAAAAAAAAAAAAAAAAAAAAAAAAAAAAAAAAAAAAAAAAAAAAAAAAAAAAAAAAAAAAAAAAAAAAAAAAAAAAAAAAAAAAAAAAAAAAAAAAAAAAAAAAAAAAAAAAAAAAAAAAAAAAAAAAAAAAAAAAAAAAAAAAAAAAAAAAAAAAAAAAAAAAAAAAAAAAAAAAAAAAAAAAAAAAAAAAAAAAAAAAAAAAAAAAAAAAAAAAAAAAAAAAAAAAAAAAAAAAAAAAAAAAAAAAAAAAAAAAAAAAAAAAAAAAAAAAAAAAAAAAAAAAAAAAAAAAAAAAAAAAAAAAAAAAAAAAAAAAAAAAAAAAAAAAAAAAAAAAAAAAAAAAAAAAAAAAAAAAAAAAAAAAAAAAAAAAAAAAAAAAAAAAAAAAAAAAAAAAAAAAAAAAAAAAAAAAAAAAAAAAAAAAAAAAAAAAAAAAAAAAAAAAAAAAAAAAAAAAAAAAAAAAAAAAAAAAAAAAAAAAAAAAAAAAAAAAAAAAAAAAAAAAAAAAAAAAAAAAAAAAAAAAAAAAAAAAAAAAAAAAAAAAAAAAAAAAAAAAAAAAAAAAAAAAAAAAAAAAAAAAAAAAAAAAAAAAAAAAAAAAAAAAAAAAAAAAAAAAAAAAAAAAAAAAAAAAAAAAAAAAAAAAAAAAAAAAAAAAAAAAAAAAAAAAAAAAAAAAAAAAAAAAAAAAAAAAAAAAAAAAAAAAAAAAAAAAAAAAAAAAAAAAAAAAAAAAAAAAAAAAAAAAAAAAAAAAAAAAAAAAAAAAAAAAAAAAAAAAAAAAAAAAAAAAAAAAAAAAAAAAAAAAAAAAAAAAAAAAAAAAAAAAAAAAAAAAAAAAAAAAAAAAAAAAAAAAAAAAAAAAAAAAAAAAAAAAAAAAAAAAAAAAAAAAAAAAAAAAAAAAAAAAAAAAAAAAAAAAAAAAAAAAAAAAAAAAAAAAAAAAAAAAAAAAAAAAAAAAAAAAAAAAAAAAAAAAAAAAAAAAAAAAAAAAAAAAAAAAAAAAAAAAAAAAAAAAAAAAAAAAAAAAAAAAAAAAAAAAAAAAAAAAAAAAAAAAAAAAAAAAAAAAAAAAAAAAAAAAAAAAAAAAAAAAAAAAAAAAAAAAAAAAAAAAAAAAAAAAAAAAAAAAAAAAAAAAAAAAAAAAAAAAAAAAAAAAAAAAAAAAAAAAAAAAAAAAAAAAAAAAAAAAAAAAAAAAAAAAAAAAAAAAAAAAAAAAAAAAAAAAAAAAAAAAAAAAAAAAAAAAAAAAAAAAAAAAAAAAAAAAAAAAAAAAAAAAAAAAAAAAAAAAAAAAAAAAAAAAAAAAAAAAAAAAAAAAAAAAAAAAAAAAAAAAAAAAAAAAAAAAAAAAAAAAAAAAAAAAAAAAAAAAAAAAAAAAAAAAAAAAAAAAAAAAAAAAAAAAAAAAAAAAAAAAAAAAAAAAAAAAAAAAAAAAAAAAAAAAAAAAAAAAAAAAAAAAAAAAAAAAAAAAAAAAAAAAAAAAAAAAAAAAAAAAAAAAAAAAAAAAAAAAAAAAAAAAAAAAAAAAAAAAAAAAAAAAAAAAAAAAAAAAAAAAAAAAAAAAAAAAAAAAAAAAAAAAAAAAAAAAAAAAAAAAAAAAAAAAAAAAAAAAAAAAAAAAAAAAAAAAAAAAAAAAAAAAAAAAAAAAAAAAAAAAAAAAAAAAAAAAAAAAAAAAAAAAAAAAAAAAAAAAAAAAAAAAAAAAAAAAAAAAAAAAAAAAAAAAAAAAAAAAAAAAAAAAAAAAAAAAAAAAAAAAAAAAAAAAAAAAAAAAAAAAAAAAAAAAAAAAAAAAAAAAAAAAAAAAAAAAAAAAAAAAAAAAAAAAAAAAAAAAAAAAAAAAAAAAAAAAAAAAAAAAAAAAAAAAAAAAAAAAAAAAAAAAAAAAAAAAAAAAAAAAAAAAAAAAAAAAAAAAAAAAAAAAAAAAAAAAAAAAAAAAAAAAAAAAAAAAAAAAAAAAAAAAAAAAAAAAAAAAAAAAAAAAAAAAAAAAAAAAAAAAAAAAAAAAAAAAAAAAAAAAAAAAAAAAAAAAAAAAAAAAAAAAAAAAAAAAAAAAAAAAAAAAAAAAAAAAAAAAAAAAAAAAAAAAAAAAAAAAAAAAAAAAAAAAAAAAAAAAAAAAAAAAAAAAAAAAAAAAAAAAAAAAAAAAAAAAAAAAAAAAAAAAAAAAAAAAAAAAAAAAAAAAAAAAAAAAAAAAAAAAAAAAAAAAAAAAAAAAAAAAAAAAAAAAAAAAAAAAAAAAAAAAAAAAAAAAAAAAAAAAAAAAAAAAAAAAAAAAAAAAAAAAAAAAAAAAAAAAAAAAAAAAAAAAAAAAAAAAAAAAAAAAAAAAAAAAAAAAAAAAAAAAAAAAAAAAAAAAAAAAAAAAAAAAAAAAAAAAAAAAAAAAAAAAAAAAAAAAAAAAAAAAAAAAAAAAAAAAAAAAAAAAAAAAAAAAAAAAAAAAAAAAAAAAAAAAAAAAAAAAAAAAAAAAAAAAAAAAAAAAAAAAAAAAAAAAAAAAAAAAAAAAAAAAAAAAAAAAAAAAAAAAAAAAAAAAAAAAAAAAAAAAAAAAAAAAAAAAAAAAAAAAAAAAAAAAAAAAAAAAAAAAAAAAAAAAAAAAAAAAAAAAAAAAAAAAAAAAAAAAAAAAAAAAAAAAAAAAAAAAAAAAAAAAAAAAAAAAAAAAAAAAAAAAAAAAAAAAAAAAAAAAAAAAAAAAAAAAAAAAAAAAAAAAAAAAAAAAAAAAAAAAAAAAAAAAAAAAAAAAAAAAAAAAAAAAAAAAAAAAAAAAAAAAAAAAAAAAAAAAAAAAAAAAAAAAAAAAAAAAAAAAAAAAAAAAAAAAAAAAAAAAAAAAAAAAAAAAAAAAAAAAAAAAAAAAAAAAAAAAAAAAAAAAAAAAAAAAAAAAAAAAAAAAAAAAAAAAAAAAAAAAAAAAAAAAAAAAAAAAAAAAAAAAAAAAAAAAAAAAAAAAAAAAAAAAAAAAAAAAAAAAAAAAAAAAAAAAAAAAAAAAAAAAAAAAAAAAAAAAAAAAAAAAAAAAAAAAAAAAAAAAAAAAAAAAAAAAAAAAAAAAAAAAAAAAAAAAAAAAAAAAAAAAAAAAAAAAAAAAAAAAAAAAAAAAAAAAAAAAAAAAAAAAAAAAAAAAAAAAAAAAAAAAAAAAAAAAAAAAAAAAAAAAAAAAAAAAAAAAAAAAAAAAAAAAAAAAAAAAAAAAAAAAAAAAAAAAAAAAAAAAAAAAAAAAAAAAAAAAAAAAAAAAAAAAAAAAAAAAAAAAAAAAAAAAAAAAAAAAAAAAAAAAAAAAAAAAAAAAAAAAAAAAAAAAAAAAAAAAAAAAAAAAAAAAAAAAAAAAAAAAAAAAAAAAAAAAAAAAAAAAAAAAAAAAAAAAAAAAAAAAAAAAAAAAAAAAAAAAAAAAAAAAAAAAAAAAAAAAAAAAAAAAAAAAAAAAAAAAAAAAAAAAAAAAAAAAAAAAAAAAAAAAAAAAAAAAAAAAAAAAAAAAAAAAAAAAAAAAAAAAAAAAAAAAAAAAAAAAAAAAAAAAAAAAAAAAAAAAAAAAAAAAAAAAAAAAAAAAAAAAAAAAAAAAAAAAAAAAAAAAAAAAAAAAAAAAAAAAAAAAAAAAAAAAAAAAAAAAAAAAAAAAAAAAAAAAAAAAAAAAAAAAAAAAAAAAAAAAAAAAAAAAAAAAAAAAAAAAAAAAAAAAAAAAAAAAAAAAAAAAAAAAAAAAAAAAAAAAAAAAAAAAAAAAAAAAAAAAAAAAAAAAAAAAAAAAAAAAAAAAAAAAAAAAAAAAAAAAAAAAAAAAAAAAAAAAAAAAAAAAAAAAAAAAAAAAAAAAAAAAAAAAAAAAAAAAAAAAAAAAAAAAAAAAAAAAAAAAAAAAAAAAAAAAAAAAAAAAAAAAAAAAAAAAAAAAAAAAAAAAAAAAAAAAAAAAAAAAAAAAAAAAAAAAAAAAAAAAAAAAAAAAAAAAAAAAAAAAAAAAAAAAAAAAAAAAAAAAAAAAAAAAAAAAAAAAAAAAAAAAAAAAAAAAAAAAAAAAAAAAAAAAAAAAAAAAAAAAAAAAAAAAAAAAAAAAAAAAAAAAAAAAAAAAAAAAAAAAAAAAAAAAAAAAAAAAAAAAAAAAAAAAAAAAAAAAAAAAAAAAAAAAAAAAAAAAAAAAAAAAAAAAAAAAAAAAAAAAAAAAAAAAAAAAAAAAAAAAAAAAAAAAAAAAAAAAAAAAAAAAAAAAAAAAAAAAAAAAAAAAAAAAAAAAAAAAAAAAAAAAAAAAAAAAAAAAAAAAAAAAAAAAAAAAAAAAAAAAAAAAAAAAAAAAAAAAAAAAAAAAAAAAAAAAAAAAAAAAAAAAAAAAAAAAAAAAAAAAAAAAAAAAAAAAAAAAAAAAAAAAAAAAAAAAAAAAAAAAAAAAAAAAAAAAAAAAAAAAAAAAAAAAAAAAAAAAAAAAAAAAAAAAAAAAAAAAAAAAAAAAAAAAAAAAAAAAAAAAAAAAAAAAAAAAAAAAAAAAAAAAAAAAAAAAAAAAAAAAAAAAAAAAAAAAAAAAAAAAAAAAAAAAAAAAAAAAAAAAAAAAAAAAAAAAAAAAAAAAAAAAAAAAAAAAAAAAAAAAAAAAAAAAAAAAAAAAAAAAAAAAAAAAAAAAAAAAAAAAAAAAAAAAAAAAAAAAAAAAAAAAAAAAAAAAAAAAAAAAAAAAAAAAAAAAAAAAAAAAAAAAAAAAAAAAAAAAAAAAAAAAAAAAAAAAAAAAAAAAAAAAAAAAAAAAAAAAAAAAAAAAAAAAAAAAAAAAAAAAAAAAAAAAAAAAAAAAAAAAAAAAAAAAAAAAAAAAAAAAAAAAAAAAAAAAAAAAAAAAAAAAAAAAAAAAAAAAAAAAAAAAAAAAAAAAAAAAAAAAAAAAAAAAAAAAAAAAAAAAAAAAAAAAAAAAAAAAAAAAAAAAAAAAAAAAAAAAAAAAAAAAAAAAAAAAAAAAAAAAAAAAAAAAAAAAAAAAAAAAAAAAAAAAAAAAAAAAAAAAAAAAAAAAAAAAAAAAAAAAAAAAAAAAAAAAAAAAAAAAAAAAAAAAAAAAAAAAAAAAAAAAAAAAAAAAAAAAAAAAAAAAAAAAAAAAAAAAAAAAAAAAAAAAAAAAAAAAAAAAAAAAAAAAAAAAAAAAAAAAAAAAAAAAAAAAAAAAAAAAAAAAAAAAAAAAAAAAAAAAAAAAAAAAAAAAAAAAAAAAAAAAAAAAAAAAAAAAAAAAAAAAAAAAAAAAAAAAAAAAAAAAAAAAAAAAAAAAAAAAAAAAAAAAAAAAAAAAAAAAAAAAAAAAAAAAAAAAAAAAAAAAAAAAAAAAAAAAAAAAAAAAAAAAAAAAAAAAAAAAAAAAAAAAAAAAAAAAAAAAAAAAAAAAAAAAAAAAAAAAAAAAAAAAAAAAAAAAAAAAAAAAAAAAAAAAAAAAAAAAAAAAAAAAAAAAAAAAAAAAAAAAAAAAAAAAAAAAAAAAAAAAAAAAAAAAAAAAAAAAAAAAAAAAAAAAAAAAAAAAAAAAAAAAAAAAAAAAAAAAAAAAAAAAAAAAAAAAAAAAAAAAAAAAAAAAAAAAAAAAAAAAAAAAAAAAAAAAAAAAAAAAAAAAAAAAAAAAAAAAAAAAAAAAAAAAAAAAAAAAAAAAAAAAAAAAAAAAAAAAAAAAAAAAAAAAAAAAAAAAAAAAAAAAAAAAAAAAAAAAAAAAAAAAAAAAAAAAAAAAAAAAAAAAAAAAAAAAAAAAAAAAAAAAAAAAAAAAAAAAAAAAAAAAAAAAAAAAAAAAAAAAAAAAAAAAAAAAAAAAAAAAAAAAAAAAAAAAAAAAAAAAAAAAAAAAAAAAAAAAAAAAAAAAAAAAAAAAAAAAAAAAAAAAAAAAAAAAAAAAAAAAAAAAAAAAAAAAAAAAAAAAAAAAAAAAAAAAAAAAAAAAAAAAAAAAAAAAAAAAAAAAAAAAAAAAAAAAAAAAAAAAAAAAAAAAAAAAAAAAAAAAAAAAAAAAAAAAAAAAAAAAAAAAAAAAAAAAAAAAAAAAAAAAAAAAAAAAAAAAAAAAAAAAAAAAAAAAAAAAAAAAAAAAAAAAAAAAAAAAAAAAAAAAAAAAAAAAAAAAAAAAAAAAAAAAAAAAAAAAAAAAAAAAAAAAAAAAAAAAAAAAAAAAAAAAAAAAAAAAAAAAAAAAAAAAAAAAAAAAAAAAAAAAAAAAAAAAAAAAAAAAAAAAAAAAAAAAAAAAAAAAAAAAAAAAAAAAAAAAAAAAAAAAAAAAAAAAAAAAAAAAAAAAAAAAAAAAAAAAAAAAAAAAAAAAAAAAAAAAAAAAAAAAAAAAAAAAAAAAAAAAAAAAAAAAAAAAAAAAAAAAAAAAAAAAAAAAAAAAAAAAAAAAAAAAAAAAAAAAAAAAAAAAAAAAAAAAAAAAAAAAAAAAAAAAAAAAAAAAAAAAAAAAAAAAAAAAAAAAAAAAAAAAAAAAAAAAAAAAAAAAAAAAAAAAAAAAAAAAAAAAAAAAAAAAAAAAAAAAAAAAAAAAAAAAAAAAAAAAAAAAAAAAAAAAAAAAAAAAAAAAAAAAAAAAAAAAAAAAAAAAAAAAAAAAAAAAAAAAAAAAAAAAAAAAAAAAAAAAAAAAAAAAAAAAAAAAAAAAAAAAAAAAAAAAAAAAAAAAAAAAAAAAAAAAAAAAAAAAAAAAAAAAAAAAAAAAAAAAAAAAAAAAAAAAAAAAAAAAAAAAAAAAAAAAAAAAAAAAAAAAAAAAAAAAAAAAAAAAAAAAAAAAAAAAAAAAAAAAAAAAAAAAAAAAAAAAAAAAAAAAAAAAAAAAAAAAAAAAAAAAAAAAAAAAAAAAAAAAAAAAAAAAAAAAAAAAAAAAAAAAAAAAAAAAAAAAAAAAAAAAAAAAAAAAAAAAAAAAAAAAAAAAAAAAAAAAAAAAAAAAAAAAAAAAAAAAAAAAAAAAAAAAAAAAAAAAAAAAAAAAAAAAAAAAAAAAAAAAAAAAAAAAAAAAAAAAAAAAAAAAAAAAAAAAAAAAAAAAAAAAAAAAAAAAAAAAAAAAAAAAAAAAAAAAAAAAAAAAAAAAAAAAAAAAAAAAAAAAAAAAAAAAAAAAAAAAAAAAAAAAAAAAAAAAAAAAAAAAAAAAAAAAAAAAAAAAAAAAAAAAAAAAAAAAAAAAAAAAAAAAAAAAAAAAAAAAAAAAAAAAAAAAAAAAAAAAAAAAAAAAAAAAAAAAAAAAAAAAAAAAAAAAAAAAAAAAAAAAAAAAAAAAAAAAAAAAAAAAAAAAAAAAAAAAAAAAAAAAAAAAAAAAAAAAAAAAAAAAAAAAAAAAAAAAAAAAAAAAAAAAAAAAAAAAAAAAAAAAAAAAAAAAAAAAAAAAAAAAAAAAAAAAAAAAAAAAAAAAAAAAAAAAAAAAAAAAAAAAAAAAAAAAAAAAAAAAAAAAAAAAAAAAAAAAAAAAAAAAAAAAAAAAAAAAAAAAAAAAAAAAAAAAAAAAAAAAAAAAAAAAAAAAAAAAAAAAAAAAAAAAAAAAAAAAAAAAAAAAAAAAAAAAAAAAAAAAAAAAAAAAAAAAAAAAAAAAAAAAAAAAAAAAAAAAAAAAAAAAAAAAAAAAAAAAAAAAAAAAAAAAAAAAAAAAAAAAAAAAAAAAAAAAAAAAAAAAAAAAAAAAAAAAAAAAAAAAAAAAAAAAAAAAAAAAAAAAAAAAAAAAAAAAAAAAAAAAAAAAAAAAAAAAAAAAAAAAAAAAAAAAAAAAAAAAAAAAAAAAAAAAAAAAAAAAAAAAAAAAAAAAAAAAAAAAAAAAAAAAAAAAAAAAAAAAAAAAAAAAAAAAAAAAAAAAAAAAAAAAAAAAAAAAAAAAAAAAAAAAAAAAAAAAAAAAAAAAAAAAAAAAAAAAAAAAAAAAAAAAAAAAAAAAAAAAAAAAAAAAAAAAAAAAAAAAAAAAAAAAAAAAAAAAAAAAAAAAAAAAAAAAAAAAAAAAAAAAAAAAAAAAAAAAAAAAAAAAAAAAAAAAAAAAAAAAAAAAAAAAAAAAAAAAAAAAAAAAAAAAAAAAAAAAAAAAAAAAAAAAAAAAAAAAAAAAAAAAAAAAAAAAAAAAAAAAAAAAAAAAAAAAAAAAAAAAAAAAAAAAAAAAAAAAAAAAAAAAAAAAAAAAAAAAAAAAAAAAAAAAAAAAAAAAAAAAAAAAAAAAAAAAAAAAAAAAAAAAAAAAAAAAAAAAAAAAAAAAAAAAAAAAAAAAAAAAAAAAAAAAAAAAAAAAAAAAAAAAAAAAAAAAAAAAAAAAAAAAAAAAAAAAAAAAAAAAAAAAAAAAAAAAAAAAAAAAAAAAAAAAAAAAAAAAAAAAAAAAAAAAAAAAAAAAAAAAAAAAAAAAAAAAAAAAAAAAAAAAAAAAAAAAAAAAAAAAAAAAAAAAAAAAAAAAAAAAAAAAAAAAAAAAAAAAAAAAAAAAAAAAAAAAAAAAAAAAAAAAAAAAAAAAAAAAAAAAAAAAAAAAAAAAAAAAAAAAAAAAAAAAAAAAAAAAAAAAAAAAAAAAAAAAAAAAAAAAAAAAAAAAAAAAAAAAAAAAAAAAAAAAAAAAAAAAAAAAAAAAAAAAAAAAAAAAAAAAAAAAAAAAAAAAAAAAAAAAAAAAAAAAAAAAAAAAAAAAAAAAAAAAAAAAAAAAAAAAAAAAAAAAAAAAAAAAAAAAAAAAAAAAAAAAAAAAAAAAAAAAAAAAAAAAAAAAAAAAAAAAAAAAAAAAAAAAAAAAAAAAAAAAAAAAAAAAAAAAAAAAAAAAAAAAAAAAAAAAAAAAAAAAAAAAAAAAAAAAAAAAAAAAAAAAAAAAAAAAAAAAAAAAAAAAAAAAAAAAAAAAAAAAAAAAAAAAAAAAAAAAAAAAAAAAAAAAAAAAAAAAAAAAAAAAAAAAAAAAAAAAAAAAAAAAAAAAAAAAAAAAAAAAAAAAAAAAAAAAAAAAAAAAAAAAAAAAAAAAAAAAAAAAAAAAAAAAAAAAAAAAAAAAAAAAAAAAAAAAAAAAAAAAAAAAAAAAAAAAAAAAAAAAAAAAAAAAAAAAAAAAAAAAAAAAAAAAAAAAAAAAAAAAAAAAAAAAAAAAAAAAAAAAAAAAAAAAAAAAAAAAAAAAAAAAAAAAAAAAAAAAAAAAAAAAAAAAAAAAAAAAAAAAAAAAAAAAAAAAAAAAAAAAAAAAAAAAAAAAAAAAAAAAAAAAAAAAAAAAAAAAAAAAAAAAAAAAAAAAAAAAAAAAAAAAAAAAAAAAAAAAAAAAAAAAAAAAAAAAAAAAAAAAAAAAAAAAAAAAAAAAAAAAAAAAAAAAAAAAAAAAAAAAAAAAAAAAAAAAAAAAAAAAAAAAAAAAAAAAAAAAAAAAAAAAAAAAAAAAAAAAAAAAAAAAAAAAAAAAAAAAAAAAAAAAAAAAAAAAAAAAAAAAAAAAAAAAAAAAAAAAAAAAAAAAAAAAAAAAAAAAAAAAAAAAAAAAAAAAAAAAAAAAAAAAAAAAAAAAAAAAAAAAAAAAAAAAAAAAAAAAAAAAAAAAAAAAAAAAAAAAAAAAAAAAAAAAAAAAAAAAAAAAAAAAAAAAAAAAAAAAAAAAAAAAAAAAAAAAAAAAAAAAAAAAAAAAAAAAAAAAAAAAAAAAAAAAAAAAAAAAAAAAAAAAAAAAAAAAAAAAAAAAAAAAAAAAAAAAAAAAAAAAAAAAAAAAAAAAAAAAAAAAAAAAAAAAAAAAAAAAAAAAAAAAAAAAAAAAAAAAAAAAAAAAAAAAAAAAAAAAAAAAAAAAAAAAAAAAAAAAAAAAAAAAAAAAAAAAAAAAAAAAAAAAAAAAAAAAAAAAAAAAAAAAAAAAAAAAAAAAAAAAAAAAAAAAAAAAAAAAAAAAAAAAAAAAAAAAAAAAAAAAAAAAAAAAAAAAAAAAAAAAAAAAAAAAAAAAAAAAAAAAAAAAAAAAAAAAAAAAAAAAAAAAAAAAAAAAAAAAAAAAAAAAAAAAAAAAAAAAAAAAAAAAAAAAAAAAAAAAAAAAAAAAAAAAAAAAAAAAAAAAAAAAAAAAAAAAAAAAAAAAAAAAAAAAAAAAAAAAAAAAAAAAAAAAAAAAAAAAAAAAAAAAAAAAAAAAAAAAAAAAAAAAAAAAAAAAAAAAAAAAAAAAAAAAAAAAAAAAAAAAAAAAAAAAAAAAAAAAAAAAAAAAAAAAAAAAAAAAAAAAAAAAAAAAAAAAAAAAAAAAAAAAAAAAAAAAAAAAAAAAAAAAAAAAAAAAAAAAAAAAAAAAAAAAAAAAAAAAAAAAAAAAAAAAAAAAAAAAAAAAAAAAAAAAAAAAAAAAAAAAAAAAAAAAAAAAAAAAAAAAAAAAAAAAAAAAAAAAAAAAAAAAAAAAAAAAAAAAAAAAAAAAAAAAAAAAAAAAAAAAAAAAAAAAAAAAAAAAAAAAAAAAAAAAAAAAAAAAAAAAAAAAAAAAAAAAAAAAAAAAAAAAAAAAAAAAAAAAAAAAAAAAAAAAAAAAAAAAAAAAAAAAAAAAAAAAAAAAAAAAAAAAAAAAAAAAAAAAAAAAAAAAAAAAAAAAAAAAAAAAAAAAAAAAAAAAAAAAAAAAAAAAAAAAAAAAAAAAAAAAAAAAAAAAAAAAAAAAAAAAAAAAAAAAAAAAAAAAAAAAAAAAAAAAAAAAAAAAAAAAAAAAAAAAAAAAAAAAAAAAAAAAAAAAAAAAAAAAAAAAAAAAAAAAAAAAAAAAAAAAAAAAAAAAAAAAAAAAAAAAAAAAAAAAAAAAAAAAAAAAAAAAAAAAAAAAAAAAAAAAAAAAAAAAAAAAAAAAAAAAAAAAAAAAAAAAAAAAAAAAAAAAAAAAAAAAAAAAAAAAAAAAAAAAAAAAAAAAAAAAAAAAAAAAAAAAAAAAAAAAAAAAAAAAAAAAAAAAAAAAAAAAAAAAAAAAAAAAAAAAAAAAAAAAAAAAAAAAAAAAAAAAAAAAAAAAAAAAAAAAAAAAAAAAAAAAAAAAAAAAAAAAAAAAAAAAAAAAAAAAAAAAAAAAAAAAAAAAAAAAAAAAAAAAAAAAAAAAAAAAAAAAAAAAAAAAAAAAAAAAAAAAAAAAAAAAAAAAAAAAAAAAAAAAAAAAAAAAAAAAAAAAAAAAAAAAAAAAAAAAAAAAAAAAAAAAAAAAAAAAAAAAAAAAAAAAAAAAAAAAAAAAAAAAAAAAAAAAAAAAAAAAAAAAAAAAAAAAAAAAAAAAAAAAAAAAAAAAAAAAAAAAAAAAAAAAAAAAAAAAAAAAAAAAAAAAAAAAAAAAAAAAAAAAAAAAAAAAAAAAAAAAAAAAAAAAAAAAAAAAAAAAAAAAAAAAAAAAAAAAAAAAAAAAAAAAAAAAAAAAAAAAAAAAAAAAAAAAAAAAAAAAAAAAAAAAAAAAAAAAAAAAAAAAAAAAAAAAAAAAAAAAAAAAAAAAAAAAAAAAAAAAAAAAAAAAAAAAAAAAAAAAAAAAAAAAAAAAAAAAAAAAAAAAAAAAAAAAAAAAAAAAAAAAAAAAAAAAAAAAAAAAAAAAAAAAAAAAAAAAAAAAAAAAAAAAAAAAAAAAAAAAAAAAAAAAAAAAAAAAAAAAAAAAAAAAAAAAAAAAAAAAAAAAAAAAAAAAAAAAAAAAAAAAAAAAAAAAAAAAAAAAAAAAAAAAAAAAAAAAAAAAAAAAAAAAAAAAAAAAAAAAAAAAAAAAAAAAAAAAAAAAAAAAAAAAAAAAAAAAAAAAAAAAAAAAAAAAAAAAAAAAAAAAAAAAAAAAAAAAAAAAAAAAAAAAAAAAAAAAAAAAAAAAAAAAAAAAAAAAAAAAAAAAAAAAAAAAAAAAAAAAAAAAAAAAAAAAAAAAAAAAAAAAAAAAAAAAAAAAAAAAAAAAAAAAAAAAAAAAAAAAAAAAAAAAAAAAAAAAAAAAAAAAAAAAAAAAAAAAAAAAAAAAAAAAAAAAAAAAAAAAAAAAAAAAAAAAAAAAAAAAAAAAAAAAAAAAAAAAAAAAAAAAAAAAAAAAAAAAAAAAAAAAAAAAAAAAAAAAAAAAAAAAAAAAAAAAAAAAAAAAAAAAAAAAAAAAAAAAAAAAAAAAAAAAAAAAAAAAAAAAAAAAAAAAAAAAAAAAAAAAAAAAAAAAAAAAAAAAAAAAAAAAAAAAAAAAAAAAAAAAAAAAAAAAAAAAAAAAAAAAAAAAAAAAAAAAAAAAAAAAAAAAAAAAAAAAAAAAAAAAAAAAAAAAAAAAAAAAAAAAAAAAAAAAAAAAAAAAAAAAAAAAAAAAAAAAAAAAAAAAAAAAAAAAAAAAAAAAAAAAAAAAAAAAAAAAAAAAAAAAAAAAAAAAAAAAAAAAAAAAAAAAAAAAAAAAAAAAAAAAAAAAAAAAAAAAAAAAAAAAAAAAAAAAAAAAAAAAAAAAAAAAAAAAAAAAAAAAAAAAAAAAAAAAAAAAAAAAAAAAAAAAAAAAAAAAAAAAAAAAAAAAAAAAAAAAAAAAAAAAAAAAAAAAAAAAAAAAAAAAAAAAAAAAAAAAAAAAAAAAAAAAAAAAAAAAAAAAAAAAAAAAAAAAAAAAAAAAAAAAAAAAAAAAAAAAAAAAAAAAAAAAAAAAAAAAAAAAAAAAAAAAAAAAAAAAAAAAAAAAAAAAAAAAAAAAAAAAAAAAAAAAAAAAAAAAAAAAAAAAAAAAAAAAAAAAAAAAAAAAAAAAAAAAAAAAAAAAAAAAAAAAAAAAAAAAAAAAAAAAAAAAAAAAAAAAAAAAAAAAAAAAAAAAAAAAAAAAAAAAAAAAAAAAAAAAAAAAAAAAAAAAAAAAAAAAAAAAAAAAAAAAAAAAAAAAAAAAAAAAAAAAAAAAAAAAAAAAAAAAAAAAAAAAAAAAAAAAAAAAAAAAAAAAAAAAAAAAAAAAAAAAAAAAAAAAAAAAAAAAAAAAAAAAAAAAAAAAAAAAAAAAAAAAAAAAAAAAAAAAAAAAAAAAAAAAAAAAAAAAAAAAAAAAAAAAAAAAAAAAAAAAAAAAAAAAAAAAAAAAAAAAAAAAAAAAAAAAAAAAAAAAAAAAAAAAAAAAAAAAAAAAAAAAAAAAAAAAAAAAAAAAAAAAAAAAAAAAAAAAAAAAAAAAAAAAAAAAAAAAAAAAAAAAAAAAAAAAAAAAAAAAAAAAAAAAAAAAAAAAAAAAAAAAAAAAAAAAAAAAAAAAAAAAAAAAAAAAAAAAAAAAAAAAAAAAAAAAAAAAAAAAAAAAAAAAAAAAAAAAAAAAAAAAAAAAAAAAAAAAAAAAAAAAAAAAAAAAAAAAAAAAAAAAAAAAAAAAAAAAAAAAAAAAAAAAAAAAAAAAAAAAAAAAAAAAAAAAAAAAAAAAAAAAAAAAAAAAAAAAAAAAAAAAAAAAAAAAAAAAAAAAAAAAAAAAAAAAAAAAAAAAAAAAAAAAAAAAAAAAAAAAAAAAAAAAAAAAAAAAAAAAAAAAAAAAAAAAAAAAAAAAAAAAAAAAAAAAAAAAAAAAAAAAAAAAAAAAAAAAAAAAAAAAAAAAAAAAAAAAAAAAAAAAAAAAAAAAAAAAAAAAAAAAAAAAAAAAAAAAAAAAAAAAAAAAAAAAAAAAAAAAAAAAAAAAAAAAAAAAAAAAAAAAAAAAAAAAAAAAAAAAAAAAAAAAAAAAAAAAAAAAAAAAAAAAAAAAAAAAAAAAAAAAAAAAAAAAAAAAAAAAAAAAAAAAAAAAAAAAAAAAAAAAAAAAAAAAAAAAAAAAAAAAAAAAAAAAAAAAAAAAAAAAAAAAAAAAAAAAAAAAAAAAAAAAAAAAAAAAAAAAAAAAAAAAAAAAAAAAAAAAAAAAAAAAAAAAAAAAAAAAAAAAAAAAAAAAAAAAAAAAAAAAAAAAAAAAAAAAAAAAAAAAAAAAAAAAAAAAAAAAAAAAAAAAAAAAAAAAAAAAAAAAAAAAAAAAAAAAAAAAAAAAAAAAAAAAAAAAAAAAAAAAAAAAAAAAAAAAAAAAAAAAAAAAAAAAAAAAAAAAAAAAAAAAAAAAAAAAAAAAAAAAAAAAAAAAAAAAAAAAAAAAAAAAAAAAAAAAAAAAAAAAAAAAAAAAAAAAAAAAAAAAAAAAAAAAAAAAAAAAAAAAAAAAAAAAAAAAAAAAAAAAAAAAAAAAAAAAAAAAAAAAAAAAAAAAAAAAAAAAAAAAAAAAAAAAAAAAAAAAAAAAAAAAAAAAAAAAAAAAAAAAAAAAAAAAAAAAAAAAAAAAAAAAAAAAAAAAAAAAAAAAAAAAAAAAAAAAAAAAAAAAAAAAAAAAAAAAAAAAAAAAAAAAAAAAAAAAAAAAAAAAAAAAAAAAAAAAAAAAAAAAAAAAAAAAAAAAAAAAAAAAAAAAAAAAAAAAAAAAAAAAAAAAAAAAAAAAAAAAAAAAAAAAAAAAAAAAAAAAAAAAAAAAAAAAAAAAAAAAAAAAAAAAAAAAAAAAAAAAAAAAAAAAAAAAAAAAAAAAAAAAAAAAAAAAAAAAAAAAAAAAAAAAAAAAAAAAAAAAAAAAAAAAAAAAAAAAAAAAAAAAAAAAAAAAAAAAAAAAAAAAAAAAAAAAAAAAAAAAAAAAAAAAAAAAAAAAAAAAAAAAAAAAAAAAAAAAAAAAAAAAAAAAAAAAAAAAAAAAAAAAAAAAAAAAAAAAAAAAAAAAAAAAAAAAAAAAAAAAAAAAAAAAAAAAAAAAAAAAAAAAAAAAAAAAAAAAAAAAAAAAAAAAAAAAAAAAAAAAAAAAAAAAAAAAAAAAAAAAAAAAAAAAAAAAAAAAAAAAAAAAAAAAAAAAAAAAAAAAAAAAAAAAAAAAAAAAAAAAAAAAAAAAAAAAAAAAAAAAAAAAAAAAAAAAAAAAAAAAAAAAAAAAAAAAAAAAAAAAAAAAAAAAAAAAAAAAAAAAAAAAAAAAAAAAAAAAAAAAAAAAAAAAAAAAAAAAAAAAAAAAAAAAAAAAAAAAAAAAAAAAAAAAAAAAAAAAAAAAAAAAAAAAAAAAAAAAAAAAAAAAAAAAAAAAAAAAAAAAAAAAAAAAAAAAAAAAAAAAAAAAAAAAAAAAAAAAAAAAAAAAAAAAAAAAAAAAAAAAAAAAAAAAAAAAAAAAAAAAAAAAAAAAAAAAAAAAAAAAAAAAAAAAAAAAAAAAAAAAAAAAAAAAAAAAAAAAAAAAAAAAAAAAAAAAAAAAAAAAAAAAAAAAAAAAAAAAAAAAAAAAAAAAAAAAAAAAAAAAAAAAAAAAAAAAAAAAAAAAAAAAAAAAAAAAAAAAAAAAAAAAAAAAAAAAAAAAAAAAAAAAAAAAAAAAAAAAAAAAAAAAAAAAAAAAAAAAAAAAAAAAAAAAAAAAAAAAAAAAAAAAAAAAAAAAAAAAAAAAAAAAAAAAAAAAAAAAAAAAAAAAAAAAAAAAAAAAAAAAAAAAAAAAAAAAAAAAAAAAAAAAAAAAAAAAAAAAAAAAAAAAAAAAAAAAAAAAAAAAAAAAAAAAAAAAAAAAAAAAAAAAAAAAAAAAAAAAAAAAAAAAAAAAAAAAAAAAAAAAAAAAAAAAAAAAAAAAAAAAAAAAAAAAAAAAAAAAAAAAAAAAAAAAAAAAAAAAAAAAAAAAAAAAAAAAAAAAAAAAAAAAAAAAAAAAAAAAAAAAAAAAAAAAAAAAAAAAAAAAAAAAAAAAAAAAAAAAAAAAAAAAAAAAAAAAAAAAAAAAAAAAAAAAAAAAAAAAAAAAAAAAAAAAAAAAAAAAAAAAAAAAAAAAAAAAAAAAAAAAAAAAAAAAAAAAAAAAAAAAAAAAAAAAAAAAAAAAAAAAAAAAAAAAAAAAAAAAAAAAAAAAAAAAAAAAAAAAAAAAAAAAAAAAAAAAAAAAAAAAAAAAAAAAAAAAAAAAAAAAAAAAAAAAAAAAAAAAAAAAAAAAAAAAAAAAAAAAAAAAAAAAAAAAAAAAAAAAAAAAAAAAAAAAAAAAAAAAAAAAAAAAAAAAAAAAAAAAAAAAAAAAAAAAAAAAAAAAAAAAAAAAAAAAAAAAAAAAAAAAAAAAAAAAAAAAAAAAAAAAAAAAAAAAAAAAAAAAAAAAAAAAAAAAAAAAAAAAAAAAAAAAAAAAAAAAAAAAAAAAAAAAAAAAAAAAAAAAAAAAAAAAAAAAAAAAAAAAAAAAAAAAAAAAAAAAAAAAAAAAAAAAAAAAAAAAAAAAAAAAAAAAAAAAAAAAAAAAAAAAAAAAAAAAAAAAAAAAAAAAAAAAAAAAAAAAAAAAAAAAAAAAAAAAAAAAAAAAAAAAAAAAAAAAAAAAAAAAAAAAAAAAAAAAAAAAAAAAAAAAAAAAAAAAAAAAAAAAAAAAAAAAAAAAAAAAAAAAAAAAAAAAAAAAAAAAAAAAAAAAAAAAAAAAAAAAAAAAAAAAAAAAAAAAAAAAAAAAAAAAAAAAAAAAAAAAAAAAAAAAAAAAAAAAAAAAAAAAAAAAAAAAAAAAAAAAAAAAAAAAAAAAAAAAAAAAAAAAAAAAAAAAAAAAAAAAAAAAAAAAAAAAAAAAAAAAAAAAAAAAAAAAAAAAAAAAAAAAAAAAAAAAAAAAAAAAAAAAAAAAAAAAAAAAAAAAAAAAAAAAAAAAAAAAAAAAAAAAAAAAAAAAAAAAAAAAAAAAAAAAAAAAAAAAAAAAAAAAAAAAAAAAAAAAAAAAAAAAAAAAAAAAAAAAAAAAAAAAAAAAAAAAAAAAAAAAAAAAAAAAAAAAAAAAAAAAAAAAAAAAAAAAAAAAAAAAAAAAAAAAAAAAAAAAAAAAAAAAAAAAAAAAAAAAAAAAAAAAAAAAAAAAAAAAAAAAAAAAAAAAAAAAAAAAAAAAAAAAAAAAAAAAAAAAAAAAAAAAAAAAAAAAAAAAAAAAAAAAAAAAAAAAAAAAAAAAAAAAAAAAAAAAAAAAAAAAAAAAAAAAAAAAAAAAAAAAAAAAAAAAAAAAAAAAAAAAAAAAAAAAAAAAAAAAAAAAAAAAAAAAAAAAAAAAAAAAAAAAAAAAAAAAAAAAAAAAAAAAAAAAAAAAAAAAAAAAAAAAAAAAAAAAAAAAAAAAAAAAAAAAAAAAAAAAAAAAAAAAAAAAAAAAAAAAAAAAAAAAAAAAAAAAAAAAAAAAAAAAAAAAAAAAAAAAAAAAAAAAAAAAAAAAAAAAAAAAAAAAAAAAAAAAAAAAAAAAAAAAAAAAAAAAAAAAAAAAAAAAAAAAAAAAAAAAAAAAAAAAAAAAAAAAAAAAAAAAAAAAAAAAAAAAAAAAAAAAAAAAAAAAAAAAAAAAAAAAAAAAAAAAAAAAAAAAAAAAAAAAAAAAAAAAAAAAAAAAAAAAAAAAAAAAAAAAAAAAAAAAAAAAAAAAAAAAAAAAAAAAAAAAAAAAAAAAAAAAAAAAAAAAAAAAAAAAAAAAAAAAAAAAAAAAAAAAAAAAAAAAAAAAAAAAAAAAAAAAAAAAAAAAAAAAAAAAAAAAAAAAAAAAAAAAAAAAAAAAAAAAAAAAAAAAAAAAAAAAAAAAAAAAAAAAAAAAAAAAAAAAAAAAAAAAAAAAAAAAAAAAAAAAAAAAAAAAAAAAAAAAAAAAAAAAAAAAAAAAAAAAAAAAAAAAAAAAAAAAAAAAAAAAAAAAAAAAAAAAAAAAAAAAAAAAAAAAAAAAAAAAAAAAAAAAAAAAAAAAAAAAAAAAAAAAAAAAAAAAAAAAAAAAAAAAAAAAAAAAAAAAAAAAAAAAAAAAAAAAAAAAAAAAAAAAAAAAAAAAAAAAAAAAAAAAAAAAAAAAAAAAAAAAAAAAAAAAAAAAAAAAAAAAAAAAAAAAAAAAAAAAAAAAAAAAAAAAAAAAAAAAAAAAAAAAAAAAAAAAAAAAAAAAAAAAAAAAAAAAAAAAAAAAAAAAAAAAAAAAAAAAAAAAAAAAAAAAAAAAAAAAAAAAAAAAAAAAAAAAAAAAAAAAAAAAAAAAAAAAAAAAAAAAAAAAAAAAAAAAAAAAAAAAAAAAAAAAAAAAAAAAAAAAAAAAAAAAAAAAAAAAAAAAAAAAAAAAAAAAAAAAAAAAAAAAAAAAAAAAAAAAAAAAAAAAAAAAAAAAAAAAAAAAAAAAAAAAAAAAAAAAAAAAAAAAAAAAAAAAAAAAAAAAAAAAAAAAAAAAAAAAAAAAAAAAAAAAAAAAAAAAAAAAAAAAAAAAAAAAAAAAAAAAAAAAAAAAAAAAAAAAAAAAAAAAAAAAAAAAAAAAAAAAAAAAAAAAAAAAAAAAAAAAAAAAAAAAAAAAAAAAAAAAAAAAAAAAAAAAAAAAAAAAAAAAAAAAAAAAAAAAAAAAAAAAAAAAAAAAAAAAAAAAAAAAAAAAAAAAAAAAAAAAAAAAAAAAAAAAAAAAAAAAAAAAAAAAAAAAAAAAAAAAAAAAAAAAAAAAAAAAAAAAAAAAAAAAAAAAAAAAAAAAAAAAAAAAAAAAAAAAAAAAAAAAAAAAAAAAAAAAAAAAAAAAAAAAAAAAAAAAAAAAAAAAAAAAAAAAAAAAAAAAAAAAAAAAAAAAAAAAAAAAAAAAAAAAAAAAAAAAAAAAAAAAAAAAAAAAAAAAAAAAAAAAAAAAAAAAAAAAAAAAAAAAAAAAAAAAAAAAAAAAAAAAAAAAAAAAAAAAAAAAAAAAAAAAAAAAAAAAAAAAAAAAAAAAAAAAAAAAAAAAAAAAAAAAAAAAAAAAAAAAAAAAAAAAAAAAAAAAAAAAAAAAAAAAAAAAAAAAAAAAAAAAAAAAAAAAAAAAAAAAAAAAAAAAAAAAAAAAAAAAAAAAAAAAAAAAAAAAAAAAAAAAAAAAAAAAAAAAAAAAAAAAAAAAAAAAAAAAAAAAAAAAAAAAAAAAAAAAAAAAAAAAAAAAAAAAAAAAAAAAAAAAAAAAAAAAAAAAAAAAAAAAAAAAAAAAAAAAAAAAAAAAAAAAAAAAAAAAAAAAAAAAAAAAAAAAAAAAAAAAAAAAAAAAAAAAAAAAAAAAAAAAAAAAAAAAAAAAAAAAAAAAAAAAAAAAAAAAAAAAAAAAAAAAAAAAAAAAAAAAAAAAAAAAAAAAAAAAAAAAAAAAAAAAAAAAAAAAAAAAAAAAAAAAAAAAAAAAAAAAAAAAAAAAAAAAAAAAAAAAAAAAAAAAAAAAAAAAAAAAAAAAAAAAAAAAAAAAAAAAAAAAAAAAAAAAAAAAAAAAAAAAAAAAAAAAAAAAAAAAAAAAAAAAAAAAAAAAAAAAAAAAAAAAAAAAAAAAAAAAAAAAAAAAAAAAAAAAAAAAAAAAAAAAAAAAAAAAAAAAAAAAAAAAAAAAAAAAAAAAAAAAAAAAAAAAAAAAAAAAAAAAAAAAAAAAAAAAAAAAAAAAAAAAAAAAAAAAAAAAAAAAAAAAAAAAAAAAAAAAAAAAAAAAAAAAAAAAAAAAAAAAAAAAAAAAAAAAAAAAAAAAAAAAAAAAAAAAAAAAAAAAAAAAAAAAAAAAAAAAAAAAAAAAAAAAAAAAAAAAAAAAAAAAAAAAAAAAAAAAAAAAAAAAAAAAAAAAAAAAAAAAAAAAAAAAAAAAAAAAAAAAAAAAAAAAAAAAAAAAAAAAAAAAAAAAAAAAAAAAAAAAAAAAAAAAAAAAAAAAAAAAAAAAAAAAAAAAAAAAAAAAAAAAAAAAAAAAAAAAAAAAAAAAAAAAAAAAAAAAAAAAAAAAAAAAAAAAAAAAAAAAAAAAAAAAAAAAAAAAAAAAAAAAAAAAAAAAAAAAAAAAAAAAAAAAAAAAAAAAAAAAAAAAAAAAAAAAAAAAAAAAAAAAAAAAAAAAAAAAAAAAAAAAAAAAAAAAAAAAAAAAAAAAAAAAAAAAAAAAAAAAAAAAAAAAAAAAAAAAAAAAAAAAAAAAAAAAAAAAAAAAAAAAAAAAAAAAAAAAAAAAAAAAAAAAAAAAAAAAAAAAAAAAAAAAAAAAAAAAAAAAAAAAAAAAAAAAAAAAAAAAAAAAAAAAAAAAAAAAAAAAAAAAAAAAAAAAAAAAAAAAAAAAAAAAAAAAAAAAAAAAAAAAAAAAAAAAAAAAAAAAAAAAAAAAAAAAAAAAAAAAAAAAAAAAAAAAAAAAAAAAAAAAAAAAAAAAAAAAAAAAAAAAAAAAAAAAAAAAAAAAAAAAAAAAAAAAAAAAAAAAAAAAAAAAAAAAAAAAAAAAAAAAAAAAAAAAAAAAAAAAAAAAAAAAAAAAAAAAAAAAAAAAAAAAAAAAAAAAAAAAAAAAAAAAAAAAAAAAAAAAAAAAAAAAAAAAAAAAAAAAAAAAAAAAAAAAAAAAAAAAAAAAAAAAAAAAAAAAAAAAAAAAAAAAAAAAAAAAAAAAAAAAAAAAAAAAAAAAAAAAAAAAAAAAAAAAAAAAAAAAAAAAAAAAAAAAAAAAAAAAAAAAAAAAAAAAAAAAAAAAAAAAAAAAAAAAAAAAAAAAAAAAAAAAAAAAAAAAAAAAAAAAAAAAAAAAAAAAAAAAAAAAAAAAAAAAAAAAAAAAAAAAAAAAAAAAAAAAAAAAAAAAAAAAAAAAAAAAAAAAAAAAAAAAAAAAAAAAAAAAAAAAAAAAAAAAAAAAAAAAAAAAAAAAAAAAAAAAAAAAAAAAAAAAAAAAAAAAAAAAAAAAAAAAAAAAAAAAAAAAAAAAAAAAAAAAAAAAAAAAAAAAAAAAAAAAAAAAAAAAAAAAAAAAAAAAAAAAAAAAAAAAAAAAAAAAAAAAAAAAAAAAAAAAAAAAAAAAAAAAAAAAAAAAAAAAAAAAAAAAAAAAAAAAAAAAAAAAAAAAAAAAAAAAAAAAAAAAAAAAAAAAAAAAAAAAAAAAAAAAAAAAAAAAAAAAAAAAAAAAAAAAAAAAAAAAAAAAAAAAAAAAAAAAAAAAAAAAAAAAAAAAAAAAAAAAAAAAAAAAAAAAAAAAAAAAAAAAAAAAAAAAAAAAAAAAAAAAAAAAAAAAAAAAAAAAAAAAAAAAAAAAAAAAAAAAAAAAAAAAAAAAAAAAAAAAAAAAAAAAAAAAAAAAAAAAAAAAAAAAAAAAAAAAAAAAAAAAAAAAAAAAAAAAAAAAAAAAAAAAAAAAAAAAAAAAAAAAAAAAAAAAAAAAAAAAAAAAAAAAAAAAAAAAAAAAAAAAAAAAAAAAAAAAAAAAAAAAAAAAAAAAAAAAAAAAAAAAAAAAAAAAAAAAAAAAAAAAAAAAAAAAAAAAAAAAAAAAAAAAAAAAAAAAAAAAAAAAAAAAAAAAAAAAAAAAAAAAAAAAAAAAAAAAAAAAAAAAAAAAAAAAAAAAAAAAAAAAAAAAAAAAAAAAAAAAAAAAAAAAAAAAAAAAAAAAAAAAAAAAAAAAAAAAAAAAAAAAAAAAAAAAAAAAAAAAAAAAAAAAAAAAAAAAAAAAAAAAAAAAAAAAAAAAAAAAAAAAAAAAAAAAAAAAAAAAAAAAAAAAAAAAAAAAAAAAAAAAAAAAAAAAAAAAAAAAAAAAAAAAAAAAAAAAAAAAAAAAAAAAAAAAAAAAAAAAAAAAAAAAAAAAAAAAAAAAAAAAAAAAAAAAAAAAAAAAAAAAAAAAAAAAAAAAAAAAAAAAAAAAAAAAAAAAAAAAAAAAAAAAAAAAAAAAAAAAAAAAAAAAAAAAAAAAAAAAAAAAAAAAAAAAAAAAAAAAAAAAAAAAAAAAAAAAAAAAAAAAAAAAAAAAAAAAAAAAAAAAAAAAAAAAAAAAAAAAAAAAAAAAAAAAAAAAAAAAAAAAAAAAAAAAAAAAAAAAAAAAAAAAAAAAAAAAAAAAAAAAAAAAAAAAAAAAAAAAAAAAAAAAAAAAAAAAAAAAAAAAAAAAAAAAAAAAAAAAAAAAAAAAAAAAAAAAAAAAAAAAAAAAAAAAAAAAAAAAAAAAAAAAAAAAAAAAAAAAAAAAAAAAAAAAAAAAAAAAAAAAAAAAAAAAAAAAAAAAAAAAAAAAAAAAAAAAAAAAAAAAAAAAAAAAAAAAAAAAAAAAAAAAAAAAAAAAAAAAAAAAAAAAAAAAAAAAAAAAAAAAAAAAAAAAAAAAAAAAAAAAAAAAAAAAAAAAAAAAAAAAAAAAAAAAAAAAAAAAAAAAAAAAAAAAAAAAAAAAAAAAAAAAAAAAAAAAAAAAAAAAAAAAAAAAAAAAAAAAAAAAAAAAAAAAAAAAAAAAAAAAAAAAAAAAAAAAAAAAAAAAAAAAAAAAAAAAAAAAAAAAAAAAAAAAAAAAAAAAAAAAAAAAAAAAAAAAAAAAAAAAAAAAAAAAAAAAAAAAAAAAAAAAAAAAAAAAAAAAAAAAAAAAAAAAAAAAAAAAAAAAAAAAAAAAAAAAAAAAAAAAAAAAAAAAAAAAAAAAAAAAAAAAAAAAAAAAAAAAAAAAAAAAAAAAAAAAAAAAAAAAAAAAAAAAAAAAAAAAAAAAAAAAAAAAAAAAAAAAAAAAAAAAAAAAAAAAAAAAAAAAAAAAAAAAAAAAAAAAAAAAAAAAAAAAAAAAAAAAAAAAAAAAAAAAAAAAAAAAAAAAAAAAAAAAAAAAAAAAAAAAAAAAAAAAAAAAAAAAAAAAAAAAAAAAAAAAAAAAAAAAAAAAAAAAAAAAAAAAAAAAAAAAAAAAAAAAAAAAAAAAAAAAAAAAAAAAAAAAAAAAAAAAAAAAAAAAAAAAAAAAAAAAAAAAAAAAAAAAAAAAAAAAAAAAAAAAAAAAAAAAAAAAAAAAAAAAAAAAAAAAAAAAAAAAAAAAAAAAAAAAAAAAAAAAAAAAAAAAAAAAAAAAAAAAAAAAAAAAAAAAAAAAAAAAAAAAAAAAAAAAAAAAAAAAAAAAAAAAAAAAAAAAAAAAAAAAAAAAAAAAAAAAAAAAAAAAAAAAAAAAAAAAAAAAAAAAAAAAAAAAAAAAAAAAAAAAAAAAAAAAAAAAAAAAAAAAAAAAAAAAAAAAAAAAAAAAAAAAAAAAAAAAAAAAAAAAAAAAAAAAAAAAAAAAAAAAAAAAAAAAAAAAAAAAAAAAAAAAAAAAAAAAAAAAAAAAAAAAAAAAAAAAAAAAAAAAAAAAAAAAAAAAAAAAAAAAAAAAAAAAAAAAAAAAAAAAAAAAAAAAAAAAAAAAAAAAAAAAAAAAAAAAAAAAAAAAAAAAAAAAAAAAAAAAAAAAAAAAAAAAAAAAAAAAAAAAAAAAAAAAAAAAAAAAAAAAAAAAAAAAAAAAAAAAAAAAAAAAAAAAAAAAAAAAAAAAAAAAAAAAAAAAAAAAAAAAAAAAAAAAAAAAAAAAAAAAAAAAAAAAAAAAAAAAAAAAAAAAAAAAAAAAAAAAAAAAAAAAAAAAAAAAAAAAAAAAAAAAAAAAAAAAAAAAAAAAAAAAAAAAAAAAAAAAAAAAAAAAAAAAAAAAAAAAAAAAAAAAAAAAAAAAAAAAAAAAAAAAAAAAAAAAAAAAAAAAAAAAAAAAAAAAAAAAAAAAAAAAAAAAAAAAAAAAAAAAAAAAAAAAAAAAAAAAAAAAAAAAAAAAAAAAAAAAAAAAAAAAAAAAAAAAAAAAAAAAAAAAAAAAAAAAAAAAAAAAAAAAAAAAAAAAAAAAAAAAAAAAAAAAAAAAAAAAAAAAAAAAAAAAAAAAAAAAAAAAAAAAAAAAAAAAAAAAAAAAAAAAAAAAAAAAAAAAAAAAAAAAAAAAAAAAAAAAAAAAAAAAAAAAAAAAAAAAAAAAAAAAAAAAAAAAAAAAAAAAAAAAAAAAAAAAAAAAAAAAAAAAAAAAAAAAAAAAAAAAAAAAAAAAAAAAAAAAAAAAAAAAAAAAAAAAAAAAAAAAAAAAAAAAAAAAAAAAAAAAAAAAAAAAAAAAAAAAAAAAAAAAAAAAAAAAAAAAAAAAAAAAAAAAAAAAAAAAAAAAAAAAAAAAAAAAAAAAAAAAAAAAAAAAAAAAAAAAAAAAAAAAAAAAAAAAAAAAAAAAAAAAAAAAAAAAAAAAAAAAAAAAAAAAAAAAAAAAAAAAAAAAAAAAAAAAAAAAAAAAAAAAAAAAAAAAAAAAAAAAAAAAAAAAAAAAAAAAAAAAAAAAAAAAAAAAAAAAAAAAAAAAAAAAAAAAAAAAAAAAAAAAAAAAAAAAAAAAAAAAAAAAAAAAAAAAAAAAAAAAAAAAAAAAAAAAAAAAAAAAAAAAAAAAAAAAAAAAAAAAAAAAAAAAAAAAAAAAAAAAAAAAAAAAAAAAAAAAAAAAAAAAAAAAAAAAAAAAAAAAAAAAAAAAAAAAAAAAAAAAAAAAAAAAAAAAAAAAAAAAAAAAAAAAAAAAAAAAAAAAAAAAAAAAAAAAAAAAAAAAAAAAAAAAAAAAAAAAAAAAAAAAAAAAAAAAAAAAAAAAAAAAAAAAAAAAAAAAAAAAAAAAAAAAAAAAAAAAAAAAAAAAAAAAAAAAAAAAAAAAAAAAAAAAAAAAAAAAAAAAAAAAAAAAAAAAAAAAAAAAAAAAAAAAAAAAAAAAAAAAAAAAAAAAAAAAAAAAAAAAAAAAAAAAAAAAAAAAAAAAAAAAAAAAAAAAAAAAAAAAAAAAAAAAAAAAAAAAAAAAAAAAAAAAAAAAAAAAAAAAAAAAAAAAAAAAAAAAAAAAAAAAAAAAAAAAAAAAAAAAAAAAAAAAAAAAAAAAAAAAAAAAAAAAAAAAAAAAAAAAAAAAAAAAAAAAAAAAAAAAAAAAAAAAAAAAAAAAAAAAAAAAAAAAAAAAAAAAAAAAAAAAAAAAAAAAAAAAAAAAAAAAAAAAAAAAAAAAAAAAAAAAAAAAAAAAAAAAAAAAAAAAAAAAAAAAAAAAAAAAAAAAAAAAAAAAAAAAAAAAAAAAAAAAAAAAAAAAAAAAAAAAAAAAAAAAAAAAAAAAAAAAAAAAAAAAAAAAAAAAAAAAAAAAAAAAAAAAAAAAAAAAAAAAAAAAAAAAAAAAAAAAAAAAAAAAAAAAAAAAAAAAAAAAAAAAAAAAAAAAAAAAAAAAAAAAAAAAAAAAAAAAAAAAAAAAAAAAAAAAAAAAAAAAAAAAAAAAAAAAAAAAAAAAAAAAAAAAAAAAAAAAAAAAAAAAAAAAAAAAAAAAAAAAAAAAAAAAAAAAAAAAAAAAAAAAAAAAAAAAAAAAAAAAAAAAAAAAAAAAAAAAAAAAAAAAAAAAAAAAAAAAAAAAAAAAAAAAAAAAAAAAAAAAAAAAAAAAAAAAAAAAAAAAAAAAAAAAAAAAAAAAAAAAAAAAAAAAAAAAAAAAAAAAAAAAAAAAAAAAAAAAAAAAAAAAAAAAAAAAAAAAAAAAAAAAAAAAAAAAAAAAAAAAAAAAAAAAAAAAAAAAAAAAAAAAAAAAAAAAAAAAAAAAAAAAAAAAAAAAAAAAAAAAAAAAAAAAAAAAAAAAAAAAAAAAAAAAAAAAAAAAAAAAAAAAAAAAAAAAAAAAAAAAAAAAAAAAAAAAAAAAAAAAAAAAAAAAAAAAAAAAAAAAAAAAAAAAAAAAAAAAAAAAAAAAAAAAAAAAAAAAAAAAAAAAAAAAAAAAAAAAAAAAAAAAAAAAAAAAAAAAAAAAAAAAAAAAAAAAAAAAAAAAAAAAAAAAAAAAAAAAAAAAAAAAAAAAAAAAAAAAAAAAAAAAAAAAAAAAAAAAAAAAAAAAAAAAAAAAAAAAAAAAAAAAAAAAAAAAAAAAAAAAAAAAAAAAAAAAAAAAAAAAAAAAAAAAAAAAAAAAAAAAAAAAAAAAAAAAAAAAAAAAAAAAAAAAAAAAAAAAAAAAAAAAAAAAAAAAAAAAAAAAAAAAAAAAAAAAAAAAAAAAAAAAAAAAAAAAAAAAAAAAAAAAAAAAAAAAAAAAAAAAAAAAAAAAAAAAAAAAAAAAAAAAAAAAAAAAAAAAAAAAAAAAAAAAAAAAAAAAAAAAAAAAAAAAAAAAAAAAAAAAAAAAAAAAAAAAAAAAAAAAAAAAAAAAAAAAAAAAAAAAAAAAAAAAAAAAAAAAAAAAAAAAAAAAAAAAAAAAAAAAAAAAAAAAAAAAAAAAAAAAAAAAAAAAAAAAAAAAAAAAAAAAAAAAAAAAAAAAAAAAAAAAAAAAAAAAAAAAAAAAAAAAAAAAAAAAAAAAAAAAAAAAAAAAAAAAAAAAAAAAAAAAAAAAAAAAAAAAAAAAAAAAAAAAAAAAAAAAAAAAAAAAAAAAAAAAAAAAAAAAAAAAAAAAAAAAAAAAAAAAAAAAAAAAAAAAAAAAAAAAAAAAAAAAAAAAAAAAAAAAAAAAAAAAAAAAAAAAAAAAAAAAAAAAAAAAAAAAAAAAAAAAAAAAAAAAAAAAAAAAAAAAAAAAAAAAAAAAAAAAAAAAAAAAAAAAAAAAAAAAAAAAAAAAAAAAAAAAAAAAAAAAAAAAAAAAAAAAAAAAAAAAAAAAAAAAAAAAAAAAAAAAAAAAAAAAAAAAAAAAAAAAAAAAAAAAAAAAAAAAAAAAAAAAAAAAAAAAAAAAAAAAAAAAAAAAAAAAAAAAAAAAAAAAAAAAAAAAAAAAAAAAAAAAAAAAAAAAAAAAAAAAAAAAAAAAAAAAAAAAAAAAAAAAAAAAAAAAAAAAAAAAAAAAAAAAAAAAAAAAAAAAAAAAAAAAAAAAAAAAAAAAAAAAAAAAAAAAAAAAAAAAAAAAAAAAAAAAAAAAAAAAAAAAAAAAAAAAAAAAAAAAAAAAAAAAAAAAAAAAAAAAAAAAAAAAAAAAAAAAAAAAAAAAAAAAAAAAAAAAAAAAAAAAAAAAAAAAAAAAAAAAAAAAAAAAAAAAAAAAAAAAAAAAAAAAAAAAAAAAAAAAAAAAAAAAAAAAAAAAAAAAAAAAAAAAAAAAAAAAAAAAAAAAAAAAAAAAAAAAAAAAAAAAAAAAAAAAAAAAAAAAAAAAAAAAAAAAAAAAAAAAAAAAAAAAAAAAAAAAAAAAAAAAAAAAAAAAAAAAAAAAAAAAAAAAAAAAAAAAAAAAAAAAAAAAAAAAAAAAAAAAAAAAAAAAAAAAAAAAAAAAAAAAAAAAAAAAAAAAAAAAAAAAAAAAAAAAAAAAAAAAAAAAAAAAAAAAAAAAAAAAAAAAAAAAAAAAAAAAAAAAAAAAAAAAAAAAAAAAAAAAAAAAAAAAAAAAAAAAAAAAAAAAAAAAAAAAAAAAAAAAAAAAAAAAAAAAAAAAAAAAAAAAAAAAAAAAAAAAAAAAAAAAAAAAAAAAAAAAAAAAAAAAAAAAAAAAAAAAAAAAAAAAAAAAAAAAAAAAAAAAAAAAAAAAAAAAAAAAAAAAAAAAAAAAAAAAAAAAAAAAAAAAAAAAAAAAAAAAAAAAAAAAAAAAAAAAAAAAAAAAAAAAAAAAAAAAAAAAAAAAAAAAAAAAAAAAAAAAAAAAAAAAAAAAAAAAAAAAAAAAAAAAAAAAAAAAAAAAAAAAAAAAAAAAAAAAAAAAAAAAAAAAAAAAAAAAAAAAAAAAAAAAAAAAAAAAAAAAAAAAAAAAAAAAAAAAAAAAAAAAAAAAAAAAAAAAAAAAAAAAAAAAAAAAAAAAAAAAAAAAAAAAAAAAAAAAAAAAAAAAAAAAAAAAAAAAAAAAAAAAAAAAAAAAAAAAAAAAAAAAAAAAAAAAAAAAAAAAAAAAAAAAAAAAAAAAAAAAAAAAAAAAAAAAAAAAAAAAAAAAAAAAAAAAAAAAAAAAAAAAAAAAAAAAAAAAAAAAAAAAAAAAAAAAAAAAAAAAAAAAAAAAAAAAAAAAAAAAAAAAAAAAAAAAAAAAAAAAAAAAAAAAAAAAAAAAAAAAAAAAAAAAAAAAAAAAAAAAAAAAAAAAAAAAAAAAAAAAAAAAAAAAAAAAAAAAAAAAAAAAAAAAAAAAAAAAAAAAAAAAAAAAAAAAAAAAAAAAAAAAAAAAAAAAAAAAAAAAAAAAAAAAAAAAAAAAAAAAAAAAAAAAAAAAAAAAAAAAAAAAAAAAAAAAAAAAAAAAAAAAAAAAAAAAAAAAAAAAAAAAAAAAAAAAAAAAAAAAAAAAAAAAAAAAAAAAAAAAAAAAAAAAAAAAAAAAAAAAAAAAAAAAAAAAAAAAAAAAAAAAAAAAAAAAAAAAAAAAAAAAAAAAAAAAAAAAAAAAAAAAAAAAAAAAAAAAAAAAAAAAAAAAAAAAAAAAAAAAAAAAAAAAAAAAAAAAAAAAAAAAAAAAAAAAAAAAAAAAAAAAAAAAAAAAAAAAAAAAAAAAAAAAAAAAAAAAAAAAAAAAAAAAAAAAAAAAAAAAAAAAAAAAAAAAAAAAAAAAAAAAAAAAAAAAAAAAAAAAAAAAAAAAAAAAAAAAAAAAAAAAAAAAAAAAAAAAAAAAAAAAAAAAAAAAAAAAAAAAAAAAAAAAAAAAAAAAAAAAAAAAAAAAAAAAAAAAAAAAAAAAAAAAAAAAAAAAAAAAAAAAAAAAAAAAAAAAAAAAAAAAAAAAAAAAAAAAAAAAAAAAAAAAAAAAAAAAAAAAAAAAAAAAAAAAAAAAAAAAAAAAAAAAAAAAAAAAAAAAAAAAAAAAAAAAAAAAAAAAAAAAAAAAAAAAAAAAAAAAAAAAAAAAAAAAAAAAAAAAAAAAAAAAAAAAAAAAAAAAAAAAAAAAAAAAAAAAAAAAAAAAAAAAAAAAAAAAAAAAAAAAAAAAAAAAAAAAAAAAAAAAAAAAAAAAAAAAAAAAAAAAAAAAAAAAAAAAAAAAAAAAAAAAAAAAAAAAAAAAAAAAAAAAAAAAAAAAAAAAAAAAAAAAAAAAAAAAAAAAAAAAAAAAAAAAAAAAAAAAAAAAAAAAAAAAAAAAAAAAAAAAAAAAAAAAAAAAAAAAAAAAAAAAAAAAAAAAAAAAAAAAAAAAAAAAAAAAAAAAAAAAAAAAAAAAAAAAAAAAAAAAAAAAAAAAAAAAAAAAAAAAAAAAAAAAAAAAAAAAAAAAAAAAAAAAAAAAAAAAAAAAAAAAAAAAAAAAAAAAAAAAAAAAAAAAAAAAAAAAAAAAAAAAAAAAAAAAAAAAAAAAAAAAAAAAAAAAAAAAAAAAAAAAAAAAAAAAAAAAAAAAAAAAAAAAAAAAAAAAAAAAAAAAAAAAAAAAAAAAAAAAAAAAAAAAAAAAAAAAAAAAAAAAAAAAAAAAAAAAAAAAAAAAAAAAAAAAAAAAAAAAAAAAAAAAAAAAAAAAAAAAAAAAAAAAAAAAAAAAAAAAAAAAAAAAAAAAAAAAAAAAAAAAAAAAAAAAAAAAAAAAAAAAAAAAAAAAAAAAAAAAAAAAAAAAAAAAAAAAAAAAAAAAAAAAAAAAAAAAAAAAAAAAAAAAAAAAAAAAAAAAAAAAAAAAAAAAAAAAAAAAAAAAAAAAAAAAAAAAAAAAAAAAAAAAAAAAAAAAAAAAAAAAAAAAAAAAAAAAAAAAAAAAAAAAAAAAAAAAAAAAAAAAAAAAAAAAAAAAAAAAAAAAAAAAAAAAAAAAAAAAAAAAAAAAAAAAAAAAAAAAAAAAAAAAAAAAAAAAAAAAAAAAAAAAAAAAAAAAAAAAAAAAAAAAAAAAAAAAAAAAAAAAAAAAAAAAAAAAAAAAAAAAAAAAAAAAAAAAAAAAAAAAAAAAAAAAAAAAAAAAAAAAAAAAAAAAAAAAAAAAAAAAAAAAAAAAAAAAAAAAAAAAAAAAAAAAAAAAAAAAAAAAAAAAAAAAAAAAAAAAAAAAAAAAAAAAAAAAAAAAAAAAAAAAAAAAAAAAAAAAAAAAAAAAAAAAAAAAAAAAAAAAAAAAAAAAAAAAAAAAAAAAAAAAAAAAAAAAAAAAAAAAAAAAAAAAAAAAAAAAAAAAAAAAAAAAAAAAAAAAAAAAAAAAAAAAAAAAAAAAAAAAAAAAAAAAAAAAAAAAAAAAAAAAAAAAAAAAAAAAAAAAAAAAAAAAAAAAAAAAAAAAAAAAAAAAAAAAAAAAAAAAAAAAAAAAAAAAAAAAAAAAAAAAAAAAAAAAAAAAAAAAAAAAAAAAAAAAAAAAAAAAAAAAAAAAAAAAAAAAAAAAAAAAAAAAAAAAAAAAAAAAAAAAAAAAAAAAAAAAAAAAAAAAAAAAAAAAAAAAAAAAAAAAAAAAAAAAAAAAAAAAAAAAAAAAAAAAAAAAAAAAAAAAAAAAAAAAAAAAAAAAAAAAAAAAAAAAAAAAAAAAAAAAAAAAAAAAAAAAAAAAAAAAAAAAAAAAAAAAAAAAAAAAAAAAAAAAAAAAAAAAAAAAAAAAAAAAAAAAAAAAAAAAAAAAAAAAAAAAAAAAAAAAAAAAAAAAAAAAAAAAAAAAAAAAAAAAAAAAAAAAAAAAAAAAAAAAAAAAAAAAAAAAAAAAAAAAAAAAAAAAAAAAAAAAAAAAAAAAAAAAAAAAAAAAAAAAAAAAAAAAAAAAAAAAAAAAAAAAAAAAAAAAAAAAAAAAAAAAAAAAAAAAAAAAAAAAAAAAAAAAAAAAAAAAAAAAAAAAAAAAAAAAAAAAAAAAAAAAAAAAAAAAAAAAAAAAAAAAAAAAAAAAAAAAAAAAAAAAAAAAAAAAAAAAAAAAAAAAAAAAAAAAAAAAAAAAAAAAAAAAAAAAAAAAAAAAAAAAAAAAAAAAAAAAAAAAAAAAAAAAAAAAAAAAAAAAAAAAAAAAAAAAAAAAAAAAAAAAAAAAAAAAAAAAAAAAAAAAAAAAAAAAAAAAAAAAAAAAAAAAAAAAAAAAAAAAAAAAAAAAAAAAAAAAAAAAAAAAAAAAAAAAAAAAAAAAAAAAAAAAAAAAAAAAAAAAAAAAAAAAAAAAAAAAAAAAAAAAAAAAAAAAAAAAAAAAAAAAAAAAAAAAAAAAAAAAAAAAAAAAAAAAAAAAAAAAAAAAAAAAAAAAAAAAAAAAAAAAAAAAAAAAAAAAAAAAAAAAAAAAAAAAAAAAAAAAAAAAAAAAAAAAAAAAAAAAAAAAAAAAAAAAAAAAAAAAAAAAAAAAAAAAAAAAAAAAAAAAAAAAAAAAAAAAAAAAAAAAAAAAAAAAAAAAAAAAAAAAAAAAAAAAAAAAAAAAAAAAAAAAAAAAAAAAAAAAAAAAAAAAAAAAAAAAAAAAAAAAAAAAAAAAAAAAAAAAAAAAAAAAAAAAAAAAAAAAAAAAAAAAAAAAAAAAAAAAAAAAAAAAAAAAAAAAAAAAAAAAAAAAAAAAAAAAAAAAAAAAAAAAAAAAAAAAAAAAAAAAAAAAAAAAAAAAAAAAAAAAAAAAAAAAAAAAAAAAAAAAAAAAAAAAAAAAAAAAAAAAAAAAAAAAAAAAAAAAAAAAAAAAAAAAAAAAAAAAAAAAAAAAAAAAAAAAAAAAAAAAAAAAAAAAAAAAAAAAAAAAAAAAAAAAAAAAAAAAAAAAAAAAAAAAAAAAAAAAAAAAAAAAAAAAAAAAAAAAAAAAAAAAAAAAAAAAAAAAAAAAAAAAAAAAAAAAAAAAAAAAAAAAAAAAAAAAAAAAAAAAAAAAAAAAAAAAAAAAAAAAAAAAAAAAAAAAAAAAAAAAAAAAAAAAAAAAAAAAAAAAAAAAAAAAAAAAAAAAAAAAAAAAAAAAAAAAAAAAAAAAAAAAAAAAAAAAAAAAAAAAAAAAAAAAAAAAAAAAAAAAAAAAAAAAAAAAAAAAAAAAAAAAAAAAAAAAAAAAAAAAAAAAAAAAAAAAAAAAAAAAAAAAAAAAAAAAAAAAAAAAAAAAAAAAAAAAAAAAAAAAAAAAAAAAAAAAAAAAAAAAAAAAAAAAAAAAAAAAAAAAAAAAAAAAAAAAAAAAAAAAAAAAAAAAAAAAAAAAAAAAAAAAAAAAAAAAAAAAAAAAAAAAAAAAAAAAAAAAAAAAAAAAAAAAAAAAAAAAAAAAAAAAAAAAAAAAAAAAAAAAAAAAAAAAAAAAAAAAAAAAAAAAAAAAAAAAAAAAAAAAAAAAAAAAAAAAAAAAAAAAAAAAAAAAAAAAAAAAAAAAAAAAAAAAAAAAAAAAAAAAAAAAAAAAAAAAAAAAAAAAAAAAAAAAAAAAAAAAAAAAAAAAAAAAAAAAAAAAAAAAAAAAAAAAAAAAAAAAAAAAAAAAAAAAAAAAAAAAAAAAAAAAAAAAAAAAAAAAAAAAAAAAAAAAAAAAAAAAAAAAAAAAAAAAAAAAAAAAAAAAAAAAAAAAAAAAAAAAAAAAAAAAAAAAAAAAAAAAAAAAAAAAAAAAAAAAAAAAAAAAAAAAAAAAAAAAAAAAAAAAAAAAAAAAAAAAAAAAAAAAAAAAAAAAAAAAAAAAAAAAAAAAAAAAAAAAAAAAAAAAAAAAAAAAAAAAAAAAAAAAAAAAAAAAAAAAAAAAAAAAAAAAAAAAAAAAAAAAAAAAAAAAAAAAAAAAAAAAAAAAAAAAAAAAAAAAAAAAAAAAAAAAAAAAAAAAAAAAAAAAAAAAAAAAAAAAAAAAAAAAAAAAAAAAAAAAAAAAAAAAAAAAAAAAAAAAAAAAAAAAAAAAAAAAAAAAAAAAAAAAAAAAAAAAAAAAAAAAAAAAAAAAAAAAAAAAAAAAAAAAAAAAAAAAAAAAAAAAAAAAAAAAAAAAAAAAAAAAAAAAAAAAAAAAAAAAAAAAAAAAAAAAAAAAAAAAAAAAAAAAAAAAAAAAAAAAAAAAAAAAAAAAAAAAAAAAAAAAAAAAAAAAAAAAAAAAAAAAAAAAAAAAAAAAAAAAAAAAAAAAAAAAAAAAAAAAAAAAAAAAAAAAAAAAAAAAAAAAAAAAAAAAAAAAAAAAAAAAAAAAAAAAAAAAAAAAAAAAAAAAAAAAAAAAAAAAAAAAAAAAAAAAAAAAAAAAAAAAAAAAAAAAAAAAAAAAAAAAAAAAAAAAAAAAAAAAAAAAAAAAAAAAAAAAAAAAAAAAAAAAAAAAAAAAAAAAAAAAAAAAAAAAAAAAAAAAAAAAAAAAAAAAAAAAAAAAAAAAAAAAAAAAAAAAAAAAAAAAAAAAAAAAAAAAAAAAAAAAAAAAAAAAAAAAAAAAAAAAAAAAAAAAAAAAAAAAAAAAAAAAAAAAAAAAAAAAAAAAAAAAAAAAAAAAAAAAAAAAAAAAAAAAAAAAAAAAAAAAAAAAAAAAAAAAAAAAAAAAAAAAAAAAAAAAAAAAAAAAAAAAAAAAAAAAAAAAAAAAAAAAAAAAAAAAAAAAAAAAAAAAAAAAAAAAAAAAAAAAAAAAAAAAAAAAAAAAAAAAAAAAAAAAAAAAAAAAAAAAAAAAAAAAAAAAAAAAAAAAAAAAAAAAAAAAAAAAAAAAAAAAAAAAAAAAAAAAAAAAAAAAAAAAAAAAAAAAAAAAAAAAAAAAAAAAAAAAAAAAAAAAAAAAAAAAAAAAAAAAAAAAAAAAAAAAAAAAAAAAAAAAAAAAAAAAAAAAAAAAAAAAAAAAAAAAAAAAAAAAAAAAAAAAAAAAAAAAAAAAAAAAAAAAAAAAAAAAAAAAAAAAAAAAAAAAAAAAAAAAAAAAAAAAAAAAAAAAAAAAAAAAAAAAAAAAAAAAAAAAAAAAAAAAAAAAAAAAAAAAAAAAAAAAAAAAAAAAAAAAAAAAAAAAAAAAAAAAAAAAAAAAAAAAAAAAAAAAAAAAAAAAAAAAAAAAAAAAAAAAAAAAAAAAAAAAAAAAAAAAAAAAAAAAAAAAAAAAAAAAAAAAAAAAAAAAAAAAAAAAAAAAAAAAAAAAAAAAAAAAAAAAAAAAAAAAAAAAAAAAAAAAAAAAAAAAAAAAAAAAAAAAAAAAAAAAAAAAAAAAAAAAAAAAAAAAAAAAAAAAAAAAAAAAAAAAAAAAAAAAAAAAAAAAAAAAAAAAAAAAAAAAAAAAAAAAAAAAAAAAAAAAAAAAAAAAAAAAAAAAAAAAAAAAAAAAAAAAAAAAAAAAAAAAAAAAAAAAAAAAAAAAAAAAAAAAAAAAAAAAAAAAAAAAAAAAAAAAAAAAAAAAAAAAAAAAAAAAAAAAAAAAAAAAAAAAAAAAAAAAAAAAAAAAAAAAAAAAAAAAAAAAAAAAAAAAAAAAAAAAAAAAAAAAAAAAAAAAAAAAAAAAAAAAAAAAAAAAAAAAAAAAAAAAAAAAAAAAAAAAAAAAAAAAAAAAAAAAAAAAAAAAAAAAAAAAAAAAAAAAAAAAAAAAAAAAAAAAAAAAAAAAAAAAAAAAAAAAAAAAAAAAAAAAAAAAAAAAAAAAAAAAAAAAAAAAAAAAAAAAAAAAAAAAAAAAAAAAAAAAAAAAAAAAAAAAAAAAAAAAAAAAAAAAAAAAAAAAAAAAAAAAAAAAAAAAAAAAAAAAAAAAAAAAAAAAAAAAAAAAAAAAAAAAAAAAAAAAAAAAAAAAAAAAAAAAAAAAAAAAAAAAAAAAAAAAAAAAAAAAAAAAAAAAAAAAAAAAAAAAAAAAAAAAAAAAAAAAAAAAAAAAAAAAAAAAAAAAAAAAAAAAAAAAAAAAAAAAAAAAAAAAAAAAAAAAAAAAAAAAAAAAAAAAAAAAAAAAAAAAAAAAAAAAAAAAAAAAAAAAAAAAAAAAAAAAAAAAAAAAAAAAAAAAAAAAAAAAAAAAAAAAAAAAAAAAAAAAAAAAAAAAAAAAAAAAAAAAAAAAAAAAAAAAAAAAAAAAAAAAAAAAAAAAAAAAAAAAAAAAAAAAAAAAAAAAAAAAAAAAAAAAAAAAAAAAAAAAAAAAAAAAAAAAAAAAAAAAAAAAAAAAAAAAAAAAAAAAAAAAAAAAAAAAAAAAAAAAAAAAAAAAAAAAAAAAAAAAAAAAAAAAAAAAAAAAAAAAAAAAAAAAAAAAAAAAAAAAAAAAAAAAAAAAAAAAAAAAAAAAAAAAAAAAAAAAAAAAAAAAAAAAAAAAAAAAAAAAAAAAAAAAAAAAAAAAAAAAAAAAAAAAAAAAAAAAAAAAAAAAAAAAAAAAAAAAAAAAAAAAAAAAAAAAAAAAAAAAAAAAAAAAAAAAAAAAAAAAAAAAAAAAAAAAAAAAAAAAAAAAAAAAAAAAAAAAAAAAAAAAAAAAAAAAAAAAAAAAAAAAAAAAAAAAAAAAAAAAAAAAAAAAAAAAAAAAAAAAAAAAAAAAAAAAAAAAAAAAAAAAAAAAAAAAAAAAAAAAAAAAAAAAAAAAAAAAAAAAAAAAAAAAAAAAAAAAAAAAAAAAAAAAAAAAAAAAAAAAAAAAAAAAAAAAAAAAAAAAAAAAAAAAAAAAAAAAAAAAAAAAAAAAAAAAAAAAAAAAAAAAAAAAAAAAAAAAAAAAAAAAAAAAAAAAAAAAAAAAAAAAAAAAAAAAAAAAAAAAAAAAAAAAAAAAAAAAAAAAAAAAAAAAAAAAAAAAAAAAAAAAAAAAAAAAAAAAAAAAAAAAAAAAAAAAAAAAAAAAAAAAAAAAAAAAAAAAAAAAAAAAAAAAAAAAAAAAAAAAAAAAAAAAAAAAAAAAAAAAAAAAAAAAAAAAAAAAAAAAAAAAAAAAAAAAAAAAAAAAAAAAAAAAAAAAAAAAAAAAAAAAAAAAAAAAAAAAAAAAAAAAAAAAAAAAAAAAAAAAAAAAAAAAAAAAAAAAAAAAAAAAAAAAAAAAAAAAAAAAAAAAAAAAAAAAAAAAAAAAAAAAAAAAAAAAAAAAAAAAAAAAAAAAAAAAAAAAAAAAAAAAAAAAAAAAAAAAAAAAAAAAAAAAAAAAAAAAAAAAAAAAAAAAAAAAAAAAAAAAAAAAAAAAAAAAAAAAAAAAAAAAAAAAAAAAAAAAAAAAAAAAAAAAAAAAAAAAAAAAAAAAAAAAAAAAAAAAAAAAAAAAAAAAAAAAAAAAAAAAAAAAAAAAAAAAAAAAAAAAAAAAAAAAAAAAAAAAAAAAAAAAAAAAAAAAAAAAAAAAAAAAAAAAAAAAAAAAAAAAAAAAAAAAAAAAAAAAAAAAAAAAAAAAAAAAAAAAAAAAAAAAAAAAAAAAAAAAAAAAAAAAAAAAAAAAAAAAAAAAAAAAAAAAAAAAAAAAAAAAAAAAAAAAAAAAAAAAAAAAAAAAAAAAAAAAAAAAAAAAAAAAAAAAAAAAAAAAAAAAAAAAAAAAAAAAAAAAAAAAAAAAAAAAAAAAAAAAAAAAAAAAAAAAAAAAAAAAAAAAAAAAAAAAAAAAAAAAAAAAAAAAAAAAAAAAAAAAAAAAAAAAAAAAAAAAAAAAAAAAAAAAAAAAAAAAAAAAAAAAAAAAAAAAAAAAAAAAAAAAAAAAAAAAAAAAAAAAAAAAAAAAAAAAAAAAAAAAAAAAAAAAAAAAAAAAAAAAAAAAAAAAAAAAAAAAAAAAAAAAAAAAAAAAAAAAAAAAAAAAAAAAAAA\" type=\"audio/mpeg\" />\n",
       "                    Your browser does not support the audio element.\n",
       "                </audio>\n",
       "              "
      ],
      "text/plain": [
       "<IPython.lib.display.Audio object>"
      ]
     },
     "metadata": {},
     "output_type": "display_data"
    }
   ],
   "source": [
    "sample = load_data(tf.convert_to_tensor('.\\\\data\\\\s1\\\\lbad8p.mpg'))\n",
    "test_video(sample)"
   ]
  },
  {
   "cell_type": "code",
   "execution_count": null,
   "id": "fc57f5f2-90f2-4f8f-9c4c-aaabf32a8687",
   "metadata": {},
   "outputs": [],
   "source": []
  }
 ],
 "metadata": {
  "kernelspec": {
   "display_name": "Python 3 (ipykernel)",
   "language": "python",
   "name": "python3"
  },
  "language_info": {
   "codemirror_mode": {
    "name": "ipython",
    "version": 3
   },
   "file_extension": ".py",
   "mimetype": "text/x-python",
   "name": "python",
   "nbconvert_exporter": "python",
   "pygments_lexer": "ipython3",
   "version": "3.11.9"
  }
 },
 "nbformat": 4,
 "nbformat_minor": 5
}
